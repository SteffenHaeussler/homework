{
 "cells": [
  {
   "cell_type": "code",
   "execution_count": 1,
   "metadata": {},
   "outputs": [],
   "source": [
    "from typing import Dict, List, Union\n",
    "\n",
    "import json\n",
    "\n",
    "import pandas as pd\n",
    "import numpy as np\n",
    "\n",
    "import matplotlib.pyplot as plt\n",
    "from pandas.plotting import scatter_matrix\n",
    "import seaborn as sns\n",
    "\n",
    "%matplotlib inline\n",
    "import matplotlib.pylab as pylab\n",
    "import matplotlib as mpl"
   ]
  },
  {
   "cell_type": "code",
   "execution_count": 2,
   "metadata": {},
   "outputs": [],
   "source": [
    "from sklearn.tree import DecisionTreeClassifier\n",
    "from sklearn.tree import export_graphviz\n",
    "\n",
    "from sklearn.metrics import confusion_matrix, f1_score, precision_score, recall_score\n",
    "from sklearn.metrics import precision_recall_curve, roc_curve, roc_auc_score\n",
    "\n",
    "from sklearn.model_selection import cross_val_predict, cross_val_score, train_test_split, StratifiedKFold\n",
    "\n",
    "from sklearn.preprocessing import MinMaxScaler\n",
    "\n",
    "import xgboost as xgb"
   ]
  },
  {
   "cell_type": "code",
   "execution_count": 3,
   "metadata": {},
   "outputs": [
    {
     "name": "stderr",
     "output_type": "stream",
     "text": [
      "Using TensorFlow backend.\n"
     ]
    }
   ],
   "source": [
    "from keras.models import Sequential\n",
    "from keras.layers import Dense\n",
    "from keras.layers import Dropout\n",
    "from keras.layers import LSTM\n",
    "from keras.callbacks import EarlyStopping\n",
    "\n",
    "from keras.metrics import (TruePositives, FalsePositives, TrueNegatives, FalseNegatives, \n",
    "                           BinaryAccuracy, Precision, Recall, AUC)"
   ]
  },
  {
   "cell_type": "code",
   "execution_count": 4,
   "metadata": {},
   "outputs": [],
   "source": [
    "pylab.rcParams['figure.figsize'] = 10, 10\n",
    "mpl.rcParams['figure.figsize'] = (12, 10)\n",
    "colors = plt.rcParams['axes.prop_cycle'].by_key()['color']"
   ]
  },
  {
   "cell_type": "markdown",
   "metadata": {},
   "source": [
    "### Summary"
   ]
  },
  {
   "cell_type": "markdown",
   "metadata": {},
   "source": [
    "**First thoughts**\n",
    "\n",
    "The task is to classify the bounding box from the input invoice to a text item or not. \n",
    "\n",
    "Each invoice has several bounding boxes of different sizes. Also, an invoice can contain more than one page.\n",
    "\n",
    "Available data:\n",
    "- length of the bounding box value\n",
    "- relative location of the bounding box\n",
    "- a sequence of bounding boxes per invoice\n",
    "\n",
    "I would expect the text items: \n",
    "- are located on the left side of the page\n",
    "- are located somewhere between below the headers and the bottom of the first page, but on the 2nd page they are located all over the page\n",
    "- have a bigger bounding box than e.g. raw values; since items are more specified than e.g. the price\n",
    "- that there is a sequence of bounding boxes on the same y-coordinates with [item, no item, no item], and so on. Indicating, the text and then the price, taxes, and so on.\n",
    "\n",
    "This is only true for most german invoices. My experience lacks international invoices, but I assume, it will be the same for most of the countries using a Latin alphabet. "
   ]
  },
  {
   "cell_type": "markdown",
   "metadata": {},
   "source": [
    "**Steps**:\n",
    "\n",
    "The data is imbalanced. Every invoice has at least one text item, but only 5% of the provided bounding boxes are text items (ignoring the invoice id structure). The chosen metric for the classification is the F1-Score, which is calculated by precision and recall.\n",
    "\n",
    "I followed two approaches:\n",
    "\n",
    "- Train a tree & ensemble on the data. I try to add the sequence of bounding boxes for each id to get more information. This is also my fallback solution, if I fail with my other approach. Also, I will see, how good a text classification can be generalized by the position on a page. Here I also tried over- and undersampling of the data. Oversampling costs too much time in training and doesn't give any benefit in the F1-score. I discarded this approach.\n",
    "Under-sampling works well with a comparable good F1-Score. The prediction on the whole training dataset will still result in a low F1-Score. I assume, the data is noisy and there need some additional steps found before the bbox classificition.\n",
    "\n",
    "- Training an LSTM, which takes the sequence of the bounding boxes into considerations. For me, it was unclear, if I can get to a running model and if, how well will it perform. Also, the training of my last LSTM is a while ago and for my current project of implementing deep learning models from scratch, LSTMs will be done next week. So I'm currently renewing my expertise. Also I introduce weights based on the amount of the labels in the data. My approach here has many short-comings, but in my overnight training, I got a model, which outperforms the XGBoost model. So I tried to add the code here, but there is somewhere an error."
   ]
  },
  {
   "cell_type": "markdown",
   "metadata": {},
   "source": [
    "**Results** on the test set are:\n",
    "\n",
    "XGBoost:\n",
    "- F1: 0.30\n",
    "- Precision: 0.20\n",
    "- Recall: 0.61\n",
    "\n",
    "LSTM:\n",
    "- F1: 0.25\n",
    "- Precision: 0.15\n",
    "- Recall: 0.85\n",
    "\n",
    "The precision is in both models bad. There are too many False Positives, non-text items classified as text-items. \n",
    "One reason is, that the data is \"noisy\", as seen in the pair plots. The recall is good, but there are too many False Positives in the prediction, which means, there had to be much more cleaning in the end. Adding the previous and following bbox to a prediction give a small boost in the F1-Score. But in the end, it is still not good enough.\n",
    "\n",
    "**Future steps** to improve the models is:\n",
    "\n",
    "- feature engineering - I didn't spend much time here, but just counting elements in specific areas could be an improvement. One goal could be to get a classification of the type of invoice itself.. \n",
    "\n",
    "- invoice classification - there are different types of invoices, probably\n",
    "\n",
    "- thinking in calm about the problem. It still can be, that I missed something very obvious. probably I messed up at feature engineering or data preparation. There are a lot more possibilities beyond the applied bbox volume.\n",
    "\n",
    "- doing research; I'm definitely not the first, who works on this kind of sequential problem. There should be some papers, just to collect more ideas.\n",
    "\n",
    "- model improvement: the LSTM needs definitely more time; probably longer sequences, more features. Since this is a very very early prototype, I'm surprised that the model won't predict only zeros (as most of my prototypes did). "
   ]
  },
  {
   "cell_type": "markdown",
   "metadata": {},
   "source": [
    "1) What is good measure for classification accuracy? \n",
    "\n",
    "- imbalanced data; F1-Score, AUC.\n",
    "I will go for the  F1-Score, since a high precision or a high recall is not useful here, they just will end up in more manual work (cleaning) \n",
    "\n",
    "2) What are possible shortcomings and extensions of your implementation? \n",
    "\n",
    "\n",
    "- no proper cross-validation for the xgboost with hyperparameter search. Needs definetly a fix. I focused too much an model preparation for imbalanced data (under- and oversampling), prototyping different models than doing one thing right.\n",
    "- A shortcoming is the low F1-score\n",
    "- I need to find a more suitable model to represent the data structure for each invoice. I guessed an LSTM/RNN will handle this kind of data, but my prototype wasn't convincing. Probably some simpler models can help as a first step. For a tree approach, there should be more time spent in feature engineering, but my intuition says, that this is not enough. My LSTM is one whole shortcoming. It needs improvement in model architecture, data preparation (features and sequences), initialization, and so on.\n",
    "\n",
    "- the values could give probably more information; e.g. if the item is a text or a number / nlp\n",
    "\n",
    "- next step would be to revisit all my findings and my approaches. I put too much effort in different approaches than to think very deep about the problem. Normally the interesting ideas come, when the low-hanging fruits fail. :)\n",
    "\n",
    "\n",
    "3) How would you design a real-time performance system that responds to a high volume of prediction requests efficiently.  \n",
    "\n",
    "- I always deployed my models via flask, gunicorn, docker on k8s. This is normally scalable, but it always depends on the traffic volume. The model itself: I prefer small models with fewer preparation steps and a fast prediction. This normally hurts accuracy. For my examples, none of the models is production-ready by the metrics. If prediction time is the constraint, I would go for the XGboost."
   ]
  },
  {
   "cell_type": "markdown",
   "metadata": {},
   "source": [
    "### Data pipeline"
   ]
  },
  {
   "cell_type": "markdown",
   "metadata": {},
   "source": [
    "Basically I take the json files and convert it into a csv file. \n",
    "\n",
    "I merge words and entitites by invoice id, page number and indices.\n",
    "\n",
    "data is not cleaned.\n",
    "\n",
    "The available raw data is split in words and entities. \n",
    "The words data includes the OCR detection of the text value and the according location of the bounding box on the page.\n",
    "The entities data specifies the value of the words data. So it keeps the information, if the bounding box is an item or not. "
   ]
  },
  {
   "cell_type": "markdown",
   "metadata": {},
   "source": [
    "The helpers function is my repo"
   ]
  },
  {
   "cell_type": "code",
   "execution_count": 5,
   "metadata": {},
   "outputs": [],
   "source": [
    "import helpers"
   ]
  },
  {
   "cell_type": "code",
   "execution_count": 6,
   "metadata": {},
   "outputs": [],
   "source": [
    "files = [\"hypatos-ds-train\", \"hypatos-ds-test\"]"
   ]
  },
  {
   "cell_type": "code",
   "execution_count": 7,
   "metadata": {},
   "outputs": [],
   "source": [
    "#todo: get rid of the hard-coded column names; introduce a config file \n",
    "for file in files:\n",
    "    helpers.data_preparation_strategy(file)"
   ]
  },
  {
   "cell_type": "markdown",
   "metadata": {},
   "source": [
    "As a first step, the json data had to be converted in a more suitable data format. Here I choose pandas to get a better idea and intuition of the data.\n",
    "\n",
    "The task is to detect items from input invoice.\n",
    "\n",
    "\n",
    "Each invoice has several bounding boxes of different size. Also an invoice can contain more than one page.\n",
    "Available data:\n",
    "- length of the bounding box value\n",
    "- relative location of the bounding box\n",
    "- sequence of bounding boxes per invoice\n",
    "\n",
    "I would expect the items: \n",
    "- are listed on the left side of the page\n",
    "- are listed somewhere between below the headers and the bottom of the first page; but from top and bottom on the 2nd page\n",
    "- have a bigger bounding box than e.g. raw values; since items are more specified than the price\n",
    "- that there is a sequence of bounding boxes on the same y-coordinates with [item, no item, no item] and so on. Indicating, the text and then the price, taxes and so on.\n",
    "\n",
    "This is only true for most of german invoices. My experience lacks of international invoices, but I assume, it will be the same for most of the countries using a latin alphabet. \n",
    "\n",
    "Next steps:\n",
    "- EDA to get more information about the data; can I already derive some rules from the data, based on my first thoughts\n",
    "\n",
    "- I would setup a baseline model based on the eda or a decision tree. A decision tree ignores the structure of the invoice and only would look at each bounding box seperately. This still can work well, since most text information are well seperated on an invoice.\n",
    "\n",
    "- If I have enough time, I would try a method, where I can use the sequence information on a page. I assume, a RNN, LSTM could work in this case. At least this needs some research from my side."
   ]
  },
  {
   "cell_type": "markdown",
   "metadata": {},
   "source": [
    "### Cleaning and preparation"
   ]
  },
  {
   "cell_type": "code",
   "execution_count": 8,
   "metadata": {},
   "outputs": [],
   "source": [
    "class Transformer(object):\n",
    "\n",
    "    def __init__(self, strategy):\n",
    "\n",
    "        self.strategy = strategy\n",
    "\n",
    "    def fit_transform(self, data):\n",
    "\n",
    "        for transform in self.strategy:\n",
    "            data = transform(data)\n",
    "\n",
    "        return data"
   ]
  },
  {
   "cell_type": "code",
   "execution_count": 9,
   "metadata": {},
   "outputs": [],
   "source": [
    "def drop_columns(data: pd.DataFrame) -> pd.DataFrame:\n",
    "    return data.drop([\"metaData.region.page\", \"n_idx_item\"], axis=1)\n",
    "\n",
    "\n",
    "def fill_nan(data: pd.DataFrame) -> pd.DataFrame:\n",
    "    return data.fillna(0)\n",
    "\n",
    "\n",
    "def encode_label(data):\n",
    "    \n",
    "    data[\"label\"] = data[\"label\"].replace(\"item\", 1)\n",
    "    \n",
    "    return data"
   ]
  },
  {
   "cell_type": "code",
   "execution_count": 10,
   "metadata": {},
   "outputs": [],
   "source": [
    "def remove_pages_with_no_text(data):\n",
    "\n",
    "    items_per_page_id = data.groupby([\"id\", \"region.page\"])[\"label\"].sum().reset_index()\n",
    "    remove_from_training = items_per_page_id[items_per_page_id.label == 0]\n",
    "\n",
    "    remove_idx = []\n",
    "\n",
    "    for _, row in remove_from_training.iterrows():\n",
    "        remove_idx.extend(data[(data[\"id\"] == row[\"id\"]) & (data[\"region.page\"] == row[\"region.page\"])].index)\n",
    "\n",
    "    data = data[~data.index.isin(remove_idx)]\n",
    "    \n",
    "    del [items_per_page_id, remove_from_training, remove_idx]\n",
    "\n",
    "    return data"
   ]
  },
  {
   "cell_type": "code",
   "execution_count": 11,
   "metadata": {},
   "outputs": [],
   "source": [
    "train = pd.read_csv(\"hypatos-ds-train.csv\")\n",
    "test = pd.read_csv(\"hypatos-ds-test.csv\")"
   ]
  },
  {
   "cell_type": "code",
   "execution_count": 12,
   "metadata": {},
   "outputs": [],
   "source": [
    "def preprocessting(data, only_train=False):\n",
    "    \n",
    "    preprocessting_strategy = [drop_columns,\n",
    "                                 fill_nan,\n",
    "                                 encode_label,\n",
    "                                ]\n",
    "\n",
    "    feature_creator = Transformer(preprocessting_strategy)\n",
    "    data = feature_creator.fit_transform(data)\n",
    "    \n",
    "    if only_train:\n",
    "        \n",
    "        data_cleaning_strategy = [remove_pages_with_no_text]\n",
    "        data_cleaner = Transformer(data_cleaning_strategy)\n",
    "        data = data_cleaner.fit_transform(data)\n",
    "\n",
    "    return data"
   ]
  },
  {
   "cell_type": "code",
   "execution_count": 13,
   "metadata": {},
   "outputs": [],
   "source": [
    "train = preprocessting(train, True)\n",
    "test = preprocessting(test)"
   ]
  },
  {
   "cell_type": "markdown",
   "metadata": {},
   "source": [
    "the label feature has two value, item and None. So this will be our classifier.\n"
   ]
  },
  {
   "cell_type": "markdown",
   "metadata": {},
   "source": [
    "The metaData.region.page is identical with the region page, so it can also be dropped.\n",
    "The n_idx_item is information I extracted from the entities data and counts the number of words in one entity dict. We won't have this information for the model training, so it also can be dropped."
   ]
  },
  {
   "cell_type": "markdown",
   "metadata": {},
   "source": [
    "## EDA"
   ]
  },
  {
   "cell_type": "markdown",
   "metadata": {},
   "source": [
    "We have around 6 million bounding boxes from 24000 invoices with around 290000 text items. Around 5 % of the data is a text item. This is very inbalanced. "
   ]
  },
  {
   "cell_type": "code",
   "execution_count": 14,
   "metadata": {},
   "outputs": [
    {
     "data": {
      "text/plain": [
       "(4717803, 9)"
      ]
     },
     "execution_count": 14,
     "metadata": {},
     "output_type": "execute_result"
    }
   ],
   "source": [
    "train.shape"
   ]
  },
  {
   "cell_type": "code",
   "execution_count": 15,
   "metadata": {},
   "outputs": [
    {
     "data": {
      "text/html": [
       "<div>\n",
       "<style scoped>\n",
       "    .dataframe tbody tr th:only-of-type {\n",
       "        vertical-align: middle;\n",
       "    }\n",
       "\n",
       "    .dataframe tbody tr th {\n",
       "        vertical-align: top;\n",
       "    }\n",
       "\n",
       "    .dataframe thead th {\n",
       "        text-align: right;\n",
       "    }\n",
       "</style>\n",
       "<table border=\"1\" class=\"dataframe\">\n",
       "  <thead>\n",
       "    <tr style=\"text-align: right;\">\n",
       "      <th></th>\n",
       "      <th>value</th>\n",
       "      <th>region.left</th>\n",
       "      <th>region.top</th>\n",
       "      <th>region.width</th>\n",
       "      <th>region.height</th>\n",
       "      <th>region.page</th>\n",
       "      <th>id</th>\n",
       "      <th>indices</th>\n",
       "      <th>label</th>\n",
       "    </tr>\n",
       "  </thead>\n",
       "  <tbody>\n",
       "    <tr>\n",
       "      <th>0</th>\n",
       "      <td>U1Raiug=</td>\n",
       "      <td>0.371253</td>\n",
       "      <td>0.020022</td>\n",
       "      <td>0.025749</td>\n",
       "      <td>0.015017</td>\n",
       "      <td>1</td>\n",
       "      <td>83132716</td>\n",
       "      <td>0</td>\n",
       "      <td>0</td>\n",
       "    </tr>\n",
       "    <tr>\n",
       "      <th>1</th>\n",
       "      <td>WC8whnZ1fnk=</td>\n",
       "      <td>0.345503</td>\n",
       "      <td>0.033092</td>\n",
       "      <td>0.224058</td>\n",
       "      <td>0.028087</td>\n",
       "      <td>1</td>\n",
       "      <td>83132716</td>\n",
       "      <td>1</td>\n",
       "      <td>0</td>\n",
       "    </tr>\n",
       "    <tr>\n",
       "      <th>2</th>\n",
       "      <td>Lg==</td>\n",
       "      <td>0.345503</td>\n",
       "      <td>0.050334</td>\n",
       "      <td>0.039201</td>\n",
       "      <td>0.017798</td>\n",
       "      <td>1</td>\n",
       "      <td>83132716</td>\n",
       "      <td>2</td>\n",
       "      <td>0</td>\n",
       "    </tr>\n",
       "    <tr>\n",
       "      <th>3</th>\n",
       "      <td>d354fYR1ew==</td>\n",
       "      <td>0.406995</td>\n",
       "      <td>0.062291</td>\n",
       "      <td>0.048040</td>\n",
       "      <td>0.005840</td>\n",
       "      <td>1</td>\n",
       "      <td>83132716</td>\n",
       "      <td>3</td>\n",
       "      <td>0</td>\n",
       "    </tr>\n",
       "    <tr>\n",
       "      <th>4</th>\n",
       "      <td>Vw==</td>\n",
       "      <td>0.463874</td>\n",
       "      <td>0.062291</td>\n",
       "      <td>0.007302</td>\n",
       "      <td>0.005562</td>\n",
       "      <td>1</td>\n",
       "      <td>83132716</td>\n",
       "      <td>4</td>\n",
       "      <td>0</td>\n",
       "    </tr>\n",
       "    <tr>\n",
       "      <th>...</th>\n",
       "      <td>...</td>\n",
       "      <td>...</td>\n",
       "      <td>...</td>\n",
       "      <td>...</td>\n",
       "      <td>...</td>\n",
       "      <td>...</td>\n",
       "      <td>...</td>\n",
       "      <td>...</td>\n",
       "      <td>...</td>\n",
       "    </tr>\n",
       "    <tr>\n",
       "      <th>5991774</th>\n",
       "      <td>YWhmZA==</td>\n",
       "      <td>0.457143</td>\n",
       "      <td>0.965558</td>\n",
       "      <td>0.023529</td>\n",
       "      <td>0.004751</td>\n",
       "      <td>1</td>\n",
       "      <td>510220123</td>\n",
       "      <td>265</td>\n",
       "      <td>0</td>\n",
       "    </tr>\n",
       "    <tr>\n",
       "      <th>5991775</th>\n",
       "      <td>YmZraQ==</td>\n",
       "      <td>0.484034</td>\n",
       "      <td>0.965558</td>\n",
       "      <td>0.021849</td>\n",
       "      <td>0.004751</td>\n",
       "      <td>1</td>\n",
       "      <td>510220123</td>\n",
       "      <td>266</td>\n",
       "      <td>0</td>\n",
       "    </tr>\n",
       "    <tr>\n",
       "      <th>5991776</th>\n",
       "      <td>YWRf</td>\n",
       "      <td>0.509244</td>\n",
       "      <td>0.965558</td>\n",
       "      <td>0.015126</td>\n",
       "      <td>0.004751</td>\n",
       "      <td>1</td>\n",
       "      <td>510220123</td>\n",
       "      <td>267</td>\n",
       "      <td>0</td>\n",
       "    </tr>\n",
       "    <tr>\n",
       "      <th>5991777</th>\n",
       "      <td>c3t2</td>\n",
       "      <td>0.526050</td>\n",
       "      <td>0.965558</td>\n",
       "      <td>0.015126</td>\n",
       "      <td>0.004751</td>\n",
       "      <td>1</td>\n",
       "      <td>510220123</td>\n",
       "      <td>268</td>\n",
       "      <td>0</td>\n",
       "    </tr>\n",
       "    <tr>\n",
       "      <th>5991778</th>\n",
       "      <td>dIF1dXV3e3yJios=</td>\n",
       "      <td>0.544538</td>\n",
       "      <td>0.965558</td>\n",
       "      <td>0.070588</td>\n",
       "      <td>0.004751</td>\n",
       "      <td>1</td>\n",
       "      <td>510220123</td>\n",
       "      <td>269</td>\n",
       "      <td>0</td>\n",
       "    </tr>\n",
       "  </tbody>\n",
       "</table>\n",
       "<p>4717803 rows × 9 columns</p>\n",
       "</div>"
      ],
      "text/plain": [
       "                    value  region.left  region.top  region.width  \\\n",
       "0                U1Raiug=     0.371253    0.020022      0.025749   \n",
       "1            WC8whnZ1fnk=     0.345503    0.033092      0.224058   \n",
       "2                    Lg==     0.345503    0.050334      0.039201   \n",
       "3            d354fYR1ew==     0.406995    0.062291      0.048040   \n",
       "4                    Vw==     0.463874    0.062291      0.007302   \n",
       "...                   ...          ...         ...           ...   \n",
       "5991774          YWhmZA==     0.457143    0.965558      0.023529   \n",
       "5991775          YmZraQ==     0.484034    0.965558      0.021849   \n",
       "5991776              YWRf     0.509244    0.965558      0.015126   \n",
       "5991777              c3t2     0.526050    0.965558      0.015126   \n",
       "5991778  dIF1dXV3e3yJios=     0.544538    0.965558      0.070588   \n",
       "\n",
       "         region.height  region.page         id  indices  label  \n",
       "0             0.015017            1   83132716        0      0  \n",
       "1             0.028087            1   83132716        1      0  \n",
       "2             0.017798            1   83132716        2      0  \n",
       "3             0.005840            1   83132716        3      0  \n",
       "4             0.005562            1   83132716        4      0  \n",
       "...                ...          ...        ...      ...    ...  \n",
       "5991774       0.004751            1  510220123      265      0  \n",
       "5991775       0.004751            1  510220123      266      0  \n",
       "5991776       0.004751            1  510220123      267      0  \n",
       "5991777       0.004751            1  510220123      268      0  \n",
       "5991778       0.004751            1  510220123      269      0  \n",
       "\n",
       "[4717803 rows x 9 columns]"
      ]
     },
     "execution_count": 15,
     "metadata": {},
     "output_type": "execute_result"
    }
   ],
   "source": [
    "train"
   ]
  },
  {
   "cell_type": "code",
   "execution_count": 16,
   "metadata": {},
   "outputs": [
    {
     "data": {
      "text/plain": [
       "0    4429136\n",
       "1     288667\n",
       "Name: label, dtype: int64"
      ]
     },
     "execution_count": 16,
     "metadata": {},
     "output_type": "execute_result"
    }
   ],
   "source": [
    "train.label.value_counts()"
   ]
  },
  {
   "cell_type": "code",
   "execution_count": 17,
   "metadata": {},
   "outputs": [
    {
     "data": {
      "text/plain": [
       "6.118674306663504"
      ]
     },
     "execution_count": 17,
     "metadata": {},
     "output_type": "execute_result"
    }
   ],
   "source": [
    "100*288667/train.shape[0]"
   ]
  },
  {
   "cell_type": "markdown",
   "metadata": {},
   "source": [
    "Every document has at least one text item. Also 1 % of the documents, has more then 100 items. This is possible, since some documents have several pages. But in case of an error, I would check with against the real data. It still could be, that the OCR system had some issues."
   ]
  },
  {
   "cell_type": "code",
   "execution_count": 18,
   "metadata": {},
   "outputs": [
    {
     "data": {
      "text/plain": [
       "1    4339214\n",
       "2     284231\n",
       "3      66627\n",
       "4      20233\n",
       "5       4550\n",
       "6       1651\n",
       "7        882\n",
       "8        415\n",
       "Name: region.page, dtype: int64"
      ]
     },
     "execution_count": 18,
     "metadata": {},
     "output_type": "execute_result"
    }
   ],
   "source": [
    "train[\"region.page\"].value_counts()"
   ]
  },
  {
   "cell_type": "code",
   "execution_count": 19,
   "metadata": {},
   "outputs": [],
   "source": [
    "items_per_id = train.groupby([\"id\"])[\"label\"].sum().reset_index()"
   ]
  },
  {
   "cell_type": "code",
   "execution_count": 20,
   "metadata": {},
   "outputs": [
    {
     "data": {
      "text/plain": [
       "count    24073.000000\n",
       "mean        11.991318\n",
       "std         22.140643\n",
       "min          1.000000\n",
       "1%           1.000000\n",
       "5%           1.000000\n",
       "10%          2.000000\n",
       "20%          3.000000\n",
       "50%          6.000000\n",
       "80%         15.000000\n",
       "90%         24.000000\n",
       "95%         39.000000\n",
       "99%        102.000000\n",
       "max        692.000000\n",
       "Name: label, dtype: float64"
      ]
     },
     "execution_count": 20,
     "metadata": {},
     "output_type": "execute_result"
    }
   ],
   "source": [
    "items_per_id['label'].describe(percentiles=[0.01, 0.05, 0.1, 0.2, 0.8, 0.9, 0.95, 0.99])"
   ]
  },
  {
   "cell_type": "code",
   "execution_count": 21,
   "metadata": {},
   "outputs": [],
   "source": [
    "items_per_page_id = train.groupby([\"id\", \"region.page\"])[\"label\"].sum().reset_index()"
   ]
  },
  {
   "cell_type": "code",
   "execution_count": 22,
   "metadata": {},
   "outputs": [
    {
     "data": {
      "text/plain": [
       "count    25409.000000\n",
       "mean        11.360817\n",
       "std         16.231832\n",
       "min          1.000000\n",
       "1%           1.000000\n",
       "5%           1.000000\n",
       "10%          2.000000\n",
       "20%          3.000000\n",
       "50%          6.000000\n",
       "80%         15.000000\n",
       "90%         25.000000\n",
       "95%         39.000000\n",
       "99%         82.000000\n",
       "max        316.000000\n",
       "Name: label, dtype: float64"
      ]
     },
     "execution_count": 22,
     "metadata": {},
     "output_type": "execute_result"
    }
   ],
   "source": [
    "items_per_page_id['label'].describe(percentiles=[0.01, 0.05, 0.1, 0.2, 0.8, 0.9, 0.95, 0.99])"
   ]
  },
  {
   "cell_type": "code",
   "execution_count": 23,
   "metadata": {},
   "outputs": [
    {
     "data": {
      "text/plain": [
       "1    23457\n",
       "2     1473\n",
       "3      320\n",
       "4      110\n",
       "5       28\n",
       "6       11\n",
       "7        7\n",
       "8        3\n",
       "Name: region.page, dtype: int64"
      ]
     },
     "execution_count": 23,
     "metadata": {},
     "output_type": "execute_result"
    }
   ],
   "source": [
    "items_per_page_id[\"region.page\"].value_counts()"
   ]
  },
  {
   "cell_type": "markdown",
   "metadata": {},
   "source": [
    "Also from the invoices, there are around 20 % of the pages without any text item. This is important information, since I wouldn't have expect such a high amount of non-text item pages. I will remove it to speed up training. This pages don't contain any information and probably will add only noise to the training."
   ]
  },
  {
   "cell_type": "code",
   "execution_count": 24,
   "metadata": {},
   "outputs": [
    {
     "data": {
      "text/plain": [
       "0    4429136\n",
       "1     288667\n",
       "Name: label, dtype: int64"
      ]
     },
     "execution_count": 24,
     "metadata": {},
     "output_type": "execute_result"
    }
   ],
   "source": [
    "train.label.value_counts()"
   ]
  },
  {
   "cell_type": "code",
   "execution_count": 25,
   "metadata": {},
   "outputs": [
    {
     "data": {
      "text/plain": [
       "6.118674306663504"
      ]
     },
     "execution_count": 25,
     "metadata": {},
     "output_type": "execute_result"
    }
   ],
   "source": [
    "100*288667/train.shape[0]"
   ]
  },
  {
   "cell_type": "code",
   "execution_count": 26,
   "metadata": {},
   "outputs": [
    {
     "data": {
      "text/plain": [
       "Text(0.5, 1.0, 'Class Distributions \\n (0: no text item || 1: text item)')"
      ]
     },
     "execution_count": 26,
     "metadata": {},
     "output_type": "execute_result"
    },
    {
     "data": {
      "image/png": "[encoded data removed]",
      "text/plain": [
       "<Figure size 864x720 with 1 Axes>"
      ]
     },
     "metadata": {
      "needs_background": "light"
     },
     "output_type": "display_data"
    }
   ],
   "source": [
    "sns.countplot('label', data=train)\n",
    "plt.title('Class Distributions \\n (0: no text item || 1: text item)', fontsize=14)"
   ]
  },
  {
   "cell_type": "code",
   "execution_count": 27,
   "metadata": {},
   "outputs": [
    {
     "data": {
      "text/html": [
       "<div>\n",
       "<style scoped>\n",
       "    .dataframe tbody tr th:only-of-type {\n",
       "        vertical-align: middle;\n",
       "    }\n",
       "\n",
       "    .dataframe tbody tr th {\n",
       "        vertical-align: top;\n",
       "    }\n",
       "\n",
       "    .dataframe thead th {\n",
       "        text-align: right;\n",
       "    }\n",
       "</style>\n",
       "<table border=\"1\" class=\"dataframe\">\n",
       "  <thead>\n",
       "    <tr style=\"text-align: right;\">\n",
       "      <th></th>\n",
       "      <th>value</th>\n",
       "      <th>region.left</th>\n",
       "      <th>region.top</th>\n",
       "      <th>region.width</th>\n",
       "      <th>region.height</th>\n",
       "      <th>region.page</th>\n",
       "      <th>id</th>\n",
       "      <th>indices</th>\n",
       "      <th>label</th>\n",
       "    </tr>\n",
       "  </thead>\n",
       "  <tbody>\n",
       "    <tr>\n",
       "      <th>count</th>\n",
       "      <td>4429136</td>\n",
       "      <td>4.429136e+06</td>\n",
       "      <td>4.429136e+06</td>\n",
       "      <td>4.429136e+06</td>\n",
       "      <td>4.429136e+06</td>\n",
       "      <td>4.429136e+06</td>\n",
       "      <td>4.429136e+06</td>\n",
       "      <td>4.429136e+06</td>\n",
       "      <td>4429136.0</td>\n",
       "    </tr>\n",
       "    <tr>\n",
       "      <th>unique</th>\n",
       "      <td>501438</td>\n",
       "      <td>NaN</td>\n",
       "      <td>NaN</td>\n",
       "      <td>NaN</td>\n",
       "      <td>NaN</td>\n",
       "      <td>NaN</td>\n",
       "      <td>NaN</td>\n",
       "      <td>NaN</td>\n",
       "      <td>NaN</td>\n",
       "    </tr>\n",
       "    <tr>\n",
       "      <th>top</th>\n",
       "      <td>3Q==</td>\n",
       "      <td>NaN</td>\n",
       "      <td>NaN</td>\n",
       "      <td>NaN</td>\n",
       "      <td>NaN</td>\n",
       "      <td>NaN</td>\n",
       "      <td>NaN</td>\n",
       "      <td>NaN</td>\n",
       "      <td>NaN</td>\n",
       "    </tr>\n",
       "    <tr>\n",
       "      <th>freq</th>\n",
       "      <td>64106</td>\n",
       "      <td>NaN</td>\n",
       "      <td>NaN</td>\n",
       "      <td>NaN</td>\n",
       "      <td>NaN</td>\n",
       "      <td>NaN</td>\n",
       "      <td>NaN</td>\n",
       "      <td>NaN</td>\n",
       "      <td>NaN</td>\n",
       "    </tr>\n",
       "    <tr>\n",
       "      <th>mean</th>\n",
       "      <td>NaN</td>\n",
       "      <td>4.469610e-01</td>\n",
       "      <td>5.419293e-01</td>\n",
       "      <td>4.525161e-02</td>\n",
       "      <td>7.777829e-03</td>\n",
       "      <td>1.103981e+00</td>\n",
       "      <td>2.715374e+08</td>\n",
       "      <td>1.357077e+02</td>\n",
       "      <td>0.0</td>\n",
       "    </tr>\n",
       "    <tr>\n",
       "      <th>std</th>\n",
       "      <td>NaN</td>\n",
       "      <td>2.594692e-01</td>\n",
       "      <td>2.786358e-01</td>\n",
       "      <td>3.872087e-02</td>\n",
       "      <td>3.223811e-03</td>\n",
       "      <td>4.152080e-01</td>\n",
       "      <td>1.254780e+08</td>\n",
       "      <td>1.403100e+02</td>\n",
       "      <td>0.0</td>\n",
       "    </tr>\n",
       "    <tr>\n",
       "      <th>min</th>\n",
       "      <td>NaN</td>\n",
       "      <td>-4.151261e-01</td>\n",
       "      <td>-4.274673e+00</td>\n",
       "      <td>0.000000e+00</td>\n",
       "      <td>-4.156770e-02</td>\n",
       "      <td>1.000000e+00</td>\n",
       "      <td>7.143602e+07</td>\n",
       "      <td>0.000000e+00</td>\n",
       "      <td>0.0</td>\n",
       "    </tr>\n",
       "    <tr>\n",
       "      <th>1%</th>\n",
       "      <td>NaN</td>\n",
       "      <td>4.923135e-02</td>\n",
       "      <td>5.085714e-02</td>\n",
       "      <td>2.001601e-03</td>\n",
       "      <td>1.141227e-03</td>\n",
       "      <td>1.000000e+00</td>\n",
       "      <td>7.460892e+07</td>\n",
       "      <td>1.000000e+00</td>\n",
       "      <td>0.0</td>\n",
       "    </tr>\n",
       "    <tr>\n",
       "      <th>5%</th>\n",
       "      <td>NaN</td>\n",
       "      <td>9.411765e-02</td>\n",
       "      <td>1.212034e-01</td>\n",
       "      <td>6.449012e-03</td>\n",
       "      <td>4.750594e-03</td>\n",
       "      <td>1.000000e+00</td>\n",
       "      <td>8.778061e+07</td>\n",
       "      <td>9.000000e+00</td>\n",
       "      <td>0.0</td>\n",
       "    </tr>\n",
       "    <tr>\n",
       "      <th>10%</th>\n",
       "      <td>NaN</td>\n",
       "      <td>1.176471e-01</td>\n",
       "      <td>1.701510e-01</td>\n",
       "      <td>1.008403e-02</td>\n",
       "      <td>5.050505e-03</td>\n",
       "      <td>1.000000e+00</td>\n",
       "      <td>1.086045e+08</td>\n",
       "      <td>1.800000e+01</td>\n",
       "      <td>0.0</td>\n",
       "    </tr>\n",
       "    <tr>\n",
       "      <th>20%</th>\n",
       "      <td>NaN</td>\n",
       "      <td>1.744597e-01</td>\n",
       "      <td>2.464014e-01</td>\n",
       "      <td>1.797386e-02</td>\n",
       "      <td>5.945303e-03</td>\n",
       "      <td>1.000000e+00</td>\n",
       "      <td>1.432681e+08</td>\n",
       "      <td>3.800000e+01</td>\n",
       "      <td>0.0</td>\n",
       "    </tr>\n",
       "    <tr>\n",
       "      <th>50%</th>\n",
       "      <td>NaN</td>\n",
       "      <td>4.220701e-01</td>\n",
       "      <td>5.303293e-01</td>\n",
       "      <td>3.590157e-02</td>\n",
       "      <td>7.386364e-03</td>\n",
       "      <td>1.000000e+00</td>\n",
       "      <td>2.679746e+08</td>\n",
       "      <td>1.020000e+02</td>\n",
       "      <td>0.0</td>\n",
       "    </tr>\n",
       "    <tr>\n",
       "      <th>80%</th>\n",
       "      <td>NaN</td>\n",
       "      <td>7.234558e-01</td>\n",
       "      <td>8.669332e-01</td>\n",
       "      <td>6.722689e-02</td>\n",
       "      <td>9.333333e-03</td>\n",
       "      <td>1.000000e+00</td>\n",
       "      <td>3.875082e+08</td>\n",
       "      <td>1.960000e+02</td>\n",
       "      <td>0.0</td>\n",
       "    </tr>\n",
       "    <tr>\n",
       "      <th>90%</th>\n",
       "      <td>NaN</td>\n",
       "      <td>8.139348e-01</td>\n",
       "      <td>9.286564e-01</td>\n",
       "      <td>8.977456e-02</td>\n",
       "      <td>1.052332e-02</td>\n",
       "      <td>1.000000e+00</td>\n",
       "      <td>4.542904e+08</td>\n",
       "      <td>2.730000e+02</td>\n",
       "      <td>0.0</td>\n",
       "    </tr>\n",
       "    <tr>\n",
       "      <th>95%</th>\n",
       "      <td>NaN</td>\n",
       "      <td>8.644615e-01</td>\n",
       "      <td>9.475634e-01</td>\n",
       "      <td>1.128514e-01</td>\n",
       "      <td>1.176471e-02</td>\n",
       "      <td>2.000000e+00</td>\n",
       "      <td>4.771689e+08</td>\n",
       "      <td>3.790000e+02</td>\n",
       "      <td>0.0</td>\n",
       "    </tr>\n",
       "    <tr>\n",
       "      <th>99%</th>\n",
       "      <td>NaN</td>\n",
       "      <td>9.189113e-01</td>\n",
       "      <td>9.690844e-01</td>\n",
       "      <td>1.731092e-01</td>\n",
       "      <td>1.781473e-02</td>\n",
       "      <td>3.000000e+00</td>\n",
       "      <td>5.098698e+08</td>\n",
       "      <td>7.360000e+02</td>\n",
       "      <td>0.0</td>\n",
       "    </tr>\n",
       "    <tr>\n",
       "      <th>max</th>\n",
       "      <td>NaN</td>\n",
       "      <td>4.156303e+00</td>\n",
       "      <td>2.388823e+00</td>\n",
       "      <td>1.462185e+00</td>\n",
       "      <td>4.506540e-01</td>\n",
       "      <td>8.000000e+00</td>\n",
       "      <td>5.150723e+08</td>\n",
       "      <td>1.724000e+03</td>\n",
       "      <td>0.0</td>\n",
       "    </tr>\n",
       "  </tbody>\n",
       "</table>\n",
       "</div>"
      ],
      "text/plain": [
       "          value   region.left    region.top  region.width  region.height  \\\n",
       "count   4429136  4.429136e+06  4.429136e+06  4.429136e+06   4.429136e+06   \n",
       "unique   501438           NaN           NaN           NaN            NaN   \n",
       "top        3Q==           NaN           NaN           NaN            NaN   \n",
       "freq      64106           NaN           NaN           NaN            NaN   \n",
       "mean        NaN  4.469610e-01  5.419293e-01  4.525161e-02   7.777829e-03   \n",
       "std         NaN  2.594692e-01  2.786358e-01  3.872087e-02   3.223811e-03   \n",
       "min         NaN -4.151261e-01 -4.274673e+00  0.000000e+00  -4.156770e-02   \n",
       "1%          NaN  4.923135e-02  5.085714e-02  2.001601e-03   1.141227e-03   \n",
       "5%          NaN  9.411765e-02  1.212034e-01  6.449012e-03   4.750594e-03   \n",
       "10%         NaN  1.176471e-01  1.701510e-01  1.008403e-02   5.050505e-03   \n",
       "20%         NaN  1.744597e-01  2.464014e-01  1.797386e-02   5.945303e-03   \n",
       "50%         NaN  4.220701e-01  5.303293e-01  3.590157e-02   7.386364e-03   \n",
       "80%         NaN  7.234558e-01  8.669332e-01  6.722689e-02   9.333333e-03   \n",
       "90%         NaN  8.139348e-01  9.286564e-01  8.977456e-02   1.052332e-02   \n",
       "95%         NaN  8.644615e-01  9.475634e-01  1.128514e-01   1.176471e-02   \n",
       "99%         NaN  9.189113e-01  9.690844e-01  1.731092e-01   1.781473e-02   \n",
       "max         NaN  4.156303e+00  2.388823e+00  1.462185e+00   4.506540e-01   \n",
       "\n",
       "         region.page            id       indices      label  \n",
       "count   4.429136e+06  4.429136e+06  4.429136e+06  4429136.0  \n",
       "unique           NaN           NaN           NaN        NaN  \n",
       "top              NaN           NaN           NaN        NaN  \n",
       "freq             NaN           NaN           NaN        NaN  \n",
       "mean    1.103981e+00  2.715374e+08  1.357077e+02        0.0  \n",
       "std     4.152080e-01  1.254780e+08  1.403100e+02        0.0  \n",
       "min     1.000000e+00  7.143602e+07  0.000000e+00        0.0  \n",
       "1%      1.000000e+00  7.460892e+07  1.000000e+00        0.0  \n",
       "5%      1.000000e+00  8.778061e+07  9.000000e+00        0.0  \n",
       "10%     1.000000e+00  1.086045e+08  1.800000e+01        0.0  \n",
       "20%     1.000000e+00  1.432681e+08  3.800000e+01        0.0  \n",
       "50%     1.000000e+00  2.679746e+08  1.020000e+02        0.0  \n",
       "80%     1.000000e+00  3.875082e+08  1.960000e+02        0.0  \n",
       "90%     1.000000e+00  4.542904e+08  2.730000e+02        0.0  \n",
       "95%     2.000000e+00  4.771689e+08  3.790000e+02        0.0  \n",
       "99%     3.000000e+00  5.098698e+08  7.360000e+02        0.0  \n",
       "max     8.000000e+00  5.150723e+08  1.724000e+03        0.0  "
      ]
     },
     "execution_count": 27,
     "metadata": {},
     "output_type": "execute_result"
    }
   ],
   "source": [
    "train[train.label==0].describe(include=\"all\", percentiles=[0.01, 0.05, 0.1, 0.2, 0.8, 0.9, 0.95, 0.99])"
   ]
  },
  {
   "cell_type": "code",
   "execution_count": 28,
   "metadata": {},
   "outputs": [
    {
     "data": {
      "text/html": [
       "<div>\n",
       "<style scoped>\n",
       "    .dataframe tbody tr th:only-of-type {\n",
       "        vertical-align: middle;\n",
       "    }\n",
       "\n",
       "    .dataframe tbody tr th {\n",
       "        vertical-align: top;\n",
       "    }\n",
       "\n",
       "    .dataframe thead th {\n",
       "        text-align: right;\n",
       "    }\n",
       "</style>\n",
       "<table border=\"1\" class=\"dataframe\">\n",
       "  <thead>\n",
       "    <tr style=\"text-align: right;\">\n",
       "      <th></th>\n",
       "      <th>value</th>\n",
       "      <th>region.left</th>\n",
       "      <th>region.top</th>\n",
       "      <th>region.width</th>\n",
       "      <th>region.height</th>\n",
       "      <th>region.page</th>\n",
       "      <th>id</th>\n",
       "      <th>indices</th>\n",
       "      <th>label</th>\n",
       "    </tr>\n",
       "  </thead>\n",
       "  <tbody>\n",
       "    <tr>\n",
       "      <th>count</th>\n",
       "      <td>288667</td>\n",
       "      <td>288667.000000</td>\n",
       "      <td>288667.000000</td>\n",
       "      <td>288667.000000</td>\n",
       "      <td>288667.000000</td>\n",
       "      <td>288667.000000</td>\n",
       "      <td>2.886670e+05</td>\n",
       "      <td>288667.000000</td>\n",
       "      <td>288667.0</td>\n",
       "    </tr>\n",
       "    <tr>\n",
       "      <th>unique</th>\n",
       "      <td>68353</td>\n",
       "      <td>NaN</td>\n",
       "      <td>NaN</td>\n",
       "      <td>NaN</td>\n",
       "      <td>NaN</td>\n",
       "      <td>NaN</td>\n",
       "      <td>NaN</td>\n",
       "      <td>NaN</td>\n",
       "      <td>NaN</td>\n",
       "    </tr>\n",
       "    <tr>\n",
       "      <th>top</th>\n",
       "      <td>Xg==</td>\n",
       "      <td>NaN</td>\n",
       "      <td>NaN</td>\n",
       "      <td>NaN</td>\n",
       "      <td>NaN</td>\n",
       "      <td>NaN</td>\n",
       "      <td>NaN</td>\n",
       "      <td>NaN</td>\n",
       "      <td>NaN</td>\n",
       "    </tr>\n",
       "    <tr>\n",
       "      <th>freq</th>\n",
       "      <td>6712</td>\n",
       "      <td>NaN</td>\n",
       "      <td>NaN</td>\n",
       "      <td>NaN</td>\n",
       "      <td>NaN</td>\n",
       "      <td>NaN</td>\n",
       "      <td>NaN</td>\n",
       "      <td>NaN</td>\n",
       "      <td>NaN</td>\n",
       "    </tr>\n",
       "    <tr>\n",
       "      <th>mean</th>\n",
       "      <td>NaN</td>\n",
       "      <td>0.297313</td>\n",
       "      <td>0.508321</td>\n",
       "      <td>0.049002</td>\n",
       "      <td>0.008029</td>\n",
       "      <td>1.181140</td>\n",
       "      <td>2.753828e+08</td>\n",
       "      <td>156.595686</td>\n",
       "      <td>1.0</td>\n",
       "    </tr>\n",
       "    <tr>\n",
       "      <th>std</th>\n",
       "      <td>NaN</td>\n",
       "      <td>0.137272</td>\n",
       "      <td>0.132797</td>\n",
       "      <td>0.035979</td>\n",
       "      <td>0.001990</td>\n",
       "      <td>0.520034</td>\n",
       "      <td>1.243393e+08</td>\n",
       "      <td>162.404479</td>\n",
       "      <td>0.0</td>\n",
       "    </tr>\n",
       "    <tr>\n",
       "      <th>min</th>\n",
       "      <td>NaN</td>\n",
       "      <td>0.001681</td>\n",
       "      <td>0.020202</td>\n",
       "      <td>0.000000</td>\n",
       "      <td>0.000000</td>\n",
       "      <td>1.000000</td>\n",
       "      <td>7.143602e+07</td>\n",
       "      <td>0.000000</td>\n",
       "      <td>1.0</td>\n",
       "    </tr>\n",
       "    <tr>\n",
       "      <th>1%</th>\n",
       "      <td>NaN</td>\n",
       "      <td>0.061766</td>\n",
       "      <td>0.164655</td>\n",
       "      <td>0.003361</td>\n",
       "      <td>0.001188</td>\n",
       "      <td>1.000000</td>\n",
       "      <td>7.508456e+07</td>\n",
       "      <td>22.000000</td>\n",
       "      <td>1.0</td>\n",
       "    </tr>\n",
       "    <tr>\n",
       "      <th>5%</th>\n",
       "      <td>NaN</td>\n",
       "      <td>0.100403</td>\n",
       "      <td>0.305162</td>\n",
       "      <td>0.006723</td>\n",
       "      <td>0.004985</td>\n",
       "      <td>1.000000</td>\n",
       "      <td>8.850620e+07</td>\n",
       "      <td>40.000000</td>\n",
       "      <td>1.0</td>\n",
       "    </tr>\n",
       "    <tr>\n",
       "      <th>10%</th>\n",
       "      <td>NaN</td>\n",
       "      <td>0.127731</td>\n",
       "      <td>0.359857</td>\n",
       "      <td>0.010676</td>\n",
       "      <td>0.005945</td>\n",
       "      <td>1.000000</td>\n",
       "      <td>1.136816e+08</td>\n",
       "      <td>50.000000</td>\n",
       "      <td>1.0</td>\n",
       "    </tr>\n",
       "    <tr>\n",
       "      <th>20%</th>\n",
       "      <td>NaN</td>\n",
       "      <td>0.173109</td>\n",
       "      <td>0.411111</td>\n",
       "      <td>0.020168</td>\n",
       "      <td>0.006738</td>\n",
       "      <td>1.000000</td>\n",
       "      <td>1.484333e+08</td>\n",
       "      <td>65.000000</td>\n",
       "      <td>1.0</td>\n",
       "    </tr>\n",
       "    <tr>\n",
       "      <th>50%</th>\n",
       "      <td>NaN</td>\n",
       "      <td>0.280723</td>\n",
       "      <td>0.499008</td>\n",
       "      <td>0.040660</td>\n",
       "      <td>0.007986</td>\n",
       "      <td>1.000000</td>\n",
       "      <td>2.751746e+08</td>\n",
       "      <td>106.000000</td>\n",
       "      <td>1.0</td>\n",
       "    </tr>\n",
       "    <tr>\n",
       "      <th>80%</th>\n",
       "      <td>NaN</td>\n",
       "      <td>0.411765</td>\n",
       "      <td>0.608076</td>\n",
       "      <td>0.073950</td>\n",
       "      <td>0.009501</td>\n",
       "      <td>1.000000</td>\n",
       "      <td>3.998875e+08</td>\n",
       "      <td>194.000000</td>\n",
       "      <td>1.0</td>\n",
       "    </tr>\n",
       "    <tr>\n",
       "      <th>90%</th>\n",
       "      <td>NaN</td>\n",
       "      <td>0.486694</td>\n",
       "      <td>0.685273</td>\n",
       "      <td>0.095565</td>\n",
       "      <td>0.010651</td>\n",
       "      <td>2.000000</td>\n",
       "      <td>4.519910e+08</td>\n",
       "      <td>322.000000</td>\n",
       "      <td>1.0</td>\n",
       "    </tr>\n",
       "    <tr>\n",
       "      <th>95%</th>\n",
       "      <td>NaN</td>\n",
       "      <td>0.547997</td>\n",
       "      <td>0.751486</td>\n",
       "      <td>0.117647</td>\n",
       "      <td>0.011364</td>\n",
       "      <td>2.000000</td>\n",
       "      <td>4.758206e+08</td>\n",
       "      <td>475.000000</td>\n",
       "      <td>1.0</td>\n",
       "    </tr>\n",
       "    <tr>\n",
       "      <th>99%</th>\n",
       "      <td>NaN</td>\n",
       "      <td>0.660791</td>\n",
       "      <td>0.844233</td>\n",
       "      <td>0.169748</td>\n",
       "      <td>0.013064</td>\n",
       "      <td>3.000000</td>\n",
       "      <td>5.093803e+08</td>\n",
       "      <td>875.000000</td>\n",
       "      <td>1.0</td>\n",
       "    </tr>\n",
       "    <tr>\n",
       "      <th>max</th>\n",
       "      <td>NaN</td>\n",
       "      <td>0.937815</td>\n",
       "      <td>0.970273</td>\n",
       "      <td>0.751261</td>\n",
       "      <td>0.052257</td>\n",
       "      <td>8.000000</td>\n",
       "      <td>5.150723e+08</td>\n",
       "      <td>1712.000000</td>\n",
       "      <td>1.0</td>\n",
       "    </tr>\n",
       "  </tbody>\n",
       "</table>\n",
       "</div>"
      ],
      "text/plain": [
       "         value    region.left     region.top   region.width  region.height  \\\n",
       "count   288667  288667.000000  288667.000000  288667.000000  288667.000000   \n",
       "unique   68353            NaN            NaN            NaN            NaN   \n",
       "top       Xg==            NaN            NaN            NaN            NaN   \n",
       "freq      6712            NaN            NaN            NaN            NaN   \n",
       "mean       NaN       0.297313       0.508321       0.049002       0.008029   \n",
       "std        NaN       0.137272       0.132797       0.035979       0.001990   \n",
       "min        NaN       0.001681       0.020202       0.000000       0.000000   \n",
       "1%         NaN       0.061766       0.164655       0.003361       0.001188   \n",
       "5%         NaN       0.100403       0.305162       0.006723       0.004985   \n",
       "10%        NaN       0.127731       0.359857       0.010676       0.005945   \n",
       "20%        NaN       0.173109       0.411111       0.020168       0.006738   \n",
       "50%        NaN       0.280723       0.499008       0.040660       0.007986   \n",
       "80%        NaN       0.411765       0.608076       0.073950       0.009501   \n",
       "90%        NaN       0.486694       0.685273       0.095565       0.010651   \n",
       "95%        NaN       0.547997       0.751486       0.117647       0.011364   \n",
       "99%        NaN       0.660791       0.844233       0.169748       0.013064   \n",
       "max        NaN       0.937815       0.970273       0.751261       0.052257   \n",
       "\n",
       "          region.page            id        indices     label  \n",
       "count   288667.000000  2.886670e+05  288667.000000  288667.0  \n",
       "unique            NaN           NaN            NaN       NaN  \n",
       "top               NaN           NaN            NaN       NaN  \n",
       "freq              NaN           NaN            NaN       NaN  \n",
       "mean         1.181140  2.753828e+08     156.595686       1.0  \n",
       "std          0.520034  1.243393e+08     162.404479       0.0  \n",
       "min          1.000000  7.143602e+07       0.000000       1.0  \n",
       "1%           1.000000  7.508456e+07      22.000000       1.0  \n",
       "5%           1.000000  8.850620e+07      40.000000       1.0  \n",
       "10%          1.000000  1.136816e+08      50.000000       1.0  \n",
       "20%          1.000000  1.484333e+08      65.000000       1.0  \n",
       "50%          1.000000  2.751746e+08     106.000000       1.0  \n",
       "80%          1.000000  3.998875e+08     194.000000       1.0  \n",
       "90%          2.000000  4.519910e+08     322.000000       1.0  \n",
       "95%          2.000000  4.758206e+08     475.000000       1.0  \n",
       "99%          3.000000  5.093803e+08     875.000000       1.0  \n",
       "max          8.000000  5.150723e+08    1712.000000       1.0  "
      ]
     },
     "execution_count": 28,
     "metadata": {},
     "output_type": "execute_result"
    }
   ],
   "source": [
    "train[train.label==1].describe(include=\"all\", percentiles=[0.01, 0.05, 0.1, 0.2, 0.8, 0.9, 0.95, 0.99])"
   ]
  },
  {
   "cell_type": "markdown",
   "metadata": {},
   "source": [
    "### Feature engineering"
   ]
  },
  {
   "cell_type": "code",
   "execution_count": 29,
   "metadata": {},
   "outputs": [],
   "source": [
    "def calculate_bbox_volumn(data: pd.DataFrame) -> pd.DataFrame:\n",
    "    \n",
    "    data[\"bbox_volumn\"] = abs(data['region.width'] * data['region.height'])\n",
    "    \n",
    "    return data\n",
    "\n",
    "\n",
    "def calculate_value_length(data: pd.DataFrame) -> pd.DataFrame:\n",
    "    \n",
    "    data[\"value_length\"] = [len(i) for i in data[\"value\"]]\n",
    "    \n",
    "    return data\n",
    "\n",
    "\n",
    "def drop_unrelated_columns(data: pd.DataFrame) -> pd.DataFrame:\n",
    "    return data.drop([\"value\", \"id\", \"indices\"], axis=1)"
   ]
  },
  {
   "cell_type": "code",
   "execution_count": 30,
   "metadata": {},
   "outputs": [],
   "source": [
    "def add_bbox_sequence(data: pd.DataFrame) -> pd.DataFrame:\n",
    "    \n",
    "    colnames = ['region.left', 'region.top', 'region.width', 'region.height', 'region.page']\n",
    "    \n",
    "    base = data.copy()\n",
    "    \n",
    "    for i in range(-2,3):\n",
    "        if i == 0:\n",
    "            continue\n",
    "    \n",
    "        shift_data = base.groupby(['id'])['region.left', 'region.top', 'region.width', 'region.height', 'region.page'].shift(i)\n",
    "        new_col = [col + f\"_shifted_{i}\" for col in colnames]\n",
    "\n",
    "        shift_data.columns = new_col\n",
    "\n",
    "        data = pd.concat([shift_data, data], axis=1)\n",
    "        \n",
    "    \n",
    "    del [base, shift_data]\n",
    "\n",
    "    return data"
   ]
  },
  {
   "cell_type": "code",
   "execution_count": 31,
   "metadata": {},
   "outputs": [],
   "source": [
    "def feature_engineering(data):\n",
    "    \n",
    "    feature_engineering_strategy = [calculate_bbox_volumn,\n",
    "                                    calculate_value_length,\n",
    "                                    add_bbox_sequence,\n",
    "                                    fill_nan,\n",
    "                                    drop_unrelated_columns\n",
    "                                    ]\n",
    "\n",
    "    feature_creator = Transformer(feature_engineering_strategy)\n",
    "    data = feature_creator.fit_transform(data)\n",
    "    \n",
    "    return data"
   ]
  },
  {
   "cell_type": "code",
   "execution_count": 32,
   "metadata": {},
   "outputs": [
    {
     "data": {
      "text/plain": [
       "Index(['value', 'region.left', 'region.top', 'region.width', 'region.height',\n",
       "       'region.page', 'id', 'indices', 'label'],\n",
       "      dtype='object')"
      ]
     },
     "execution_count": 32,
     "metadata": {},
     "output_type": "execute_result"
    }
   ],
   "source": [
    "train.columns"
   ]
  },
  {
   "cell_type": "code",
   "execution_count": 33,
   "metadata": {},
   "outputs": [
    {
     "name": "stderr",
     "output_type": "stream",
     "text": [
      "/usr/local/lib/python3.7/site-packages/ipykernel_launcher.py:11: FutureWarning: Indexing with multiple keys (implicitly converted to a tuple of keys) will be deprecated, use a list instead.\n",
      "  # This is added back by InteractiveShellApp.init_path()\n"
     ]
    }
   ],
   "source": [
    "train = feature_engineering(train)\n",
    "test = feature_engineering(test)"
   ]
  },
  {
   "cell_type": "markdown",
   "metadata": {},
   "source": [
    "Also it is bad practice, but I prefer to undersample, before I create plots. From the desciptive analysis, there is a hugh overlap between non-text items and text items. This will become more clear with plots."
   ]
  },
  {
   "cell_type": "markdown",
   "metadata": {},
   "source": [
    "## Imbalanced Data"
   ]
  },
  {
   "cell_type": "markdown",
   "metadata": {},
   "source": [
    "There are several methods to deal with imbalanced data. Common, there is\n",
    "- over-sampling (random, SMOTE)\n",
    "- under-sampling (random, clustering)\n",
    "\n",
    "\n",
    "Since training time over night is free, I played around with over- and undersampling. From my experience, undersampling was faster and provided higher F1-scores. Overall the performance is not great, but with undersampling, I got better results. So I will continue here.\n",
    "\n",
    "A problem with random under-sampling is, that probably some important data points for the classification will be missing. Also removing data is most of the time not a good strategy."
   ]
  },
  {
   "cell_type": "code",
   "execution_count": 34,
   "metadata": {},
   "outputs": [],
   "source": [
    "def create_sub_sample(data, factor=1, seed=12345):\n",
    "    \n",
    "    text_items = data[data[\"label\"] == 1]\n",
    "    non_text_items = data[data[\"label\"] == 0]\n",
    "\n",
    "    idx = np.random.choice(non_text_items.index, size=factor*text_items.shape[0], replace=True, p=None)\n",
    "    \n",
    "    sub_sample_non_text_items = non_text_items.loc[idx]\n",
    "    \n",
    "    assert sub_sample_non_text_items.shape[0] == text_items.shape[0] * factor\n",
    "    \n",
    "    sub_sample = pd.concat([text_items, sub_sample_non_text_items], axis=0)\n",
    "    sub_sample.reset_index(inplace=True, drop=True)\n",
    "    \n",
    "    del [text_items, non_text_items, idx, sub_sample_non_text_items]\n",
    "\n",
    "    return sub_sample"
   ]
  },
  {
   "cell_type": "code",
   "execution_count": 35,
   "metadata": {},
   "outputs": [],
   "source": [
    "sub_train = create_sub_sample(train, 2)"
   ]
  },
  {
   "cell_type": "code",
   "execution_count": 36,
   "metadata": {},
   "outputs": [
    {
     "data": {
      "text/plain": [
       "Text(0.5, 1.0, 'Class Distributions \\n (0: no text item || 1: text item)')"
      ]
     },
     "execution_count": 36,
     "metadata": {},
     "output_type": "execute_result"
    },
    {
     "data": {
      "image/png": "[encoded data removed]",
      "text/plain": [
       "<Figure size 864x720 with 1 Axes>"
      ]
     },
     "metadata": {
      "needs_background": "light"
     },
     "output_type": "display_data"
    }
   ],
   "source": [
    "sns.countplot('label', data=sub_train)\n",
    "plt.title('Class Distributions \\n (0: no text item || 1: text item)', fontsize=14)"
   ]
  },
  {
   "cell_type": "markdown",
   "metadata": {},
   "source": [
    "Plotting with undersampled data is not good, but based on calculation time, I will have a look. Some information for the non-text label will be missing."
   ]
  },
  {
   "cell_type": "code",
   "execution_count": 37,
   "metadata": {},
   "outputs": [
    {
     "data": {
      "text/plain": [
       "Index(['region.left_shifted_2', 'region.top_shifted_2',\n",
       "       'region.width_shifted_2', 'region.height_shifted_2',\n",
       "       'region.page_shifted_2', 'region.left_shifted_1',\n",
       "       'region.top_shifted_1', 'region.width_shifted_1',\n",
       "       'region.height_shifted_1', 'region.page_shifted_1',\n",
       "       'region.left_shifted_-1', 'region.top_shifted_-1',\n",
       "       'region.width_shifted_-1', 'region.height_shifted_-1',\n",
       "       'region.page_shifted_-1', 'region.left_shifted_-2',\n",
       "       'region.top_shifted_-2', 'region.width_shifted_-2',\n",
       "       'region.height_shifted_-2', 'region.page_shifted_-2', 'region.left',\n",
       "       'region.top', 'region.width', 'region.height', 'region.page', 'label',\n",
       "       'bbox_volumn', 'value_length'],\n",
       "      dtype='object')"
      ]
     },
     "execution_count": 37,
     "metadata": {},
     "output_type": "execute_result"
    }
   ],
   "source": [
    "train.columns"
   ]
  },
  {
   "cell_type": "code",
   "execution_count": 38,
   "metadata": {},
   "outputs": [],
   "source": [
    "dist_data = pd.melt(sub_train[['region.left', 'region.top', 'region.width', 'region.height', 'label', 'bbox_volumn']], \n",
    "                              id_vars=[\"label\"])"
   ]
  },
  {
   "cell_type": "markdown",
   "metadata": {},
   "source": [
    "In the pairplot is it very obvious, that the non-text items overlie the text items. Other way, the text items are found only on a specific part of the page. Mostly in the relative top-left of a page. The width and the height of the bbox doesn't show a big difference, as in the box plots below."
   ]
  },
  {
   "cell_type": "code",
   "execution_count": 104,
   "metadata": {},
   "outputs": [
    {
     "data": {
      "image/png": "[encoded data removed]",
      "text/plain": [
       "<Figure size 1122.38x1080 with 42 Axes>"
      ]
     },
     "metadata": {
      "needs_background": "light"
     },
     "output_type": "display_data"
    }
   ],
   "source": [
    "sns.pairplot(sub_train[['region.left', 'region.top', 'region.width', 'region.height', 'label', 'bbox_volumn']], height = 2.5, diag_kind='hist', hue=\"label\")\n",
    "plt.show()"
   ]
  },
  {
   "cell_type": "markdown",
   "metadata": {},
   "source": [
    "plot doesn't work; needs refactoring"
   ]
  },
  {
   "cell_type": "code",
   "execution_count": 40,
   "metadata": {},
   "outputs": [
    {
     "data": {
      "image/png": "[encoded data removed]",
      "text/plain": [
       "<Figure size 330.375x432 with 5 Axes>"
      ]
     },
     "metadata": {
      "needs_background": "light"
     },
     "output_type": "display_data"
    }
   ],
   "source": [
    "g = sns.FacetGrid(dist_data, col='variable', hue=\"label\", palette=\"viridis\", height=2, col_wrap=2)\n",
    "g = (g.map(sns.distplot, \"value\", hist=False, rug=True, bins=50, hist_kws={'alpha': 0.5}).add_legend())"
   ]
  },
  {
   "cell_type": "code",
   "execution_count": 41,
   "metadata": {
    "scrolled": false
   },
   "outputs": [
    {
     "data": {
      "text/plain": [
       "<matplotlib.legend.Legend at 0x16891d6d0>"
      ]
     },
     "execution_count": 41,
     "metadata": {},
     "output_type": "execute_result"
    },
    {
     "data": {
      "image/png": "[encoded data removed]",
      "text/plain": [
       "<Figure size 864x720 with 1 Axes>"
      ]
     },
     "metadata": {
      "needs_background": "light"
     },
     "output_type": "display_data"
    }
   ],
   "source": [
    "sns.boxplot(x=\"variable\", y=\"value\", hue='label', palette=\"viridis\",\n",
    "            data=dist_data)\n",
    "\n",
    "plt.legend(title=\"labels\", loc='center right', bbox_to_anchor=(1.15, 0.5), ncol=1)"
   ]
  },
  {
   "cell_type": "code",
   "execution_count": 42,
   "metadata": {},
   "outputs": [
    {
     "data": {
      "text/plain": [
       "<matplotlib.axes._subplots.AxesSubplot at 0x1c4f5ce90>"
      ]
     },
     "execution_count": 42,
     "metadata": {},
     "output_type": "execute_result"
    },
    {
     "data": {
      "image/png": "[encoded data removed]",
      "text/plain": [
       "<Figure size 864x720 with 1 Axes>"
      ]
     },
     "metadata": {
      "needs_background": "light"
     },
     "output_type": "display_data"
    }
   ],
   "source": [
    "sns.boxplot(x=\"variable\", y=\"value\", hue='label', palette=\"viridis\",\n",
    "                data=pd.melt(sub_train[[\"region.width\", \"label\"]], id_vars=[\"label\"]))"
   ]
  },
  {
   "cell_type": "code",
   "execution_count": 43,
   "metadata": {},
   "outputs": [
    {
     "data": {
      "text/plain": [
       "<matplotlib.axes._subplots.AxesSubplot at 0x1c4fb3bd0>"
      ]
     },
     "execution_count": 43,
     "metadata": {},
     "output_type": "execute_result"
    },
    {
     "data": {
      "image/png": "[encoded data removed]",
      "text/plain": [
       "<Figure size 864x720 with 1 Axes>"
      ]
     },
     "metadata": {
      "needs_background": "light"
     },
     "output_type": "display_data"
    }
   ],
   "source": [
    "sns.boxplot(x=\"variable\", y=\"value\", hue='label', palette=\"viridis\",\n",
    "                data=pd.melt(sub_train[[\"region.height\", \"label\"]], id_vars=[\"label\"]))"
   ]
  },
  {
   "cell_type": "code",
   "execution_count": 44,
   "metadata": {},
   "outputs": [
    {
     "data": {
      "image/png": "[encoded data removed]",
      "text/plain": [
       "<Figure size 864x720 with 1 Axes>"
      ]
     },
     "metadata": {
      "needs_background": "light"
     },
     "output_type": "display_data"
    }
   ],
   "source": [
    "g = sns.boxplot(x=\"variable\", y=\"value\", hue='label', palette=\"viridis\",\n",
    "                data=pd.melt(sub_train[[\"bbox_volumn\", \"label\"]], id_vars=[\"label\"]))\n",
    "g.set_yscale(\"log\")"
   ]
  },
  {
   "cell_type": "markdown",
   "metadata": {},
   "source": [
    "The boxplots don't look very promising. The non items overlap the classified items in all relevant features. But let's have a look how trees will perform."
   ]
  },
  {
   "cell_type": "markdown",
   "metadata": {},
   "source": [
    "### Baseline"
   ]
  },
  {
   "cell_type": "markdown",
   "metadata": {},
   "source": [
    "Basically, I want to train a tree with depth one, just to see, how good it will perform."
   ]
  },
  {
   "cell_type": "code",
   "execution_count": 45,
   "metadata": {},
   "outputs": [],
   "source": [
    "model_columns = [col for col in train.columns if col != \"label\"]"
   ]
  },
  {
   "cell_type": "code",
   "execution_count": 46,
   "metadata": {},
   "outputs": [],
   "source": [
    "X_train = train[model_columns]\n",
    "y_train = train[\"label\"] \n",
    "\n",
    "X_test = test[model_columns]\n",
    "y_test = test[\"label\"] "
   ]
  },
  {
   "cell_type": "code",
   "execution_count": 47,
   "metadata": {},
   "outputs": [],
   "source": [
    "X_train, X_val, y_train, y_val = train_test_split(X_train, y_train, stratify=y_train, test_size=0.25)"
   ]
  },
  {
   "cell_type": "code",
   "execution_count": 48,
   "metadata": {},
   "outputs": [],
   "source": [
    "X_train_sub = sub_train[model_columns]\n",
    "y_train_sub = sub_train[\"label\"] "
   ]
  },
  {
   "cell_type": "code",
   "execution_count": 49,
   "metadata": {},
   "outputs": [
    {
     "data": {
      "text/plain": [
       "DecisionTreeClassifier(max_depth=1)"
      ]
     },
     "execution_count": 49,
     "metadata": {},
     "output_type": "execute_result"
    }
   ],
   "source": [
    "tree = DecisionTreeClassifier(max_depth=1)\n",
    "tree.fit(X_train_sub, y_train_sub)"
   ]
  },
  {
   "cell_type": "code",
   "execution_count": 50,
   "metadata": {},
   "outputs": [],
   "source": [
    "feature_names = [i for i in X_train_sub.columns]\n",
    "\n",
    "y_train_str = y_train_sub.astype('str')\n",
    "y_train_str[y_train_str == '0'] = 'no_text_item'\n",
    "y_train_str[y_train_str == '1'] = 'text_item'"
   ]
  },
  {
   "cell_type": "code",
   "execution_count": 51,
   "metadata": {},
   "outputs": [],
   "source": [
    "export_graphviz(tree, out_file='min_tree.dot', \n",
    "                feature_names = feature_names,\n",
    "                class_names = y_train_str,\n",
    "                rounded = True, proportion = True, \n",
    "                label='root',\n",
    "                precision = 2, filled = True)"
   ]
  },
  {
   "cell_type": "code",
   "execution_count": 52,
   "metadata": {},
   "outputs": [
    {
     "data": {
      "image/png": "[encoded data removed]",
      "text/plain": [
       "<IPython.core.display.Image object>"
      ]
     },
     "execution_count": 52,
     "metadata": {},
     "output_type": "execute_result"
    }
   ],
   "source": [
    "from subprocess import call\n",
    "call(['dot', '-Tpng', 'min_tree.dot', '-o', 'min_tree.png', '-Gdpi=100'])\n",
    "\n",
    "from IPython.display import Image\n",
    "Image(filename = 'min_tree.png')"
   ]
  },
  {
   "cell_type": "code",
   "execution_count": 53,
   "metadata": {},
   "outputs": [],
   "source": [
    "y_hat = [1 if i <= 0.53 else 0 for i in X_train['region.left']]"
   ]
  },
  {
   "cell_type": "code",
   "execution_count": 54,
   "metadata": {},
   "outputs": [
    {
     "data": {
      "text/html": [
       "<div>\n",
       "<style scoped>\n",
       "    .dataframe tbody tr th:only-of-type {\n",
       "        vertical-align: middle;\n",
       "    }\n",
       "\n",
       "    .dataframe tbody tr th {\n",
       "        vertical-align: top;\n",
       "    }\n",
       "\n",
       "    .dataframe thead th {\n",
       "        text-align: right;\n",
       "    }\n",
       "</style>\n",
       "<table border=\"1\" class=\"dataframe\">\n",
       "  <thead>\n",
       "    <tr style=\"text-align: right;\">\n",
       "      <th></th>\n",
       "      <th>no_text_item</th>\n",
       "      <th>text_item</th>\n",
       "    </tr>\n",
       "  </thead>\n",
       "  <tbody>\n",
       "    <tr>\n",
       "      <th>no_text_item</th>\n",
       "      <td>1334855</td>\n",
       "      <td>13518</td>\n",
       "    </tr>\n",
       "    <tr>\n",
       "      <th>text_item</th>\n",
       "      <td>1986997</td>\n",
       "      <td>202982</td>\n",
       "    </tr>\n",
       "  </tbody>\n",
       "</table>\n",
       "</div>"
      ],
      "text/plain": [
       "              no_text_item  text_item\n",
       "no_text_item       1334855      13518\n",
       "text_item          1986997     202982"
      ]
     },
     "execution_count": 54,
     "metadata": {},
     "output_type": "execute_result"
    }
   ],
   "source": [
    "pd.DataFrame(confusion_matrix(y_train, y_hat).T, columns=[\"no_text_item\",\"text_item\"], index=[\"no_text_item\",\"text_item\"])"
   ]
  },
  {
   "cell_type": "code",
   "execution_count": 55,
   "metadata": {},
   "outputs": [
    {
     "data": {
      "text/plain": [
       "0.16869625706270447"
      ]
     },
     "execution_count": 55,
     "metadata": {},
     "output_type": "execute_result"
    }
   ],
   "source": [
    "f1_score(y_train, y_hat)"
   ]
  },
  {
   "cell_type": "code",
   "execution_count": 56,
   "metadata": {},
   "outputs": [
    {
     "data": {
      "text/plain": [
       "0.09268673352575527"
      ]
     },
     "execution_count": 56,
     "metadata": {},
     "output_type": "execute_result"
    }
   ],
   "source": [
    "precision_score(y_train, y_hat)"
   ]
  },
  {
   "cell_type": "code",
   "execution_count": 57,
   "metadata": {},
   "outputs": [
    {
     "data": {
      "text/plain": [
       "0.9375612009237875"
      ]
     },
     "execution_count": 57,
     "metadata": {},
     "output_type": "execute_result"
    }
   ],
   "source": [
    "recall_score(y_train, y_hat)"
   ]
  },
  {
   "cell_type": "markdown",
   "metadata": {},
   "source": [
    "With one feature, we get to a F1-Score of 0.17, which is really bad. The precision is too low. Too many non-text items are classified as text-items. Let's see, if a more sophisticated approach will help or if the data is too noisy."
   ]
  },
  {
   "cell_type": "code",
   "execution_count": 58,
   "metadata": {},
   "outputs": [],
   "source": [
    "def plot_precision_recall_vs_threshold(precisions, recalls, thresholds):\n",
    "    plt.plot(thresholds, precisions[:-1], \"b--\", label=\"Precision\", linewidth=2)\n",
    "    plt.plot(thresholds, recalls[:-1], \"g-\", label=\"Recall\", linewidth=2)\n",
    "    plt.xlabel(\"Threshold\", fontsize=16)\n",
    "    plt.legend(loc=\"upper left\", fontsize=16)\n",
    "    plt.ylim([0, 1])\n",
    "\n",
    "\n",
    "def plot_precision_vs_recall(precisions, recalls):\n",
    "    plt.plot(recalls, precisions, \"b-\", linewidth=2)\n",
    "    plt.xlabel(\"Recall\", fontsize=16)\n",
    "    plt.ylabel(\"Precision\", fontsize=16)\n",
    "    plt.axis([0, 1, 0, 1])\n",
    "\n",
    "\n",
    "def plot_roc_curve(fpr, tpr, label=None):\n",
    "    plt.plot(fpr, tpr, linewidth=2, label=label)\n",
    "    plt.plot([0, 1], [0, 1], 'k--')\n",
    "    plt.axis([0, 1, 0, 1])\n",
    "    plt.xlabel('False Positive Rate', fontsize=16)\n",
    "    plt.ylabel('True Positive Rate', fontsize=16)"
   ]
  },
  {
   "cell_type": "markdown",
   "metadata": {},
   "source": [
    "## DecisionTree"
   ]
  },
  {
   "cell_type": "markdown",
   "metadata": {},
   "source": [
    "Training of a slighty bigger decision tree. The F1-score on the undersampled train data looks okayish. Still not great, but it is an improvement. "
   ]
  },
  {
   "cell_type": "code",
   "execution_count": 59,
   "metadata": {},
   "outputs": [
    {
     "name": "stdout",
     "output_type": "stream",
     "text": [
      "Decision Tree has a cross_validationg F1 score of 0.71\n"
     ]
    }
   ],
   "source": [
    "tree = DecisionTreeClassifier(random_state=0, max_depth=8, criterion='gini')\n",
    "\n",
    "training_score = cross_val_score(tree, X_train_sub, y_train_sub, cv=5, scoring='f1')\n",
    "print(f\"Decision Tree has a cross_validationg F1 score of {training_score.mean():.2}\")"
   ]
  },
  {
   "cell_type": "code",
   "execution_count": 60,
   "metadata": {},
   "outputs": [
    {
     "data": {
      "text/plain": [
       "array([0.70015154, 0.71583186, 0.719707  , 0.68765938, 0.71456454])"
      ]
     },
     "execution_count": 60,
     "metadata": {},
     "output_type": "execute_result"
    }
   ],
   "source": [
    "training_score"
   ]
  },
  {
   "cell_type": "code",
   "execution_count": 61,
   "metadata": {},
   "outputs": [
    {
     "data": {
      "text/plain": [
       "DecisionTreeClassifier(max_depth=8, random_state=0)"
      ]
     },
     "execution_count": 61,
     "metadata": {},
     "output_type": "execute_result"
    }
   ],
   "source": [
    "tree = DecisionTreeClassifier(random_state=0, max_depth=8, criterion='gini')\n",
    "tree.fit(X_train_sub, y_train_sub)"
   ]
  },
  {
   "cell_type": "code",
   "execution_count": 62,
   "metadata": {},
   "outputs": [
    {
     "data": {
      "text/plain": [
       "0"
      ]
     },
     "execution_count": 62,
     "metadata": {},
     "output_type": "execute_result"
    }
   ],
   "source": [
    "export_graphviz(tree, out_file='tree_depth_8.dot', \n",
    "                feature_names = feature_names,\n",
    "                class_names = y_train_str,\n",
    "                rounded = True, proportion = True, \n",
    "                label='root',\n",
    "                precision = 2, filled = True)\n",
    "\n",
    "from subprocess import call\n",
    "call(['dot', '-Tpng', 'tree_depth_8.dot', '-o', 'tree_depth_8.png', '-Gdpi=100'])"
   ]
  },
  {
   "cell_type": "markdown",
   "metadata": {},
   "source": [
    "Let's see, how well the tree generalizes on the whole dataset. The F1-scores drops as expected, since we add only non-text items here. So a decision tree is not the best option, but at least a start."
   ]
  },
  {
   "cell_type": "code",
   "execution_count": 63,
   "metadata": {},
   "outputs": [],
   "source": [
    "y_hat = tree.predict(X_val)"
   ]
  },
  {
   "cell_type": "code",
   "execution_count": 64,
   "metadata": {},
   "outputs": [
    {
     "data": {
      "text/html": [
       "<div>\n",
       "<style scoped>\n",
       "    .dataframe tbody tr th:only-of-type {\n",
       "        vertical-align: middle;\n",
       "    }\n",
       "\n",
       "    .dataframe tbody tr th {\n",
       "        vertical-align: top;\n",
       "    }\n",
       "\n",
       "    .dataframe thead th {\n",
       "        text-align: right;\n",
       "    }\n",
       "</style>\n",
       "<table border=\"1\" class=\"dataframe\">\n",
       "  <thead>\n",
       "    <tr style=\"text-align: right;\">\n",
       "      <th></th>\n",
       "      <th>no_text_item</th>\n",
       "      <th>text_item</th>\n",
       "    </tr>\n",
       "  </thead>\n",
       "  <tbody>\n",
       "    <tr>\n",
       "      <th>no_text_item</th>\n",
       "      <td>898087</td>\n",
       "      <td>16627</td>\n",
       "    </tr>\n",
       "    <tr>\n",
       "      <th>text_item</th>\n",
       "      <td>209197</td>\n",
       "      <td>55540</td>\n",
       "    </tr>\n",
       "  </tbody>\n",
       "</table>\n",
       "</div>"
      ],
      "text/plain": [
       "              no_text_item  text_item\n",
       "no_text_item        898087      16627\n",
       "text_item           209197      55540"
      ]
     },
     "execution_count": 64,
     "metadata": {},
     "output_type": "execute_result"
    }
   ],
   "source": [
    "pd.DataFrame(confusion_matrix(y_val, y_hat).T, columns=[\"no_text_item\",\"text_item\"], index=[\"no_text_item\",\"text_item\"])"
   ]
  },
  {
   "cell_type": "code",
   "execution_count": 65,
   "metadata": {},
   "outputs": [
    {
     "data": {
      "text/plain": [
       "0.3297081661244747"
      ]
     },
     "execution_count": 65,
     "metadata": {},
     "output_type": "execute_result"
    }
   ],
   "source": [
    "f1_score(y_val, y_hat)"
   ]
  },
  {
   "cell_type": "code",
   "execution_count": 66,
   "metadata": {},
   "outputs": [
    {
     "data": {
      "text/plain": [
       "0.2097931154315415"
      ]
     },
     "execution_count": 66,
     "metadata": {},
     "output_type": "execute_result"
    }
   ],
   "source": [
    "precision_score(y_val, y_hat)"
   ]
  },
  {
   "cell_type": "code",
   "execution_count": 67,
   "metadata": {},
   "outputs": [
    {
     "data": {
      "text/plain": [
       "0.7696038355481037"
      ]
     },
     "execution_count": 67,
     "metadata": {},
     "output_type": "execute_result"
    }
   ],
   "source": [
    "recall_score(y_val, y_hat)"
   ]
  },
  {
   "cell_type": "code",
   "execution_count": null,
   "metadata": {},
   "outputs": [],
   "source": []
  },
  {
   "cell_type": "code",
   "execution_count": 68,
   "metadata": {},
   "outputs": [],
   "source": [
    "y_hat = tree.predict(X_train)"
   ]
  },
  {
   "cell_type": "code",
   "execution_count": 69,
   "metadata": {},
   "outputs": [
    {
     "data": {
      "text/html": [
       "<div>\n",
       "<style scoped>\n",
       "    .dataframe tbody tr th:only-of-type {\n",
       "        vertical-align: middle;\n",
       "    }\n",
       "\n",
       "    .dataframe tbody tr th {\n",
       "        vertical-align: top;\n",
       "    }\n",
       "\n",
       "    .dataframe thead th {\n",
       "        text-align: right;\n",
       "    }\n",
       "</style>\n",
       "<table border=\"1\" class=\"dataframe\">\n",
       "  <thead>\n",
       "    <tr style=\"text-align: right;\">\n",
       "      <th></th>\n",
       "      <th>no_text_item</th>\n",
       "      <th>text_item</th>\n",
       "    </tr>\n",
       "  </thead>\n",
       "  <tbody>\n",
       "    <tr>\n",
       "      <th>no_text_item</th>\n",
       "      <td>2693189</td>\n",
       "      <td>50088</td>\n",
       "    </tr>\n",
       "    <tr>\n",
       "      <th>text_item</th>\n",
       "      <td>628663</td>\n",
       "      <td>166412</td>\n",
       "    </tr>\n",
       "  </tbody>\n",
       "</table>\n",
       "</div>"
      ],
      "text/plain": [
       "              no_text_item  text_item\n",
       "no_text_item       2693189      50088\n",
       "text_item           628663     166412"
      ]
     },
     "execution_count": 69,
     "metadata": {},
     "output_type": "execute_result"
    }
   ],
   "source": [
    "pd.DataFrame(confusion_matrix(y_train, y_hat).T, columns=[\"no_text_item\",\"text_item\"], index=[\"no_text_item\",\"text_item\"])"
   ]
  },
  {
   "cell_type": "code",
   "execution_count": 70,
   "metadata": {},
   "outputs": [
    {
     "data": {
      "text/plain": [
       "0.3290156439216074"
      ]
     },
     "execution_count": 70,
     "metadata": {},
     "output_type": "execute_result"
    }
   ],
   "source": [
    "f1_score(y_train, y_hat)"
   ]
  },
  {
   "cell_type": "code",
   "execution_count": 71,
   "metadata": {},
   "outputs": [
    {
     "data": {
      "text/plain": [
       "0.20930352482470208"
      ]
     },
     "execution_count": 71,
     "metadata": {},
     "output_type": "execute_result"
    }
   ],
   "source": [
    "precision_score(y_train, y_hat)"
   ]
  },
  {
   "cell_type": "code",
   "execution_count": 72,
   "metadata": {},
   "outputs": [
    {
     "data": {
      "text/plain": [
       "0.7686466512702078"
      ]
     },
     "execution_count": 72,
     "metadata": {},
     "output_type": "execute_result"
    }
   ],
   "source": [
    "recall_score(y_train, y_hat)"
   ]
  },
  {
   "cell_type": "markdown",
   "metadata": {},
   "source": [
    "### XGBoost"
   ]
  },
  {
   "cell_type": "markdown",
   "metadata": {},
   "source": [
    "The imrpovement with the decision tree looks interesting. I would try to train an XGBoost model and see how weel he generalizes. Out of time reasons, I choose more a stomp like approach with a max depth of 2. Since boosing is basicallt gradually learning, this is okay. Probably the number of trees could be better. Also there is much more space for improvement, but any hyperparameter tuning doesn't make sense, as long as the metrics are really bad."
   ]
  },
  {
   "cell_type": "code",
   "execution_count": 73,
   "metadata": {},
   "outputs": [],
   "source": [
    "# Overfitting? Based on the implementation, it is not clear!!!\n",
    "\n",
    "# TODO: include X_val and plot error of the learning curve"
   ]
  },
  {
   "cell_type": "code",
   "execution_count": 74,
   "metadata": {},
   "outputs": [],
   "source": [
    "xgb_clf = xgb.XGBClassifier(max_depth=2, n_estimators=200, objective='binary:logistic', gamma=0.1, random_state=1234, early_stopping_rounds=10)\\"
   ]
  },
  {
   "cell_type": "code",
   "execution_count": 75,
   "metadata": {},
   "outputs": [],
   "source": [
    "folds = StratifiedKFold(n_splits = 3, shuffle = True)\n",
    "\n",
    "estimators = []\n",
    "# results = np.zeros(len(X))\n",
    "score = []\n",
    "\n",
    "for train_index, val_index in folds.split(X_train_sub, y_train_sub):\n",
    "    sub_X_train, sub_X_val = X_train_sub.iloc[train_index,:], X_train_sub.iloc[val_index,:]\n",
    "\n",
    "    sub_y_train, sub_y_val = y_train_sub.iloc[train_index].values.ravel(), y_train_sub.iloc[val_index].values.ravel()\n",
    "    xgb_clf.fit(sub_X_train, sub_y_train)\n",
    "\n",
    "    estimators.append(xgb_clf)\n",
    "    results = xgb_clf.predict(sub_X_val)\n",
    "    score.append(f1_score(sub_y_val, results))"
   ]
  },
  {
   "cell_type": "code",
   "execution_count": 76,
   "metadata": {},
   "outputs": [
    {
     "data": {
      "text/plain": [
       "[0.7271773866413385, 0.7292153523190874, 0.7292266511262673]"
      ]
     },
     "execution_count": 76,
     "metadata": {},
     "output_type": "execute_result"
    }
   ],
   "source": [
    "score"
   ]
  },
  {
   "cell_type": "code",
   "execution_count": 77,
   "metadata": {},
   "outputs": [],
   "source": [
    "xgb_clf.fit(X_train_sub, y_train_sub)\n",
    "y_scores = xgb_clf.predict_proba(X_train_sub)"
   ]
  },
  {
   "cell_type": "code",
   "execution_count": 78,
   "metadata": {},
   "outputs": [],
   "source": [
    "precisions, recalls, thresholds = precision_recall_curve(y_train_sub, y_scores[:,1])"
   ]
  },
  {
   "cell_type": "markdown",
   "metadata": {},
   "source": [
    "Here I calculated on the cv training the decision threshold vs precision and recall. The precision curve is a bit bumpy and slowly changes, while the recall reacts stronger to the threshold. Since I'm interested in a better precision (the model lacks here), I go for a decision threshold of 0.6."
   ]
  },
  {
   "cell_type": "code",
   "execution_count": 79,
   "metadata": {},
   "outputs": [
    {
     "data": {
      "image/png": "[encoded data removed]",
      "text/plain": [
       "<Figure size 576x288 with 1 Axes>"
      ]
     },
     "metadata": {
      "needs_background": "light"
     },
     "output_type": "display_data"
    }
   ],
   "source": [
    "plt.figure(figsize=(8, 4))\n",
    "plot_precision_recall_vs_threshold(precisions, recalls, thresholds)\n",
    "plt.show()"
   ]
  },
  {
   "cell_type": "code",
   "execution_count": 80,
   "metadata": {},
   "outputs": [],
   "source": [
    "precisions, recalls, thresholds = precision_recall_curve(y_train_sub, y_scores[:, 1])"
   ]
  },
  {
   "cell_type": "markdown",
   "metadata": {},
   "source": [
    "Precision vs recall is really low. On the sub-samled data it reaches not more than 0.8. But also, it doesnt fall very much with an increased recall."
   ]
  },
  {
   "cell_type": "code",
   "execution_count": 81,
   "metadata": {},
   "outputs": [
    {
     "data": {
      "image/png": "[encoded data removed]",
      "text/plain": [
       "<Figure size 576x432 with 1 Axes>"
      ]
     },
     "metadata": {
      "needs_background": "light"
     },
     "output_type": "display_data"
    }
   ],
   "source": [
    "plt.figure(figsize=(8, 6))\n",
    "plot_precision_vs_recall(precisions, recalls)\n",
    "plt.show()"
   ]
  },
  {
   "cell_type": "markdown",
   "metadata": {},
   "source": [
    "The ROC curve plots  the true positive rate vs false positive rate. The curve is comparable low, which means the classifier is not really good. There are too many false positives in the under-sampled dataset."
   ]
  },
  {
   "cell_type": "code",
   "execution_count": 82,
   "metadata": {},
   "outputs": [],
   "source": [
    "fpr, tpr, thresholds = roc_curve(y_train_sub, y_scores[:, 1])"
   ]
  },
  {
   "cell_type": "code",
   "execution_count": 83,
   "metadata": {},
   "outputs": [
    {
     "data": {
      "image/png": "[encoded data removed]",
      "text/plain": [
       "<Figure size 576x432 with 1 Axes>"
      ]
     },
     "metadata": {
      "needs_background": "light"
     },
     "output_type": "display_data"
    }
   ],
   "source": [
    "plt.figure(figsize=(8, 6))\n",
    "plot_roc_curve(fpr, tpr)\n",
    "plt.show()"
   ]
  },
  {
   "cell_type": "code",
   "execution_count": 84,
   "metadata": {},
   "outputs": [
    {
     "data": {
      "text/plain": [
       "0.8909186077727633"
      ]
     },
     "execution_count": 84,
     "metadata": {},
     "output_type": "execute_result"
    }
   ],
   "source": [
    "roc_auc_score(y_train_sub, y_scores[:,1])"
   ]
  },
  {
   "cell_type": "markdown",
   "metadata": {},
   "source": [
    "The model is not really good on the under-sampled data. I will apply it to the full training dataset (show more non-texxt items to it) and have a look at the test set."
   ]
  },
  {
   "cell_type": "code",
   "execution_count": null,
   "metadata": {},
   "outputs": [],
   "source": []
  },
  {
   "cell_type": "code",
   "execution_count": 85,
   "metadata": {},
   "outputs": [],
   "source": [
    "y_hat_prob = xgb_clf.predict_proba(X_val)\n",
    "\n",
    "y_hat = [0 if i <= 0.6 else 1 for i in y_hat_prob[:,1]]"
   ]
  },
  {
   "cell_type": "code",
   "execution_count": 86,
   "metadata": {},
   "outputs": [
    {
     "data": {
      "text/html": [
       "<div>\n",
       "<style scoped>\n",
       "    .dataframe tbody tr th:only-of-type {\n",
       "        vertical-align: middle;\n",
       "    }\n",
       "\n",
       "    .dataframe tbody tr th {\n",
       "        vertical-align: top;\n",
       "    }\n",
       "\n",
       "    .dataframe thead th {\n",
       "        text-align: right;\n",
       "    }\n",
       "</style>\n",
       "<table border=\"1\" class=\"dataframe\">\n",
       "  <thead>\n",
       "    <tr style=\"text-align: right;\">\n",
       "      <th></th>\n",
       "      <th>no_text_item</th>\n",
       "      <th>text_item</th>\n",
       "    </tr>\n",
       "  </thead>\n",
       "  <tbody>\n",
       "    <tr>\n",
       "      <th>no_text_item</th>\n",
       "      <td>992715</td>\n",
       "      <td>28616</td>\n",
       "    </tr>\n",
       "    <tr>\n",
       "      <th>text_item</th>\n",
       "      <td>114569</td>\n",
       "      <td>43551</td>\n",
       "    </tr>\n",
       "  </tbody>\n",
       "</table>\n",
       "</div>"
      ],
      "text/plain": [
       "              no_text_item  text_item\n",
       "no_text_item        992715      28616\n",
       "text_item           114569      43551"
      ]
     },
     "execution_count": 86,
     "metadata": {},
     "output_type": "execute_result"
    }
   ],
   "source": [
    "pd.DataFrame(confusion_matrix(y_val, y_hat).T, columns=[\"no_text_item\",\"text_item\"], index=[\"no_text_item\",\"text_item\"])"
   ]
  },
  {
   "cell_type": "code",
   "execution_count": 87,
   "metadata": {},
   "outputs": [
    {
     "data": {
      "text/plain": [
       "0.3782323795958956"
      ]
     },
     "execution_count": 87,
     "metadata": {},
     "output_type": "execute_result"
    }
   ],
   "source": [
    "f1_score(y_val, y_hat)"
   ]
  },
  {
   "cell_type": "code",
   "execution_count": 88,
   "metadata": {},
   "outputs": [
    {
     "data": {
      "text/plain": [
       "0.2754300531242095"
      ]
     },
     "execution_count": 88,
     "metadata": {},
     "output_type": "execute_result"
    }
   ],
   "source": [
    "precision_score(y_val, y_hat)"
   ]
  },
  {
   "cell_type": "code",
   "execution_count": 89,
   "metadata": {},
   "outputs": [
    {
     "data": {
      "text/plain": [
       "0.6034752726315352"
      ]
     },
     "execution_count": 89,
     "metadata": {},
     "output_type": "execute_result"
    }
   ],
   "source": [
    "recall_score(y_val, y_hat)"
   ]
  },
  {
   "cell_type": "markdown",
   "metadata": {},
   "source": [
    "### whole dataset"
   ]
  },
  {
   "cell_type": "code",
   "execution_count": 90,
   "metadata": {},
   "outputs": [],
   "source": [
    "y_hat_prob = xgb_clf.predict_proba(X_train)\n",
    "\n",
    "y_hat = [0 if i <= 0.6 else 1 for i in y_hat_prob[:,1]]"
   ]
  },
  {
   "cell_type": "code",
   "execution_count": 91,
   "metadata": {},
   "outputs": [
    {
     "data": {
      "text/html": [
       "<div>\n",
       "<style scoped>\n",
       "    .dataframe tbody tr th:only-of-type {\n",
       "        vertical-align: middle;\n",
       "    }\n",
       "\n",
       "    .dataframe tbody tr th {\n",
       "        vertical-align: top;\n",
       "    }\n",
       "\n",
       "    .dataframe thead th {\n",
       "        text-align: right;\n",
       "    }\n",
       "</style>\n",
       "<table border=\"1\" class=\"dataframe\">\n",
       "  <thead>\n",
       "    <tr style=\"text-align: right;\">\n",
       "      <th></th>\n",
       "      <th>no_text_item</th>\n",
       "      <th>text_item</th>\n",
       "    </tr>\n",
       "  </thead>\n",
       "  <tbody>\n",
       "    <tr>\n",
       "      <th>no_text_item</th>\n",
       "      <td>2977719</td>\n",
       "      <td>86099</td>\n",
       "    </tr>\n",
       "    <tr>\n",
       "      <th>text_item</th>\n",
       "      <td>344133</td>\n",
       "      <td>130401</td>\n",
       "    </tr>\n",
       "  </tbody>\n",
       "</table>\n",
       "</div>"
      ],
      "text/plain": [
       "              no_text_item  text_item\n",
       "no_text_item       2977719      86099\n",
       "text_item           344133     130401"
      ]
     },
     "execution_count": 91,
     "metadata": {},
     "output_type": "execute_result"
    }
   ],
   "source": [
    "pd.DataFrame(confusion_matrix(y_train, y_hat).T, columns=[\"no_text_item\",\"text_item\"], index=[\"no_text_item\",\"text_item\"])"
   ]
  },
  {
   "cell_type": "code",
   "execution_count": 92,
   "metadata": {},
   "outputs": [
    {
     "data": {
      "text/plain": [
       "0.3774083474908615"
      ]
     },
     "execution_count": 92,
     "metadata": {},
     "output_type": "execute_result"
    }
   ],
   "source": [
    "f1_score(y_train, y_hat)"
   ]
  },
  {
   "cell_type": "code",
   "execution_count": 93,
   "metadata": {},
   "outputs": [
    {
     "data": {
      "text/plain": [
       "0.27479801236581575"
      ]
     },
     "execution_count": 93,
     "metadata": {},
     "output_type": "execute_result"
    }
   ],
   "source": [
    "precision_score(y_train, y_hat)"
   ]
  },
  {
   "cell_type": "code",
   "execution_count": 94,
   "metadata": {},
   "outputs": [
    {
     "data": {
      "text/plain": [
       "0.6023140877598152"
      ]
     },
     "execution_count": 94,
     "metadata": {},
     "output_type": "execute_result"
    }
   ],
   "source": [
    "recall_score(y_train, y_hat)"
   ]
  },
  {
   "cell_type": "markdown",
   "metadata": {},
   "source": [
    "### Test dataset"
   ]
  },
  {
   "cell_type": "code",
   "execution_count": 95,
   "metadata": {},
   "outputs": [],
   "source": [
    "y_hat_prob = xgb_clf.predict_proba(X_test)\n",
    "\n",
    "y_hat = [0 if i <= 0.6 else 1 for i in y_hat_prob[:,1]]"
   ]
  },
  {
   "cell_type": "code",
   "execution_count": 96,
   "metadata": {},
   "outputs": [
    {
     "data": {
      "text/html": [
       "<div>\n",
       "<style scoped>\n",
       "    .dataframe tbody tr th:only-of-type {\n",
       "        vertical-align: middle;\n",
       "    }\n",
       "\n",
       "    .dataframe tbody tr th {\n",
       "        vertical-align: top;\n",
       "    }\n",
       "\n",
       "    .dataframe thead th {\n",
       "        text-align: right;\n",
       "    }\n",
       "</style>\n",
       "<table border=\"1\" class=\"dataframe\">\n",
       "  <thead>\n",
       "    <tr style=\"text-align: right;\">\n",
       "      <th></th>\n",
       "      <th>no_text_item</th>\n",
       "      <th>text_item</th>\n",
       "    </tr>\n",
       "  </thead>\n",
       "  <tbody>\n",
       "    <tr>\n",
       "      <th>no_text_item</th>\n",
       "      <td>172868</td>\n",
       "      <td>3921</td>\n",
       "    </tr>\n",
       "    <tr>\n",
       "      <th>text_item</th>\n",
       "      <td>24397</td>\n",
       "      <td>6153</td>\n",
       "    </tr>\n",
       "  </tbody>\n",
       "</table>\n",
       "</div>"
      ],
      "text/plain": [
       "              no_text_item  text_item\n",
       "no_text_item        172868       3921\n",
       "text_item            24397       6153"
      ]
     },
     "execution_count": 96,
     "metadata": {},
     "output_type": "execute_result"
    }
   ],
   "source": [
    "pd.DataFrame(confusion_matrix(y_test, y_hat).T, columns=[\"no_text_item\",\"text_item\"], index=[\"no_text_item\",\"text_item\"])"
   ]
  },
  {
   "cell_type": "code",
   "execution_count": 97,
   "metadata": {},
   "outputs": [
    {
     "data": {
      "text/plain": [
       "0.30292437967703817"
      ]
     },
     "execution_count": 97,
     "metadata": {},
     "output_type": "execute_result"
    }
   ],
   "source": [
    "f1_score(y_test, y_hat)"
   ]
  },
  {
   "cell_type": "code",
   "execution_count": 98,
   "metadata": {},
   "outputs": [
    {
     "data": {
      "text/plain": [
       "0.2014075286415712"
      ]
     },
     "execution_count": 98,
     "metadata": {},
     "output_type": "execute_result"
    }
   ],
   "source": [
    "precision_score(y_test, y_hat)"
   ]
  },
  {
   "cell_type": "code",
   "execution_count": 99,
   "metadata": {},
   "outputs": [
    {
     "data": {
      "text/plain": [
       "0.6107802263251936"
      ]
     },
     "execution_count": 99,
     "metadata": {},
     "output_type": "execute_result"
    }
   ],
   "source": [
    "recall_score(y_test, y_hat)"
   ]
  },
  {
   "cell_type": "markdown",
   "metadata": {},
   "source": [
    "## Sequential classification"
   ]
  },
  {
   "cell_type": "markdown",
   "metadata": {},
   "source": [
    "The idea of an LSTM or RNN seems possible, since the structure follows a sequence. I havn't applied LSTMs/RNNs in a long run, so this is a very first prototype."
   ]
  },
  {
   "cell_type": "code",
   "execution_count": 100,
   "metadata": {},
   "outputs": [],
   "source": [
    "def plot_metrics(history):\n",
    "    metrics =  ['loss', 'auc', 'precision', 'recall']\n",
    "    for n, metric in enumerate(metrics):\n",
    "        name = metric.replace(\"_\",\" \").capitalize()\n",
    "        plt.subplot(2,2,n+1)\n",
    "        plt.plot(history.epoch,  history.history[metric], color=colors[0], label='Train')\n",
    "        plt.plot(history.epoch, history.history['val_'+metric],\n",
    "                 color=colors[0], linestyle=\"--\", label='Val')\n",
    "        plt.xlabel('Epoch')\n",
    "        plt.ylabel(name)\n",
    "        if metric == 'loss':\n",
    "            plt.ylim([0, plt.ylim()[1]])\n",
    "        elif metric == 'auc':\n",
    "            plt.ylim([0.8,1])\n",
    "        else:\n",
    "            plt.ylim([0,1])\n",
    "\n",
    "        plt.legend()"
   ]
  },
  {
   "cell_type": "code",
   "execution_count": 101,
   "metadata": {},
   "outputs": [],
   "source": [
    "neg, pos = sum(y_train==0), sum(y_train==1)\n",
    "total = neg + pos"
   ]
  },
  {
   "cell_type": "markdown",
   "metadata": {},
   "source": [
    "This build a Sequence of the bounding boxes. I look at the bounding box before and behind the specific bounding box. So I create a sequence of 3 bboxes for the LSTM. "
   ]
  },
  {
   "cell_type": "code",
   "execution_count": 102,
   "metadata": {},
   "outputs": [],
   "source": [
    "scaler = MinMaxScaler(feature_range = (0, 1))\n",
    "X_train = scaler.fit_transform(X_train)\n",
    "\n",
    "X_val = scaler.transform(X_val)\n",
    "X_test = scaler.transform(X_test)"
   ]
  },
  {
   "cell_type": "markdown",
   "metadata": {},
   "source": [
    "for simplicity remove value_lengths and bbox volumne, since both are not part of the sequencing"
   ]
  },
  {
   "cell_type": "code",
   "execution_count": 121,
   "metadata": {},
   "outputs": [
    {
     "name": "stdout",
     "output_type": "stream",
     "text": [
      "Training features shape: (3538352, 5, 5)\n",
      "Validation features shape: (1179451, 5, 5)\n",
      "Test features shape: (207339, 5, 5)\n"
     ]
    }
   ],
   "source": [
    "X_train = X_train[:, :-2].reshape((X_train.shape[0], 5, (X_train.shape[1]-2)//5))\n",
    "X_val = X_val[:, :-2].reshape((X_val.shape[0], 5, (X_val.shape[1]-2)//5))\n",
    "X_test = X_test[:, :-2].reshape((X_test.shape[0], 5, (X_test.shape[1]-2)//5))\n",
    "\n",
    "print('Training features shape:', X_train.shape)\n",
    "print('Validation features shape:', X_val.shape)\n",
    "print('Test features shape:', X_test.shape)"
   ]
  },
  {
   "cell_type": "markdown",
   "metadata": {},
   "source": [
    "Adding weights for the model. Positive labels get a heigher weight, which afaik will be multiplied with the gradient in the cost function."
   ]
  },
  {
   "cell_type": "code",
   "execution_count": 122,
   "metadata": {},
   "outputs": [
    {
     "name": "stdout",
     "output_type": "stream",
     "text": [
      "Weight for class 0: 0.53\n",
      "Weight for class 1: 8.17\n"
     ]
    }
   ],
   "source": [
    "# Scaling by total/2 helps keep the loss to a similar magnitude.\n",
    "# The sum of the weights of all examples stays the same.\n",
    "weight_for_0 = (1 / neg)*(total)/2.0 \n",
    "weight_for_1 = (1 / pos)*(total)/2.0\n",
    "\n",
    "class_weight = {0: weight_for_0, 1: weight_for_1}\n",
    "\n",
    "print('Weight for class 0: {:.2f}'.format(weight_for_0))\n",
    "print('Weight for class 1: {:.2f}'.format(weight_for_1))"
   ]
  },
  {
   "cell_type": "code",
   "execution_count": 123,
   "metadata": {},
   "outputs": [],
   "source": [
    "METRICS = [\n",
    "      TruePositives(name='tp'),\n",
    "      FalsePositives(name='fp'),\n",
    "      TrueNegatives(name='tn'),\n",
    "      FalseNegatives(name='fn'), \n",
    "      BinaryAccuracy(name='accuracy'),\n",
    "      Precision(name='precision'),\n",
    "      Recall(name='recall'),\n",
    "      AUC(name='auc'),\n",
    "]"
   ]
  },
  {
   "cell_type": "code",
   "execution_count": 124,
   "metadata": {},
   "outputs": [],
   "source": [
    "def make_model(metrics = METRICS):\n",
    "    \n",
    "    model = Sequential()\n",
    "    model.add(LSTM(64, input_shape=(X_train.shape[1], X_train.shape[2])))\n",
    "    model.add(Dense(1, activation='sigmoid'))\n",
    "\n",
    "    model.compile(loss='binary_crossentropy', optimizer= \"adam\", metrics=metrics)  \n",
    "\n",
    "    return model"
   ]
  },
  {
   "cell_type": "code",
   "execution_count": 125,
   "metadata": {},
   "outputs": [],
   "source": [
    "early_stopping = EarlyStopping(\n",
    "    monitor='val_auc', \n",
    "    verbose=1,\n",
    "    patience=10,\n",
    "    mode='max',\n",
    "    restore_best_weights=True)"
   ]
  },
  {
   "cell_type": "markdown",
   "metadata": {},
   "source": [
    "The training takes too long; probably I should have taken only one LSTM layer and less units. Dropout layers are introduced to prevent overfitting. From my prototyping I can conclude, that the class weights improve the learning a lot. Most of my previous approaches failed, because the model was only predicting zeros."
   ]
  },
  {
   "cell_type": "code",
   "execution_count": 126,
   "metadata": {},
   "outputs": [
    {
     "name": "stdout",
     "output_type": "stream",
     "text": [
      "Model: \"sequential_1\"\n",
      "_________________________________________________________________\n",
      "Layer (type)                 Output Shape              Param #   \n",
      "=================================================================\n",
      "lstm_1 (LSTM)                (None, 64)                17920     \n",
      "_________________________________________________________________\n",
      "dense_1 (Dense)              (None, 1)                 65        \n",
      "=================================================================\n",
      "Total params: 17,985\n",
      "Trainable params: 17,985\n",
      "Non-trainable params: 0\n",
      "_________________________________________________________________\n"
     ]
    }
   ],
   "source": [
    "weighted_model = make_model()\n",
    "\n",
    "weighted_model.summary()"
   ]
  },
  {
   "cell_type": "code",
   "execution_count": 127,
   "metadata": {},
   "outputs": [
    {
     "name": "stdout",
     "output_type": "stream",
     "text": [
      "Train on 3538352 samples, validate on 1179451 samples\n",
      "Epoch 1/10\n",
      "3538352/3538352 [==============================] - 391s 111us/step - loss: 0.4961 - tp: 182974.0000 - fp: 1140943.0000 - tn: 2180909.0000 - fn: 33526.0000 - accuracy: 0.6681 - precision: 0.1382 - recall: 0.8451 - auc: 0.8252 - val_loss: 0.4965 - val_tp: 64505.0000 - val_fp: 318786.0000 - val_tn: 788498.0000 - val_fn: 7662.0000 - val_accuracy: 0.7232 - val_precision: 0.1683 - val_recall: 0.8938 - val_auc: 0.8688\n",
      "Epoch 2/10\n",
      "3538352/3538352 [==============================] - 380s 107us/step - loss: 0.4248 - tp: 191847.0000 - fp: 914331.0000 - tn: 2407521.0000 - fn: 24653.0000 - accuracy: 0.7346 - precision: 0.1734 - recall: 0.8861 - auc: 0.8726 - val_loss: 0.4626 - val_tp: 65440.0000 - val_fp: 314615.0000 - val_tn: 792669.0000 - val_fn: 6727.0000 - val_accuracy: 0.7275 - val_precision: 0.1722 - val_recall: 0.9068 - val_auc: 0.8817\n",
      "Epoch 3/10\n",
      "3538352/3538352 [==============================] - 385s 109us/step - loss: 0.4112 - tp: 192970.0000 - fp: 884778.0000 - tn: 2437074.0000 - fn: 23530.0000 - accuracy: 0.7433 - precision: 0.1790 - recall: 0.8913 - auc: 0.8815 - val_loss: 0.4262 - val_tp: 63998.0000 - val_fp: 273772.0000 - val_tn: 833512.0000 - val_fn: 8169.0000 - val_accuracy: 0.7610 - val_precision: 0.1895 - val_recall: 0.8868 - val_auc: 0.8891\n",
      "Epoch 4/10\n",
      "3538352/3538352 [==============================] - 417s 118us/step - loss: 0.4030 - tp: 193406.0000 - fp: 861168.0000 - tn: 2460684.0000 - fn: 23094.0000 - accuracy: 0.7501 - precision: 0.1834 - recall: 0.8933 - auc: 0.8867 - val_loss: 0.4336 - val_tp: 65466.0000 - val_fp: 288679.0000 - val_tn: 818605.0000 - val_fn: 6701.0000 - val_accuracy: 0.7496 - val_precision: 0.1849 - val_recall: 0.9071 - val_auc: 0.8940\n",
      "Epoch 5/10\n",
      "3538352/3538352 [==============================] - 442s 125us/step - loss: 0.3960 - tp: 193713.0000 - fp: 840780.0000 - tn: 2481072.0000 - fn: 22787.0000 - accuracy: 0.7559 - precision: 0.1873 - recall: 0.8947 - auc: 0.8915 - val_loss: 0.3993 - val_tp: 64176.0000 - val_fp: 263327.0000 - val_tn: 843957.0000 - val_fn: 7991.0000 - val_accuracy: 0.7700 - val_precision: 0.1960 - val_recall: 0.8893 - val_auc: 0.8970\n",
      "Epoch 6/10\n",
      "3538352/3538352 [==============================] - 412s 116us/step - loss: 0.3905 - tp: 193858.0000 - fp: 825670.0000 - tn: 2496182.0000 - fn: 22642.0000 - accuracy: 0.7603 - precision: 0.1901 - recall: 0.8954 - auc: 0.8950 - val_loss: 0.3977 - val_tp: 63003.0000 - val_fp: 255652.0000 - val_tn: 851632.0000 - val_fn: 9164.0000 - val_accuracy: 0.7755 - val_precision: 0.1977 - val_recall: 0.8730 - val_auc: 0.8941\n",
      "Epoch 7/10\n",
      "3538352/3538352 [==============================] - 367s 104us/step - loss: 0.3864 - tp: 193961.0000 - fp: 814330.0000 - tn: 2507522.0000 - fn: 22539.0000 - accuracy: 0.7635 - precision: 0.1924 - recall: 0.8959 - auc: 0.8975 - val_loss: 0.4633 - val_tp: 66223.0000 - val_fp: 294324.0000 - val_tn: 812960.0000 - val_fn: 5944.0000 - val_accuracy: 0.7454 - val_precision: 0.1837 - val_recall: 0.9176 - val_auc: 0.8985\n",
      "Epoch 8/10\n",
      "3538352/3538352 [==============================] - 366s 103us/step - loss: 0.3831 - tp: 193993.0000 - fp: 803967.0000 - tn: 2517885.0000 - fn: 22507.0000 - accuracy: 0.7664 - precision: 0.1944 - recall: 0.8960 - auc: 0.8995 - val_loss: 0.3842 - val_tp: 63340.0000 - val_fp: 242797.0000 - val_tn: 864487.0000 - val_fn: 8827.0000 - val_accuracy: 0.7867 - val_precision: 0.2069 - val_recall: 0.8777 - val_auc: 0.9031\n",
      "Epoch 9/10\n",
      "3538352/3538352 [==============================] - 338s 96us/step - loss: 0.3806 - tp: 193995.0000 - fp: 795282.0000 - tn: 2526570.0000 - fn: 22505.0000 - accuracy: 0.7689 - precision: 0.1961 - recall: 0.8961 - auc: 0.9012 - val_loss: 0.4192 - val_tp: 64879.0000 - val_fp: 264783.0000 - val_tn: 842501.0000 - val_fn: 7288.0000 - val_accuracy: 0.7693 - val_precision: 0.1968 - val_recall: 0.8990 - val_auc: 0.9024\n",
      "Epoch 10/10\n",
      "3538352/3538352 [==============================] - 339s 96us/step - loss: 0.3779 - tp: 194132.0000 - fp: 788963.0000 - tn: 2532889.0000 - fn: 22368.0000 - accuracy: 0.7707 - precision: 0.1975 - recall: 0.8967 - auc: 0.9026 - val_loss: 0.4420 - val_tp: 66155.0000 - val_fp: 283933.0000 - val_tn: 823351.0000 - val_fn: 6012.0000 - val_accuracy: 0.7542 - val_precision: 0.1890 - val_recall: 0.9167 - val_auc: 0.9039\n"
     ]
    }
   ],
   "source": [
    "weighted_history = weighted_model.fit(\n",
    "    X_train,\n",
    "    y_train.values,\n",
    "    batch_size=128,\n",
    "    epochs=10,\n",
    "    callbacks = [early_stopping],\n",
    "    validation_data=(X_val, y_val.values),\n",
    "    class_weight=class_weight,\n",
    "    verbose=1)"
   ]
  },
  {
   "cell_type": "markdown",
   "metadata": {},
   "source": [
    "The model performs worse than the xgboost model; Interestingly in one of my prototypes, I achieved an F1-Score of 0.34 with a mugh higher precision. No idea, what went wrong, when I transformed the model to this notebook. \n",
    "\n",
    "The train-validation curves won't show any overfitting. The precision is still quite bad. The model predicts too many False Positives. Also the model took too long for training. One LSTM layer less and probably a few nodes less would have been better. "
   ]
  },
  {
   "cell_type": "code",
   "execution_count": 128,
   "metadata": {},
   "outputs": [
    {
     "data": {
      "image/png": "[encoded data removed]",
      "text/plain": [
       "<Figure size 864x720 with 4 Axes>"
      ]
     },
     "metadata": {
      "needs_background": "light"
     },
     "output_type": "display_data"
    }
   ],
   "source": [
    "plot_metrics(weighted_history)"
   ]
  },
  {
   "cell_type": "code",
   "execution_count": 129,
   "metadata": {},
   "outputs": [],
   "source": [
    "y_hat = weighted_model.predict_classes(X_test, batch_size=128, verbose=0)"
   ]
  },
  {
   "cell_type": "code",
   "execution_count": 130,
   "metadata": {},
   "outputs": [
    {
     "data": {
      "text/html": [
       "<div>\n",
       "<style scoped>\n",
       "    .dataframe tbody tr th:only-of-type {\n",
       "        vertical-align: middle;\n",
       "    }\n",
       "\n",
       "    .dataframe tbody tr th {\n",
       "        vertical-align: top;\n",
       "    }\n",
       "\n",
       "    .dataframe thead th {\n",
       "        text-align: right;\n",
       "    }\n",
       "</style>\n",
       "<table border=\"1\" class=\"dataframe\">\n",
       "  <thead>\n",
       "    <tr style=\"text-align: right;\">\n",
       "      <th></th>\n",
       "      <th>no_text_item</th>\n",
       "      <th>text_item</th>\n",
       "    </tr>\n",
       "  </thead>\n",
       "  <tbody>\n",
       "    <tr>\n",
       "      <th>no_text_item</th>\n",
       "      <td>137626</td>\n",
       "      <td>991</td>\n",
       "    </tr>\n",
       "    <tr>\n",
       "      <th>text_item</th>\n",
       "      <td>59639</td>\n",
       "      <td>9083</td>\n",
       "    </tr>\n",
       "  </tbody>\n",
       "</table>\n",
       "</div>"
      ],
      "text/plain": [
       "              no_text_item  text_item\n",
       "no_text_item        137626        991\n",
       "text_item            59639       9083"
      ]
     },
     "execution_count": 130,
     "metadata": {},
     "output_type": "execute_result"
    }
   ],
   "source": [
    "pd.DataFrame(confusion_matrix(y_test, y_hat).T, columns=[\"no_text_item\",\"text_item\"], index=[\"no_text_item\",\"text_item\"])"
   ]
  },
  {
   "cell_type": "code",
   "execution_count": 131,
   "metadata": {},
   "outputs": [
    {
     "name": "stdout",
     "output_type": "stream",
     "text": [
      "loss :  0.5081379152304923\n",
      "tp :  9083.0\n",
      "fp :  59639.0\n",
      "tn :  137626.0\n",
      "fn :  991.0\n",
      "accuracy :  0.7075803279876709\n",
      "precision :  0.1321702003479004\n",
      "recall :  0.9016279578208923\n",
      "auc :  0.883576512336731\n"
     ]
    }
   ],
   "source": [
    "weighted_results = weighted_model.evaluate(X_test, y_test,\n",
    "                                           batch_size=256, verbose=0)\n",
    "for name, value in zip(weighted_model.metrics_names, weighted_results):\n",
    "    print(name, ': ', value)\n"
   ]
  },
  {
   "cell_type": "code",
   "execution_count": 132,
   "metadata": {},
   "outputs": [],
   "source": [
    "y_hat_prob = weighted_model.predict(X_test, batch_size=256)"
   ]
  },
  {
   "cell_type": "markdown",
   "metadata": {},
   "source": [
    "No time for a trade-off curve, I assume 0.6 like above. Highly speculative."
   ]
  },
  {
   "cell_type": "code",
   "execution_count": 133,
   "metadata": {},
   "outputs": [
    {
     "data": {
      "text/plain": [
       "0.2544464502382291"
      ]
     },
     "execution_count": 133,
     "metadata": {},
     "output_type": "execute_result"
    }
   ],
   "source": [
    "f1_score(y_test, y_hat_prob>0.6)"
   ]
  },
  {
   "cell_type": "code",
   "execution_count": 134,
   "metadata": {},
   "outputs": [
    {
     "data": {
      "text/plain": [
       "0.14950963344230367"
      ]
     },
     "execution_count": 134,
     "metadata": {},
     "output_type": "execute_result"
    }
   ],
   "source": [
    "precision_score(y_test, y_hat_prob>0.6)"
   ]
  },
  {
   "cell_type": "code",
   "execution_count": 135,
   "metadata": {},
   "outputs": [
    {
     "data": {
      "text/plain": [
       "0.8534842167957117"
      ]
     },
     "execution_count": 135,
     "metadata": {},
     "output_type": "execute_result"
    }
   ],
   "source": [
    "recall_score(y_test, y_hat_prob>0.6)"
   ]
  },
  {
   "cell_type": "code",
   "execution_count": null,
   "metadata": {},
   "outputs": [],
   "source": []
  }
 ],
 "metadata": {
  "kernelspec": {
   "display_name": "Python 3",
   "language": "python",
   "name": "python3"
  },
  "language_info": {
   "codemirror_mode": {
    "name": "ipython",
    "version": 3
   },
   "file_extension": ".py",
   "mimetype": "text/x-python",
   "name": "python",
   "nbconvert_exporter": "python",
   "pygments_lexer": "ipython3",
   "version": "3.7.7"
  }
 },
 "nbformat": 4,
 "nbformat_minor": 2
}
