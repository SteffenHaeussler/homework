{
 "cells": [
  {
   "cell_type": "code",
   "execution_count": 1,
   "metadata": {},
   "outputs": [],
   "source": [
    "from typing import Dict, List, Union\n",
    "\n",
    "import json\n",
    "\n",
    "import pandas as pd\n",
    "import numpy as np\n",
    "\n",
    "import matplotlib.pyplot as plt\n",
    "from pandas.plotting import scatter_matrix\n",
    "import seaborn as sns\n",
    "\n",
    "%matplotlib inline\n",
    "import matplotlib.pylab as pylab\n",
    "import matplotlib as mpl"
   ]
  },
  {
   "cell_type": "code",
   "execution_count": 2,
   "metadata": {},
   "outputs": [],
   "source": [
    "from sklearn.tree import DecisionTreeClassifier\n",
    "from sklearn.tree import export_graphviz\n",
    "\n",
    "from sklearn.metrics import confusion_matrix, f1_score, precision_score, recall_score\n",
    "from sklearn.metrics import precision_recall_curve, auc\n",
    "from sklearn.model_selection import cross_val_predict, cross_val_score, train_test_split, StratifiedKFold\n",
    "\n",
    "from sklearn.preprocessing import MinMaxScaler\n",
    "\n",
    "import xgboost as xgb"
   ]
  },
  {
   "cell_type": "code",
   "execution_count": 3,
   "metadata": {},
   "outputs": [
    {
     "name": "stderr",
     "output_type": "stream",
     "text": [
      "Using TensorFlow backend.\n"
     ]
    }
   ],
   "source": [
    "from keras.models import Sequential\n",
    "from keras.layers import Dense\n",
    "from keras.layers import Dropout\n",
    "from keras.layers import LSTM\n",
    "from keras.callbacks import EarlyStopping\n",
    "\n",
    "from keras.metrics import (TruePositives, FalsePositives, TrueNegatives, FalseNegatives, \n",
    "                           BinaryAccuracy, Precision, Recall, AUC)"
   ]
  },
  {
   "cell_type": "code",
   "execution_count": 4,
   "metadata": {},
   "outputs": [],
   "source": [
    "pylab.rcParams['figure.figsize'] = 10, 10\n",
    "colors = plt.rcParams['axes.prop_cycle'].by_key()['color']"
   ]
  },
  {
   "cell_type": "markdown",
   "metadata": {},
   "source": [
    "### Summary"
   ]
  },
  {
   "cell_type": "markdown",
   "metadata": {},
   "source": [
    "**First thoughts**\n",
    "\n",
    "The task is to classify the bounding box from the input invoice to a text item or not. \n",
    "\n",
    "Each invoice has several bounding boxes of different sizes. Also, an invoice can contain more than one page.\n",
    "\n",
    "Available data:\n",
    "- length of the bounding box value\n",
    "- relative location of the bounding box\n",
    "- a sequence of bounding boxes per invoice\n",
    "\n",
    "I would expect the text items: \n",
    "- are located on the left side of the page\n",
    "- are located somewhere between below the headers and the bottom of the first page, but on the 2nd page they are located all over the page\n",
    "- have a bigger bounding box than e.g. raw values; since items are more specified than e.g. the price\n",
    "- that there is a sequence of bounding boxes on the same y-coordinates with [item, no item, no item], and so on. Indicating, the text and then the price, taxes, and so on.\n",
    "\n",
    "This is only true for most german invoices. My experience lacks international invoices, but I assume, it will be the same for most of the countries using a Latin alphabet. "
   ]
  },
  {
   "cell_type": "markdown",
   "metadata": {},
   "source": [
    "**Steps**:\n",
    "\n",
    "The data is imbalanced. Every invoice has at least one text item, but only 5% of the provided bounding boxes are text items (ignoring the invoice id structure). The chosen metric for the classification is the F1-Score, which is calculated by precision and recall.\n",
    "\n",
    "I followed two approaches:\n",
    "\n",
    "- Train a tree & ensemble on the data. I try to add the sequence of bounding boxes for each id to get more information. This is also my fallback solution, if I fail with my other approach. Also, I will see, how good a text classification can be generalized by the position on a page. Here I also tried over- and undersampling of the data. Oversampling costs too much time in training and doesn't give any benefit in the F1-score. I discarded this approach.\n",
    "Under-sampling works well with a comparable good F1-Score. The prediction on the whole training dataset will still result in a low F1-Score. I assume, the data is noisy and there need some additional steps found before the bbox classificition.\n",
    "\n",
    "- Training an LSTM, which takes the sequence of the bounding boxes into considerations. For me, it was unclear, if I can get to a running model and if, how well will it perform. Also, the training of my last LSTM is a while ago and for my current project of implementing deep learning models from scratch, LSTMs will be done next week. So I'm currently renewing my expertise. Also I introduce weights based on the amount of the labels in the data. My approach here has many short-comings, but in my overnight training, I got a model, which outperforms the XGBoost model. So I tried to add the code here, but there is somewhere an error."
   ]
  },
  {
   "cell_type": "markdown",
   "metadata": {},
   "source": [
    "**Results** on the test set are:\n",
    "\n",
    "XGBoost:\n",
    "- F1: 0.30\n",
    "- Precision: 0.20\n",
    "- Recall: 0.61\n",
    "\n",
    "LSTM:\n",
    "- F1: 0.53\n",
    "- Precision: 0.47\n",
    "- Recall: 0.59\n",
    "\n",
    "The precision is in both models bad. There are too many False Positives, non-text items classified as text-items. \n",
    "One reason is, that the data is \"noisy\", as seen in the pair plots. The recall is good, but there are too many False Positives in the prediction, which means, there had to be much more cleaning in the end. Adding the previous and following bbox to a prediction give a small boost in the F1-Score. But in the end, it is still not good enough.\n",
    "\n",
    "**Future steps** to improve the models is:\n",
    "\n",
    "- feature engineering - I didn't spend much time here, but just counting elements in specific areas could be an improvement. One goal could be to get a classification of the type of invoice itself.. \n",
    "\n",
    "- invoice classification - there are different types of invoices, probably\n",
    "\n",
    "- thinking in calm about the problem. It still can be, that I missed something very obvious. probably I messed up at feature engineering or data preparation. There are a lot more possibilities beyond the applied bbox volume.\n",
    "\n",
    "- doing research; I'm definitely not the first, who works on this kind of sequential problem. There should be some papers, just to collect more ideas.\n",
    "\n",
    "- model improvement: the LSTM needs definitely more time; probably longer sequences, more features. Since this is a very very early prototype, I'm surprised that the model won't predict only zeros (as most of my prototypes did). "
   ]
  },
  {
   "cell_type": "markdown",
   "metadata": {},
   "source": [
    "1) What is good measure for classification accuracy? \n",
    "\n",
    "- imbalanced data; F1-Score, PR-AUC.\n",
    "I will go for the  F1-Score, since a high precision or a high recall is not useful here, they just will end up in more manual work (cleaning) . The precision-recall curve can also be used for imbalanced data, therefor the PR-AUC can be a useful metric.\n",
    "\n",
    "2) What are possible shortcomings and extensions of your implementation? \n",
    "\n",
    "\n",
    "- no proper cross-validation for the xgboost with hyperparameter search. Needs definetly a fix. I focused too much an model preparation for imbalanced data (under- and oversampling), prototyping different models than doing one thing right.\n",
    "- A shortcoming is the low F1-score\n",
    "- I need to find a more suitable model to represent the data structure for each invoice. I guessed an LSTM/RNN will handle this kind of data, but my prototype wasn't convincing. Probably some simpler models can help as a first step. For a tree approach, there should be more time spent in feature engineering, but my intuition says, that trees won't help with this structure. My LSTM is one whole shortcoming. It needs improvement in model architecture, data preparation (features and sequences), initialization, and so on.\n",
    "\n",
    "- the values could give probably more information; e.g. if the item is a text or a number / nlp\n",
    "\n",
    "- next step would be to revisit all my findings and my approaches. I put too much effort in different approaches than to think very deep about the problem. Normally the interesting ideas come, when the low-hanging fruits fail. :)\n",
    "\n",
    "\n",
    "3) How would you design a real-time performance system that responds to a high volume of prediction requests efficiently.  \n",
    "\n",
    "- I always deployed my models via flask, gunicorn, docker on k8s. This is normally scalable, but it always depends on the traffic volume. The model itself: I prefer small models with fewer preparation steps and a fast prediction. This normally hurts accuracy. For my examples, none of the models is production-ready by the metrics. If prediction time is the constraint, I would go for the XGboost."
   ]
  },
  {
   "cell_type": "markdown",
   "metadata": {},
   "source": [
    "### Data pipeline"
   ]
  },
  {
   "cell_type": "markdown",
   "metadata": {},
   "source": [
    "Basically I take the json files and convert it into a csv file. \n",
    "\n",
    "I merge words and entitites by invoice id, page number and indices.\n",
    "\n",
    "data is not cleaned.\n",
    "\n",
    "The available raw data is split in words and entities. \n",
    "The words data includes the OCR detection of the text value and the according location of the bounding box on the page.\n",
    "The entities data specifies the value of the words data. So it keeps the information, if the bounding box is an item or not. "
   ]
  },
  {
   "cell_type": "markdown",
   "metadata": {},
   "source": [
    "The helpers function is my repo"
   ]
  },
  {
   "cell_type": "code",
   "execution_count": null,
   "metadata": {},
   "outputs": [],
   "source": [
    "import helpers"
   ]
  },
  {
   "cell_type": "code",
   "execution_count": null,
   "metadata": {},
   "outputs": [],
   "source": [
    "files = [\"hypatos-ds-train\", \"hypatos-ds-test\"]"
   ]
  },
  {
   "cell_type": "code",
   "execution_count": null,
   "metadata": {},
   "outputs": [],
   "source": [
    "#todo: get rid of the hard-coded column names; introduce a config file \n",
    "for file in files:\n",
    "    helpers.data_preparation_strategy(file)"
   ]
  },
  {
   "cell_type": "markdown",
   "metadata": {},
   "source": [
    "### Cleaning and preparation"
   ]
  },
  {
   "cell_type": "code",
   "execution_count": 78,
   "metadata": {},
   "outputs": [],
   "source": [
    "class Transformer(object):\n",
    "\n",
    "    def __init__(self, strategy):\n",
    "\n",
    "        self.strategy = strategy\n",
    "\n",
    "    def fit_transform(self, data):\n",
    "\n",
    "        for transform in self.strategy:\n",
    "            data = transform(data)\n",
    "\n",
    "        return data"
   ]
  },
  {
   "cell_type": "code",
   "execution_count": 79,
   "metadata": {},
   "outputs": [],
   "source": [
    "def drop_columns(data: pd.DataFrame) -> pd.DataFrame:\n",
    "    return data.drop([\"metaData.region.page\", \"n_idx_item\"], axis=1)\n",
    "\n",
    "\n",
    "def fill_nan(data: pd.DataFrame) -> pd.DataFrame:\n",
    "    return data.fillna(0)\n",
    "\n",
    "\n",
    "def encode_label(data):\n",
    "    \n",
    "    data[\"label\"] = data[\"label\"].replace(\"item\", 1)\n",
    "    \n",
    "    return data"
   ]
  },
  {
   "cell_type": "code",
   "execution_count": 80,
   "metadata": {},
   "outputs": [],
   "source": [
    "def remove_pages_with_no_text(data):\n",
    "\n",
    "    items_per_page_id = data.groupby([\"id\", \"region.page\"])[\"label\"].sum().reset_index()\n",
    "    remove_from_training = items_per_page_id[items_per_page_id.label == 0]\n",
    "\n",
    "    remove_idx = []\n",
    "\n",
    "    for _, row in remove_from_training.iterrows():\n",
    "        remove_idx.extend(data[(data[\"id\"] == row[\"id\"]) & (data[\"region.page\"] == row[\"region.page\"])].index)\n",
    "\n",
    "    data = data[~data.index.isin(remove_idx)]\n",
    "    \n",
    "    del [items_per_page_id, remove_from_training, remove_idx]\n",
    "\n",
    "    return data"
   ]
  },
  {
   "cell_type": "code",
   "execution_count": 81,
   "metadata": {},
   "outputs": [],
   "source": [
    "def preprocessing(data, only_train=False):\n",
    "    \n",
    "    preprocessting_strategy = [drop_columns,\n",
    "                                 fill_nan,\n",
    "                                 encode_label,\n",
    "                                ]\n",
    "\n",
    "    feature_creator = Transformer(preprocessting_strategy)\n",
    "    data = feature_creator.fit_transform(data)\n",
    "    \n",
    "    if only_train:\n",
    "        \n",
    "        data_cleaning_strategy = [remove_pages_with_no_text]\n",
    "        data_cleaner = Transformer(data_cleaning_strategy)\n",
    "        data = data_cleaner.fit_transform(data)\n",
    "\n",
    "    return data"
   ]
  },
  {
   "cell_type": "code",
   "execution_count": 82,
   "metadata": {},
   "outputs": [],
   "source": [
    "train = pd.read_csv(\"hypatos-ds-train.csv\")\n",
    "test = pd.read_csv(\"hypatos-ds-test.csv\")"
   ]
  },
  {
   "cell_type": "code",
   "execution_count": 83,
   "metadata": {},
   "outputs": [],
   "source": [
    "train = preprocessing(train, True)\n",
    "test = preprocessing(test)"
   ]
  },
  {
   "cell_type": "markdown",
   "metadata": {},
   "source": [
    "the label feature has two value, item and None. So this will be our classifier.\n"
   ]
  },
  {
   "cell_type": "markdown",
   "metadata": {},
   "source": [
    "The metaData.region.page is identical with the region page, so it can also be dropped.\n",
    "The n_idx_item is information I extracted from the entities data and counts the number of words in one entity dict. We won't have this information for the model training, so it also can be dropped."
   ]
  },
  {
   "cell_type": "markdown",
   "metadata": {},
   "source": [
    "## EDA"
   ]
  },
  {
   "cell_type": "markdown",
   "metadata": {},
   "source": [
    "We have around 6 million bounding boxes from 24000 invoices with around 290000 text items. Around 5 % of the data is a text item. This is very inbalanced. "
   ]
  },
  {
   "cell_type": "code",
   "execution_count": 84,
   "metadata": {},
   "outputs": [
    {
     "data": {
      "text/plain": [
       "(4717803, 9)"
      ]
     },
     "execution_count": 84,
     "metadata": {},
     "output_type": "execute_result"
    }
   ],
   "source": [
    "train.shape"
   ]
  },
  {
   "cell_type": "code",
   "execution_count": 85,
   "metadata": {},
   "outputs": [
    {
     "data": {
      "text/html": [
       "<div>\n",
       "<style scoped>\n",
       "    .dataframe tbody tr th:only-of-type {\n",
       "        vertical-align: middle;\n",
       "    }\n",
       "\n",
       "    .dataframe tbody tr th {\n",
       "        vertical-align: top;\n",
       "    }\n",
       "\n",
       "    .dataframe thead th {\n",
       "        text-align: right;\n",
       "    }\n",
       "</style>\n",
       "<table border=\"1\" class=\"dataframe\">\n",
       "  <thead>\n",
       "    <tr style=\"text-align: right;\">\n",
       "      <th></th>\n",
       "      <th>value</th>\n",
       "      <th>region.left</th>\n",
       "      <th>region.top</th>\n",
       "      <th>region.width</th>\n",
       "      <th>region.height</th>\n",
       "      <th>region.page</th>\n",
       "      <th>id</th>\n",
       "      <th>indices</th>\n",
       "      <th>label</th>\n",
       "    </tr>\n",
       "  </thead>\n",
       "  <tbody>\n",
       "    <tr>\n",
       "      <th>0</th>\n",
       "      <td>U1Raiug=</td>\n",
       "      <td>0.371253</td>\n",
       "      <td>0.020022</td>\n",
       "      <td>0.025749</td>\n",
       "      <td>0.015017</td>\n",
       "      <td>1</td>\n",
       "      <td>83132716</td>\n",
       "      <td>0</td>\n",
       "      <td>0</td>\n",
       "    </tr>\n",
       "    <tr>\n",
       "      <th>1</th>\n",
       "      <td>WC8whnZ1fnk=</td>\n",
       "      <td>0.345503</td>\n",
       "      <td>0.033092</td>\n",
       "      <td>0.224058</td>\n",
       "      <td>0.028087</td>\n",
       "      <td>1</td>\n",
       "      <td>83132716</td>\n",
       "      <td>1</td>\n",
       "      <td>0</td>\n",
       "    </tr>\n",
       "    <tr>\n",
       "      <th>2</th>\n",
       "      <td>Lg==</td>\n",
       "      <td>0.345503</td>\n",
       "      <td>0.050334</td>\n",
       "      <td>0.039201</td>\n",
       "      <td>0.017798</td>\n",
       "      <td>1</td>\n",
       "      <td>83132716</td>\n",
       "      <td>2</td>\n",
       "      <td>0</td>\n",
       "    </tr>\n",
       "    <tr>\n",
       "      <th>3</th>\n",
       "      <td>d354fYR1ew==</td>\n",
       "      <td>0.406995</td>\n",
       "      <td>0.062291</td>\n",
       "      <td>0.048040</td>\n",
       "      <td>0.005840</td>\n",
       "      <td>1</td>\n",
       "      <td>83132716</td>\n",
       "      <td>3</td>\n",
       "      <td>0</td>\n",
       "    </tr>\n",
       "    <tr>\n",
       "      <th>4</th>\n",
       "      <td>Vw==</td>\n",
       "      <td>0.463874</td>\n",
       "      <td>0.062291</td>\n",
       "      <td>0.007302</td>\n",
       "      <td>0.005562</td>\n",
       "      <td>1</td>\n",
       "      <td>83132716</td>\n",
       "      <td>4</td>\n",
       "      <td>0</td>\n",
       "    </tr>\n",
       "    <tr>\n",
       "      <th>...</th>\n",
       "      <td>...</td>\n",
       "      <td>...</td>\n",
       "      <td>...</td>\n",
       "      <td>...</td>\n",
       "      <td>...</td>\n",
       "      <td>...</td>\n",
       "      <td>...</td>\n",
       "      <td>...</td>\n",
       "      <td>...</td>\n",
       "    </tr>\n",
       "    <tr>\n",
       "      <th>5991774</th>\n",
       "      <td>YWhmZA==</td>\n",
       "      <td>0.457143</td>\n",
       "      <td>0.965558</td>\n",
       "      <td>0.023529</td>\n",
       "      <td>0.004751</td>\n",
       "      <td>1</td>\n",
       "      <td>510220123</td>\n",
       "      <td>265</td>\n",
       "      <td>0</td>\n",
       "    </tr>\n",
       "    <tr>\n",
       "      <th>5991775</th>\n",
       "      <td>YmZraQ==</td>\n",
       "      <td>0.484034</td>\n",
       "      <td>0.965558</td>\n",
       "      <td>0.021849</td>\n",
       "      <td>0.004751</td>\n",
       "      <td>1</td>\n",
       "      <td>510220123</td>\n",
       "      <td>266</td>\n",
       "      <td>0</td>\n",
       "    </tr>\n",
       "    <tr>\n",
       "      <th>5991776</th>\n",
       "      <td>YWRf</td>\n",
       "      <td>0.509244</td>\n",
       "      <td>0.965558</td>\n",
       "      <td>0.015126</td>\n",
       "      <td>0.004751</td>\n",
       "      <td>1</td>\n",
       "      <td>510220123</td>\n",
       "      <td>267</td>\n",
       "      <td>0</td>\n",
       "    </tr>\n",
       "    <tr>\n",
       "      <th>5991777</th>\n",
       "      <td>c3t2</td>\n",
       "      <td>0.526050</td>\n",
       "      <td>0.965558</td>\n",
       "      <td>0.015126</td>\n",
       "      <td>0.004751</td>\n",
       "      <td>1</td>\n",
       "      <td>510220123</td>\n",
       "      <td>268</td>\n",
       "      <td>0</td>\n",
       "    </tr>\n",
       "    <tr>\n",
       "      <th>5991778</th>\n",
       "      <td>dIF1dXV3e3yJios=</td>\n",
       "      <td>0.544538</td>\n",
       "      <td>0.965558</td>\n",
       "      <td>0.070588</td>\n",
       "      <td>0.004751</td>\n",
       "      <td>1</td>\n",
       "      <td>510220123</td>\n",
       "      <td>269</td>\n",
       "      <td>0</td>\n",
       "    </tr>\n",
       "  </tbody>\n",
       "</table>\n",
       "<p>4717803 rows × 9 columns</p>\n",
       "</div>"
      ],
      "text/plain": [
       "                    value  region.left  region.top  region.width  \\\n",
       "0                U1Raiug=     0.371253    0.020022      0.025749   \n",
       "1            WC8whnZ1fnk=     0.345503    0.033092      0.224058   \n",
       "2                    Lg==     0.345503    0.050334      0.039201   \n",
       "3            d354fYR1ew==     0.406995    0.062291      0.048040   \n",
       "4                    Vw==     0.463874    0.062291      0.007302   \n",
       "...                   ...          ...         ...           ...   \n",
       "5991774          YWhmZA==     0.457143    0.965558      0.023529   \n",
       "5991775          YmZraQ==     0.484034    0.965558      0.021849   \n",
       "5991776              YWRf     0.509244    0.965558      0.015126   \n",
       "5991777              c3t2     0.526050    0.965558      0.015126   \n",
       "5991778  dIF1dXV3e3yJios=     0.544538    0.965558      0.070588   \n",
       "\n",
       "         region.height  region.page         id  indices  label  \n",
       "0             0.015017            1   83132716        0      0  \n",
       "1             0.028087            1   83132716        1      0  \n",
       "2             0.017798            1   83132716        2      0  \n",
       "3             0.005840            1   83132716        3      0  \n",
       "4             0.005562            1   83132716        4      0  \n",
       "...                ...          ...        ...      ...    ...  \n",
       "5991774       0.004751            1  510220123      265      0  \n",
       "5991775       0.004751            1  510220123      266      0  \n",
       "5991776       0.004751            1  510220123      267      0  \n",
       "5991777       0.004751            1  510220123      268      0  \n",
       "5991778       0.004751            1  510220123      269      0  \n",
       "\n",
       "[4717803 rows x 9 columns]"
      ]
     },
     "execution_count": 85,
     "metadata": {},
     "output_type": "execute_result"
    }
   ],
   "source": [
    "train"
   ]
  },
  {
   "cell_type": "code",
   "execution_count": 86,
   "metadata": {},
   "outputs": [
    {
     "data": {
      "text/plain": [
       "0    4429136\n",
       "1     288667\n",
       "Name: label, dtype: int64"
      ]
     },
     "execution_count": 86,
     "metadata": {},
     "output_type": "execute_result"
    }
   ],
   "source": [
    "train.label.value_counts()"
   ]
  },
  {
   "cell_type": "code",
   "execution_count": 87,
   "metadata": {},
   "outputs": [
    {
     "data": {
      "text/plain": [
       "6.118674306663504"
      ]
     },
     "execution_count": 87,
     "metadata": {},
     "output_type": "execute_result"
    }
   ],
   "source": [
    "100*288667/train.shape[0]"
   ]
  },
  {
   "cell_type": "markdown",
   "metadata": {},
   "source": [
    "Every document has at least one text item. Also 1 % of the documents, has more then 100 items. This is possible, since some documents have several pages. But in case of an error, I would check with against the real data. It still could be, that the OCR system had some issues."
   ]
  },
  {
   "cell_type": "code",
   "execution_count": 88,
   "metadata": {},
   "outputs": [
    {
     "data": {
      "text/plain": [
       "1    4339214\n",
       "2     284231\n",
       "3      66627\n",
       "4      20233\n",
       "5       4550\n",
       "6       1651\n",
       "7        882\n",
       "8        415\n",
       "Name: region.page, dtype: int64"
      ]
     },
     "execution_count": 88,
     "metadata": {},
     "output_type": "execute_result"
    }
   ],
   "source": [
    "train[\"region.page\"].value_counts()"
   ]
  },
  {
   "cell_type": "code",
   "execution_count": 89,
   "metadata": {},
   "outputs": [],
   "source": [
    "items_per_id = train.groupby([\"id\"])[\"label\"].sum().reset_index()"
   ]
  },
  {
   "cell_type": "code",
   "execution_count": 90,
   "metadata": {},
   "outputs": [
    {
     "data": {
      "text/plain": [
       "count    24073.000000\n",
       "mean        11.991318\n",
       "std         22.140643\n",
       "min          1.000000\n",
       "1%           1.000000\n",
       "5%           1.000000\n",
       "10%          2.000000\n",
       "20%          3.000000\n",
       "50%          6.000000\n",
       "80%         15.000000\n",
       "90%         24.000000\n",
       "95%         39.000000\n",
       "99%        102.000000\n",
       "max        692.000000\n",
       "Name: label, dtype: float64"
      ]
     },
     "execution_count": 90,
     "metadata": {},
     "output_type": "execute_result"
    }
   ],
   "source": [
    "items_per_id['label'].describe(percentiles=[0.01, 0.05, 0.1, 0.2, 0.8, 0.9, 0.95, 0.99])"
   ]
  },
  {
   "cell_type": "code",
   "execution_count": 91,
   "metadata": {},
   "outputs": [],
   "source": [
    "items_per_page_id = train.groupby([\"id\", \"region.page\"])[\"label\"].sum().reset_index()"
   ]
  },
  {
   "cell_type": "code",
   "execution_count": 92,
   "metadata": {},
   "outputs": [
    {
     "data": {
      "text/plain": [
       "count    25409.000000\n",
       "mean        11.360817\n",
       "std         16.231832\n",
       "min          1.000000\n",
       "1%           1.000000\n",
       "5%           1.000000\n",
       "10%          2.000000\n",
       "20%          3.000000\n",
       "50%          6.000000\n",
       "80%         15.000000\n",
       "90%         25.000000\n",
       "95%         39.000000\n",
       "99%         82.000000\n",
       "max        316.000000\n",
       "Name: label, dtype: float64"
      ]
     },
     "execution_count": 92,
     "metadata": {},
     "output_type": "execute_result"
    }
   ],
   "source": [
    "items_per_page_id['label'].describe(percentiles=[0.01, 0.05, 0.1, 0.2, 0.8, 0.9, 0.95, 0.99])"
   ]
  },
  {
   "cell_type": "code",
   "execution_count": 93,
   "metadata": {},
   "outputs": [
    {
     "data": {
      "text/plain": [
       "1    23457\n",
       "2     1473\n",
       "3      320\n",
       "4      110\n",
       "5       28\n",
       "6       11\n",
       "7        7\n",
       "8        3\n",
       "Name: region.page, dtype: int64"
      ]
     },
     "execution_count": 93,
     "metadata": {},
     "output_type": "execute_result"
    }
   ],
   "source": [
    "items_per_page_id[\"region.page\"].value_counts()"
   ]
  },
  {
   "cell_type": "markdown",
   "metadata": {},
   "source": [
    "Also from the invoices, there are around 20 % of the pages without any text item. This is important information, since I wouldn't have expect such a high amount of non-text item pages. I will remove it to speed up training. This pages don't contain any information and probably will add only noise to the training."
   ]
  },
  {
   "cell_type": "code",
   "execution_count": 94,
   "metadata": {},
   "outputs": [
    {
     "data": {
      "text/plain": [
       "0    4429136\n",
       "1     288667\n",
       "Name: label, dtype: int64"
      ]
     },
     "execution_count": 94,
     "metadata": {},
     "output_type": "execute_result"
    }
   ],
   "source": [
    "train.label.value_counts()"
   ]
  },
  {
   "cell_type": "code",
   "execution_count": 95,
   "metadata": {},
   "outputs": [
    {
     "data": {
      "text/plain": [
       "6.118674306663504"
      ]
     },
     "execution_count": 95,
     "metadata": {},
     "output_type": "execute_result"
    }
   ],
   "source": [
    "100*288667/train.shape[0]"
   ]
  },
  {
   "cell_type": "code",
   "execution_count": 96,
   "metadata": {},
   "outputs": [
    {
     "data": {
      "text/plain": [
       "Text(0.5, 1.0, 'Class Distributions \\n (0: no text item || 1: text item)')"
      ]
     },
     "execution_count": 96,
     "metadata": {},
     "output_type": "execute_result"
    },
    {
     "data": {
      "image/png": "[encoded data removed]",
      "text/plain": [
       "<Figure size 720x720 with 1 Axes>"
      ]
     },
     "metadata": {
      "needs_background": "light"
     },
     "output_type": "display_data"
    }
   ],
   "source": [
    "sns.countplot('label', data=train)\n",
    "plt.title('Class Distributions \\n (0: no text item || 1: text item)', fontsize=14)"
   ]
  },
  {
   "cell_type": "code",
   "execution_count": 97,
   "metadata": {},
   "outputs": [
    {
     "data": {
      "text/html": [
       "<div>\n",
       "<style scoped>\n",
       "    .dataframe tbody tr th:only-of-type {\n",
       "        vertical-align: middle;\n",
       "    }\n",
       "\n",
       "    .dataframe tbody tr th {\n",
       "        vertical-align: top;\n",
       "    }\n",
       "\n",
       "    .dataframe thead th {\n",
       "        text-align: right;\n",
       "    }\n",
       "</style>\n",
       "<table border=\"1\" class=\"dataframe\">\n",
       "  <thead>\n",
       "    <tr style=\"text-align: right;\">\n",
       "      <th></th>\n",
       "      <th>value</th>\n",
       "      <th>region.left</th>\n",
       "      <th>region.top</th>\n",
       "      <th>region.width</th>\n",
       "      <th>region.height</th>\n",
       "      <th>region.page</th>\n",
       "      <th>id</th>\n",
       "      <th>indices</th>\n",
       "      <th>label</th>\n",
       "    </tr>\n",
       "  </thead>\n",
       "  <tbody>\n",
       "    <tr>\n",
       "      <th>count</th>\n",
       "      <td>4429136</td>\n",
       "      <td>4.429136e+06</td>\n",
       "      <td>4.429136e+06</td>\n",
       "      <td>4.429136e+06</td>\n",
       "      <td>4.429136e+06</td>\n",
       "      <td>4.429136e+06</td>\n",
       "      <td>4.429136e+06</td>\n",
       "      <td>4.429136e+06</td>\n",
       "      <td>4429136.0</td>\n",
       "    </tr>\n",
       "    <tr>\n",
       "      <th>unique</th>\n",
       "      <td>501438</td>\n",
       "      <td>NaN</td>\n",
       "      <td>NaN</td>\n",
       "      <td>NaN</td>\n",
       "      <td>NaN</td>\n",
       "      <td>NaN</td>\n",
       "      <td>NaN</td>\n",
       "      <td>NaN</td>\n",
       "      <td>NaN</td>\n",
       "    </tr>\n",
       "    <tr>\n",
       "      <th>top</th>\n",
       "      <td>3Q==</td>\n",
       "      <td>NaN</td>\n",
       "      <td>NaN</td>\n",
       "      <td>NaN</td>\n",
       "      <td>NaN</td>\n",
       "      <td>NaN</td>\n",
       "      <td>NaN</td>\n",
       "      <td>NaN</td>\n",
       "      <td>NaN</td>\n",
       "    </tr>\n",
       "    <tr>\n",
       "      <th>freq</th>\n",
       "      <td>64106</td>\n",
       "      <td>NaN</td>\n",
       "      <td>NaN</td>\n",
       "      <td>NaN</td>\n",
       "      <td>NaN</td>\n",
       "      <td>NaN</td>\n",
       "      <td>NaN</td>\n",
       "      <td>NaN</td>\n",
       "      <td>NaN</td>\n",
       "    </tr>\n",
       "    <tr>\n",
       "      <th>mean</th>\n",
       "      <td>NaN</td>\n",
       "      <td>4.469610e-01</td>\n",
       "      <td>5.419293e-01</td>\n",
       "      <td>4.525161e-02</td>\n",
       "      <td>7.777829e-03</td>\n",
       "      <td>1.103981e+00</td>\n",
       "      <td>2.715374e+08</td>\n",
       "      <td>1.357077e+02</td>\n",
       "      <td>0.0</td>\n",
       "    </tr>\n",
       "    <tr>\n",
       "      <th>std</th>\n",
       "      <td>NaN</td>\n",
       "      <td>2.594692e-01</td>\n",
       "      <td>2.786358e-01</td>\n",
       "      <td>3.872087e-02</td>\n",
       "      <td>3.223811e-03</td>\n",
       "      <td>4.152080e-01</td>\n",
       "      <td>1.254780e+08</td>\n",
       "      <td>1.403100e+02</td>\n",
       "      <td>0.0</td>\n",
       "    </tr>\n",
       "    <tr>\n",
       "      <th>min</th>\n",
       "      <td>NaN</td>\n",
       "      <td>-4.151261e-01</td>\n",
       "      <td>-4.274673e+00</td>\n",
       "      <td>0.000000e+00</td>\n",
       "      <td>-4.156770e-02</td>\n",
       "      <td>1.000000e+00</td>\n",
       "      <td>7.143602e+07</td>\n",
       "      <td>0.000000e+00</td>\n",
       "      <td>0.0</td>\n",
       "    </tr>\n",
       "    <tr>\n",
       "      <th>1%</th>\n",
       "      <td>NaN</td>\n",
       "      <td>4.923135e-02</td>\n",
       "      <td>5.085714e-02</td>\n",
       "      <td>2.001601e-03</td>\n",
       "      <td>1.141227e-03</td>\n",
       "      <td>1.000000e+00</td>\n",
       "      <td>7.460892e+07</td>\n",
       "      <td>1.000000e+00</td>\n",
       "      <td>0.0</td>\n",
       "    </tr>\n",
       "    <tr>\n",
       "      <th>5%</th>\n",
       "      <td>NaN</td>\n",
       "      <td>9.411765e-02</td>\n",
       "      <td>1.212034e-01</td>\n",
       "      <td>6.449012e-03</td>\n",
       "      <td>4.750594e-03</td>\n",
       "      <td>1.000000e+00</td>\n",
       "      <td>8.778061e+07</td>\n",
       "      <td>9.000000e+00</td>\n",
       "      <td>0.0</td>\n",
       "    </tr>\n",
       "    <tr>\n",
       "      <th>10%</th>\n",
       "      <td>NaN</td>\n",
       "      <td>1.176471e-01</td>\n",
       "      <td>1.701510e-01</td>\n",
       "      <td>1.008403e-02</td>\n",
       "      <td>5.050505e-03</td>\n",
       "      <td>1.000000e+00</td>\n",
       "      <td>1.086045e+08</td>\n",
       "      <td>1.800000e+01</td>\n",
       "      <td>0.0</td>\n",
       "    </tr>\n",
       "    <tr>\n",
       "      <th>20%</th>\n",
       "      <td>NaN</td>\n",
       "      <td>1.744597e-01</td>\n",
       "      <td>2.464014e-01</td>\n",
       "      <td>1.797386e-02</td>\n",
       "      <td>5.945303e-03</td>\n",
       "      <td>1.000000e+00</td>\n",
       "      <td>1.432681e+08</td>\n",
       "      <td>3.800000e+01</td>\n",
       "      <td>0.0</td>\n",
       "    </tr>\n",
       "    <tr>\n",
       "      <th>50%</th>\n",
       "      <td>NaN</td>\n",
       "      <td>4.220701e-01</td>\n",
       "      <td>5.303293e-01</td>\n",
       "      <td>3.590157e-02</td>\n",
       "      <td>7.386364e-03</td>\n",
       "      <td>1.000000e+00</td>\n",
       "      <td>2.679746e+08</td>\n",
       "      <td>1.020000e+02</td>\n",
       "      <td>0.0</td>\n",
       "    </tr>\n",
       "    <tr>\n",
       "      <th>80%</th>\n",
       "      <td>NaN</td>\n",
       "      <td>7.234558e-01</td>\n",
       "      <td>8.669332e-01</td>\n",
       "      <td>6.722689e-02</td>\n",
       "      <td>9.333333e-03</td>\n",
       "      <td>1.000000e+00</td>\n",
       "      <td>3.875082e+08</td>\n",
       "      <td>1.960000e+02</td>\n",
       "      <td>0.0</td>\n",
       "    </tr>\n",
       "    <tr>\n",
       "      <th>90%</th>\n",
       "      <td>NaN</td>\n",
       "      <td>8.139348e-01</td>\n",
       "      <td>9.286564e-01</td>\n",
       "      <td>8.977456e-02</td>\n",
       "      <td>1.052332e-02</td>\n",
       "      <td>1.000000e+00</td>\n",
       "      <td>4.542904e+08</td>\n",
       "      <td>2.730000e+02</td>\n",
       "      <td>0.0</td>\n",
       "    </tr>\n",
       "    <tr>\n",
       "      <th>95%</th>\n",
       "      <td>NaN</td>\n",
       "      <td>8.644615e-01</td>\n",
       "      <td>9.475634e-01</td>\n",
       "      <td>1.128514e-01</td>\n",
       "      <td>1.176471e-02</td>\n",
       "      <td>2.000000e+00</td>\n",
       "      <td>4.771689e+08</td>\n",
       "      <td>3.790000e+02</td>\n",
       "      <td>0.0</td>\n",
       "    </tr>\n",
       "    <tr>\n",
       "      <th>99%</th>\n",
       "      <td>NaN</td>\n",
       "      <td>9.189113e-01</td>\n",
       "      <td>9.690844e-01</td>\n",
       "      <td>1.731092e-01</td>\n",
       "      <td>1.781473e-02</td>\n",
       "      <td>3.000000e+00</td>\n",
       "      <td>5.098698e+08</td>\n",
       "      <td>7.360000e+02</td>\n",
       "      <td>0.0</td>\n",
       "    </tr>\n",
       "    <tr>\n",
       "      <th>max</th>\n",
       "      <td>NaN</td>\n",
       "      <td>4.156303e+00</td>\n",
       "      <td>2.388823e+00</td>\n",
       "      <td>1.462185e+00</td>\n",
       "      <td>4.506540e-01</td>\n",
       "      <td>8.000000e+00</td>\n",
       "      <td>5.150723e+08</td>\n",
       "      <td>1.724000e+03</td>\n",
       "      <td>0.0</td>\n",
       "    </tr>\n",
       "  </tbody>\n",
       "</table>\n",
       "</div>"
      ],
      "text/plain": [
       "          value   region.left    region.top  region.width  region.height  \\\n",
       "count   4429136  4.429136e+06  4.429136e+06  4.429136e+06   4.429136e+06   \n",
       "unique   501438           NaN           NaN           NaN            NaN   \n",
       "top        3Q==           NaN           NaN           NaN            NaN   \n",
       "freq      64106           NaN           NaN           NaN            NaN   \n",
       "mean        NaN  4.469610e-01  5.419293e-01  4.525161e-02   7.777829e-03   \n",
       "std         NaN  2.594692e-01  2.786358e-01  3.872087e-02   3.223811e-03   \n",
       "min         NaN -4.151261e-01 -4.274673e+00  0.000000e+00  -4.156770e-02   \n",
       "1%          NaN  4.923135e-02  5.085714e-02  2.001601e-03   1.141227e-03   \n",
       "5%          NaN  9.411765e-02  1.212034e-01  6.449012e-03   4.750594e-03   \n",
       "10%         NaN  1.176471e-01  1.701510e-01  1.008403e-02   5.050505e-03   \n",
       "20%         NaN  1.744597e-01  2.464014e-01  1.797386e-02   5.945303e-03   \n",
       "50%         NaN  4.220701e-01  5.303293e-01  3.590157e-02   7.386364e-03   \n",
       "80%         NaN  7.234558e-01  8.669332e-01  6.722689e-02   9.333333e-03   \n",
       "90%         NaN  8.139348e-01  9.286564e-01  8.977456e-02   1.052332e-02   \n",
       "95%         NaN  8.644615e-01  9.475634e-01  1.128514e-01   1.176471e-02   \n",
       "99%         NaN  9.189113e-01  9.690844e-01  1.731092e-01   1.781473e-02   \n",
       "max         NaN  4.156303e+00  2.388823e+00  1.462185e+00   4.506540e-01   \n",
       "\n",
       "         region.page            id       indices      label  \n",
       "count   4.429136e+06  4.429136e+06  4.429136e+06  4429136.0  \n",
       "unique           NaN           NaN           NaN        NaN  \n",
       "top              NaN           NaN           NaN        NaN  \n",
       "freq             NaN           NaN           NaN        NaN  \n",
       "mean    1.103981e+00  2.715374e+08  1.357077e+02        0.0  \n",
       "std     4.152080e-01  1.254780e+08  1.403100e+02        0.0  \n",
       "min     1.000000e+00  7.143602e+07  0.000000e+00        0.0  \n",
       "1%      1.000000e+00  7.460892e+07  1.000000e+00        0.0  \n",
       "5%      1.000000e+00  8.778061e+07  9.000000e+00        0.0  \n",
       "10%     1.000000e+00  1.086045e+08  1.800000e+01        0.0  \n",
       "20%     1.000000e+00  1.432681e+08  3.800000e+01        0.0  \n",
       "50%     1.000000e+00  2.679746e+08  1.020000e+02        0.0  \n",
       "80%     1.000000e+00  3.875082e+08  1.960000e+02        0.0  \n",
       "90%     1.000000e+00  4.542904e+08  2.730000e+02        0.0  \n",
       "95%     2.000000e+00  4.771689e+08  3.790000e+02        0.0  \n",
       "99%     3.000000e+00  5.098698e+08  7.360000e+02        0.0  \n",
       "max     8.000000e+00  5.150723e+08  1.724000e+03        0.0  "
      ]
     },
     "execution_count": 97,
     "metadata": {},
     "output_type": "execute_result"
    }
   ],
   "source": [
    "train[train.label==0].describe(include=\"all\", percentiles=[0.01, 0.05, 0.1, 0.2, 0.8, 0.9, 0.95, 0.99])"
   ]
  },
  {
   "cell_type": "code",
   "execution_count": 98,
   "metadata": {},
   "outputs": [
    {
     "data": {
      "text/html": [
       "<div>\n",
       "<style scoped>\n",
       "    .dataframe tbody tr th:only-of-type {\n",
       "        vertical-align: middle;\n",
       "    }\n",
       "\n",
       "    .dataframe tbody tr th {\n",
       "        vertical-align: top;\n",
       "    }\n",
       "\n",
       "    .dataframe thead th {\n",
       "        text-align: right;\n",
       "    }\n",
       "</style>\n",
       "<table border=\"1\" class=\"dataframe\">\n",
       "  <thead>\n",
       "    <tr style=\"text-align: right;\">\n",
       "      <th></th>\n",
       "      <th>value</th>\n",
       "      <th>region.left</th>\n",
       "      <th>region.top</th>\n",
       "      <th>region.width</th>\n",
       "      <th>region.height</th>\n",
       "      <th>region.page</th>\n",
       "      <th>id</th>\n",
       "      <th>indices</th>\n",
       "      <th>label</th>\n",
       "    </tr>\n",
       "  </thead>\n",
       "  <tbody>\n",
       "    <tr>\n",
       "      <th>count</th>\n",
       "      <td>288667</td>\n",
       "      <td>288667.000000</td>\n",
       "      <td>288667.000000</td>\n",
       "      <td>288667.000000</td>\n",
       "      <td>288667.000000</td>\n",
       "      <td>288667.000000</td>\n",
       "      <td>2.886670e+05</td>\n",
       "      <td>288667.000000</td>\n",
       "      <td>288667.0</td>\n",
       "    </tr>\n",
       "    <tr>\n",
       "      <th>unique</th>\n",
       "      <td>68353</td>\n",
       "      <td>NaN</td>\n",
       "      <td>NaN</td>\n",
       "      <td>NaN</td>\n",
       "      <td>NaN</td>\n",
       "      <td>NaN</td>\n",
       "      <td>NaN</td>\n",
       "      <td>NaN</td>\n",
       "      <td>NaN</td>\n",
       "    </tr>\n",
       "    <tr>\n",
       "      <th>top</th>\n",
       "      <td>Xg==</td>\n",
       "      <td>NaN</td>\n",
       "      <td>NaN</td>\n",
       "      <td>NaN</td>\n",
       "      <td>NaN</td>\n",
       "      <td>NaN</td>\n",
       "      <td>NaN</td>\n",
       "      <td>NaN</td>\n",
       "      <td>NaN</td>\n",
       "    </tr>\n",
       "    <tr>\n",
       "      <th>freq</th>\n",
       "      <td>6712</td>\n",
       "      <td>NaN</td>\n",
       "      <td>NaN</td>\n",
       "      <td>NaN</td>\n",
       "      <td>NaN</td>\n",
       "      <td>NaN</td>\n",
       "      <td>NaN</td>\n",
       "      <td>NaN</td>\n",
       "      <td>NaN</td>\n",
       "    </tr>\n",
       "    <tr>\n",
       "      <th>mean</th>\n",
       "      <td>NaN</td>\n",
       "      <td>0.297313</td>\n",
       "      <td>0.508321</td>\n",
       "      <td>0.049002</td>\n",
       "      <td>0.008029</td>\n",
       "      <td>1.181140</td>\n",
       "      <td>2.753828e+08</td>\n",
       "      <td>156.595686</td>\n",
       "      <td>1.0</td>\n",
       "    </tr>\n",
       "    <tr>\n",
       "      <th>std</th>\n",
       "      <td>NaN</td>\n",
       "      <td>0.137272</td>\n",
       "      <td>0.132797</td>\n",
       "      <td>0.035979</td>\n",
       "      <td>0.001990</td>\n",
       "      <td>0.520034</td>\n",
       "      <td>1.243393e+08</td>\n",
       "      <td>162.404479</td>\n",
       "      <td>0.0</td>\n",
       "    </tr>\n",
       "    <tr>\n",
       "      <th>min</th>\n",
       "      <td>NaN</td>\n",
       "      <td>0.001681</td>\n",
       "      <td>0.020202</td>\n",
       "      <td>0.000000</td>\n",
       "      <td>0.000000</td>\n",
       "      <td>1.000000</td>\n",
       "      <td>7.143602e+07</td>\n",
       "      <td>0.000000</td>\n",
       "      <td>1.0</td>\n",
       "    </tr>\n",
       "    <tr>\n",
       "      <th>1%</th>\n",
       "      <td>NaN</td>\n",
       "      <td>0.061766</td>\n",
       "      <td>0.164655</td>\n",
       "      <td>0.003361</td>\n",
       "      <td>0.001188</td>\n",
       "      <td>1.000000</td>\n",
       "      <td>7.508456e+07</td>\n",
       "      <td>22.000000</td>\n",
       "      <td>1.0</td>\n",
       "    </tr>\n",
       "    <tr>\n",
       "      <th>5%</th>\n",
       "      <td>NaN</td>\n",
       "      <td>0.100403</td>\n",
       "      <td>0.305162</td>\n",
       "      <td>0.006723</td>\n",
       "      <td>0.004985</td>\n",
       "      <td>1.000000</td>\n",
       "      <td>8.850620e+07</td>\n",
       "      <td>40.000000</td>\n",
       "      <td>1.0</td>\n",
       "    </tr>\n",
       "    <tr>\n",
       "      <th>10%</th>\n",
       "      <td>NaN</td>\n",
       "      <td>0.127731</td>\n",
       "      <td>0.359857</td>\n",
       "      <td>0.010676</td>\n",
       "      <td>0.005945</td>\n",
       "      <td>1.000000</td>\n",
       "      <td>1.136816e+08</td>\n",
       "      <td>50.000000</td>\n",
       "      <td>1.0</td>\n",
       "    </tr>\n",
       "    <tr>\n",
       "      <th>20%</th>\n",
       "      <td>NaN</td>\n",
       "      <td>0.173109</td>\n",
       "      <td>0.411111</td>\n",
       "      <td>0.020168</td>\n",
       "      <td>0.006738</td>\n",
       "      <td>1.000000</td>\n",
       "      <td>1.484333e+08</td>\n",
       "      <td>65.000000</td>\n",
       "      <td>1.0</td>\n",
       "    </tr>\n",
       "    <tr>\n",
       "      <th>50%</th>\n",
       "      <td>NaN</td>\n",
       "      <td>0.280723</td>\n",
       "      <td>0.499008</td>\n",
       "      <td>0.040660</td>\n",
       "      <td>0.007986</td>\n",
       "      <td>1.000000</td>\n",
       "      <td>2.751746e+08</td>\n",
       "      <td>106.000000</td>\n",
       "      <td>1.0</td>\n",
       "    </tr>\n",
       "    <tr>\n",
       "      <th>80%</th>\n",
       "      <td>NaN</td>\n",
       "      <td>0.411765</td>\n",
       "      <td>0.608076</td>\n",
       "      <td>0.073950</td>\n",
       "      <td>0.009501</td>\n",
       "      <td>1.000000</td>\n",
       "      <td>3.998875e+08</td>\n",
       "      <td>194.000000</td>\n",
       "      <td>1.0</td>\n",
       "    </tr>\n",
       "    <tr>\n",
       "      <th>90%</th>\n",
       "      <td>NaN</td>\n",
       "      <td>0.486694</td>\n",
       "      <td>0.685273</td>\n",
       "      <td>0.095565</td>\n",
       "      <td>0.010651</td>\n",
       "      <td>2.000000</td>\n",
       "      <td>4.519910e+08</td>\n",
       "      <td>322.000000</td>\n",
       "      <td>1.0</td>\n",
       "    </tr>\n",
       "    <tr>\n",
       "      <th>95%</th>\n",
       "      <td>NaN</td>\n",
       "      <td>0.547997</td>\n",
       "      <td>0.751486</td>\n",
       "      <td>0.117647</td>\n",
       "      <td>0.011364</td>\n",
       "      <td>2.000000</td>\n",
       "      <td>4.758206e+08</td>\n",
       "      <td>475.000000</td>\n",
       "      <td>1.0</td>\n",
       "    </tr>\n",
       "    <tr>\n",
       "      <th>99%</th>\n",
       "      <td>NaN</td>\n",
       "      <td>0.660791</td>\n",
       "      <td>0.844233</td>\n",
       "      <td>0.169748</td>\n",
       "      <td>0.013064</td>\n",
       "      <td>3.000000</td>\n",
       "      <td>5.093803e+08</td>\n",
       "      <td>875.000000</td>\n",
       "      <td>1.0</td>\n",
       "    </tr>\n",
       "    <tr>\n",
       "      <th>max</th>\n",
       "      <td>NaN</td>\n",
       "      <td>0.937815</td>\n",
       "      <td>0.970273</td>\n",
       "      <td>0.751261</td>\n",
       "      <td>0.052257</td>\n",
       "      <td>8.000000</td>\n",
       "      <td>5.150723e+08</td>\n",
       "      <td>1712.000000</td>\n",
       "      <td>1.0</td>\n",
       "    </tr>\n",
       "  </tbody>\n",
       "</table>\n",
       "</div>"
      ],
      "text/plain": [
       "         value    region.left     region.top   region.width  region.height  \\\n",
       "count   288667  288667.000000  288667.000000  288667.000000  288667.000000   \n",
       "unique   68353            NaN            NaN            NaN            NaN   \n",
       "top       Xg==            NaN            NaN            NaN            NaN   \n",
       "freq      6712            NaN            NaN            NaN            NaN   \n",
       "mean       NaN       0.297313       0.508321       0.049002       0.008029   \n",
       "std        NaN       0.137272       0.132797       0.035979       0.001990   \n",
       "min        NaN       0.001681       0.020202       0.000000       0.000000   \n",
       "1%         NaN       0.061766       0.164655       0.003361       0.001188   \n",
       "5%         NaN       0.100403       0.305162       0.006723       0.004985   \n",
       "10%        NaN       0.127731       0.359857       0.010676       0.005945   \n",
       "20%        NaN       0.173109       0.411111       0.020168       0.006738   \n",
       "50%        NaN       0.280723       0.499008       0.040660       0.007986   \n",
       "80%        NaN       0.411765       0.608076       0.073950       0.009501   \n",
       "90%        NaN       0.486694       0.685273       0.095565       0.010651   \n",
       "95%        NaN       0.547997       0.751486       0.117647       0.011364   \n",
       "99%        NaN       0.660791       0.844233       0.169748       0.013064   \n",
       "max        NaN       0.937815       0.970273       0.751261       0.052257   \n",
       "\n",
       "          region.page            id        indices     label  \n",
       "count   288667.000000  2.886670e+05  288667.000000  288667.0  \n",
       "unique            NaN           NaN            NaN       NaN  \n",
       "top               NaN           NaN            NaN       NaN  \n",
       "freq              NaN           NaN            NaN       NaN  \n",
       "mean         1.181140  2.753828e+08     156.595686       1.0  \n",
       "std          0.520034  1.243393e+08     162.404479       0.0  \n",
       "min          1.000000  7.143602e+07       0.000000       1.0  \n",
       "1%           1.000000  7.508456e+07      22.000000       1.0  \n",
       "5%           1.000000  8.850620e+07      40.000000       1.0  \n",
       "10%          1.000000  1.136816e+08      50.000000       1.0  \n",
       "20%          1.000000  1.484333e+08      65.000000       1.0  \n",
       "50%          1.000000  2.751746e+08     106.000000       1.0  \n",
       "80%          1.000000  3.998875e+08     194.000000       1.0  \n",
       "90%          2.000000  4.519910e+08     322.000000       1.0  \n",
       "95%          2.000000  4.758206e+08     475.000000       1.0  \n",
       "99%          3.000000  5.093803e+08     875.000000       1.0  \n",
       "max          8.000000  5.150723e+08    1712.000000       1.0  "
      ]
     },
     "execution_count": 98,
     "metadata": {},
     "output_type": "execute_result"
    }
   ],
   "source": [
    "train[train.label==1].describe(include=\"all\", percentiles=[0.01, 0.05, 0.1, 0.2, 0.8, 0.9, 0.95, 0.99])"
   ]
  },
  {
   "cell_type": "markdown",
   "metadata": {},
   "source": [
    "### Feature engineering"
   ]
  },
  {
   "cell_type": "code",
   "execution_count": 99,
   "metadata": {},
   "outputs": [],
   "source": [
    "def calculate_bbox_volumn(data: pd.DataFrame) -> pd.DataFrame:\n",
    "    \n",
    "    data[\"bbox_volumn\"] = abs(data['region.width'] * data['region.height'])\n",
    "    \n",
    "    return data\n",
    "\n",
    "\n",
    "def calculate_value_length(data: pd.DataFrame) -> pd.DataFrame:\n",
    "    \n",
    "    data[\"value_length\"] = [len(i) for i in data[\"value\"]]\n",
    "    \n",
    "    return data\n",
    "\n",
    "\n",
    "def drop_unrelated_columns(data: pd.DataFrame) -> pd.DataFrame:\n",
    "    return data.drop([\"value\", \"id\", \"indices\"], axis=1)"
   ]
  },
  {
   "cell_type": "code",
   "execution_count": 100,
   "metadata": {},
   "outputs": [],
   "source": [
    "def add_bbox_sequence(data: pd.DataFrame) -> pd.DataFrame:\n",
    "    \n",
    "    colnames = ['region.left', 'region.top', 'region.width', 'region.height', 'region.page']\n",
    "    \n",
    "    base = data.copy()\n",
    "    \n",
    "    for i in range(-2,3):\n",
    "        if i == 0:\n",
    "            continue\n",
    "    \n",
    "        shift_data = base.groupby(['id'])['region.left', 'region.top', 'region.width', 'region.height', 'region.page'].shift(i)\n",
    "        new_col = [col + f\"_shifted_{i}\" for col in colnames]\n",
    "\n",
    "        shift_data.columns = new_col\n",
    "\n",
    "        data = pd.concat([shift_data, data], axis=1)\n",
    "        \n",
    "    \n",
    "    del [base, shift_data]\n",
    "\n",
    "    return data"
   ]
  },
  {
   "cell_type": "code",
   "execution_count": 101,
   "metadata": {},
   "outputs": [],
   "source": [
    "def feature_engineering(data):\n",
    "    \n",
    "    feature_engineering_strategy = [calculate_bbox_volumn,\n",
    "                                    calculate_value_length,\n",
    "                                    add_bbox_sequence,\n",
    "                                    fill_nan,\n",
    "                                    drop_unrelated_columns\n",
    "                                    ]\n",
    "\n",
    "    feature_creator = Transformer(feature_engineering_strategy)\n",
    "    data = feature_creator.fit_transform(data)\n",
    "    \n",
    "    return data"
   ]
  },
  {
   "cell_type": "code",
   "execution_count": 102,
   "metadata": {},
   "outputs": [
    {
     "data": {
      "text/plain": [
       "Index(['value', 'region.left', 'region.top', 'region.width', 'region.height',\n",
       "       'region.page', 'id', 'indices', 'label'],\n",
       "      dtype='object')"
      ]
     },
     "execution_count": 102,
     "metadata": {},
     "output_type": "execute_result"
    }
   ],
   "source": [
    "train.columns"
   ]
  },
  {
   "cell_type": "code",
   "execution_count": 103,
   "metadata": {},
   "outputs": [
    {
     "name": "stderr",
     "output_type": "stream",
     "text": [
      "/usr/local/lib/python3.7/site-packages/ipykernel_launcher.py:11: FutureWarning: Indexing with multiple keys (implicitly converted to a tuple of keys) will be deprecated, use a list instead.\n",
      "  # This is added back by InteractiveShellApp.init_path()\n"
     ]
    }
   ],
   "source": [
    "train = feature_engineering(train)\n",
    "test = feature_engineering(test)"
   ]
  },
  {
   "cell_type": "markdown",
   "metadata": {},
   "source": [
    "Also it is bad practice, but I prefer to undersample, before I create plots. From the desciptive analysis, there is a hugh overlap between non-text items and text items. This will become more clear with plots."
   ]
  },
  {
   "cell_type": "markdown",
   "metadata": {},
   "source": [
    "## Imbalanced Data"
   ]
  },
  {
   "cell_type": "markdown",
   "metadata": {},
   "source": [
    "There are several methods to deal with imbalanced data. As a common practice, there is\n",
    "\n",
    "- oversampling (random, SMOTE)\n",
    "- undersampling (random, clustering)\n",
    "\n",
    "\n",
    "Since training time over night is free, I played around with over- and undersampling. From my experience, undersampling was faster and provided a higher F1-scores. Overall the performance is not great, but with undersampling, I got better results. So I will continue here.\n",
    "\n",
    "A problem with random undersampling is, that probably some important data points for the classification will be missing. Also removing data is most of the time not a good strategy."
   ]
  },
  {
   "cell_type": "code",
   "execution_count": 104,
   "metadata": {},
   "outputs": [],
   "source": [
    "def create_sub_sample(data, factor=1, seed=12345):\n",
    "    \n",
    "    text_items = data[data[\"label\"] == 1]\n",
    "    non_text_items = data[data[\"label\"] == 0]\n",
    "\n",
    "    idx = np.random.choice(non_text_items.index, size=factor*text_items.shape[0], replace=True, p=None)\n",
    "    \n",
    "    sub_sample_non_text_items = non_text_items.loc[idx]\n",
    "    \n",
    "    assert sub_sample_non_text_items.shape[0] == text_items.shape[0] * factor\n",
    "    \n",
    "    sub_sample = pd.concat([text_items, sub_sample_non_text_items], axis=0)\n",
    "    sub_sample.reset_index(inplace=True, drop=True)\n",
    "    \n",
    "    del [text_items, non_text_items, idx, sub_sample_non_text_items]\n",
    "\n",
    "    return sub_sample"
   ]
  },
  {
   "cell_type": "code",
   "execution_count": 105,
   "metadata": {},
   "outputs": [],
   "source": [
    "sub_train = create_sub_sample(train, 2)"
   ]
  },
  {
   "cell_type": "code",
   "execution_count": 106,
   "metadata": {},
   "outputs": [
    {
     "data": {
      "text/plain": [
       "Text(0.5, 1.0, 'Class Distributions \\n (0: no text item || 1: text item)')"
      ]
     },
     "execution_count": 106,
     "metadata": {},
     "output_type": "execute_result"
    },
    {
     "data": {
      "image/png": "[encoded data removed]",
      "text/plain": [
       "<Figure size 720x720 with 1 Axes>"
      ]
     },
     "metadata": {
      "needs_background": "light"
     },
     "output_type": "display_data"
    }
   ],
   "source": [
    "sns.countplot('label', data=sub_train)\n",
    "plt.title('Class Distributions \\n (0: no text item || 1: text item)', fontsize=14)"
   ]
  },
  {
   "cell_type": "markdown",
   "metadata": {},
   "source": [
    "Plotting with undersampled data is not good, but based on calculation time, I will have a look. Some information for the non-text label will be missing."
   ]
  },
  {
   "cell_type": "code",
   "execution_count": 107,
   "metadata": {},
   "outputs": [
    {
     "data": {
      "text/plain": [
       "Index(['region.left_shifted_2', 'region.top_shifted_2',\n",
       "       'region.width_shifted_2', 'region.height_shifted_2',\n",
       "       'region.page_shifted_2', 'region.left_shifted_1',\n",
       "       'region.top_shifted_1', 'region.width_shifted_1',\n",
       "       'region.height_shifted_1', 'region.page_shifted_1',\n",
       "       'region.left_shifted_-1', 'region.top_shifted_-1',\n",
       "       'region.width_shifted_-1', 'region.height_shifted_-1',\n",
       "       'region.page_shifted_-1', 'region.left_shifted_-2',\n",
       "       'region.top_shifted_-2', 'region.width_shifted_-2',\n",
       "       'region.height_shifted_-2', 'region.page_shifted_-2', 'region.left',\n",
       "       'region.top', 'region.width', 'region.height', 'region.page', 'label',\n",
       "       'bbox_volumn', 'value_length'],\n",
       "      dtype='object')"
      ]
     },
     "execution_count": 107,
     "metadata": {},
     "output_type": "execute_result"
    }
   ],
   "source": [
    "train.columns"
   ]
  },
  {
   "cell_type": "code",
   "execution_count": 108,
   "metadata": {},
   "outputs": [],
   "source": [
    "dist_data = pd.melt(sub_train[['region.left', 'region.top', 'region.width', 'region.height', 'label', 'bbox_volumn']], \n",
    "                              id_vars=[\"label\"])"
   ]
  },
  {
   "cell_type": "markdown",
   "metadata": {},
   "source": [
    "In the pairplot is it very obvious, that the non-text items overlie the text items. Other way, the text items are found only on a specific part of the page. Mostly in the relative top-left of a page. The width and the height of the bbox doesn't show a big difference, as in the box plots below."
   ]
  },
  {
   "cell_type": "code",
   "execution_count": 109,
   "metadata": {},
   "outputs": [
    {
     "data": {
      "image/png": "[encoded data removed]",
      "text/plain": [
       "<Figure size 1122.38x1080 with 42 Axes>"
      ]
     },
     "metadata": {
      "needs_background": "light"
     },
     "output_type": "display_data"
    }
   ],
   "source": [
    "sns.pairplot(sub_train[['region.left', 'region.top', 'region.width', 'region.height', 'label', 'bbox_volumn']], height = 2.5, diag_kind='hist', hue=\"label\")\n",
    "plt.show()"
   ]
  },
  {
   "cell_type": "markdown",
   "metadata": {},
   "source": [
    "plot doesn't work; needs refactoring"
   ]
  },
  {
   "cell_type": "code",
   "execution_count": 110,
   "metadata": {},
   "outputs": [
    {
     "data": {
      "image/png": "[encoded data removed]",
      "text/plain": [
       "<Figure size 330.375x432 with 5 Axes>"
      ]
     },
     "metadata": {
      "needs_background": "light"
     },
     "output_type": "display_data"
    }
   ],
   "source": [
    "g = sns.FacetGrid(dist_data, col='variable', hue=\"label\", palette=\"viridis\", height=2, col_wrap=2)\n",
    "g = (g.map(sns.distplot, \"value\", hist=False, rug=True, bins=50, hist_kws={'alpha': 0.5}).add_legend())"
   ]
  },
  {
   "cell_type": "code",
   "execution_count": 111,
   "metadata": {
    "scrolled": false
   },
   "outputs": [
    {
     "data": {
      "text/plain": [
       "<matplotlib.legend.Legend at 0x1b3087f10>"
      ]
     },
     "execution_count": 111,
     "metadata": {},
     "output_type": "execute_result"
    },
    {
     "data": {
      "image/png": "[encoded data removed]",
      "text/plain": [
       "<Figure size 720x720 with 1 Axes>"
      ]
     },
     "metadata": {
      "needs_background": "light"
     },
     "output_type": "display_data"
    }
   ],
   "source": [
    "sns.boxplot(x=\"variable\", y=\"value\", hue='label', palette=\"viridis\",\n",
    "            data=dist_data)\n",
    "\n",
    "plt.legend(title=\"labels\", loc='center right', bbox_to_anchor=(1.15, 0.5), ncol=1)"
   ]
  },
  {
   "cell_type": "code",
   "execution_count": 112,
   "metadata": {},
   "outputs": [
    {
     "data": {
      "text/plain": [
       "<matplotlib.axes._subplots.AxesSubplot at 0x1cf2c5690>"
      ]
     },
     "execution_count": 112,
     "metadata": {},
     "output_type": "execute_result"
    },
    {
     "data": {
      "image/png": "[encoded data removed]",
      "text/plain": [
       "<Figure size 720x720 with 1 Axes>"
      ]
     },
     "metadata": {
      "needs_background": "light"
     },
     "output_type": "display_data"
    }
   ],
   "source": [
    "sns.boxplot(x=\"variable\", y=\"value\", hue='label', palette=\"viridis\",\n",
    "                data=pd.melt(sub_train[[\"region.width\", \"label\"]], id_vars=[\"label\"]))"
   ]
  },
  {
   "cell_type": "code",
   "execution_count": 113,
   "metadata": {},
   "outputs": [
    {
     "data": {
      "text/plain": [
       "<matplotlib.axes._subplots.AxesSubplot at 0x1cf35a3d0>"
      ]
     },
     "execution_count": 113,
     "metadata": {},
     "output_type": "execute_result"
    },
    {
     "data": {
      "image/png": "[encoded data removed]",
      "text/plain": [
       "<Figure size 720x720 with 1 Axes>"
      ]
     },
     "metadata": {
      "needs_background": "light"
     },
     "output_type": "display_data"
    }
   ],
   "source": [
    "sns.boxplot(x=\"variable\", y=\"value\", hue='label', palette=\"viridis\",\n",
    "                data=pd.melt(sub_train[[\"region.height\", \"label\"]], id_vars=[\"label\"]))"
   ]
  },
  {
   "cell_type": "code",
   "execution_count": 114,
   "metadata": {},
   "outputs": [
    {
     "data": {
      "image/png": "[encoded data removed]",
      "text/plain": [
       "<Figure size 720x720 with 1 Axes>"
      ]
     },
     "metadata": {
      "needs_background": "light"
     },
     "output_type": "display_data"
    }
   ],
   "source": [
    "g = sns.boxplot(x=\"variable\", y=\"value\", hue='label', palette=\"viridis\",\n",
    "                data=pd.melt(sub_train[[\"bbox_volumn\", \"label\"]], id_vars=[\"label\"]))\n",
    "g.set_yscale(\"log\")"
   ]
  },
  {
   "cell_type": "markdown",
   "metadata": {},
   "source": [
    "The boxplots don't look very promising. The non items overlap the classified items in all relevant features. But let's have a look how trees will perform."
   ]
  },
  {
   "cell_type": "markdown",
   "metadata": {},
   "source": [
    "### Baseline"
   ]
  },
  {
   "cell_type": "markdown",
   "metadata": {},
   "source": [
    "Basically, I want to train a tree with depth one, just to see, how good it will perform."
   ]
  },
  {
   "cell_type": "code",
   "execution_count": 115,
   "metadata": {},
   "outputs": [],
   "source": [
    "model_columns = [col for col in train.columns if col != \"label\"]"
   ]
  },
  {
   "cell_type": "code",
   "execution_count": 116,
   "metadata": {},
   "outputs": [],
   "source": [
    "X_train = train[model_columns]\n",
    "y_train = train[\"label\"] \n",
    "\n",
    "X_test = test[model_columns]\n",
    "y_test = test[\"label\"] "
   ]
  },
  {
   "cell_type": "code",
   "execution_count": 117,
   "metadata": {},
   "outputs": [],
   "source": [
    "X_train, X_val, y_train, y_val = train_test_split(X_train, y_train, stratify=y_train, test_size=0.25)"
   ]
  },
  {
   "cell_type": "code",
   "execution_count": 118,
   "metadata": {},
   "outputs": [],
   "source": [
    "X_train_sub = sub_train[model_columns]\n",
    "y_train_sub = sub_train[\"label\"] "
   ]
  },
  {
   "cell_type": "code",
   "execution_count": 119,
   "metadata": {},
   "outputs": [
    {
     "data": {
      "text/plain": [
       "DecisionTreeClassifier(max_depth=1)"
      ]
     },
     "execution_count": 119,
     "metadata": {},
     "output_type": "execute_result"
    }
   ],
   "source": [
    "tree = DecisionTreeClassifier(max_depth=1)\n",
    "tree.fit(X_train_sub, y_train_sub)"
   ]
  },
  {
   "cell_type": "code",
   "execution_count": 120,
   "metadata": {},
   "outputs": [],
   "source": [
    "feature_names = [i for i in X_train_sub.columns]\n",
    "\n",
    "y_train_str = y_train_sub.astype('str')\n",
    "y_train_str[y_train_str == '0'] = 'no_text_item'\n",
    "y_train_str[y_train_str == '1'] = 'text_item'"
   ]
  },
  {
   "cell_type": "code",
   "execution_count": 121,
   "metadata": {},
   "outputs": [],
   "source": [
    "export_graphviz(tree, out_file='min_tree.dot', \n",
    "                feature_names = feature_names,\n",
    "                class_names = y_train_str,\n",
    "                rounded = True, proportion = True, \n",
    "                label='root',\n",
    "                precision = 2, filled = True)"
   ]
  },
  {
   "cell_type": "code",
   "execution_count": 122,
   "metadata": {},
   "outputs": [
    {
     "data": {
      "image/png": "[encoded data removed]",
      "text/plain": [
       "<IPython.core.display.Image object>"
      ]
     },
     "execution_count": 122,
     "metadata": {},
     "output_type": "execute_result"
    }
   ],
   "source": [
    "from subprocess import call\n",
    "call(['dot', '-Tpng', 'min_tree.dot', '-o', 'min_tree.png', '-Gdpi=100'])\n",
    "\n",
    "from IPython.display import Image\n",
    "Image(filename = 'min_tree.png')"
   ]
  },
  {
   "cell_type": "code",
   "execution_count": 123,
   "metadata": {},
   "outputs": [],
   "source": [
    "y_hat = [1 if i <= 0.53 else 0 for i in X_train['region.left']]"
   ]
  },
  {
   "cell_type": "code",
   "execution_count": 124,
   "metadata": {},
   "outputs": [
    {
     "data": {
      "text/html": [
       "<div>\n",
       "<style scoped>\n",
       "    .dataframe tbody tr th:only-of-type {\n",
       "        vertical-align: middle;\n",
       "    }\n",
       "\n",
       "    .dataframe tbody tr th {\n",
       "        vertical-align: top;\n",
       "    }\n",
       "\n",
       "    .dataframe thead th {\n",
       "        text-align: right;\n",
       "    }\n",
       "</style>\n",
       "<table border=\"1\" class=\"dataframe\">\n",
       "  <thead>\n",
       "    <tr style=\"text-align: right;\">\n",
       "      <th></th>\n",
       "      <th>act_no_text_item</th>\n",
       "      <th>act_text_item</th>\n",
       "    </tr>\n",
       "  </thead>\n",
       "  <tbody>\n",
       "    <tr>\n",
       "      <th>pred_no_text_item</th>\n",
       "      <td>1335421</td>\n",
       "      <td>13594</td>\n",
       "    </tr>\n",
       "    <tr>\n",
       "      <th>pred_text_item</th>\n",
       "      <td>1986431</td>\n",
       "      <td>202906</td>\n",
       "    </tr>\n",
       "  </tbody>\n",
       "</table>\n",
       "</div>"
      ],
      "text/plain": [
       "                   act_no_text_item  act_text_item\n",
       "pred_no_text_item           1335421          13594\n",
       "pred_text_item              1986431         202906"
      ]
     },
     "execution_count": 124,
     "metadata": {},
     "output_type": "execute_result"
    }
   ],
   "source": [
    "pd.DataFrame(confusion_matrix(y_train, y_hat).T, columns=[\"act_no_text_item\",\"act_text_item\"], \n",
    "             index=[\"pred_no_text_item\",\"pred_text_item\"])"
   ]
  },
  {
   "cell_type": "code",
   "execution_count": 125,
   "metadata": {},
   "outputs": [
    {
     "data": {
      "text/plain": [
       "0.1686780941518482"
      ]
     },
     "execution_count": 125,
     "metadata": {},
     "output_type": "execute_result"
    }
   ],
   "source": [
    "f1_score(y_train, y_hat)"
   ]
  },
  {
   "cell_type": "code",
   "execution_count": 126,
   "metadata": {},
   "outputs": [
    {
     "data": {
      "text/plain": [
       "0.09267919922789411"
      ]
     },
     "execution_count": 126,
     "metadata": {},
     "output_type": "execute_result"
    }
   ],
   "source": [
    "precision_score(y_train, y_hat)"
   ]
  },
  {
   "cell_type": "code",
   "execution_count": 127,
   "metadata": {},
   "outputs": [
    {
     "data": {
      "text/plain": [
       "0.9372101616628176"
      ]
     },
     "execution_count": 127,
     "metadata": {},
     "output_type": "execute_result"
    }
   ],
   "source": [
    "recall_score(y_train, y_hat)"
   ]
  },
  {
   "cell_type": "markdown",
   "metadata": {},
   "source": [
    "With one feature, we get to a F1-Score of 0.17, which is really bad. The precision is too low. Too many non-text items are classified as text-items. Let's see, if a more sophisticated approach will help or if the data is too noisy."
   ]
  },
  {
   "cell_type": "code",
   "execution_count": 128,
   "metadata": {},
   "outputs": [],
   "source": [
    "def plot_precision_recall_vs_threshold(precisions, recalls, thresholds):\n",
    "    plt.plot(thresholds, precisions[:-1], \"b--\", label=\"Precision\", linewidth=2)\n",
    "    plt.plot(thresholds, recalls[:-1], \"g-\", label=\"Recall\", linewidth=2)\n",
    "    plt.xlabel(\"Threshold\", fontsize=16)\n",
    "    plt.legend(loc=\"upper left\", fontsize=16)\n",
    "    plt.ylim([0, 1])\n",
    "\n",
    "\n",
    "def plot_precision_vs_recall(precisions, recalls):\n",
    "    plt.plot(recalls, precisions, \"b-\", linewidth=2)\n",
    "    plt.xlabel(\"Recall\", fontsize=16)\n",
    "    plt.ylabel(\"Precision\", fontsize=16)\n",
    "    plt.axis([0, 1, 0, 1])"
   ]
  },
  {
   "cell_type": "code",
   "execution_count": 129,
   "metadata": {},
   "outputs": [],
   "source": [
    "def plot_xgboost_loss(results):\n",
    "    \n",
    "    epochs = len(results['validation_0']['logloss'])\n",
    "\n",
    "    x_axis = range(0, epochs)\n",
    "\n",
    "    fig, ax = plt.subplots()\n",
    "    ax.plot(x_axis, results['validation_0']['logloss'], label='train')\n",
    "    ax.plot(x_axis, results['validation_1']['logloss'], label='val')\n",
    "    ax.legend()\n",
    "    plt.ylabel('Log Loss')\n",
    "    plt.title('XGBoost Log Loss')\n",
    "    \n",
    "    \n",
    "def plot_xgboost_pr_auc(results):\n",
    "    \n",
    "    epochs = len(results['validation_0']['logloss'])\n",
    "\n",
    "    x_axis = range(0, epochs)\n",
    "\n",
    "    fig, ax = plt.subplots()\n",
    "    ax.plot(x_axis, results['validation_0']['aucpr'], label='train')\n",
    "    ax.plot(x_axis, results['validation_1']['aucpr'], label='val')\n",
    "    ax.legend()\n",
    "    plt.ylabel('Precision-Recall AUC')\n",
    "    plt.title('XGBoost PR-AUC')\n"
   ]
  },
  {
   "cell_type": "markdown",
   "metadata": {},
   "source": [
    "## DecisionTree"
   ]
  },
  {
   "cell_type": "markdown",
   "metadata": {},
   "source": [
    "Training of a slighty bigger decision tree. The F1-score on the undersampled train data looks okayish. Still not great, but it is an improvement."
   ]
  },
  {
   "cell_type": "code",
   "execution_count": 130,
   "metadata": {},
   "outputs": [
    {
     "name": "stdout",
     "output_type": "stream",
     "text": [
      "Decision Tree has a cross_validationg F1 score of 0.7\n"
     ]
    }
   ],
   "source": [
    "tree = DecisionTreeClassifier(random_state=0, max_depth=8, criterion='gini')\n",
    "\n",
    "training_score = cross_val_score(tree, X_train_sub, y_train_sub, cv=5, scoring='f1')\n",
    "print(f\"Decision Tree has a cross_validationg F1 score of {training_score.mean():.2}\")"
   ]
  },
  {
   "cell_type": "code",
   "execution_count": 131,
   "metadata": {},
   "outputs": [
    {
     "data": {
      "text/plain": [
       "array([0.69962203, 0.69951066, 0.70472993, 0.68928234, 0.71022981])"
      ]
     },
     "execution_count": 131,
     "metadata": {},
     "output_type": "execute_result"
    }
   ],
   "source": [
    "training_score"
   ]
  },
  {
   "cell_type": "code",
   "execution_count": 132,
   "metadata": {},
   "outputs": [
    {
     "data": {
      "text/plain": [
       "DecisionTreeClassifier(max_depth=8, random_state=0)"
      ]
     },
     "execution_count": 132,
     "metadata": {},
     "output_type": "execute_result"
    }
   ],
   "source": [
    "tree = DecisionTreeClassifier(random_state=0, max_depth=8, criterion='gini')\n",
    "tree.fit(X_train_sub, y_train_sub)"
   ]
  },
  {
   "cell_type": "code",
   "execution_count": 133,
   "metadata": {},
   "outputs": [
    {
     "data": {
      "text/plain": [
       "0"
      ]
     },
     "execution_count": 133,
     "metadata": {},
     "output_type": "execute_result"
    }
   ],
   "source": [
    "export_graphviz(tree, out_file='tree_depth_8.dot', \n",
    "                feature_names = feature_names,\n",
    "                class_names = y_train_str,\n",
    "                rounded = True, proportion = True, \n",
    "                label='root',\n",
    "                precision = 2, filled = True)\n",
    "\n",
    "from subprocess import call\n",
    "call(['dot', '-Tpng', 'tree_depth_8.dot', '-o', 'tree_depth_8.png', '-Gdpi=100'])"
   ]
  },
  {
   "cell_type": "markdown",
   "metadata": {},
   "source": [
    "Let's see, how well the tree generalizes on the whole dataset. The F1-scores drops as expected, since we add only non-text items here. So a decision tree is not the best option, but at least a start."
   ]
  },
  {
   "cell_type": "code",
   "execution_count": 134,
   "metadata": {},
   "outputs": [],
   "source": [
    "y_hat = tree.predict(X_val)"
   ]
  },
  {
   "cell_type": "code",
   "execution_count": 135,
   "metadata": {},
   "outputs": [
    {
     "data": {
      "text/html": [
       "<div>\n",
       "<style scoped>\n",
       "    .dataframe tbody tr th:only-of-type {\n",
       "        vertical-align: middle;\n",
       "    }\n",
       "\n",
       "    .dataframe tbody tr th {\n",
       "        vertical-align: top;\n",
       "    }\n",
       "\n",
       "    .dataframe thead th {\n",
       "        text-align: right;\n",
       "    }\n",
       "</style>\n",
       "<table border=\"1\" class=\"dataframe\">\n",
       "  <thead>\n",
       "    <tr style=\"text-align: right;\">\n",
       "      <th></th>\n",
       "      <th>no_text_item</th>\n",
       "      <th>text_item</th>\n",
       "    </tr>\n",
       "  </thead>\n",
       "  <tbody>\n",
       "    <tr>\n",
       "      <th>no_text_item</th>\n",
       "      <td>929603</td>\n",
       "      <td>20955</td>\n",
       "    </tr>\n",
       "    <tr>\n",
       "      <th>text_item</th>\n",
       "      <td>177681</td>\n",
       "      <td>51212</td>\n",
       "    </tr>\n",
       "  </tbody>\n",
       "</table>\n",
       "</div>"
      ],
      "text/plain": [
       "              no_text_item  text_item\n",
       "no_text_item        929603      20955\n",
       "text_item           177681      51212"
      ]
     },
     "execution_count": 135,
     "metadata": {},
     "output_type": "execute_result"
    }
   ],
   "source": [
    "pd.DataFrame(confusion_matrix(y_val, y_hat).T, columns=[\"no_text_item\",\"text_item\"], index=[\"no_text_item\",\"text_item\"])"
   ]
  },
  {
   "cell_type": "code",
   "execution_count": 136,
   "metadata": {},
   "outputs": [
    {
     "data": {
      "text/plain": [
       "0.34021125357071685"
      ]
     },
     "execution_count": 136,
     "metadata": {},
     "output_type": "execute_result"
    }
   ],
   "source": [
    "f1_score(y_val, y_hat)"
   ]
  },
  {
   "cell_type": "code",
   "execution_count": 137,
   "metadata": {},
   "outputs": [
    {
     "data": {
      "text/plain": [
       "0.2237377289825377"
      ]
     },
     "execution_count": 137,
     "metadata": {},
     "output_type": "execute_result"
    }
   ],
   "source": [
    "precision_score(y_val, y_hat)"
   ]
  },
  {
   "cell_type": "code",
   "execution_count": 138,
   "metadata": {},
   "outputs": [
    {
     "data": {
      "text/plain": [
       "0.7096318261809414"
      ]
     },
     "execution_count": 138,
     "metadata": {},
     "output_type": "execute_result"
    }
   ],
   "source": [
    "recall_score(y_val, y_hat)"
   ]
  },
  {
   "cell_type": "code",
   "execution_count": null,
   "metadata": {},
   "outputs": [],
   "source": []
  },
  {
   "cell_type": "code",
   "execution_count": 139,
   "metadata": {},
   "outputs": [],
   "source": [
    "y_hat = tree.predict(X_train)"
   ]
  },
  {
   "cell_type": "code",
   "execution_count": 140,
   "metadata": {},
   "outputs": [
    {
     "data": {
      "text/html": [
       "<div>\n",
       "<style scoped>\n",
       "    .dataframe tbody tr th:only-of-type {\n",
       "        vertical-align: middle;\n",
       "    }\n",
       "\n",
       "    .dataframe tbody tr th {\n",
       "        vertical-align: top;\n",
       "    }\n",
       "\n",
       "    .dataframe thead th {\n",
       "        text-align: right;\n",
       "    }\n",
       "</style>\n",
       "<table border=\"1\" class=\"dataframe\">\n",
       "  <thead>\n",
       "    <tr style=\"text-align: right;\">\n",
       "      <th></th>\n",
       "      <th>no_text_item</th>\n",
       "      <th>text_item</th>\n",
       "    </tr>\n",
       "  </thead>\n",
       "  <tbody>\n",
       "    <tr>\n",
       "      <th>no_text_item</th>\n",
       "      <td>2789832</td>\n",
       "      <td>63043</td>\n",
       "    </tr>\n",
       "    <tr>\n",
       "      <th>text_item</th>\n",
       "      <td>532020</td>\n",
       "      <td>153457</td>\n",
       "    </tr>\n",
       "  </tbody>\n",
       "</table>\n",
       "</div>"
      ],
      "text/plain": [
       "              no_text_item  text_item\n",
       "no_text_item       2789832      63043\n",
       "text_item           532020     153457"
      ]
     },
     "execution_count": 140,
     "metadata": {},
     "output_type": "execute_result"
    }
   ],
   "source": [
    "pd.DataFrame(confusion_matrix(y_train, y_hat).T, columns=[\"no_text_item\",\"text_item\"], index=[\"no_text_item\",\"text_item\"])"
   ]
  },
  {
   "cell_type": "code",
   "execution_count": 141,
   "metadata": {},
   "outputs": [
    {
     "data": {
      "text/plain": [
       "0.3402680999626376"
      ]
     },
     "execution_count": 141,
     "metadata": {},
     "output_type": "execute_result"
    }
   ],
   "source": [
    "f1_score(y_train, y_hat)"
   ]
  },
  {
   "cell_type": "code",
   "execution_count": 142,
   "metadata": {},
   "outputs": [
    {
     "data": {
      "text/plain": [
       "0.22386892630970842"
      ]
     },
     "execution_count": 142,
     "metadata": {},
     "output_type": "execute_result"
    }
   ],
   "source": [
    "precision_score(y_train, y_hat)"
   ]
  },
  {
   "cell_type": "code",
   "execution_count": 143,
   "metadata": {},
   "outputs": [
    {
     "data": {
      "text/plain": [
       "0.7088083140877598"
      ]
     },
     "execution_count": 143,
     "metadata": {},
     "output_type": "execute_result"
    }
   ],
   "source": [
    "recall_score(y_train, y_hat)"
   ]
  },
  {
   "cell_type": "markdown",
   "metadata": {},
   "source": [
    "### XGBoost"
   ]
  },
  {
   "cell_type": "markdown",
   "metadata": {},
   "source": [
    "The imrpovement with the decision tree looks interesting. I would try to train an XGBoost model and see how weel he generalizes. Out of time reasons, I choose more a stomp like approach with a max depth of 2. Since boosing is basicallt gradually learning, this is okay. Probably the number of trees could be better. Also there is much more space for improvement, but any hyperparameter tuning doesn't make sense, as long as the metrics are really bad."
   ]
  },
  {
   "cell_type": "code",
   "execution_count": 144,
   "metadata": {},
   "outputs": [],
   "source": [
    "xgb_clf = xgb.XGBClassifier(max_depth=2, n_estimators=200, objective='binary:logistic', gamma=0.1, random_state=1234, early_stopping_rounds=10)\\"
   ]
  },
  {
   "cell_type": "code",
   "execution_count": 145,
   "metadata": {},
   "outputs": [],
   "source": [
    "folds = StratifiedKFold(n_splits = 3, shuffle = True)\n",
    "\n",
    "estimators = []\n",
    "# results = np.zeros(len(X))\n",
    "score = []\n",
    "\n",
    "for train_index, val_index in folds.split(X_train_sub, y_train_sub):\n",
    "    sub_X_train, sub_X_val = X_train_sub.iloc[train_index,:], X_train_sub.iloc[val_index,:]\n",
    "\n",
    "    sub_y_train, sub_y_val = y_train_sub.iloc[train_index].values.ravel(), y_train_sub.iloc[val_index].values.ravel()\n",
    "    xgb_clf.fit(sub_X_train, sub_y_train)\n",
    "\n",
    "    estimators.append(xgb_clf)\n",
    "    results = xgb_clf.predict(sub_X_val)\n",
    "    score.append(f1_score(sub_y_val, results))"
   ]
  },
  {
   "cell_type": "code",
   "execution_count": 146,
   "metadata": {},
   "outputs": [
    {
     "data": {
      "text/plain": [
       "[0.7293392409940281, 0.7291122489791284, 0.7289488276299112]"
      ]
     },
     "execution_count": 146,
     "metadata": {},
     "output_type": "execute_result"
    }
   ],
   "source": [
    "score"
   ]
  },
  {
   "cell_type": "code",
   "execution_count": 147,
   "metadata": {},
   "outputs": [],
   "source": [
    "X_train_sub, X_val_sub, y_train_sub, y_val_sub = train_test_split(X_train_sub, y_train_sub, stratify=y_train_sub, test_size=0.25)"
   ]
  },
  {
   "cell_type": "code",
   "execution_count": 148,
   "metadata": {},
   "outputs": [],
   "source": [
    "eval_set = [(X_train_sub, y_train_sub), (X_val_sub, y_val_sub)]"
   ]
  },
  {
   "cell_type": "code",
   "execution_count": 149,
   "metadata": {},
   "outputs": [],
   "source": [
    "xgb_clf = xgb.XGBClassifier(eta=0.3,\n",
    "                            max_depth=2, n_estimators=200, \n",
    "                            objective='binary:logistic', \n",
    "                            random_state=1234, \n",
    "                            early_stopping_rounds=10)"
   ]
  },
  {
   "cell_type": "code",
   "execution_count": 150,
   "metadata": {},
   "outputs": [
    {
     "name": "stdout",
     "output_type": "stream",
     "text": [
      "[0]\tvalidation_0-logloss:0.662473\tvalidation_0-aucpr:0.499756\tvalidation_1-logloss:0.664959\tvalidation_1-aucpr:0.499919\n",
      "[1]\tvalidation_0-logloss:0.640475\tvalidation_0-aucpr:0.506716\tvalidation_1-logloss:0.641214\tvalidation_1-aucpr:0.507137\n",
      "[2]\tvalidation_0-logloss:0.621047\tvalidation_0-aucpr:0.508785\tvalidation_1-logloss:0.621828\tvalidation_1-aucpr:0.509299\n",
      "[3]\tvalidation_0-logloss:0.603894\tvalidation_0-aucpr:0.580307\tvalidation_1-logloss:0.60444\tvalidation_1-aucpr:0.579828\n",
      "[4]\tvalidation_0-logloss:0.590393\tvalidation_0-aucpr:0.588563\tvalidation_1-logloss:0.59037\tvalidation_1-aucpr:0.587271\n",
      "[5]\tvalidation_0-logloss:0.577072\tvalidation_0-aucpr:0.593311\tvalidation_1-logloss:0.576491\tvalidation_1-aucpr:0.592256\n",
      "[6]\tvalidation_0-logloss:0.565248\tvalidation_0-aucpr:0.593786\tvalidation_1-logloss:0.565643\tvalidation_1-aucpr:0.592739\n",
      "[7]\tvalidation_0-logloss:0.55013\tvalidation_0-aucpr:0.622428\tvalidation_1-logloss:0.550555\tvalidation_1-aucpr:0.621149\n",
      "[8]\tvalidation_0-logloss:0.541501\tvalidation_0-aucpr:0.623334\tvalidation_1-logloss:0.542126\tvalidation_1-aucpr:0.622027\n",
      "[9]\tvalidation_0-logloss:0.531505\tvalidation_0-aucpr:0.629088\tvalidation_1-logloss:0.532606\tvalidation_1-aucpr:0.628358\n",
      "[10]\tvalidation_0-logloss:0.524654\tvalidation_0-aucpr:0.62927\tvalidation_1-logloss:0.52522\tvalidation_1-aucpr:0.62855\n",
      "[11]\tvalidation_0-logloss:0.519047\tvalidation_0-aucpr:0.630019\tvalidation_1-logloss:0.517895\tvalidation_1-aucpr:0.629401\n",
      "[12]\tvalidation_0-logloss:0.509301\tvalidation_0-aucpr:0.636699\tvalidation_1-logloss:0.509454\tvalidation_1-aucpr:0.636093\n",
      "[13]\tvalidation_0-logloss:0.503604\tvalidation_0-aucpr:0.63686\tvalidation_1-logloss:0.50447\tvalidation_1-aucpr:0.636227\n",
      "[14]\tvalidation_0-logloss:0.498499\tvalidation_0-aucpr:0.636933\tvalidation_1-logloss:0.499121\tvalidation_1-aucpr:0.636299\n",
      "[15]\tvalidation_0-logloss:0.491753\tvalidation_0-aucpr:0.645975\tvalidation_1-logloss:0.491767\tvalidation_1-aucpr:0.64604\n",
      "[16]\tvalidation_0-logloss:0.483497\tvalidation_0-aucpr:0.649183\tvalidation_1-logloss:0.485027\tvalidation_1-aucpr:0.649392\n",
      "[17]\tvalidation_0-logloss:0.480487\tvalidation_0-aucpr:0.649258\tvalidation_1-logloss:0.480894\tvalidation_1-aucpr:0.649354\n",
      "[18]\tvalidation_0-logloss:0.475285\tvalidation_0-aucpr:0.649825\tvalidation_1-logloss:0.475525\tvalidation_1-aucpr:0.649938\n",
      "[19]\tvalidation_0-logloss:0.472318\tvalidation_0-aucpr:0.650161\tvalidation_1-logloss:0.471832\tvalidation_1-aucpr:0.650338\n",
      "[20]\tvalidation_0-logloss:0.468118\tvalidation_0-aucpr:0.650102\tvalidation_1-logloss:0.469038\tvalidation_1-aucpr:0.65028\n",
      "[21]\tvalidation_0-logloss:0.462783\tvalidation_0-aucpr:0.656615\tvalidation_1-logloss:0.463972\tvalidation_1-aucpr:0.656871\n",
      "[22]\tvalidation_0-logloss:0.460498\tvalidation_0-aucpr:0.656881\tvalidation_1-logloss:0.460756\tvalidation_1-aucpr:0.657309\n",
      "[23]\tvalidation_0-logloss:0.458624\tvalidation_0-aucpr:0.661354\tvalidation_1-logloss:0.458442\tvalidation_1-aucpr:0.661907\n",
      "[24]\tvalidation_0-logloss:0.454975\tvalidation_0-aucpr:0.662839\tvalidation_1-logloss:0.455964\tvalidation_1-aucpr:0.663034\n",
      "[25]\tvalidation_0-logloss:0.452866\tvalidation_0-aucpr:0.678569\tvalidation_1-logloss:0.45323\tvalidation_1-aucpr:0.680477\n",
      "[26]\tvalidation_0-logloss:0.451231\tvalidation_0-aucpr:0.678768\tvalidation_1-logloss:0.450917\tvalidation_1-aucpr:0.681013\n",
      "[27]\tvalidation_0-logloss:0.44816\tvalidation_0-aucpr:0.678808\tvalidation_1-logloss:0.448924\tvalidation_1-aucpr:0.681045\n",
      "[28]\tvalidation_0-logloss:0.446756\tvalidation_0-aucpr:0.6788\tvalidation_1-logloss:0.447247\tvalidation_1-aucpr:0.681037\n",
      "[29]\tvalidation_0-logloss:0.444326\tvalidation_0-aucpr:0.685004\tvalidation_1-logloss:0.445341\tvalidation_1-aucpr:0.687663\n",
      "[30]\tvalidation_0-logloss:0.443616\tvalidation_0-aucpr:0.684973\tvalidation_1-logloss:0.443631\tvalidation_1-aucpr:0.68755\n",
      "[31]\tvalidation_0-logloss:0.442178\tvalidation_0-aucpr:0.684981\tvalidation_1-logloss:0.442332\tvalidation_1-aucpr:0.687558\n",
      "[32]\tvalidation_0-logloss:0.439316\tvalidation_0-aucpr:0.685535\tvalidation_1-logloss:0.439976\tvalidation_1-aucpr:0.688064\n",
      "[33]\tvalidation_0-logloss:0.438315\tvalidation_0-aucpr:0.686261\tvalidation_1-logloss:0.438288\tvalidation_1-aucpr:0.68871\n",
      "[34]\tvalidation_0-logloss:0.436303\tvalidation_0-aucpr:0.687665\tvalidation_1-logloss:0.43613\tvalidation_1-aucpr:0.690259\n",
      "[35]\tvalidation_0-logloss:0.434636\tvalidation_0-aucpr:0.691841\tvalidation_1-logloss:0.43502\tvalidation_1-aucpr:0.694387\n",
      "[36]\tvalidation_0-logloss:0.433216\tvalidation_0-aucpr:0.692877\tvalidation_1-logloss:0.433295\tvalidation_1-aucpr:0.695485\n",
      "[37]\tvalidation_0-logloss:0.430627\tvalidation_0-aucpr:0.695345\tvalidation_1-logloss:0.43055\tvalidation_1-aucpr:0.698385\n",
      "[38]\tvalidation_0-logloss:0.429591\tvalidation_0-aucpr:0.696044\tvalidation_1-logloss:0.429671\tvalidation_1-aucpr:0.699064\n",
      "[39]\tvalidation_0-logloss:0.428148\tvalidation_0-aucpr:0.696576\tvalidation_1-logloss:0.428508\tvalidation_1-aucpr:0.69959\n",
      "[40]\tvalidation_0-logloss:0.426649\tvalidation_0-aucpr:0.696519\tvalidation_1-logloss:0.426765\tvalidation_1-aucpr:0.700267\n",
      "[41]\tvalidation_0-logloss:0.425655\tvalidation_0-aucpr:0.69648\tvalidation_1-logloss:0.425816\tvalidation_1-aucpr:0.700338\n",
      "[42]\tvalidation_0-logloss:0.424947\tvalidation_0-aucpr:0.696486\tvalidation_1-logloss:0.424933\tvalidation_1-aucpr:0.700341\n",
      "[43]\tvalidation_0-logloss:0.424066\tvalidation_0-aucpr:0.696849\tvalidation_1-logloss:0.424058\tvalidation_1-aucpr:0.700678\n",
      "[44]\tvalidation_0-logloss:0.423057\tvalidation_0-aucpr:0.696306\tvalidation_1-logloss:0.423187\tvalidation_1-aucpr:0.700429\n",
      "[45]\tvalidation_0-logloss:0.422679\tvalidation_0-aucpr:0.696749\tvalidation_1-logloss:0.422459\tvalidation_1-aucpr:0.700817\n",
      "[46]\tvalidation_0-logloss:0.42104\tvalidation_0-aucpr:0.696987\tvalidation_1-logloss:0.42118\tvalidation_1-aucpr:0.700861\n",
      "[47]\tvalidation_0-logloss:0.42062\tvalidation_0-aucpr:0.697517\tvalidation_1-logloss:0.420444\tvalidation_1-aucpr:0.701591\n",
      "[48]\tvalidation_0-logloss:0.419644\tvalidation_0-aucpr:0.698469\tvalidation_1-logloss:0.419533\tvalidation_1-aucpr:0.702301\n",
      "[49]\tvalidation_0-logloss:0.417974\tvalidation_0-aucpr:0.699744\tvalidation_1-logloss:0.418201\tvalidation_1-aucpr:0.703696\n",
      "[50]\tvalidation_0-logloss:0.417713\tvalidation_0-aucpr:0.705203\tvalidation_1-logloss:0.416975\tvalidation_1-aucpr:0.710179\n",
      "[51]\tvalidation_0-logloss:0.416651\tvalidation_0-aucpr:0.705583\tvalidation_1-logloss:0.416412\tvalidation_1-aucpr:0.710596\n",
      "[52]\tvalidation_0-logloss:0.41602\tvalidation_0-aucpr:0.70571\tvalidation_1-logloss:0.415873\tvalidation_1-aucpr:0.710462\n",
      "[53]\tvalidation_0-logloss:0.414971\tvalidation_0-aucpr:0.711109\tvalidation_1-logloss:0.414834\tvalidation_1-aucpr:0.714148\n",
      "[54]\tvalidation_0-logloss:0.414512\tvalidation_0-aucpr:0.711059\tvalidation_1-logloss:0.414319\tvalidation_1-aucpr:0.714109\n",
      "[55]\tvalidation_0-logloss:0.413556\tvalidation_0-aucpr:0.711044\tvalidation_1-logloss:0.413343\tvalidation_1-aucpr:0.714464\n",
      "[56]\tvalidation_0-logloss:0.41289\tvalidation_0-aucpr:0.717271\tvalidation_1-logloss:0.412656\tvalidation_1-aucpr:0.721213\n",
      "[57]\tvalidation_0-logloss:0.412337\tvalidation_0-aucpr:0.717472\tvalidation_1-logloss:0.41213\tvalidation_1-aucpr:0.721432\n",
      "[58]\tvalidation_0-logloss:0.411951\tvalidation_0-aucpr:0.717912\tvalidation_1-logloss:0.411679\tvalidation_1-aucpr:0.721915\n",
      "[59]\tvalidation_0-logloss:0.411572\tvalidation_0-aucpr:0.718028\tvalidation_1-logloss:0.411159\tvalidation_1-aucpr:0.722016\n",
      "[60]\tvalidation_0-logloss:0.410556\tvalidation_0-aucpr:0.720648\tvalidation_1-logloss:0.410396\tvalidation_1-aucpr:0.723621\n",
      "[61]\tvalidation_0-logloss:0.409877\tvalidation_0-aucpr:0.725207\tvalidation_1-logloss:0.40968\tvalidation_1-aucpr:0.728293\n",
      "[62]\tvalidation_0-logloss:0.408998\tvalidation_0-aucpr:0.724047\tvalidation_1-logloss:0.408857\tvalidation_1-aucpr:0.727454\n",
      "[63]\tvalidation_0-logloss:0.408662\tvalidation_0-aucpr:0.725161\tvalidation_1-logloss:0.408526\tvalidation_1-aucpr:0.728748\n",
      "[64]\tvalidation_0-logloss:0.408029\tvalidation_0-aucpr:0.727701\tvalidation_1-logloss:0.407854\tvalidation_1-aucpr:0.731422\n",
      "[65]\tvalidation_0-logloss:0.407706\tvalidation_0-aucpr:0.727638\tvalidation_1-logloss:0.407483\tvalidation_1-aucpr:0.731362\n",
      "[66]\tvalidation_0-logloss:0.407012\tvalidation_0-aucpr:0.728791\tvalidation_1-logloss:0.406812\tvalidation_1-aucpr:0.731981\n",
      "[67]\tvalidation_0-logloss:0.406507\tvalidation_0-aucpr:0.729968\tvalidation_1-logloss:0.406282\tvalidation_1-aucpr:0.732973\n",
      "[68]\tvalidation_0-logloss:0.406277\tvalidation_0-aucpr:0.730059\tvalidation_1-logloss:0.405999\tvalidation_1-aucpr:0.733049\n"
     ]
    },
    {
     "name": "stdout",
     "output_type": "stream",
     "text": [
      "[69]\tvalidation_0-logloss:0.405619\tvalidation_0-aucpr:0.731556\tvalidation_1-logloss:0.405351\tvalidation_1-aucpr:0.73427\n",
      "[70]\tvalidation_0-logloss:0.405092\tvalidation_0-aucpr:0.732288\tvalidation_1-logloss:0.404703\tvalidation_1-aucpr:0.735279\n",
      "[71]\tvalidation_0-logloss:0.404396\tvalidation_0-aucpr:0.73165\tvalidation_1-logloss:0.404052\tvalidation_1-aucpr:0.734757\n",
      "[72]\tvalidation_0-logloss:0.404032\tvalidation_0-aucpr:0.73206\tvalidation_1-logloss:0.403716\tvalidation_1-aucpr:0.735195\n",
      "[73]\tvalidation_0-logloss:0.403785\tvalidation_0-aucpr:0.73217\tvalidation_1-logloss:0.403363\tvalidation_1-aucpr:0.735262\n",
      "[74]\tvalidation_0-logloss:0.403092\tvalidation_0-aucpr:0.732319\tvalidation_1-logloss:0.402748\tvalidation_1-aucpr:0.73539\n",
      "[75]\tvalidation_0-logloss:0.402652\tvalidation_0-aucpr:0.733608\tvalidation_1-logloss:0.402261\tvalidation_1-aucpr:0.736861\n",
      "[76]\tvalidation_0-logloss:0.402395\tvalidation_0-aucpr:0.733977\tvalidation_1-logloss:0.401894\tvalidation_1-aucpr:0.73723\n",
      "[77]\tvalidation_0-logloss:0.401849\tvalidation_0-aucpr:0.733561\tvalidation_1-logloss:0.401317\tvalidation_1-aucpr:0.736872\n",
      "[78]\tvalidation_0-logloss:0.401505\tvalidation_0-aucpr:0.733882\tvalidation_1-logloss:0.401062\tvalidation_1-aucpr:0.737212\n",
      "[79]\tvalidation_0-logloss:0.401033\tvalidation_0-aucpr:0.73581\tvalidation_1-logloss:0.400572\tvalidation_1-aucpr:0.739084\n",
      "[80]\tvalidation_0-logloss:0.400709\tvalidation_0-aucpr:0.7362\tvalidation_1-logloss:0.400351\tvalidation_1-aucpr:0.739573\n",
      "[81]\tvalidation_0-logloss:0.400461\tvalidation_0-aucpr:0.736782\tvalidation_1-logloss:0.400075\tvalidation_1-aucpr:0.740214\n",
      "[82]\tvalidation_0-logloss:0.400264\tvalidation_0-aucpr:0.737011\tvalidation_1-logloss:0.399825\tvalidation_1-aucpr:0.740479\n",
      "[83]\tvalidation_0-logloss:0.399838\tvalidation_0-aucpr:0.738045\tvalidation_1-logloss:0.399425\tvalidation_1-aucpr:0.741637\n",
      "[84]\tvalidation_0-logloss:0.39949\tvalidation_0-aucpr:0.738525\tvalidation_1-logloss:0.399041\tvalidation_1-aucpr:0.742118\n",
      "[85]\tvalidation_0-logloss:0.399105\tvalidation_0-aucpr:0.738743\tvalidation_1-logloss:0.39863\tvalidation_1-aucpr:0.742426\n",
      "[86]\tvalidation_0-logloss:0.398623\tvalidation_0-aucpr:0.738487\tvalidation_1-logloss:0.398132\tvalidation_1-aucpr:0.742241\n",
      "[87]\tvalidation_0-logloss:0.398159\tvalidation_0-aucpr:0.738483\tvalidation_1-logloss:0.397659\tvalidation_1-aucpr:0.742348\n",
      "[88]\tvalidation_0-logloss:0.397964\tvalidation_0-aucpr:0.738482\tvalidation_1-logloss:0.397423\tvalidation_1-aucpr:0.742346\n",
      "[89]\tvalidation_0-logloss:0.397763\tvalidation_0-aucpr:0.738783\tvalidation_1-logloss:0.397224\tvalidation_1-aucpr:0.742608\n",
      "[90]\tvalidation_0-logloss:0.397478\tvalidation_0-aucpr:0.739176\tvalidation_1-logloss:0.397023\tvalidation_1-aucpr:0.742981\n",
      "[91]\tvalidation_0-logloss:0.397317\tvalidation_0-aucpr:0.739351\tvalidation_1-logloss:0.396844\tvalidation_1-aucpr:0.743164\n",
      "[92]\tvalidation_0-logloss:0.397013\tvalidation_0-aucpr:0.740117\tvalidation_1-logloss:0.396478\tvalidation_1-aucpr:0.743967\n",
      "[93]\tvalidation_0-logloss:0.396772\tvalidation_0-aucpr:0.739649\tvalidation_1-logloss:0.396301\tvalidation_1-aucpr:0.743602\n",
      "[94]\tvalidation_0-logloss:0.396357\tvalidation_0-aucpr:0.739777\tvalidation_1-logloss:0.395862\tvalidation_1-aucpr:0.743801\n",
      "[95]\tvalidation_0-logloss:0.396009\tvalidation_0-aucpr:0.740656\tvalidation_1-logloss:0.3954\tvalidation_1-aucpr:0.744532\n",
      "[96]\tvalidation_0-logloss:0.395857\tvalidation_0-aucpr:0.740926\tvalidation_1-logloss:0.395224\tvalidation_1-aucpr:0.74477\n",
      "[97]\tvalidation_0-logloss:0.395582\tvalidation_0-aucpr:0.741611\tvalidation_1-logloss:0.394939\tvalidation_1-aucpr:0.745357\n",
      "[98]\tvalidation_0-logloss:0.395204\tvalidation_0-aucpr:0.741798\tvalidation_1-logloss:0.394582\tvalidation_1-aucpr:0.745579\n",
      "[99]\tvalidation_0-logloss:0.395012\tvalidation_0-aucpr:0.742124\tvalidation_1-logloss:0.394422\tvalidation_1-aucpr:0.745791\n",
      "[100]\tvalidation_0-logloss:0.394841\tvalidation_0-aucpr:0.742175\tvalidation_1-logloss:0.394244\tvalidation_1-aucpr:0.745804\n",
      "[101]\tvalidation_0-logloss:0.394579\tvalidation_0-aucpr:0.742112\tvalidation_1-logloss:0.393996\tvalidation_1-aucpr:0.745691\n",
      "[102]\tvalidation_0-logloss:0.394201\tvalidation_0-aucpr:0.74266\tvalidation_1-logloss:0.393644\tvalidation_1-aucpr:0.746343\n",
      "[103]\tvalidation_0-logloss:0.394064\tvalidation_0-aucpr:0.742744\tvalidation_1-logloss:0.393501\tvalidation_1-aucpr:0.746417\n",
      "[104]\tvalidation_0-logloss:0.39376\tvalidation_0-aucpr:0.743239\tvalidation_1-logloss:0.393209\tvalidation_1-aucpr:0.746922\n",
      "[105]\tvalidation_0-logloss:0.393396\tvalidation_0-aucpr:0.744125\tvalidation_1-logloss:0.39285\tvalidation_1-aucpr:0.747622\n",
      "[106]\tvalidation_0-logloss:0.393045\tvalidation_0-aucpr:0.744245\tvalidation_1-logloss:0.392465\tvalidation_1-aucpr:0.747794\n",
      "[107]\tvalidation_0-logloss:0.392757\tvalidation_0-aucpr:0.74507\tvalidation_1-logloss:0.392142\tvalidation_1-aucpr:0.748706\n",
      "[108]\tvalidation_0-logloss:0.392513\tvalidation_0-aucpr:0.745414\tvalidation_1-logloss:0.391918\tvalidation_1-aucpr:0.749062\n",
      "[109]\tvalidation_0-logloss:0.392426\tvalidation_0-aucpr:0.745413\tvalidation_1-logloss:0.391775\tvalidation_1-aucpr:0.749062\n",
      "[110]\tvalidation_0-logloss:0.392281\tvalidation_0-aucpr:0.745579\tvalidation_1-logloss:0.391639\tvalidation_1-aucpr:0.74928\n",
      "[111]\tvalidation_0-logloss:0.392029\tvalidation_0-aucpr:0.745583\tvalidation_1-logloss:0.39136\tvalidation_1-aucpr:0.749331\n",
      "[112]\tvalidation_0-logloss:0.391897\tvalidation_0-aucpr:0.74571\tvalidation_1-logloss:0.391249\tvalidation_1-aucpr:0.749439\n",
      "[113]\tvalidation_0-logloss:0.391733\tvalidation_0-aucpr:0.745944\tvalidation_1-logloss:0.391067\tvalidation_1-aucpr:0.749653\n",
      "[114]\tvalidation_0-logloss:0.391385\tvalidation_0-aucpr:0.74649\tvalidation_1-logloss:0.390727\tvalidation_1-aucpr:0.750087\n",
      "[115]\tvalidation_0-logloss:0.391264\tvalidation_0-aucpr:0.746583\tvalidation_1-logloss:0.390628\tvalidation_1-aucpr:0.750201\n",
      "[116]\tvalidation_0-logloss:0.391005\tvalidation_0-aucpr:0.746833\tvalidation_1-logloss:0.390365\tvalidation_1-aucpr:0.750506\n",
      "[117]\tvalidation_0-logloss:0.390975\tvalidation_0-aucpr:0.746776\tvalidation_1-logloss:0.390248\tvalidation_1-aucpr:0.750418\n",
      "[118]\tvalidation_0-logloss:0.390656\tvalidation_0-aucpr:0.746738\tvalidation_1-logloss:0.389934\tvalidation_1-aucpr:0.750434\n",
      "[119]\tvalidation_0-logloss:0.390501\tvalidation_0-aucpr:0.74697\tvalidation_1-logloss:0.389809\tvalidation_1-aucpr:0.750635\n",
      "[120]\tvalidation_0-logloss:0.390357\tvalidation_0-aucpr:0.747194\tvalidation_1-logloss:0.389678\tvalidation_1-aucpr:0.750742\n",
      "[121]\tvalidation_0-logloss:0.390112\tvalidation_0-aucpr:0.747202\tvalidation_1-logloss:0.389401\tvalidation_1-aucpr:0.750837\n",
      "[122]\tvalidation_0-logloss:0.389986\tvalidation_0-aucpr:0.747434\tvalidation_1-logloss:0.389288\tvalidation_1-aucpr:0.751011\n",
      "[123]\tvalidation_0-logloss:0.389872\tvalidation_0-aucpr:0.747492\tvalidation_1-logloss:0.389176\tvalidation_1-aucpr:0.751116\n",
      "[124]\tvalidation_0-logloss:0.389801\tvalidation_0-aucpr:0.747686\tvalidation_1-logloss:0.389059\tvalidation_1-aucpr:0.751313\n",
      "[125]\tvalidation_0-logloss:0.389541\tvalidation_0-aucpr:0.748064\tvalidation_1-logloss:0.388846\tvalidation_1-aucpr:0.751812\n",
      "[126]\tvalidation_0-logloss:0.389396\tvalidation_0-aucpr:0.748217\tvalidation_1-logloss:0.388686\tvalidation_1-aucpr:0.752035\n",
      "[127]\tvalidation_0-logloss:0.389268\tvalidation_0-aucpr:0.748391\tvalidation_1-logloss:0.388568\tvalidation_1-aucpr:0.75225\n",
      "[128]\tvalidation_0-logloss:0.389103\tvalidation_0-aucpr:0.748619\tvalidation_1-logloss:0.388388\tvalidation_1-aucpr:0.752476\n",
      "[129]\tvalidation_0-logloss:0.389002\tvalidation_0-aucpr:0.748726\tvalidation_1-logloss:0.388286\tvalidation_1-aucpr:0.752601\n",
      "[130]\tvalidation_0-logloss:0.388821\tvalidation_0-aucpr:0.749207\tvalidation_1-logloss:0.388066\tvalidation_1-aucpr:0.753066\n",
      "[131]\tvalidation_0-logloss:0.388736\tvalidation_0-aucpr:0.749013\tvalidation_1-logloss:0.387965\tvalidation_1-aucpr:0.752936\n",
      "[132]\tvalidation_0-logloss:0.388552\tvalidation_0-aucpr:0.749135\tvalidation_1-logloss:0.387787\tvalidation_1-aucpr:0.753108\n",
      "[133]\tvalidation_0-logloss:0.388456\tvalidation_0-aucpr:0.749243\tvalidation_1-logloss:0.387703\tvalidation_1-aucpr:0.753231\n",
      "[134]\tvalidation_0-logloss:0.388264\tvalidation_0-aucpr:0.749489\tvalidation_1-logloss:0.387509\tvalidation_1-aucpr:0.753519\n",
      "[135]\tvalidation_0-logloss:0.388045\tvalidation_0-aucpr:0.750068\tvalidation_1-logloss:0.387274\tvalidation_1-aucpr:0.754139\n",
      "[136]\tvalidation_0-logloss:0.387838\tvalidation_0-aucpr:0.750078\tvalidation_1-logloss:0.387084\tvalidation_1-aucpr:0.754169\n"
     ]
    },
    {
     "name": "stdout",
     "output_type": "stream",
     "text": [
      "[137]\tvalidation_0-logloss:0.387749\tvalidation_0-aucpr:0.750151\tvalidation_1-logloss:0.387005\tvalidation_1-aucpr:0.75423\n",
      "[138]\tvalidation_0-logloss:0.387657\tvalidation_0-aucpr:0.750168\tvalidation_1-logloss:0.386913\tvalidation_1-aucpr:0.754246\n",
      "[139]\tvalidation_0-logloss:0.387563\tvalidation_0-aucpr:0.75026\tvalidation_1-logloss:0.386806\tvalidation_1-aucpr:0.754365\n",
      "[140]\tvalidation_0-logloss:0.387486\tvalidation_0-aucpr:0.750382\tvalidation_1-logloss:0.386715\tvalidation_1-aucpr:0.754498\n",
      "[141]\tvalidation_0-logloss:0.387378\tvalidation_0-aucpr:0.750588\tvalidation_1-logloss:0.386619\tvalidation_1-aucpr:0.754619\n",
      "[142]\tvalidation_0-logloss:0.387279\tvalidation_0-aucpr:0.750717\tvalidation_1-logloss:0.386538\tvalidation_1-aucpr:0.754711\n",
      "[143]\tvalidation_0-logloss:0.387088\tvalidation_0-aucpr:0.750961\tvalidation_1-logloss:0.38633\tvalidation_1-aucpr:0.755009\n",
      "[144]\tvalidation_0-logloss:0.386925\tvalidation_0-aucpr:0.751163\tvalidation_1-logloss:0.386159\tvalidation_1-aucpr:0.755228\n",
      "[145]\tvalidation_0-logloss:0.386756\tvalidation_0-aucpr:0.751597\tvalidation_1-logloss:0.385983\tvalidation_1-aucpr:0.755728\n",
      "[146]\tvalidation_0-logloss:0.386683\tvalidation_0-aucpr:0.751553\tvalidation_1-logloss:0.385901\tvalidation_1-aucpr:0.755682\n",
      "[147]\tvalidation_0-logloss:0.3866\tvalidation_0-aucpr:0.751662\tvalidation_1-logloss:0.385814\tvalidation_1-aucpr:0.755812\n",
      "[148]\tvalidation_0-logloss:0.386495\tvalidation_0-aucpr:0.751738\tvalidation_1-logloss:0.385717\tvalidation_1-aucpr:0.755888\n",
      "[149]\tvalidation_0-logloss:0.386406\tvalidation_0-aucpr:0.751651\tvalidation_1-logloss:0.385625\tvalidation_1-aucpr:0.755852\n",
      "[150]\tvalidation_0-logloss:0.386243\tvalidation_0-aucpr:0.751718\tvalidation_1-logloss:0.385461\tvalidation_1-aucpr:0.755922\n",
      "[151]\tvalidation_0-logloss:0.386129\tvalidation_0-aucpr:0.751936\tvalidation_1-logloss:0.385372\tvalidation_1-aucpr:0.75614\n",
      "[152]\tvalidation_0-logloss:0.386002\tvalidation_0-aucpr:0.752129\tvalidation_1-logloss:0.385235\tvalidation_1-aucpr:0.756368\n",
      "[153]\tvalidation_0-logloss:0.385947\tvalidation_0-aucpr:0.75215\tvalidation_1-logloss:0.385172\tvalidation_1-aucpr:0.756384\n",
      "[154]\tvalidation_0-logloss:0.385865\tvalidation_0-aucpr:0.752252\tvalidation_1-logloss:0.385058\tvalidation_1-aucpr:0.75649\n",
      "[155]\tvalidation_0-logloss:0.385801\tvalidation_0-aucpr:0.752282\tvalidation_1-logloss:0.384997\tvalidation_1-aucpr:0.756519\n",
      "[156]\tvalidation_0-logloss:0.385647\tvalidation_0-aucpr:0.752507\tvalidation_1-logloss:0.384848\tvalidation_1-aucpr:0.756742\n",
      "[157]\tvalidation_0-logloss:0.385564\tvalidation_0-aucpr:0.75256\tvalidation_1-logloss:0.384764\tvalidation_1-aucpr:0.756824\n",
      "[158]\tvalidation_0-logloss:0.385487\tvalidation_0-aucpr:0.752703\tvalidation_1-logloss:0.384685\tvalidation_1-aucpr:0.756974\n",
      "[159]\tvalidation_0-logloss:0.385354\tvalidation_0-aucpr:0.752759\tvalidation_1-logloss:0.384547\tvalidation_1-aucpr:0.757021\n",
      "[160]\tvalidation_0-logloss:0.385255\tvalidation_0-aucpr:0.752881\tvalidation_1-logloss:0.384465\tvalidation_1-aucpr:0.75712\n",
      "[161]\tvalidation_0-logloss:0.385186\tvalidation_0-aucpr:0.752888\tvalidation_1-logloss:0.384395\tvalidation_1-aucpr:0.7571\n",
      "[162]\tvalidation_0-logloss:0.385061\tvalidation_0-aucpr:0.753056\tvalidation_1-logloss:0.384278\tvalidation_1-aucpr:0.757289\n",
      "[163]\tvalidation_0-logloss:0.384993\tvalidation_0-aucpr:0.75311\tvalidation_1-logloss:0.384218\tvalidation_1-aucpr:0.757366\n",
      "[164]\tvalidation_0-logloss:0.384857\tvalidation_0-aucpr:0.753269\tvalidation_1-logloss:0.384089\tvalidation_1-aucpr:0.757512\n",
      "[165]\tvalidation_0-logloss:0.384804\tvalidation_0-aucpr:0.753295\tvalidation_1-logloss:0.384038\tvalidation_1-aucpr:0.757533\n",
      "[166]\tvalidation_0-logloss:0.384748\tvalidation_0-aucpr:0.753344\tvalidation_1-logloss:0.383969\tvalidation_1-aucpr:0.757609\n",
      "[167]\tvalidation_0-logloss:0.384651\tvalidation_0-aucpr:0.753488\tvalidation_1-logloss:0.38388\tvalidation_1-aucpr:0.757713\n",
      "[168]\tvalidation_0-logloss:0.384509\tvalidation_0-aucpr:0.753825\tvalidation_1-logloss:0.383736\tvalidation_1-aucpr:0.758099\n",
      "[169]\tvalidation_0-logloss:0.384458\tvalidation_0-aucpr:0.753874\tvalidation_1-logloss:0.383685\tvalidation_1-aucpr:0.758151\n",
      "[170]\tvalidation_0-logloss:0.384402\tvalidation_0-aucpr:0.753912\tvalidation_1-logloss:0.383634\tvalidation_1-aucpr:0.758191\n",
      "[171]\tvalidation_0-logloss:0.384335\tvalidation_0-aucpr:0.753947\tvalidation_1-logloss:0.383574\tvalidation_1-aucpr:0.758206\n",
      "[172]\tvalidation_0-logloss:0.384253\tvalidation_0-aucpr:0.754019\tvalidation_1-logloss:0.383481\tvalidation_1-aucpr:0.758304\n",
      "[173]\tvalidation_0-logloss:0.384147\tvalidation_0-aucpr:0.754153\tvalidation_1-logloss:0.383382\tvalidation_1-aucpr:0.758432\n",
      "[174]\tvalidation_0-logloss:0.38409\tvalidation_0-aucpr:0.754216\tvalidation_1-logloss:0.383328\tvalidation_1-aucpr:0.75846\n",
      "[175]\tvalidation_0-logloss:0.384016\tvalidation_0-aucpr:0.754296\tvalidation_1-logloss:0.383267\tvalidation_1-aucpr:0.758524\n",
      "[176]\tvalidation_0-logloss:0.38395\tvalidation_0-aucpr:0.754168\tvalidation_1-logloss:0.383198\tvalidation_1-aucpr:0.758432\n",
      "[177]\tvalidation_0-logloss:0.383789\tvalidation_0-aucpr:0.754109\tvalidation_1-logloss:0.38301\tvalidation_1-aucpr:0.758417\n",
      "[178]\tvalidation_0-logloss:0.383739\tvalidation_0-aucpr:0.754145\tvalidation_1-logloss:0.382959\tvalidation_1-aucpr:0.758429\n",
      "[179]\tvalidation_0-logloss:0.383679\tvalidation_0-aucpr:0.754251\tvalidation_1-logloss:0.382898\tvalidation_1-aucpr:0.758557\n",
      "[180]\tvalidation_0-logloss:0.383556\tvalidation_0-aucpr:0.754222\tvalidation_1-logloss:0.382775\tvalidation_1-aucpr:0.758527\n",
      "[181]\tvalidation_0-logloss:0.383436\tvalidation_0-aucpr:0.75437\tvalidation_1-logloss:0.382641\tvalidation_1-aucpr:0.758718\n",
      "[182]\tvalidation_0-logloss:0.383275\tvalidation_0-aucpr:0.754626\tvalidation_1-logloss:0.382495\tvalidation_1-aucpr:0.759\n",
      "[183]\tvalidation_0-logloss:0.383201\tvalidation_0-aucpr:0.754731\tvalidation_1-logloss:0.382421\tvalidation_1-aucpr:0.759072\n",
      "[184]\tvalidation_0-logloss:0.383153\tvalidation_0-aucpr:0.754758\tvalidation_1-logloss:0.38238\tvalidation_1-aucpr:0.759093\n",
      "[185]\tvalidation_0-logloss:0.383063\tvalidation_0-aucpr:0.754833\tvalidation_1-logloss:0.382258\tvalidation_1-aucpr:0.759211\n",
      "[186]\tvalidation_0-logloss:0.382887\tvalidation_0-aucpr:0.755142\tvalidation_1-logloss:0.382103\tvalidation_1-aucpr:0.759485\n",
      "[187]\tvalidation_0-logloss:0.382816\tvalidation_0-aucpr:0.755143\tvalidation_1-logloss:0.382038\tvalidation_1-aucpr:0.759462\n",
      "[188]\tvalidation_0-logloss:0.382763\tvalidation_0-aucpr:0.755123\tvalidation_1-logloss:0.381997\tvalidation_1-aucpr:0.759449\n",
      "[189]\tvalidation_0-logloss:0.382699\tvalidation_0-aucpr:0.75525\tvalidation_1-logloss:0.381939\tvalidation_1-aucpr:0.759582\n",
      "[190]\tvalidation_0-logloss:0.382569\tvalidation_0-aucpr:0.75544\tvalidation_1-logloss:0.38182\tvalidation_1-aucpr:0.759754\n",
      "[191]\tvalidation_0-logloss:0.382502\tvalidation_0-aucpr:0.755478\tvalidation_1-logloss:0.381748\tvalidation_1-aucpr:0.759781\n",
      "[192]\tvalidation_0-logloss:0.382464\tvalidation_0-aucpr:0.75549\tvalidation_1-logloss:0.381691\tvalidation_1-aucpr:0.759808\n",
      "[193]\tvalidation_0-logloss:0.38237\tvalidation_0-aucpr:0.755524\tvalidation_1-logloss:0.381634\tvalidation_1-aucpr:0.75985\n",
      "[194]\tvalidation_0-logloss:0.38233\tvalidation_0-aucpr:0.755553\tvalidation_1-logloss:0.381597\tvalidation_1-aucpr:0.75985\n",
      "[195]\tvalidation_0-logloss:0.382288\tvalidation_0-aucpr:0.75559\tvalidation_1-logloss:0.381555\tvalidation_1-aucpr:0.759884\n",
      "[196]\tvalidation_0-logloss:0.382246\tvalidation_0-aucpr:0.755591\tvalidation_1-logloss:0.38152\tvalidation_1-aucpr:0.759889\n",
      "[197]\tvalidation_0-logloss:0.382197\tvalidation_0-aucpr:0.75562\tvalidation_1-logloss:0.381468\tvalidation_1-aucpr:0.759936\n",
      "[198]\tvalidation_0-logloss:0.382149\tvalidation_0-aucpr:0.755743\tvalidation_1-logloss:0.381384\tvalidation_1-aucpr:0.760057\n",
      "[199]\tvalidation_0-logloss:0.382031\tvalidation_0-aucpr:0.755924\tvalidation_1-logloss:0.381284\tvalidation_1-aucpr:0.760256\n"
     ]
    },
    {
     "data": {
      "text/plain": [
       "XGBClassifier(early_stopping_rounds=10, eta=0.3, max_depth=2, n_estimators=200,\n",
       "              random_state=1234)"
      ]
     },
     "execution_count": 150,
     "metadata": {},
     "output_type": "execute_result"
    }
   ],
   "source": [
    "xgb_clf.fit(X_train_sub, y_train_sub, \n",
    "            eval_metric=[\"logloss\", \"aucpr\"],\n",
    "            eval_set=eval_set,\n",
    "            verbose=True)"
   ]
  },
  {
   "cell_type": "code",
   "execution_count": 151,
   "metadata": {},
   "outputs": [],
   "source": [
    "results = xgb_clf.evals_result()"
   ]
  },
  {
   "cell_type": "code",
   "execution_count": 152,
   "metadata": {},
   "outputs": [
    {
     "data": {
      "image/png": "[encoded data removed]",
      "text/plain": [
       "<Figure size 720x720 with 1 Axes>"
      ]
     },
     "metadata": {
      "needs_background": "light"
     },
     "output_type": "display_data"
    }
   ],
   "source": [
    "plot_xgboost_loss(results)"
   ]
  },
  {
   "cell_type": "code",
   "execution_count": 153,
   "metadata": {},
   "outputs": [
    {
     "data": {
      "image/png": "[encoded data removed]",
      "text/plain": [
       "<Figure size 720x720 with 1 Axes>"
      ]
     },
     "metadata": {
      "needs_background": "light"
     },
     "output_type": "display_data"
    }
   ],
   "source": [
    "plot_xgboost_pr_auc(results)"
   ]
  },
  {
   "cell_type": "code",
   "execution_count": 154,
   "metadata": {},
   "outputs": [],
   "source": [
    "y_scores = xgb_clf.predict_proba(X_train_sub)"
   ]
  },
  {
   "cell_type": "code",
   "execution_count": 155,
   "metadata": {},
   "outputs": [],
   "source": [
    "precisions, recalls, thresholds = precision_recall_curve(y_train_sub, y_scores[:,1])"
   ]
  },
  {
   "cell_type": "markdown",
   "metadata": {},
   "source": [
    "Here I calculated on the cv training the decision threshold vs precision and recall. The precision curve is a bit bumpy and slowly changes, while the recall reacts stronger to the threshold. Since I'm interested in a better precision (the model lacks here), I go for a decision threshold of 0.6."
   ]
  },
  {
   "cell_type": "code",
   "execution_count": 156,
   "metadata": {},
   "outputs": [
    {
     "data": {
      "image/png": "[encoded data removed]",
      "text/plain": [
       "<Figure size 576x288 with 1 Axes>"
      ]
     },
     "metadata": {
      "needs_background": "light"
     },
     "output_type": "display_data"
    }
   ],
   "source": [
    "plt.figure(figsize=(8, 4))\n",
    "plot_precision_recall_vs_threshold(precisions, recalls, thresholds)\n",
    "plt.show()"
   ]
  },
  {
   "cell_type": "code",
   "execution_count": 157,
   "metadata": {},
   "outputs": [
    {
     "name": "stdout",
     "output_type": "stream",
     "text": [
      "XGBoost PR AUC: 0.756\n"
     ]
    }
   ],
   "source": [
    "auc_score = auc(recalls, precisions)\n",
    "print('XGBoost PR AUC: %.3f' % auc_score)"
   ]
  },
  {
   "cell_type": "markdown",
   "metadata": {},
   "source": [
    "Precision vs recall is really low. On the sub-samled data it reaches not more than 0.8. But also, it doesnt fall very much with an increased recall."
   ]
  },
  {
   "cell_type": "code",
   "execution_count": 158,
   "metadata": {},
   "outputs": [
    {
     "data": {
      "image/png": "[encoded data removed]",
      "text/plain": [
       "<Figure size 576x432 with 1 Axes>"
      ]
     },
     "metadata": {
      "needs_background": "light"
     },
     "output_type": "display_data"
    }
   ],
   "source": [
    "plt.figure(figsize=(8, 6))\n",
    "plot_precision_vs_recall(precisions, recalls)\n",
    "plt.show()"
   ]
  },
  {
   "cell_type": "markdown",
   "metadata": {},
   "source": [
    "The model is not really good on the under-sampled data. I will apply it to the full training dataset (show more non-texxt items to it) and have a look at the test set."
   ]
  },
  {
   "cell_type": "code",
   "execution_count": 159,
   "metadata": {},
   "outputs": [],
   "source": [
    "y_hat_prob = xgb_clf.predict_proba(X_val)\n",
    "\n",
    "y_hat = [0 if i <= 0.6 else 1 for i in y_hat_prob[:,1]]"
   ]
  },
  {
   "cell_type": "code",
   "execution_count": 160,
   "metadata": {},
   "outputs": [
    {
     "data": {
      "text/html": [
       "<div>\n",
       "<style scoped>\n",
       "    .dataframe tbody tr th:only-of-type {\n",
       "        vertical-align: middle;\n",
       "    }\n",
       "\n",
       "    .dataframe tbody tr th {\n",
       "        vertical-align: top;\n",
       "    }\n",
       "\n",
       "    .dataframe thead th {\n",
       "        text-align: right;\n",
       "    }\n",
       "</style>\n",
       "<table border=\"1\" class=\"dataframe\">\n",
       "  <thead>\n",
       "    <tr style=\"text-align: right;\">\n",
       "      <th></th>\n",
       "      <th>no_text_item</th>\n",
       "      <th>text_item</th>\n",
       "    </tr>\n",
       "  </thead>\n",
       "  <tbody>\n",
       "    <tr>\n",
       "      <th>no_text_item</th>\n",
       "      <td>992648</td>\n",
       "      <td>28702</td>\n",
       "    </tr>\n",
       "    <tr>\n",
       "      <th>text_item</th>\n",
       "      <td>114636</td>\n",
       "      <td>43465</td>\n",
       "    </tr>\n",
       "  </tbody>\n",
       "</table>\n",
       "</div>"
      ],
      "text/plain": [
       "              no_text_item  text_item\n",
       "no_text_item        992648      28702\n",
       "text_item           114636      43465"
      ]
     },
     "execution_count": 160,
     "metadata": {},
     "output_type": "execute_result"
    }
   ],
   "source": [
    "pd.DataFrame(confusion_matrix(y_val, y_hat).T, columns=[\"no_text_item\",\"text_item\"], index=[\"no_text_item\",\"text_item\"])"
   ]
  },
  {
   "cell_type": "code",
   "execution_count": 161,
   "metadata": {},
   "outputs": [
    {
     "data": {
      "text/plain": [
       "0.3775166327930932"
      ]
     },
     "execution_count": 161,
     "metadata": {},
     "output_type": "execute_result"
    }
   ],
   "source": [
    "f1_score(y_val, y_hat)"
   ]
  },
  {
   "cell_type": "code",
   "execution_count": 162,
   "metadata": {},
   "outputs": [
    {
     "data": {
      "text/plain": [
       "0.27491919722202895"
      ]
     },
     "execution_count": 162,
     "metadata": {},
     "output_type": "execute_result"
    }
   ],
   "source": [
    "precision_score(y_val, y_hat)"
   ]
  },
  {
   "cell_type": "code",
   "execution_count": 163,
   "metadata": {},
   "outputs": [
    {
     "data": {
      "text/plain": [
       "0.6022835922235925"
      ]
     },
     "execution_count": 163,
     "metadata": {},
     "output_type": "execute_result"
    }
   ],
   "source": [
    "recall_score(y_val, y_hat)"
   ]
  },
  {
   "cell_type": "markdown",
   "metadata": {},
   "source": [
    "### whole dataset"
   ]
  },
  {
   "cell_type": "code",
   "execution_count": 164,
   "metadata": {},
   "outputs": [],
   "source": [
    "y_hat_prob = xgb_clf.predict_proba(X_train)\n",
    "\n",
    "y_hat = [0 if i <= 0.6 else 1 for i in y_hat_prob[:,1]]"
   ]
  },
  {
   "cell_type": "code",
   "execution_count": 165,
   "metadata": {},
   "outputs": [
    {
     "data": {
      "text/html": [
       "<div>\n",
       "<style scoped>\n",
       "    .dataframe tbody tr th:only-of-type {\n",
       "        vertical-align: middle;\n",
       "    }\n",
       "\n",
       "    .dataframe tbody tr th {\n",
       "        vertical-align: top;\n",
       "    }\n",
       "\n",
       "    .dataframe thead th {\n",
       "        text-align: right;\n",
       "    }\n",
       "</style>\n",
       "<table border=\"1\" class=\"dataframe\">\n",
       "  <thead>\n",
       "    <tr style=\"text-align: right;\">\n",
       "      <th></th>\n",
       "      <th>no_text_item</th>\n",
       "      <th>text_item</th>\n",
       "    </tr>\n",
       "  </thead>\n",
       "  <tbody>\n",
       "    <tr>\n",
       "      <th>no_text_item</th>\n",
       "      <td>2978918</td>\n",
       "      <td>86690</td>\n",
       "    </tr>\n",
       "    <tr>\n",
       "      <th>text_item</th>\n",
       "      <td>342934</td>\n",
       "      <td>129810</td>\n",
       "    </tr>\n",
       "  </tbody>\n",
       "</table>\n",
       "</div>"
      ],
      "text/plain": [
       "              no_text_item  text_item\n",
       "no_text_item       2978918      86690\n",
       "text_item           342934     129810"
      ]
     },
     "execution_count": 165,
     "metadata": {},
     "output_type": "execute_result"
    }
   ],
   "source": [
    "pd.DataFrame(confusion_matrix(y_train, y_hat).T, columns=[\"no_text_item\",\"text_item\"], index=[\"no_text_item\",\"text_item\"])"
   ]
  },
  {
   "cell_type": "code",
   "execution_count": 166,
   "metadata": {},
   "outputs": [
    {
     "data": {
      "text/plain": [
       "0.37667357278409386"
      ]
     },
     "execution_count": 166,
     "metadata": {},
     "output_type": "execute_result"
    }
   ],
   "source": [
    "f1_score(y_train, y_hat)"
   ]
  },
  {
   "cell_type": "code",
   "execution_count": 167,
   "metadata": {},
   "outputs": [
    {
     "data": {
      "text/plain": [
       "0.2745883607195438"
      ]
     },
     "execution_count": 167,
     "metadata": {},
     "output_type": "execute_result"
    }
   ],
   "source": [
    "precision_score(y_train, y_hat)"
   ]
  },
  {
   "cell_type": "code",
   "execution_count": 168,
   "metadata": {},
   "outputs": [
    {
     "data": {
      "text/plain": [
       "0.5995842956120092"
      ]
     },
     "execution_count": 168,
     "metadata": {},
     "output_type": "execute_result"
    }
   ],
   "source": [
    "recall_score(y_train, y_hat)"
   ]
  },
  {
   "cell_type": "code",
   "execution_count": 169,
   "metadata": {},
   "outputs": [
    {
     "data": {
      "text/plain": [
       "0.30932480365379555"
      ]
     },
     "execution_count": 169,
     "metadata": {},
     "output_type": "execute_result"
    }
   ],
   "source": [
    "precisions, recalls, _ = precision_recall_curve(y_train, y_hat_prob[:,1])\n",
    "auc(recalls, precisions)"
   ]
  },
  {
   "cell_type": "markdown",
   "metadata": {},
   "source": [
    "### Test dataset"
   ]
  },
  {
   "cell_type": "code",
   "execution_count": 170,
   "metadata": {},
   "outputs": [],
   "source": [
    "y_hat_prob = xgb_clf.predict_proba(X_test)\n",
    "\n",
    "y_hat = [0 if i <= 0.6 else 1 for i in y_hat_prob[:,1]]"
   ]
  },
  {
   "cell_type": "code",
   "execution_count": 171,
   "metadata": {},
   "outputs": [
    {
     "data": {
      "text/html": [
       "<div>\n",
       "<style scoped>\n",
       "    .dataframe tbody tr th:only-of-type {\n",
       "        vertical-align: middle;\n",
       "    }\n",
       "\n",
       "    .dataframe tbody tr th {\n",
       "        vertical-align: top;\n",
       "    }\n",
       "\n",
       "    .dataframe thead th {\n",
       "        text-align: right;\n",
       "    }\n",
       "</style>\n",
       "<table border=\"1\" class=\"dataframe\">\n",
       "  <thead>\n",
       "    <tr style=\"text-align: right;\">\n",
       "      <th></th>\n",
       "      <th>no_text_item</th>\n",
       "      <th>text_item</th>\n",
       "    </tr>\n",
       "  </thead>\n",
       "  <tbody>\n",
       "    <tr>\n",
       "      <th>no_text_item</th>\n",
       "      <td>172915</td>\n",
       "      <td>3923</td>\n",
       "    </tr>\n",
       "    <tr>\n",
       "      <th>text_item</th>\n",
       "      <td>24350</td>\n",
       "      <td>6151</td>\n",
       "    </tr>\n",
       "  </tbody>\n",
       "</table>\n",
       "</div>"
      ],
      "text/plain": [
       "              no_text_item  text_item\n",
       "no_text_item        172915       3923\n",
       "text_item            24350       6151"
      ]
     },
     "execution_count": 171,
     "metadata": {},
     "output_type": "execute_result"
    }
   ],
   "source": [
    "pd.DataFrame(confusion_matrix(y_test, y_hat).T, columns=[\"no_text_item\",\"text_item\"], index=[\"no_text_item\",\"text_item\"])"
   ]
  },
  {
   "cell_type": "code",
   "execution_count": 172,
   "metadata": {},
   "outputs": [
    {
     "data": {
      "text/plain": [
       "0.3031916204559458"
      ]
     },
     "execution_count": 172,
     "metadata": {},
     "output_type": "execute_result"
    }
   ],
   "source": [
    "f1_score(y_test, y_hat)"
   ]
  },
  {
   "cell_type": "code",
   "execution_count": 173,
   "metadata": {},
   "outputs": [
    {
     "data": {
      "text/plain": [
       "0.20166551916330613"
      ]
     },
     "execution_count": 173,
     "metadata": {},
     "output_type": "execute_result"
    }
   ],
   "source": [
    "precision_score(y_test, y_hat)"
   ]
  },
  {
   "cell_type": "code",
   "execution_count": 174,
   "metadata": {},
   "outputs": [
    {
     "data": {
      "text/plain": [
       "0.610581695453643"
      ]
     },
     "execution_count": 174,
     "metadata": {},
     "output_type": "execute_result"
    }
   ],
   "source": [
    "recall_score(y_test, y_hat)"
   ]
  },
  {
   "cell_type": "code",
   "execution_count": 175,
   "metadata": {},
   "outputs": [
    {
     "data": {
      "text/plain": [
       "0.21765784521150594"
      ]
     },
     "execution_count": 175,
     "metadata": {},
     "output_type": "execute_result"
    }
   ],
   "source": [
    "precisions, recalls, _ = precision_recall_curve(y_test, y_hat_prob[:,1])\n",
    "auc(recalls, precisions)"
   ]
  },
  {
   "cell_type": "code",
   "execution_count": 176,
   "metadata": {},
   "outputs": [
    {
     "data": {
      "image/png": "[encoded data removed]",
      "text/plain": [
       "<Figure size 720x720 with 1 Axes>"
      ]
     },
     "metadata": {
      "needs_background": "light"
     },
     "output_type": "display_data"
    }
   ],
   "source": [
    "xgb.plot_importance(xgb_clf)\n",
    "plt.title(\"xgboost.plot_importance(model)\")\n",
    "plt.show()"
   ]
  },
  {
   "cell_type": "markdown",
   "metadata": {},
   "source": [
    "## Sequential classification"
   ]
  },
  {
   "cell_type": "markdown",
   "metadata": {},
   "source": [
    "The idea of an LSTM or RNN seems possible, since the structure follows a sequence. I havn't applied LSTMs/RNNs in a long run, so this is a very first prototype."
   ]
  },
  {
   "cell_type": "code",
   "execution_count": 34,
   "metadata": {},
   "outputs": [],
   "source": [
    "def plot_metrics(history):\n",
    "    metrics =  ['loss', 'auc', 'precision', 'recall']\n",
    "    for n, metric in enumerate(metrics):\n",
    "        name = metric.replace(\"_\",\" \").capitalize()\n",
    "        plt.subplot(2,2,n+1)\n",
    "        plt.plot(history.epoch,  history.history[metric], color=colors[0], label='Train')\n",
    "        plt.plot(history.epoch, history.history['val_'+metric],\n",
    "                 color=colors[0], linestyle=\"--\", label='Val')\n",
    "        plt.xlabel('Epoch')\n",
    "        plt.ylabel(name)\n",
    "        if metric == 'loss':\n",
    "            plt.ylim([0, plt.ylim()[1]])\n",
    "        elif metric == 'auc':\n",
    "            plt.ylim([0.8,1])\n",
    "        else:\n",
    "            plt.ylim([0,1])\n",
    "\n",
    "        plt.legend()"
   ]
  },
  {
   "cell_type": "code",
   "execution_count": 35,
   "metadata": {},
   "outputs": [],
   "source": [
    "def add_lstm_sequence(data: pd.DataFrame) -> pd.DataFrame:\n",
    "    \n",
    "    colnames = ['region.left', 'region.top', 'region.width', 'region.height', 'region.page']\n",
    "    \n",
    "    base = data.copy()\n",
    "    \n",
    "    for i in range(-10,10):\n",
    "        if i == 0:\n",
    "            continue\n",
    "    \n",
    "        shift_data = base.groupby(['id'])['region.left', 'region.top', 'region.width', 'region.height', 'region.page'].shift(i)\n",
    "        new_col = [col + f\"_shifted_{i}\" for col in colnames]\n",
    "\n",
    "        shift_data.columns = new_col\n",
    "\n",
    "        if i < 0:\n",
    "            data = pd.concat([shift_data, data], axis=1)\n",
    "        else:\n",
    "            data = pd.concat([data, shift_data], axis=1)\n",
    "\n",
    "    \n",
    "    del [base, shift_data]\n",
    "\n",
    "    return data"
   ]
  },
  {
   "cell_type": "code",
   "execution_count": 36,
   "metadata": {},
   "outputs": [],
   "source": [
    "def lstm_feature_engineering(data):\n",
    "    \n",
    "    feature_engineering_strategy = [\n",
    "                                    add_lstm_sequence,\n",
    "                                    fill_nan,\n",
    "                                    drop_unrelated_columns\n",
    "                                    ]\n",
    "\n",
    "    feature_creator = Transformer(feature_engineering_strategy)\n",
    "    data = feature_creator.fit_transform(data)\n",
    "    \n",
    "    return data"
   ]
  },
  {
   "cell_type": "code",
   "execution_count": 37,
   "metadata": {},
   "outputs": [],
   "source": [
    "def drop_unrelated_columns(data: pd.DataFrame) -> pd.DataFrame:\n",
    "    return data.drop([\"value\", \"id\", \"indices\"], axis=1)"
   ]
  },
  {
   "cell_type": "code",
   "execution_count": 38,
   "metadata": {},
   "outputs": [],
   "source": [
    "train = pd.read_csv(\"hypatos-ds-train.csv\")\n",
    "test = pd.read_csv(\"hypatos-ds-test.csv\")"
   ]
  },
  {
   "cell_type": "code",
   "execution_count": 39,
   "metadata": {},
   "outputs": [],
   "source": [
    "train = preprocessing(train, True)\n",
    "test = preprocessing(test)"
   ]
  },
  {
   "cell_type": "code",
   "execution_count": 40,
   "metadata": {},
   "outputs": [
    {
     "data": {
      "text/plain": [
       "count    24073.000000\n",
       "mean       195.979022\n",
       "std        113.535822\n",
       "min         15.000000\n",
       "25%        130.000000\n",
       "50%        174.000000\n",
       "75%        231.000000\n",
       "max       1725.000000\n",
       "dtype: float64"
      ]
     },
     "execution_count": 40,
     "metadata": {},
     "output_type": "execute_result"
    }
   ],
   "source": [
    "train.groupby(['id']).size().describe()"
   ]
  },
  {
   "cell_type": "code",
   "execution_count": null,
   "metadata": {},
   "outputs": [],
   "source": []
  },
  {
   "cell_type": "code",
   "execution_count": 41,
   "metadata": {},
   "outputs": [
    {
     "name": "stderr",
     "output_type": "stream",
     "text": [
      "/usr/local/lib/python3.7/site-packages/ipykernel_launcher.py:11: FutureWarning: Indexing with multiple keys (implicitly converted to a tuple of keys) will be deprecated, use a list instead.\n",
      "  # This is added back by InteractiveShellApp.init_path()\n"
     ]
    }
   ],
   "source": [
    "train = lstm_feature_engineering(train)\n",
    "test = lstm_feature_engineering(test)"
   ]
  },
  {
   "cell_type": "code",
   "execution_count": 42,
   "metadata": {},
   "outputs": [],
   "source": [
    "model_columns = [i for i in train.columns if i != 'label']"
   ]
  },
  {
   "cell_type": "code",
   "execution_count": 43,
   "metadata": {},
   "outputs": [],
   "source": [
    "X_train = train[model_columns]\n",
    "y_train = train[\"label\"] \n",
    "\n",
    "X_test = test[model_columns]\n",
    "y_test = test[\"label\"] "
   ]
  },
  {
   "cell_type": "code",
   "execution_count": 44,
   "metadata": {},
   "outputs": [],
   "source": [
    "X_train, X_val, y_train, y_val = train_test_split(X_train, y_train, stratify=y_train, test_size=0.25)"
   ]
  },
  {
   "cell_type": "code",
   "execution_count": null,
   "metadata": {},
   "outputs": [],
   "source": []
  },
  {
   "cell_type": "code",
   "execution_count": 45,
   "metadata": {},
   "outputs": [],
   "source": [
    "neg, pos = sum(y_train==0), sum(y_train==1)\n",
    "total = neg + pos"
   ]
  },
  {
   "cell_type": "markdown",
   "metadata": {},
   "source": [
    "This build a Sequence of the bounding boxes. I look at the bounding box before and behind the specific bounding box. So I create a sequence of 3 bboxes for the LSTM. "
   ]
  },
  {
   "cell_type": "code",
   "execution_count": 46,
   "metadata": {},
   "outputs": [],
   "source": [
    "scaler = MinMaxScaler(feature_range = (0, 1))\n",
    "X_train = scaler.fit_transform(X_train)\n",
    "\n",
    "X_val = scaler.transform(X_val)\n",
    "X_test = scaler.transform(X_test)"
   ]
  },
  {
   "cell_type": "markdown",
   "metadata": {},
   "source": [
    "for simplicity remove value_lengths and bbox volumne, since both are not part of the sequencing"
   ]
  },
  {
   "cell_type": "code",
   "execution_count": 47,
   "metadata": {},
   "outputs": [
    {
     "data": {
      "text/plain": [
       "(3538352, 100)"
      ]
     },
     "execution_count": 47,
     "metadata": {},
     "output_type": "execute_result"
    }
   ],
   "source": [
    "X_train.shape"
   ]
  },
  {
   "cell_type": "code",
   "execution_count": null,
   "metadata": {},
   "outputs": [],
   "source": []
  },
  {
   "cell_type": "markdown",
   "metadata": {},
   "source": [
    "Stacking in a shape of [batch_size, sequence_length, n_features]"
   ]
  },
  {
   "cell_type": "code",
   "execution_count": 48,
   "metadata": {},
   "outputs": [
    {
     "name": "stdout",
     "output_type": "stream",
     "text": [
      "Training features shape: (3538352, 20, 5)\n",
      "Validation features shape: (1179451, 20, 5)\n",
      "Test features shape: (207339, 20, 5)\n"
     ]
    }
   ],
   "source": [
    "X_train = X_train.reshape((X_train.shape[0], 20, 5))\n",
    "X_val = X_val.reshape((X_val.shape[0], 20, 5))\n",
    "X_test = X_test.reshape((X_test.shape[0], 20, 5))\n",
    "\n",
    "# X_train = X_train.reshape((X_train.shape[0], 1, (X_train.shape[1])))\n",
    "# X_val = X_val.reshape((X_val.shape[0], 1, (X_val.shape[1])))\n",
    "# X_test = X_test.reshape((X_test.shape[0], 1, (X_test.shape[1])))\n",
    "\n",
    "\n",
    "print('Training features shape:', X_train.shape)\n",
    "print('Validation features shape:', X_val.shape)\n",
    "print('Test features shape:', X_test.shape)"
   ]
  },
  {
   "cell_type": "markdown",
   "metadata": {},
   "source": [
    "Adding weights for the model. Positive labels get a heigher weight, which afaik will be multiplied with the gradient in the cost function."
   ]
  },
  {
   "cell_type": "code",
   "execution_count": 49,
   "metadata": {},
   "outputs": [
    {
     "name": "stdout",
     "output_type": "stream",
     "text": [
      "Weight for class 0: 0.53\n",
      "Weight for class 1: 8.17\n"
     ]
    }
   ],
   "source": [
    "# Scaling by total/2 helps keep the loss to a similar magnitude.\n",
    "# The sum of the weights of all examples stays the same.\n",
    "weight_for_0 = (1 / neg)*(total)/2.0 \n",
    "weight_for_1 = (1 / pos)*(total)/2.0\n",
    "\n",
    "class_weight = {0: weight_for_0, 1: weight_for_1}\n",
    "\n",
    "print('Weight for class 0: {:.2f}'.format(weight_for_0))\n",
    "print('Weight for class 1: {:.2f}'.format(weight_for_1))"
   ]
  },
  {
   "cell_type": "code",
   "execution_count": 50,
   "metadata": {},
   "outputs": [],
   "source": [
    "METRICS = [\n",
    "      TruePositives(name='tp'),\n",
    "      FalsePositives(name='fp'),\n",
    "      TrueNegatives(name='tn'),\n",
    "      FalseNegatives(name='fn'), \n",
    "      BinaryAccuracy(name='accuracy'),\n",
    "      Precision(name='precision'),\n",
    "      Recall(name='recall'),\n",
    "      AUC(name='auc'),\n",
    "]"
   ]
  },
  {
   "cell_type": "code",
   "execution_count": 51,
   "metadata": {},
   "outputs": [],
   "source": [
    "def make_model(metrics = METRICS):\n",
    "    \n",
    "    model = Sequential()\n",
    "    model.add(LSTM(42, return_sequences=True, input_shape=(X_train.shape[1], X_train.shape[2])))\n",
    "    model.add(LSTM(42))\n",
    "    model.add(Dense(1, activation='sigmoid'))\n",
    "\n",
    "    model.compile(loss='binary_crossentropy', optimizer= \"adam\", metrics=metrics)  \n",
    "\n",
    "    return model"
   ]
  },
  {
   "cell_type": "code",
   "execution_count": 52,
   "metadata": {},
   "outputs": [],
   "source": [
    "early_stopping = EarlyStopping(\n",
    "    monitor='val_binary_crossentropy', \n",
    "    verbose=1,\n",
    "    patience=3,\n",
    "    mode='max',\n",
    "    restore_best_weights=True)"
   ]
  },
  {
   "cell_type": "markdown",
   "metadata": {},
   "source": [
    "The training takes too long; probably I should have taken only one LSTM layer and less units. Dropout layers are introduced to prevent overfitting. From my prototyping I can conclude, that the class weights improve the learning a lot. Most of my previous approaches failed, because the model was only predicting zeros."
   ]
  },
  {
   "cell_type": "code",
   "execution_count": 53,
   "metadata": {},
   "outputs": [
    {
     "name": "stdout",
     "output_type": "stream",
     "text": [
      "Model: \"sequential_2\"\n",
      "_________________________________________________________________\n",
      "Layer (type)                 Output Shape              Param #   \n",
      "=================================================================\n",
      "lstm_3 (LSTM)                (None, 20, 42)            8064      \n",
      "_________________________________________________________________\n",
      "lstm_4 (LSTM)                (None, 42)                14280     \n",
      "_________________________________________________________________\n",
      "dense_2 (Dense)              (None, 1)                 43        \n",
      "=================================================================\n",
      "Total params: 22,387\n",
      "Trainable params: 22,387\n",
      "Non-trainable params: 0\n",
      "_________________________________________________________________\n"
     ]
    }
   ],
   "source": [
    "weighted_model = make_model()\n",
    "\n",
    "weighted_model.summary()"
   ]
  },
  {
   "cell_type": "code",
   "execution_count": 54,
   "metadata": {},
   "outputs": [
    {
     "name": "stdout",
     "output_type": "stream",
     "text": [
      "Train on 3538352 samples, validate on 1179451 samples\n",
      "Epoch 1/10\n",
      "3538352/3538352 [==============================] - 1000s 283us/step - loss: 0.4559 - tp: 182075.0000 - fp: 950137.0000 - tn: 2371715.0000 - fn: 34425.0000 - accuracy: 0.7217 - precision: 0.1608 - recall: 0.8410 - auc: 0.8600 - val_loss: 0.4385 - val_tp: 64432.0000 - val_fp: 253984.0000 - val_tn: 853300.0000 - val_fn: 7735.0000 - val_accuracy: 0.7781 - val_precision: 0.2024 - val_recall: 0.8928 - val_auc: 0.9053\n",
      "Epoch 2/10\n"
     ]
    },
    {
     "name": "stderr",
     "output_type": "stream",
     "text": [
      "/usr/local/lib/python3.7/site-packages/keras/callbacks/callbacks.py:846: RuntimeWarning: Early stopping conditioned on metric `val_binary_crossentropy` which is not available. Available metrics are: val_loss,val_tp,val_fp,val_tn,val_fn,val_accuracy,val_precision,val_recall,val_auc,loss,tp,fp,tn,fn,accuracy,precision,recall,auc\n",
      "  (self.monitor, ','.join(list(logs.keys()))), RuntimeWarning\n"
     ]
    },
    {
     "name": "stdout",
     "output_type": "stream",
     "text": [
      "3538352/3538352 [==============================] - 1066s 301us/step - loss: 0.3560 - tp: 192781.0000 - fp: 667598.0000 - tn: 2654254.0000 - fn: 23719.0000 - accuracy: 0.8046 - precision: 0.2241 - recall: 0.8904 - auc: 0.9173 - val_loss: 0.3655 - val_tp: 64717.0000 - val_fp: 214879.0000 - val_tn: 892405.0000 - val_fn: 7450.0000 - val_accuracy: 0.8115 - val_precision: 0.2315 - val_recall: 0.8968 - val_auc: 0.9234\n",
      "Epoch 3/10\n",
      "3538352/3538352 [==============================] - 982s 277us/step - loss: 0.3277 - tp: 195221.0000 - fp: 606293.0000 - tn: 2715559.0000 - fn: 21279.0000 - accuracy: 0.8226 - precision: 0.2436 - recall: 0.9017 - auc: 0.9301 - val_loss: 0.3361 - val_tp: 64907.0000 - val_fp: 188550.0000 - val_tn: 918734.0000 - val_fn: 7260.0000 - val_accuracy: 0.8340 - val_precision: 0.2561 - val_recall: 0.8994 - val_auc: 0.9335\n",
      "Epoch 4/10\n",
      "3538352/3538352 [==============================] - 991s 280us/step - loss: 0.3117 - tp: 196304.0000 - fp: 572818.0000 - tn: 2749034.0000 - fn: 20196.0000 - accuracy: 0.8324 - precision: 0.2552 - recall: 0.9067 - auc: 0.9368 - val_loss: 0.3678 - val_tp: 67171.0000 - val_fp: 203149.0000 - val_tn: 904135.0000 - val_fn: 4996.0000 - val_accuracy: 0.8235 - val_precision: 0.2485 - val_recall: 0.9308 - val_auc: 0.9422\n",
      "Epoch 5/10\n",
      "3538352/3538352 [==============================] - 945s 267us/step - loss: 0.2996 - tp: 197219.0000 - fp: 546733.0000 - tn: 2775119.0000 - fn: 19281.0000 - accuracy: 0.8400 - precision: 0.2651 - recall: 0.9109 - auc: 0.9417 - val_loss: 0.3134 - val_tp: 65318.0000 - val_fp: 174716.0000 - val_tn: 932568.0000 - val_fn: 6849.0000 - val_accuracy: 0.8461 - val_precision: 0.2721 - val_recall: 0.9051 - val_auc: 0.9423\n",
      "Epoch 6/10\n",
      "3538352/3538352 [==============================] - 1102s 312us/step - loss: 0.2900 - tp: 197822.0000 - fp: 528865.0000 - tn: 2792987.0000 - fn: 18678.0000 - accuracy: 0.8453 - precision: 0.2722 - recall: 0.9137 - auc: 0.9454 - val_loss: 0.3216 - val_tp: 66883.0000 - val_fp: 183237.0000 - val_tn: 924047.0000 - val_fn: 5284.0000 - val_accuracy: 0.8402 - val_precision: 0.2674 - val_recall: 0.9268 - val_auc: 0.9476\n",
      "Epoch 7/10\n",
      "3538352/3538352 [==============================] - 994s 281us/step - loss: 0.2829 - tp: 198384.0000 - fp: 513542.0000 - tn: 2808310.0000 - fn: 18116.0000 - accuracy: 0.8497 - precision: 0.2787 - recall: 0.9163 - auc: 0.9480 - val_loss: 0.3065 - val_tp: 66325.0000 - val_fp: 169035.0000 - val_tn: 938249.0000 - val_fn: 5842.0000 - val_accuracy: 0.8517 - val_precision: 0.2818 - val_recall: 0.9190 - val_auc: 0.9493\n",
      "Epoch 8/10\n",
      "3538352/3538352 [==============================] - 978s 276us/step - loss: 0.2765 - tp: 199045.0000 - fp: 502862.0000 - tn: 2818990.0000 - fn: 17455.0000 - accuracy: 0.8529 - precision: 0.2836 - recall: 0.9194 - auc: 0.9503 - val_loss: 0.2927 - val_tp: 66258.0000 - val_fp: 164034.0000 - val_tn: 943250.0000 - val_fn: 5909.0000 - val_accuracy: 0.8559 - val_precision: 0.2877 - val_recall: 0.9181 - val_auc: 0.9507\n",
      "Epoch 9/10\n",
      "3538352/3538352 [==============================] - 983s 278us/step - loss: 0.2715 - tp: 199250.0000 - fp: 492264.0000 - tn: 2829588.0000 - fn: 17250.0000 - accuracy: 0.8560 - precision: 0.2881 - recall: 0.9203 - auc: 0.9520 - val_loss: 0.2800 - val_tp: 65719.0000 - val_fp: 152572.0000 - val_tn: 954712.0000 - val_fn: 6448.0000 - val_accuracy: 0.8652 - val_precision: 0.3011 - val_recall: 0.9107 - val_auc: 0.9519\n",
      "Epoch 10/10\n",
      "3538352/3538352 [==============================] - 929s 262us/step - loss: 0.2674 - tp: 199556.0000 - fp: 484714.0000 - tn: 2837138.0000 - fn: 16944.0000 - accuracy: 0.8582 - precision: 0.2916 - recall: 0.9217 - auc: 0.9535 - val_loss: 0.2797 - val_tp: 65806.0000 - val_fp: 153464.0000 - val_tn: 953820.0000 - val_fn: 6361.0000 - val_accuracy: 0.8645 - val_precision: 0.3001 - val_recall: 0.9119 - val_auc: 0.9526\n"
     ]
    }
   ],
   "source": [
    "weighted_history = weighted_model.fit(\n",
    "    X_train,\n",
    "    y_train.values,\n",
    "    batch_size=128,\n",
    "    epochs=10,\n",
    "    callbacks = [early_stopping],\n",
    "    validation_data=(X_val, y_val.values),\n",
    "    class_weight=class_weight,\n",
    "    verbose=1)"
   ]
  },
  {
   "cell_type": "markdown",
   "metadata": {},
   "source": [
    "The model performs worse than the xgboost model; Interestingly in one of my prototypes, I achieved an F1-Score of 0.34 with a mugh higher precision. No idea, what went wrong, when I transformed the model to this notebook. \n",
    "\n",
    "The train-validation curves won't show any overfitting. The precision is still quite bad. The model predicts too many False Positives. Also the model took too long for training. One LSTM layer less and probably a few nodes less would have been better. "
   ]
  },
  {
   "cell_type": "code",
   "execution_count": 55,
   "metadata": {},
   "outputs": [
    {
     "data": {
      "image/png": "[encoded data removed]",
      "text/plain": [
       "<Figure size 720x720 with 4 Axes>"
      ]
     },
     "metadata": {
      "needs_background": "light"
     },
     "output_type": "display_data"
    }
   ],
   "source": [
    "plot_metrics(weighted_history)"
   ]
  },
  {
   "cell_type": "code",
   "execution_count": 56,
   "metadata": {},
   "outputs": [],
   "source": [
    "y_hat_prob = weighted_model.predict(X_train, batch_size=256)"
   ]
  },
  {
   "cell_type": "code",
   "execution_count": 57,
   "metadata": {},
   "outputs": [],
   "source": [
    "precisions, recalls, thresholds = precision_recall_curve(y_train, y_hat_prob)"
   ]
  },
  {
   "cell_type": "code",
   "execution_count": 60,
   "metadata": {},
   "outputs": [
    {
     "data": {
      "image/png": "[encoded data removed]",
      "text/plain": [
       "<Figure size 576x288 with 1 Axes>"
      ]
     },
     "metadata": {
      "needs_background": "light"
     },
     "output_type": "display_data"
    }
   ],
   "source": [
    "plt.figure(figsize=(8, 4))\n",
    "plot_precision_recall_vs_threshold(precisions, recalls, thresholds)\n",
    "plt.show()"
   ]
  },
  {
   "cell_type": "code",
   "execution_count": 61,
   "metadata": {},
   "outputs": [
    {
     "name": "stdout",
     "output_type": "stream",
     "text": [
      "XGBoost PR AUC: 0.624\n"
     ]
    }
   ],
   "source": [
    "auc_score = auc(recalls, precisions)\n",
    "print('XGBoost PR AUC: %.3f' % auc_score)"
   ]
  },
  {
   "cell_type": "code",
   "execution_count": 62,
   "metadata": {},
   "outputs": [
    {
     "data": {
      "image/png": "[encoded data removed]",
      "text/plain": [
       "<Figure size 576x432 with 1 Axes>"
      ]
     },
     "metadata": {
      "needs_background": "light"
     },
     "output_type": "display_data"
    }
   ],
   "source": [
    "plt.figure(figsize=(8, 6))\n",
    "plot_precision_vs_recall(precisions, recalls)\n",
    "plt.show()"
   ]
  },
  {
   "cell_type": "code",
   "execution_count": null,
   "metadata": {},
   "outputs": [],
   "source": []
  },
  {
   "cell_type": "code",
   "execution_count": 63,
   "metadata": {},
   "outputs": [],
   "source": [
    "y_hat = weighted_model.predict_classes(X_test, batch_size=128, verbose=0)"
   ]
  },
  {
   "cell_type": "code",
   "execution_count": 64,
   "metadata": {},
   "outputs": [
    {
     "data": {
      "text/html": [
       "<div>\n",
       "<style scoped>\n",
       "    .dataframe tbody tr th:only-of-type {\n",
       "        vertical-align: middle;\n",
       "    }\n",
       "\n",
       "    .dataframe tbody tr th {\n",
       "        vertical-align: top;\n",
       "    }\n",
       "\n",
       "    .dataframe thead th {\n",
       "        text-align: right;\n",
       "    }\n",
       "</style>\n",
       "<table border=\"1\" class=\"dataframe\">\n",
       "  <thead>\n",
       "    <tr style=\"text-align: right;\">\n",
       "      <th></th>\n",
       "      <th>no_text_item</th>\n",
       "      <th>text_item</th>\n",
       "    </tr>\n",
       "  </thead>\n",
       "  <tbody>\n",
       "    <tr>\n",
       "      <th>no_text_item</th>\n",
       "      <td>167201</td>\n",
       "      <td>1257</td>\n",
       "    </tr>\n",
       "    <tr>\n",
       "      <th>text_item</th>\n",
       "      <td>30064</td>\n",
       "      <td>8817</td>\n",
       "    </tr>\n",
       "  </tbody>\n",
       "</table>\n",
       "</div>"
      ],
      "text/plain": [
       "              no_text_item  text_item\n",
       "no_text_item        167201       1257\n",
       "text_item            30064       8817"
      ]
     },
     "execution_count": 64,
     "metadata": {},
     "output_type": "execute_result"
    }
   ],
   "source": [
    "pd.DataFrame(confusion_matrix(y_test, y_hat).T, columns=[\"no_text_item\",\"text_item\"], index=[\"no_text_item\",\"text_item\"])"
   ]
  },
  {
   "cell_type": "code",
   "execution_count": 65,
   "metadata": {},
   "outputs": [
    {
     "name": "stdout",
     "output_type": "stream",
     "text": [
      "loss :  0.3046565614066303\n",
      "tp :  8817.0\n",
      "fp :  30064.0\n",
      "tn :  167201.0\n",
      "fn :  1257.0\n",
      "accuracy :  0.8489382266998291\n",
      "precision :  0.2267688661813736\n",
      "recall :  0.8752233386039734\n",
      "auc :  0.938652753829956\n"
     ]
    }
   ],
   "source": [
    "weighted_results = weighted_model.evaluate(X_test, y_test,\n",
    "                                           batch_size=256, verbose=0)\n",
    "for name, value in zip(weighted_model.metrics_names, weighted_results):\n",
    "    print(name, ': ', value)\n"
   ]
  },
  {
   "cell_type": "code",
   "execution_count": 66,
   "metadata": {},
   "outputs": [],
   "source": [
    "y_hat_prob = weighted_model.predict(X_test, batch_size=256)"
   ]
  },
  {
   "cell_type": "markdown",
   "metadata": {},
   "source": [
    "Based on the trashold curve, I would pick 0.85."
   ]
  },
  {
   "cell_type": "code",
   "execution_count": 76,
   "metadata": {},
   "outputs": [],
   "source": [
    "threshold = 0.85"
   ]
  },
  {
   "cell_type": "code",
   "execution_count": 77,
   "metadata": {},
   "outputs": [
    {
     "data": {
      "text/plain": [
       "0.5269371393330691"
      ]
     },
     "execution_count": 77,
     "metadata": {},
     "output_type": "execute_result"
    }
   ],
   "source": [
    "f1_score(y_test, y_hat_prob>threshold)"
   ]
  },
  {
   "cell_type": "code",
   "execution_count": 70,
   "metadata": {},
   "outputs": [
    {
     "data": {
      "text/plain": [
       "0.4736675378157916"
      ]
     },
     "execution_count": 70,
     "metadata": {},
     "output_type": "execute_result"
    }
   ],
   "source": [
    "precision_score(y_test, y_hat_prob>threshold)"
   ]
  },
  {
   "cell_type": "code",
   "execution_count": 71,
   "metadata": {},
   "outputs": [
    {
     "data": {
      "text/plain": [
       "0.5937065713718483"
      ]
     },
     "execution_count": 71,
     "metadata": {},
     "output_type": "execute_result"
    }
   ],
   "source": [
    "recall_score(y_test, y_hat_prob>threshold)"
   ]
  },
  {
   "cell_type": "code",
   "execution_count": 72,
   "metadata": {},
   "outputs": [],
   "source": [
    "y_hat_th = [1 if i > threshold else 0 for i in y_hat_prob]"
   ]
  },
  {
   "cell_type": "code",
   "execution_count": 73,
   "metadata": {},
   "outputs": [
    {
     "data": {
      "text/html": [
       "<div>\n",
       "<style scoped>\n",
       "    .dataframe tbody tr th:only-of-type {\n",
       "        vertical-align: middle;\n",
       "    }\n",
       "\n",
       "    .dataframe tbody tr th {\n",
       "        vertical-align: top;\n",
       "    }\n",
       "\n",
       "    .dataframe thead th {\n",
       "        text-align: right;\n",
       "    }\n",
       "</style>\n",
       "<table border=\"1\" class=\"dataframe\">\n",
       "  <thead>\n",
       "    <tr style=\"text-align: right;\">\n",
       "      <th></th>\n",
       "      <th>no_text_item</th>\n",
       "      <th>text_item</th>\n",
       "    </tr>\n",
       "  </thead>\n",
       "  <tbody>\n",
       "    <tr>\n",
       "      <th>no_text_item</th>\n",
       "      <td>190619</td>\n",
       "      <td>4093</td>\n",
       "    </tr>\n",
       "    <tr>\n",
       "      <th>text_item</th>\n",
       "      <td>6646</td>\n",
       "      <td>5981</td>\n",
       "    </tr>\n",
       "  </tbody>\n",
       "</table>\n",
       "</div>"
      ],
      "text/plain": [
       "              no_text_item  text_item\n",
       "no_text_item        190619       4093\n",
       "text_item             6646       5981"
      ]
     },
     "execution_count": 73,
     "metadata": {},
     "output_type": "execute_result"
    }
   ],
   "source": [
    "pd.DataFrame(confusion_matrix(y_test, y_hat_th).T, columns=[\"no_text_item\",\"text_item\"], index=[\"no_text_item\",\"text_item\"])"
   ]
  },
  {
   "cell_type": "code",
   "execution_count": null,
   "metadata": {},
   "outputs": [],
   "source": []
  }
 ],
 "metadata": {
  "kernelspec": {
   "display_name": "Python 3",
   "language": "python",
   "name": "python3"
  },
  "language_info": {
   "codemirror_mode": {
    "name": "ipython",
    "version": 3
   },
   "file_extension": ".py",
   "mimetype": "text/x-python",
   "name": "python",
   "nbconvert_exporter": "python",
   "pygments_lexer": "ipython3",
   "version": "3.7.7"
  }
 },
 "nbformat": 4,
 "nbformat_minor": 2
}
