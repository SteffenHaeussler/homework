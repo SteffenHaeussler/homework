{
 "cells": [
  {
   "cell_type": "code",
   "execution_count": 1,
   "metadata": {},
   "outputs": [],
   "source": [
    "from typing import Dict, List, Union\n",
    "\n",
    "import json\n",
    "\n",
    "import pandas as pd\n",
    "import numpy as np\n",
    "\n",
    "import matplotlib.pyplot as plt\n",
    "from pandas.plotting import scatter_matrix\n",
    "import seaborn as sns\n",
    "\n",
    "%matplotlib inline\n",
    "import matplotlib.pylab as pylab\n",
    "import matplotlib as mpl"
   ]
  },
  {
   "cell_type": "code",
   "execution_count": 2,
   "metadata": {},
   "outputs": [],
   "source": [
    "from sklearn.tree import DecisionTreeClassifier\n",
    "from sklearn.tree import export_graphviz\n",
    "\n",
    "from sklearn.metrics import confusion_matrix, f1_score, precision_score, recall_score\n",
    "from sklearn.metrics import precision_recall_curve, auc\n",
    "from sklearn.model_selection import cross_val_predict, cross_val_score, train_test_split, StratifiedKFold\n",
    "\n",
    "from sklearn.preprocessing import MinMaxScaler\n",
    "\n",
    "import xgboost as xgb"
   ]
  },
  {
   "cell_type": "code",
   "execution_count": 3,
   "metadata": {},
   "outputs": [
    {
     "name": "stderr",
     "output_type": "stream",
     "text": [
      "Using TensorFlow backend.\n"
     ]
    }
   ],
   "source": [
    "from keras.models import Sequential\n",
    "from keras.layers import Dense\n",
    "from keras.layers import Dropout\n",
    "from keras.layers import LSTM\n",
    "from keras.callbacks import EarlyStopping\n",
    "\n",
    "from keras.metrics import (TruePositives, FalsePositives, TrueNegatives, FalseNegatives, \n",
    "                           BinaryAccuracy, Precision, Recall, AUC)"
   ]
  },
  {
   "cell_type": "code",
   "execution_count": 4,
   "metadata": {},
   "outputs": [],
   "source": [
    "pylab.rcParams['figure.figsize'] = 10, 10\n",
    "colors = plt.rcParams['axes.prop_cycle'].by_key()['color']"
   ]
  },
  {
   "cell_type": "markdown",
   "metadata": {},
   "source": [
    "### Summary"
   ]
  },
  {
   "cell_type": "markdown",
   "metadata": {},
   "source": [
    "**First thoughts**\n",
    "\n",
    "The task is to classify the bounding box from the input invoice to a text item or not. \n",
    "\n",
    "Each invoice has several bounding boxes of different sizes. Also, an invoice can contain more than one page.\n",
    "\n",
    "Available data:\n",
    "- length of the bounding box value\n",
    "- relative location of the bounding box\n",
    "- a sequence of bounding boxes per invoice\n",
    "\n",
    "I would expect the text items: \n",
    "- are located on the left side of the page\n",
    "- are located somewhere between below the headers and the bottom of the first page, but on the 2nd page they are located all over the page\n",
    "- have a bigger bounding box than e.g. raw values; since items are more specified than e.g. the price\n",
    "- that there is a sequence of bounding boxes on the same y-coordinates with [item, no item, no item], and so on. Indicating, the text and then the price, taxes, and so on.\n",
    "\n",
    "This is only true for most german invoices. My experience lacks international invoices, but I assume, it will be the same for most of the countries using a Latin alphabet. "
   ]
  },
  {
   "cell_type": "markdown",
   "metadata": {},
   "source": [
    "**Steps**:\n",
    "\n",
    "The data is imbalanced. Every invoice has at least one text item, but only 5% of the provided bounding boxes are text items (ignoring the invoice id structure). The chosen metric for the classification is the F1-Score, which is calculated by precision and recall.\n",
    "\n",
    "I followed two approaches:\n",
    "\n",
    "- Train a tree & ensemble on the data. I try to add the sequence of bounding boxes for each id to get more information. This is also my fallback solution, if I fail with my other approach. Also, I will see, how good a text classification can be generalized by the position on a page. Here I also tried over- and undersampling of the data. Oversampling costs too much time in training and doesn't give any benefit in the F1-score. I discarded this approach.\n",
    "Under-sampling works well with a comparable good F1-Score. The prediction on the whole training dataset will still result in a low F1-Score. I assume, the data is noisy and there need some additional steps found before the bbox classificition.\n",
    "\n",
    "- Training an LSTM, which takes the sequence of the bounding boxes into considerations. For me, it was unclear, if I can get to a running model and if, how well will it perform. Also, the training of my last LSTM is a while ago and for my current project of implementing deep learning models from scratch, LSTMs will be done next week. So I'm currently renewing my expertise. Also I introduce weights based on the amount of the labels in the data. My approach here has many short-comings, but in my overnight training, I got a model, which outperforms the XGBoost model. So I tried to add the code here, but there is somewhere an error."
   ]
  },
  {
   "cell_type": "markdown",
   "metadata": {},
   "source": [
    "**Results** on the test set are:\n",
    "\n",
    "XGBoost:\n",
    "- F1: 0.30\n",
    "- Precision: 0.20\n",
    "- Recall: 0.61\n",
    "\n",
    "LSTM:\n",
    "- F1: 0.45\n",
    "- Precision: 0.34\n",
    "- Recall: 0.66\n",
    "\n",
    "The precision is in both models bad. There are too many False Positives, non-text items classified as text-items. \n",
    "One reason is, that the data is \"noisy\", as seen in the pair plots. The recall is good, but there are too many False Positives in the prediction, which means, there had to be much more cleaning in the end. Adding the previous and following bbox to a prediction give a small boost in the F1-Score. But in the end, it is still not good enough.\n",
    "\n",
    "**Future steps** to improve the models is:\n",
    "\n",
    "- feature engineering - I didn't spend much time here, but just counting elements in specific areas could be an improvement. One goal could be to get a classification of the type of invoice itself.. \n",
    "\n",
    "- invoice classification - there are different types of invoices, probably\n",
    "\n",
    "- thinking in calm about the problem. It still can be, that I missed something very obvious. probably I messed up at feature engineering or data preparation. There are a lot more possibilities beyond the applied bbox volume.\n",
    "\n",
    "- doing research; I'm definitely not the first, who works on this kind of sequential problem. There should be some papers, just to collect more ideas.\n",
    "\n",
    "- model improvement: the LSTM needs definitely more time; probably longer sequences, more features. Since this is a very very early prototype, I'm surprised that the model won't predict only zeros (as most of my prototypes did). "
   ]
  },
  {
   "cell_type": "markdown",
   "metadata": {},
   "source": [
    "1) What is good measure for classification accuracy? \n",
    "\n",
    "- imbalanced data; F1-Score, PR-AUC.\n",
    "I will go for the  F1-Score, since a high precision or a high recall is not useful here, they just will end up in more manual work (cleaning) . The precision-recall curve can also be used for imbalanced data, therefor the PR-AUC can be a useful metric.\n",
    "\n",
    "2) What are possible shortcomings and extensions of your implementation? \n",
    "\n",
    "\n",
    "- no proper cross-validation for the xgboost with hyperparameter search. Needs definetly a fix. I focused too much an model preparation for imbalanced data (under- and oversampling), prototyping different models than doing one thing right.\n",
    "- A shortcoming is the low F1-score\n",
    "- I need to find a more suitable model to represent the data structure for each invoice. I guessed an LSTM/RNN will handle this kind of data, but my prototype wasn't convincing. Probably some simpler models can help as a first step. For a tree approach, there should be more time spent in feature engineering, but my intuition says, that trees won't help with this structure. My LSTM is one whole shortcoming. It needs improvement in model architecture, data preparation (features and sequences), initialization, and so on.\n",
    "\n",
    "- the values could give probably more information; e.g. if the item is a text or a number / nlp\n",
    "\n",
    "- next step would be to revisit all my findings and my approaches. I put too much effort in different approaches than to think very deep about the problem. Normally the interesting ideas come, when the low-hanging fruits fail. :)\n",
    "\n",
    "\n",
    "3) How would you design a real-time performance system that responds to a high volume of prediction requests efficiently.  \n",
    "\n",
    "- I always deployed my models via flask, gunicorn, docker on k8s. This is normally scalable, but it always depends on the traffic volume. The model itself: I prefer small models with fewer preparation steps and a fast prediction. This normally hurts accuracy. For my examples, none of the models is production-ready by the metrics. If prediction time is the constraint, I would go for the XGboost."
   ]
  },
  {
   "cell_type": "markdown",
   "metadata": {},
   "source": [
    "### Data pipeline"
   ]
  },
  {
   "cell_type": "markdown",
   "metadata": {},
   "source": [
    "Basically I take the json files and convert it into a csv file. \n",
    "\n",
    "I merge words and entitites by invoice id, page number and indices.\n",
    "\n",
    "data is not cleaned.\n",
    "\n",
    "The available raw data is split in words and entities. \n",
    "The words data includes the OCR detection of the text value and the according location of the bounding box on the page.\n",
    "The entities data specifies the value of the words data. So it keeps the information, if the bounding box is an item or not. "
   ]
  },
  {
   "cell_type": "markdown",
   "metadata": {},
   "source": [
    "The helpers function is my repo"
   ]
  },
  {
   "cell_type": "code",
   "execution_count": null,
   "metadata": {},
   "outputs": [],
   "source": [
    "import helpers"
   ]
  },
  {
   "cell_type": "code",
   "execution_count": null,
   "metadata": {},
   "outputs": [],
   "source": [
    "files = [\"hypatos-ds-train\", \"hypatos-ds-test\"]"
   ]
  },
  {
   "cell_type": "code",
   "execution_count": null,
   "metadata": {},
   "outputs": [],
   "source": [
    "#todo: get rid of the hard-coded column names; introduce a config file \n",
    "for file in files:\n",
    "    helpers.data_preparation_strategy(file)"
   ]
  },
  {
   "cell_type": "markdown",
   "metadata": {},
   "source": [
    "### Cleaning and preparation"
   ]
  },
  {
   "cell_type": "code",
   "execution_count": 11,
   "metadata": {},
   "outputs": [],
   "source": [
    "class Transformer(object):\n",
    "\n",
    "    def __init__(self, strategy):\n",
    "\n",
    "        self.strategy = strategy\n",
    "\n",
    "    def fit_transform(self, data):\n",
    "\n",
    "        for transform in self.strategy:\n",
    "            data = transform(data)\n",
    "\n",
    "        return data"
   ]
  },
  {
   "cell_type": "code",
   "execution_count": 12,
   "metadata": {},
   "outputs": [],
   "source": [
    "def drop_columns(data: pd.DataFrame) -> pd.DataFrame:\n",
    "    return data.drop([\"metaData.region.page\", \"n_idx_item\"], axis=1)\n",
    "\n",
    "\n",
    "def fill_nan(data: pd.DataFrame) -> pd.DataFrame:\n",
    "    return data.fillna(0)\n",
    "\n",
    "\n",
    "def encode_label(data):\n",
    "    \n",
    "    data[\"label\"] = data[\"label\"].replace(\"item\", 1)\n",
    "    \n",
    "    return data"
   ]
  },
  {
   "cell_type": "code",
   "execution_count": 13,
   "metadata": {},
   "outputs": [],
   "source": [
    "def remove_pages_with_no_text(data):\n",
    "\n",
    "    items_per_page_id = data.groupby([\"id\", \"region.page\"])[\"label\"].sum().reset_index()\n",
    "    remove_from_training = items_per_page_id[items_per_page_id.label == 0]\n",
    "\n",
    "    remove_idx = []\n",
    "\n",
    "    for _, row in remove_from_training.iterrows():\n",
    "        remove_idx.extend(data[(data[\"id\"] == row[\"id\"]) & (data[\"region.page\"] == row[\"region.page\"])].index)\n",
    "\n",
    "    data = data[~data.index.isin(remove_idx)]\n",
    "    \n",
    "    del [items_per_page_id, remove_from_training, remove_idx]\n",
    "\n",
    "    return data"
   ]
  },
  {
   "cell_type": "code",
   "execution_count": 14,
   "metadata": {},
   "outputs": [],
   "source": [
    "def preprocessing(data, only_train=False):\n",
    "    \n",
    "    preprocessting_strategy = [drop_columns,\n",
    "                                 fill_nan,\n",
    "                                 encode_label,\n",
    "                                ]\n",
    "\n",
    "    feature_creator = Transformer(preprocessting_strategy)\n",
    "    data = feature_creator.fit_transform(data)\n",
    "    \n",
    "    if only_train:\n",
    "        \n",
    "        data_cleaning_strategy = [remove_pages_with_no_text]\n",
    "        data_cleaner = Transformer(data_cleaning_strategy)\n",
    "        data = data_cleaner.fit_transform(data)\n",
    "\n",
    "    return data"
   ]
  },
  {
   "cell_type": "code",
   "execution_count": 8,
   "metadata": {},
   "outputs": [],
   "source": [
    "train = pd.read_csv(\"hypatos-ds-train.csv\")\n",
    "test = pd.read_csv(\"hypatos-ds-test.csv\")"
   ]
  },
  {
   "cell_type": "code",
   "execution_count": 16,
   "metadata": {},
   "outputs": [],
   "source": [
    "train = preprocessing(train, True)\n",
    "test = preprocessing(test)"
   ]
  },
  {
   "cell_type": "markdown",
   "metadata": {},
   "source": [
    "the label feature has two value, item and None. So this will be our classifier.\n"
   ]
  },
  {
   "cell_type": "markdown",
   "metadata": {},
   "source": [
    "The metaData.region.page is identical with the region page, so it can also be dropped.\n",
    "The n_idx_item is information I extracted from the entities data and counts the number of words in one entity dict. We won't have this information for the model training, so it also can be dropped."
   ]
  },
  {
   "cell_type": "markdown",
   "metadata": {},
   "source": [
    "## EDA"
   ]
  },
  {
   "cell_type": "markdown",
   "metadata": {},
   "source": [
    "We have around 6 million bounding boxes from 24000 invoices with around 290000 text items. Around 5 % of the data is a text item. This is very inbalanced. "
   ]
  },
  {
   "cell_type": "code",
   "execution_count": 9,
   "metadata": {},
   "outputs": [
    {
     "data": {
      "text/plain": [
       "(5992072, 11)"
      ]
     },
     "execution_count": 9,
     "metadata": {},
     "output_type": "execute_result"
    }
   ],
   "source": [
    "train.shape"
   ]
  },
  {
   "cell_type": "code",
   "execution_count": 10,
   "metadata": {},
   "outputs": [
    {
     "data": {
      "text/html": [
       "<div>\n",
       "<style scoped>\n",
       "    .dataframe tbody tr th:only-of-type {\n",
       "        vertical-align: middle;\n",
       "    }\n",
       "\n",
       "    .dataframe tbody tr th {\n",
       "        vertical-align: top;\n",
       "    }\n",
       "\n",
       "    .dataframe thead th {\n",
       "        text-align: right;\n",
       "    }\n",
       "</style>\n",
       "<table border=\"1\" class=\"dataframe\">\n",
       "  <thead>\n",
       "    <tr style=\"text-align: right;\">\n",
       "      <th></th>\n",
       "      <th>value</th>\n",
       "      <th>region.left</th>\n",
       "      <th>region.top</th>\n",
       "      <th>region.width</th>\n",
       "      <th>region.height</th>\n",
       "      <th>region.page</th>\n",
       "      <th>id</th>\n",
       "      <th>indices</th>\n",
       "      <th>label</th>\n",
       "      <th>metaData.region.page</th>\n",
       "      <th>n_idx_item</th>\n",
       "    </tr>\n",
       "  </thead>\n",
       "  <tbody>\n",
       "    <tr>\n",
       "      <th>0</th>\n",
       "      <td>U1Raiug=</td>\n",
       "      <td>0.371253</td>\n",
       "      <td>0.020022</td>\n",
       "      <td>0.025749</td>\n",
       "      <td>0.015017</td>\n",
       "      <td>1</td>\n",
       "      <td>83132716</td>\n",
       "      <td>0</td>\n",
       "      <td>NaN</td>\n",
       "      <td>NaN</td>\n",
       "      <td>NaN</td>\n",
       "    </tr>\n",
       "    <tr>\n",
       "      <th>1</th>\n",
       "      <td>WC8whnZ1fnk=</td>\n",
       "      <td>0.345503</td>\n",
       "      <td>0.033092</td>\n",
       "      <td>0.224058</td>\n",
       "      <td>0.028087</td>\n",
       "      <td>1</td>\n",
       "      <td>83132716</td>\n",
       "      <td>1</td>\n",
       "      <td>NaN</td>\n",
       "      <td>NaN</td>\n",
       "      <td>NaN</td>\n",
       "    </tr>\n",
       "    <tr>\n",
       "      <th>2</th>\n",
       "      <td>Lg==</td>\n",
       "      <td>0.345503</td>\n",
       "      <td>0.050334</td>\n",
       "      <td>0.039201</td>\n",
       "      <td>0.017798</td>\n",
       "      <td>1</td>\n",
       "      <td>83132716</td>\n",
       "      <td>2</td>\n",
       "      <td>NaN</td>\n",
       "      <td>NaN</td>\n",
       "      <td>NaN</td>\n",
       "    </tr>\n",
       "    <tr>\n",
       "      <th>3</th>\n",
       "      <td>d354fYR1ew==</td>\n",
       "      <td>0.406995</td>\n",
       "      <td>0.062291</td>\n",
       "      <td>0.048040</td>\n",
       "      <td>0.005840</td>\n",
       "      <td>1</td>\n",
       "      <td>83132716</td>\n",
       "      <td>3</td>\n",
       "      <td>NaN</td>\n",
       "      <td>NaN</td>\n",
       "      <td>NaN</td>\n",
       "    </tr>\n",
       "    <tr>\n",
       "      <th>4</th>\n",
       "      <td>Vw==</td>\n",
       "      <td>0.463874</td>\n",
       "      <td>0.062291</td>\n",
       "      <td>0.007302</td>\n",
       "      <td>0.005562</td>\n",
       "      <td>1</td>\n",
       "      <td>83132716</td>\n",
       "      <td>4</td>\n",
       "      <td>NaN</td>\n",
       "      <td>NaN</td>\n",
       "      <td>NaN</td>\n",
       "    </tr>\n",
       "    <tr>\n",
       "      <th>...</th>\n",
       "      <td>...</td>\n",
       "      <td>...</td>\n",
       "      <td>...</td>\n",
       "      <td>...</td>\n",
       "      <td>...</td>\n",
       "      <td>...</td>\n",
       "      <td>...</td>\n",
       "      <td>...</td>\n",
       "      <td>...</td>\n",
       "      <td>...</td>\n",
       "      <td>...</td>\n",
       "    </tr>\n",
       "    <tr>\n",
       "      <th>5992067</th>\n",
       "      <td>YWhmZA==</td>\n",
       "      <td>0.457143</td>\n",
       "      <td>0.965558</td>\n",
       "      <td>0.023529</td>\n",
       "      <td>0.004751</td>\n",
       "      <td>3</td>\n",
       "      <td>510220123</td>\n",
       "      <td>558</td>\n",
       "      <td>NaN</td>\n",
       "      <td>NaN</td>\n",
       "      <td>NaN</td>\n",
       "    </tr>\n",
       "    <tr>\n",
       "      <th>5992068</th>\n",
       "      <td>YmZraQ==</td>\n",
       "      <td>0.484034</td>\n",
       "      <td>0.965558</td>\n",
       "      <td>0.021849</td>\n",
       "      <td>0.004751</td>\n",
       "      <td>3</td>\n",
       "      <td>510220123</td>\n",
       "      <td>559</td>\n",
       "      <td>NaN</td>\n",
       "      <td>NaN</td>\n",
       "      <td>NaN</td>\n",
       "    </tr>\n",
       "    <tr>\n",
       "      <th>5992069</th>\n",
       "      <td>YWRf</td>\n",
       "      <td>0.509244</td>\n",
       "      <td>0.965558</td>\n",
       "      <td>0.015126</td>\n",
       "      <td>0.004751</td>\n",
       "      <td>3</td>\n",
       "      <td>510220123</td>\n",
       "      <td>560</td>\n",
       "      <td>NaN</td>\n",
       "      <td>NaN</td>\n",
       "      <td>NaN</td>\n",
       "    </tr>\n",
       "    <tr>\n",
       "      <th>5992070</th>\n",
       "      <td>c3t2</td>\n",
       "      <td>0.526050</td>\n",
       "      <td>0.965558</td>\n",
       "      <td>0.015126</td>\n",
       "      <td>0.004751</td>\n",
       "      <td>3</td>\n",
       "      <td>510220123</td>\n",
       "      <td>561</td>\n",
       "      <td>NaN</td>\n",
       "      <td>NaN</td>\n",
       "      <td>NaN</td>\n",
       "    </tr>\n",
       "    <tr>\n",
       "      <th>5992071</th>\n",
       "      <td>dIF1dXV3e3yJios=</td>\n",
       "      <td>0.544538</td>\n",
       "      <td>0.965558</td>\n",
       "      <td>0.070588</td>\n",
       "      <td>0.004751</td>\n",
       "      <td>3</td>\n",
       "      <td>510220123</td>\n",
       "      <td>562</td>\n",
       "      <td>NaN</td>\n",
       "      <td>NaN</td>\n",
       "      <td>NaN</td>\n",
       "    </tr>\n",
       "  </tbody>\n",
       "</table>\n",
       "<p>5992072 rows × 11 columns</p>\n",
       "</div>"
      ],
      "text/plain": [
       "                    value  region.left  region.top  region.width  \\\n",
       "0                U1Raiug=     0.371253    0.020022      0.025749   \n",
       "1            WC8whnZ1fnk=     0.345503    0.033092      0.224058   \n",
       "2                    Lg==     0.345503    0.050334      0.039201   \n",
       "3            d354fYR1ew==     0.406995    0.062291      0.048040   \n",
       "4                    Vw==     0.463874    0.062291      0.007302   \n",
       "...                   ...          ...         ...           ...   \n",
       "5992067          YWhmZA==     0.457143    0.965558      0.023529   \n",
       "5992068          YmZraQ==     0.484034    0.965558      0.021849   \n",
       "5992069              YWRf     0.509244    0.965558      0.015126   \n",
       "5992070              c3t2     0.526050    0.965558      0.015126   \n",
       "5992071  dIF1dXV3e3yJios=     0.544538    0.965558      0.070588   \n",
       "\n",
       "         region.height  region.page         id  indices label  \\\n",
       "0             0.015017            1   83132716        0   NaN   \n",
       "1             0.028087            1   83132716        1   NaN   \n",
       "2             0.017798            1   83132716        2   NaN   \n",
       "3             0.005840            1   83132716        3   NaN   \n",
       "4             0.005562            1   83132716        4   NaN   \n",
       "...                ...          ...        ...      ...   ...   \n",
       "5992067       0.004751            3  510220123      558   NaN   \n",
       "5992068       0.004751            3  510220123      559   NaN   \n",
       "5992069       0.004751            3  510220123      560   NaN   \n",
       "5992070       0.004751            3  510220123      561   NaN   \n",
       "5992071       0.004751            3  510220123      562   NaN   \n",
       "\n",
       "         metaData.region.page  n_idx_item  \n",
       "0                         NaN         NaN  \n",
       "1                         NaN         NaN  \n",
       "2                         NaN         NaN  \n",
       "3                         NaN         NaN  \n",
       "4                         NaN         NaN  \n",
       "...                       ...         ...  \n",
       "5992067                   NaN         NaN  \n",
       "5992068                   NaN         NaN  \n",
       "5992069                   NaN         NaN  \n",
       "5992070                   NaN         NaN  \n",
       "5992071                   NaN         NaN  \n",
       "\n",
       "[5992072 rows x 11 columns]"
      ]
     },
     "execution_count": 10,
     "metadata": {},
     "output_type": "execute_result"
    }
   ],
   "source": [
    "train"
   ]
  },
  {
   "cell_type": "code",
   "execution_count": 11,
   "metadata": {},
   "outputs": [
    {
     "data": {
      "text/plain": [
       "item    288667\n",
       "Name: label, dtype: int64"
      ]
     },
     "execution_count": 11,
     "metadata": {},
     "output_type": "execute_result"
    }
   ],
   "source": [
    "train.label.value_counts()"
   ]
  },
  {
   "cell_type": "code",
   "execution_count": 12,
   "metadata": {},
   "outputs": [
    {
     "data": {
      "text/plain": [
       "4.8174821664359175"
      ]
     },
     "execution_count": 12,
     "metadata": {},
     "output_type": "execute_result"
    }
   ],
   "source": [
    "100*288667/train.shape[0]"
   ]
  },
  {
   "cell_type": "markdown",
   "metadata": {},
   "source": [
    "Every document has at least one text item. Also 1 % of the documents, has more then 100 items. This is possible, since some documents have several pages. But in case of an error, I would check with against the real data. It still could be, that the OCR system had some issues."
   ]
  },
  {
   "cell_type": "code",
   "execution_count": 13,
   "metadata": {},
   "outputs": [
    {
     "data": {
      "text/plain": [
       "1     4462104\n",
       "2     1063172\n",
       "3      291770\n",
       "4      107573\n",
       "5       39009\n",
       "6       16036\n",
       "7        7008\n",
       "8        2752\n",
       "9        1673\n",
       "11        407\n",
       "10        379\n",
       "12        185\n",
       "13          3\n",
       "31          1\n",
       "Name: region.page, dtype: int64"
      ]
     },
     "execution_count": 13,
     "metadata": {},
     "output_type": "execute_result"
    }
   ],
   "source": [
    "train[\"region.page\"].value_counts()"
   ]
  },
  {
   "cell_type": "code",
   "execution_count": 17,
   "metadata": {},
   "outputs": [],
   "source": [
    "items_per_id = train.groupby([\"id\"])[\"label\"].sum().reset_index()"
   ]
  },
  {
   "cell_type": "code",
   "execution_count": 18,
   "metadata": {},
   "outputs": [
    {
     "data": {
      "text/plain": [
       "count    24073.000000\n",
       "mean        11.991318\n",
       "std         22.140643\n",
       "min          1.000000\n",
       "1%           1.000000\n",
       "5%           1.000000\n",
       "10%          2.000000\n",
       "20%          3.000000\n",
       "50%          6.000000\n",
       "80%         15.000000\n",
       "90%         24.000000\n",
       "95%         39.000000\n",
       "99%        102.000000\n",
       "max        692.000000\n",
       "Name: label, dtype: float64"
      ]
     },
     "execution_count": 18,
     "metadata": {},
     "output_type": "execute_result"
    }
   ],
   "source": [
    "items_per_id['label'].describe(percentiles=[0.01, 0.05, 0.1, 0.2, 0.8, 0.9, 0.95, 0.99])"
   ]
  },
  {
   "cell_type": "code",
   "execution_count": 19,
   "metadata": {},
   "outputs": [],
   "source": [
    "items_per_page_id = train.groupby([\"id\", \"region.page\"])[\"label\"].sum().reset_index()"
   ]
  },
  {
   "cell_type": "code",
   "execution_count": 20,
   "metadata": {},
   "outputs": [
    {
     "data": {
      "text/plain": [
       "count    25409.000000\n",
       "mean        11.360817\n",
       "std         16.231832\n",
       "min          1.000000\n",
       "1%           1.000000\n",
       "5%           1.000000\n",
       "10%          2.000000\n",
       "20%          3.000000\n",
       "50%          6.000000\n",
       "80%         15.000000\n",
       "90%         25.000000\n",
       "95%         39.000000\n",
       "99%         82.000000\n",
       "max        316.000000\n",
       "Name: label, dtype: float64"
      ]
     },
     "execution_count": 20,
     "metadata": {},
     "output_type": "execute_result"
    }
   ],
   "source": [
    "items_per_page_id['label'].describe(percentiles=[0.01, 0.05, 0.1, 0.2, 0.8, 0.9, 0.95, 0.99])"
   ]
  },
  {
   "cell_type": "code",
   "execution_count": 21,
   "metadata": {},
   "outputs": [
    {
     "data": {
      "text/plain": [
       "1    23457\n",
       "2     1473\n",
       "3      320\n",
       "4      110\n",
       "5       28\n",
       "6       11\n",
       "7        7\n",
       "8        3\n",
       "Name: region.page, dtype: int64"
      ]
     },
     "execution_count": 21,
     "metadata": {},
     "output_type": "execute_result"
    }
   ],
   "source": [
    "items_per_page_id[\"region.page\"].value_counts()"
   ]
  },
  {
   "cell_type": "markdown",
   "metadata": {},
   "source": [
    "Also from the invoices, there are around 20 % of the pages without any text item. This is important information, since I wouldn't have expect such a high amount of non-text item pages. I will remove it to speed up training. This pages don't contain any information and probably will add only noise to the training."
   ]
  },
  {
   "cell_type": "code",
   "execution_count": 22,
   "metadata": {},
   "outputs": [
    {
     "data": {
      "text/plain": [
       "0    4429136\n",
       "1     288667\n",
       "Name: label, dtype: int64"
      ]
     },
     "execution_count": 22,
     "metadata": {},
     "output_type": "execute_result"
    }
   ],
   "source": [
    "train.label.value_counts()"
   ]
  },
  {
   "cell_type": "code",
   "execution_count": 23,
   "metadata": {},
   "outputs": [
    {
     "data": {
      "text/plain": [
       "6.118674306663504"
      ]
     },
     "execution_count": 23,
     "metadata": {},
     "output_type": "execute_result"
    }
   ],
   "source": [
    "100*288667/train.shape[0]"
   ]
  },
  {
   "cell_type": "code",
   "execution_count": 24,
   "metadata": {},
   "outputs": [
    {
     "data": {
      "text/plain": [
       "Text(0.5, 1.0, 'Class Distributions \\n (0: no text item || 1: text item)')"
      ]
     },
     "execution_count": 24,
     "metadata": {},
     "output_type": "execute_result"
    },
    {
     "data": {
      "image/png": "[encoded data removed]",
      "text/plain": [
       "<Figure size 720x720 with 1 Axes>"
      ]
     },
     "metadata": {
      "needs_background": "light"
     },
     "output_type": "display_data"
    }
   ],
   "source": [
    "sns.countplot('label', data=train)\n",
    "plt.title('Class Distributions \\n (0: no text item || 1: text item)', fontsize=14)"
   ]
  },
  {
   "cell_type": "code",
   "execution_count": 25,
   "metadata": {},
   "outputs": [
    {
     "data": {
      "text/html": [
       "<div>\n",
       "<style scoped>\n",
       "    .dataframe tbody tr th:only-of-type {\n",
       "        vertical-align: middle;\n",
       "    }\n",
       "\n",
       "    .dataframe tbody tr th {\n",
       "        vertical-align: top;\n",
       "    }\n",
       "\n",
       "    .dataframe thead th {\n",
       "        text-align: right;\n",
       "    }\n",
       "</style>\n",
       "<table border=\"1\" class=\"dataframe\">\n",
       "  <thead>\n",
       "    <tr style=\"text-align: right;\">\n",
       "      <th></th>\n",
       "      <th>value</th>\n",
       "      <th>region.left</th>\n",
       "      <th>region.top</th>\n",
       "      <th>region.width</th>\n",
       "      <th>region.height</th>\n",
       "      <th>region.page</th>\n",
       "      <th>id</th>\n",
       "      <th>indices</th>\n",
       "      <th>label</th>\n",
       "    </tr>\n",
       "  </thead>\n",
       "  <tbody>\n",
       "    <tr>\n",
       "      <th>count</th>\n",
       "      <td>4429136</td>\n",
       "      <td>4.429136e+06</td>\n",
       "      <td>4.429136e+06</td>\n",
       "      <td>4.429136e+06</td>\n",
       "      <td>4.429136e+06</td>\n",
       "      <td>4.429136e+06</td>\n",
       "      <td>4.429136e+06</td>\n",
       "      <td>4.429136e+06</td>\n",
       "      <td>4429136.0</td>\n",
       "    </tr>\n",
       "    <tr>\n",
       "      <th>unique</th>\n",
       "      <td>501438</td>\n",
       "      <td>NaN</td>\n",
       "      <td>NaN</td>\n",
       "      <td>NaN</td>\n",
       "      <td>NaN</td>\n",
       "      <td>NaN</td>\n",
       "      <td>NaN</td>\n",
       "      <td>NaN</td>\n",
       "      <td>NaN</td>\n",
       "    </tr>\n",
       "    <tr>\n",
       "      <th>top</th>\n",
       "      <td>3Q==</td>\n",
       "      <td>NaN</td>\n",
       "      <td>NaN</td>\n",
       "      <td>NaN</td>\n",
       "      <td>NaN</td>\n",
       "      <td>NaN</td>\n",
       "      <td>NaN</td>\n",
       "      <td>NaN</td>\n",
       "      <td>NaN</td>\n",
       "    </tr>\n",
       "    <tr>\n",
       "      <th>freq</th>\n",
       "      <td>64106</td>\n",
       "      <td>NaN</td>\n",
       "      <td>NaN</td>\n",
       "      <td>NaN</td>\n",
       "      <td>NaN</td>\n",
       "      <td>NaN</td>\n",
       "      <td>NaN</td>\n",
       "      <td>NaN</td>\n",
       "      <td>NaN</td>\n",
       "    </tr>\n",
       "    <tr>\n",
       "      <th>mean</th>\n",
       "      <td>NaN</td>\n",
       "      <td>4.469610e-01</td>\n",
       "      <td>5.419293e-01</td>\n",
       "      <td>4.525161e-02</td>\n",
       "      <td>7.777829e-03</td>\n",
       "      <td>1.103981e+00</td>\n",
       "      <td>2.715374e+08</td>\n",
       "      <td>1.357077e+02</td>\n",
       "      <td>0.0</td>\n",
       "    </tr>\n",
       "    <tr>\n",
       "      <th>std</th>\n",
       "      <td>NaN</td>\n",
       "      <td>2.594692e-01</td>\n",
       "      <td>2.786358e-01</td>\n",
       "      <td>3.872087e-02</td>\n",
       "      <td>3.223811e-03</td>\n",
       "      <td>4.152080e-01</td>\n",
       "      <td>1.254780e+08</td>\n",
       "      <td>1.403100e+02</td>\n",
       "      <td>0.0</td>\n",
       "    </tr>\n",
       "    <tr>\n",
       "      <th>min</th>\n",
       "      <td>NaN</td>\n",
       "      <td>-4.151261e-01</td>\n",
       "      <td>-4.274673e+00</td>\n",
       "      <td>0.000000e+00</td>\n",
       "      <td>-4.156770e-02</td>\n",
       "      <td>1.000000e+00</td>\n",
       "      <td>7.143602e+07</td>\n",
       "      <td>0.000000e+00</td>\n",
       "      <td>0.0</td>\n",
       "    </tr>\n",
       "    <tr>\n",
       "      <th>1%</th>\n",
       "      <td>NaN</td>\n",
       "      <td>4.923135e-02</td>\n",
       "      <td>5.085714e-02</td>\n",
       "      <td>2.001601e-03</td>\n",
       "      <td>1.141227e-03</td>\n",
       "      <td>1.000000e+00</td>\n",
       "      <td>7.460892e+07</td>\n",
       "      <td>1.000000e+00</td>\n",
       "      <td>0.0</td>\n",
       "    </tr>\n",
       "    <tr>\n",
       "      <th>5%</th>\n",
       "      <td>NaN</td>\n",
       "      <td>9.411765e-02</td>\n",
       "      <td>1.212034e-01</td>\n",
       "      <td>6.449012e-03</td>\n",
       "      <td>4.750594e-03</td>\n",
       "      <td>1.000000e+00</td>\n",
       "      <td>8.778061e+07</td>\n",
       "      <td>9.000000e+00</td>\n",
       "      <td>0.0</td>\n",
       "    </tr>\n",
       "    <tr>\n",
       "      <th>10%</th>\n",
       "      <td>NaN</td>\n",
       "      <td>1.176471e-01</td>\n",
       "      <td>1.701510e-01</td>\n",
       "      <td>1.008403e-02</td>\n",
       "      <td>5.050505e-03</td>\n",
       "      <td>1.000000e+00</td>\n",
       "      <td>1.086045e+08</td>\n",
       "      <td>1.800000e+01</td>\n",
       "      <td>0.0</td>\n",
       "    </tr>\n",
       "    <tr>\n",
       "      <th>20%</th>\n",
       "      <td>NaN</td>\n",
       "      <td>1.744597e-01</td>\n",
       "      <td>2.464014e-01</td>\n",
       "      <td>1.797386e-02</td>\n",
       "      <td>5.945303e-03</td>\n",
       "      <td>1.000000e+00</td>\n",
       "      <td>1.432681e+08</td>\n",
       "      <td>3.800000e+01</td>\n",
       "      <td>0.0</td>\n",
       "    </tr>\n",
       "    <tr>\n",
       "      <th>50%</th>\n",
       "      <td>NaN</td>\n",
       "      <td>4.220701e-01</td>\n",
       "      <td>5.303293e-01</td>\n",
       "      <td>3.590157e-02</td>\n",
       "      <td>7.386364e-03</td>\n",
       "      <td>1.000000e+00</td>\n",
       "      <td>2.679746e+08</td>\n",
       "      <td>1.020000e+02</td>\n",
       "      <td>0.0</td>\n",
       "    </tr>\n",
       "    <tr>\n",
       "      <th>80%</th>\n",
       "      <td>NaN</td>\n",
       "      <td>7.234558e-01</td>\n",
       "      <td>8.669332e-01</td>\n",
       "      <td>6.722689e-02</td>\n",
       "      <td>9.333333e-03</td>\n",
       "      <td>1.000000e+00</td>\n",
       "      <td>3.875082e+08</td>\n",
       "      <td>1.960000e+02</td>\n",
       "      <td>0.0</td>\n",
       "    </tr>\n",
       "    <tr>\n",
       "      <th>90%</th>\n",
       "      <td>NaN</td>\n",
       "      <td>8.139348e-01</td>\n",
       "      <td>9.286564e-01</td>\n",
       "      <td>8.977456e-02</td>\n",
       "      <td>1.052332e-02</td>\n",
       "      <td>1.000000e+00</td>\n",
       "      <td>4.542904e+08</td>\n",
       "      <td>2.730000e+02</td>\n",
       "      <td>0.0</td>\n",
       "    </tr>\n",
       "    <tr>\n",
       "      <th>95%</th>\n",
       "      <td>NaN</td>\n",
       "      <td>8.644615e-01</td>\n",
       "      <td>9.475634e-01</td>\n",
       "      <td>1.128514e-01</td>\n",
       "      <td>1.176471e-02</td>\n",
       "      <td>2.000000e+00</td>\n",
       "      <td>4.771689e+08</td>\n",
       "      <td>3.790000e+02</td>\n",
       "      <td>0.0</td>\n",
       "    </tr>\n",
       "    <tr>\n",
       "      <th>99%</th>\n",
       "      <td>NaN</td>\n",
       "      <td>9.189113e-01</td>\n",
       "      <td>9.690844e-01</td>\n",
       "      <td>1.731092e-01</td>\n",
       "      <td>1.781473e-02</td>\n",
       "      <td>3.000000e+00</td>\n",
       "      <td>5.098698e+08</td>\n",
       "      <td>7.360000e+02</td>\n",
       "      <td>0.0</td>\n",
       "    </tr>\n",
       "    <tr>\n",
       "      <th>max</th>\n",
       "      <td>NaN</td>\n",
       "      <td>4.156303e+00</td>\n",
       "      <td>2.388823e+00</td>\n",
       "      <td>1.462185e+00</td>\n",
       "      <td>4.506540e-01</td>\n",
       "      <td>8.000000e+00</td>\n",
       "      <td>5.150723e+08</td>\n",
       "      <td>1.724000e+03</td>\n",
       "      <td>0.0</td>\n",
       "    </tr>\n",
       "  </tbody>\n",
       "</table>\n",
       "</div>"
      ],
      "text/plain": [
       "          value   region.left    region.top  region.width  region.height  \\\n",
       "count   4429136  4.429136e+06  4.429136e+06  4.429136e+06   4.429136e+06   \n",
       "unique   501438           NaN           NaN           NaN            NaN   \n",
       "top        3Q==           NaN           NaN           NaN            NaN   \n",
       "freq      64106           NaN           NaN           NaN            NaN   \n",
       "mean        NaN  4.469610e-01  5.419293e-01  4.525161e-02   7.777829e-03   \n",
       "std         NaN  2.594692e-01  2.786358e-01  3.872087e-02   3.223811e-03   \n",
       "min         NaN -4.151261e-01 -4.274673e+00  0.000000e+00  -4.156770e-02   \n",
       "1%          NaN  4.923135e-02  5.085714e-02  2.001601e-03   1.141227e-03   \n",
       "5%          NaN  9.411765e-02  1.212034e-01  6.449012e-03   4.750594e-03   \n",
       "10%         NaN  1.176471e-01  1.701510e-01  1.008403e-02   5.050505e-03   \n",
       "20%         NaN  1.744597e-01  2.464014e-01  1.797386e-02   5.945303e-03   \n",
       "50%         NaN  4.220701e-01  5.303293e-01  3.590157e-02   7.386364e-03   \n",
       "80%         NaN  7.234558e-01  8.669332e-01  6.722689e-02   9.333333e-03   \n",
       "90%         NaN  8.139348e-01  9.286564e-01  8.977456e-02   1.052332e-02   \n",
       "95%         NaN  8.644615e-01  9.475634e-01  1.128514e-01   1.176471e-02   \n",
       "99%         NaN  9.189113e-01  9.690844e-01  1.731092e-01   1.781473e-02   \n",
       "max         NaN  4.156303e+00  2.388823e+00  1.462185e+00   4.506540e-01   \n",
       "\n",
       "         region.page            id       indices      label  \n",
       "count   4.429136e+06  4.429136e+06  4.429136e+06  4429136.0  \n",
       "unique           NaN           NaN           NaN        NaN  \n",
       "top              NaN           NaN           NaN        NaN  \n",
       "freq             NaN           NaN           NaN        NaN  \n",
       "mean    1.103981e+00  2.715374e+08  1.357077e+02        0.0  \n",
       "std     4.152080e-01  1.254780e+08  1.403100e+02        0.0  \n",
       "min     1.000000e+00  7.143602e+07  0.000000e+00        0.0  \n",
       "1%      1.000000e+00  7.460892e+07  1.000000e+00        0.0  \n",
       "5%      1.000000e+00  8.778061e+07  9.000000e+00        0.0  \n",
       "10%     1.000000e+00  1.086045e+08  1.800000e+01        0.0  \n",
       "20%     1.000000e+00  1.432681e+08  3.800000e+01        0.0  \n",
       "50%     1.000000e+00  2.679746e+08  1.020000e+02        0.0  \n",
       "80%     1.000000e+00  3.875082e+08  1.960000e+02        0.0  \n",
       "90%     1.000000e+00  4.542904e+08  2.730000e+02        0.0  \n",
       "95%     2.000000e+00  4.771689e+08  3.790000e+02        0.0  \n",
       "99%     3.000000e+00  5.098698e+08  7.360000e+02        0.0  \n",
       "max     8.000000e+00  5.150723e+08  1.724000e+03        0.0  "
      ]
     },
     "execution_count": 25,
     "metadata": {},
     "output_type": "execute_result"
    }
   ],
   "source": [
    "train[train.label==0].describe(include=\"all\", percentiles=[0.01, 0.05, 0.1, 0.2, 0.8, 0.9, 0.95, 0.99])"
   ]
  },
  {
   "cell_type": "code",
   "execution_count": 26,
   "metadata": {},
   "outputs": [
    {
     "data": {
      "text/html": [
       "<div>\n",
       "<style scoped>\n",
       "    .dataframe tbody tr th:only-of-type {\n",
       "        vertical-align: middle;\n",
       "    }\n",
       "\n",
       "    .dataframe tbody tr th {\n",
       "        vertical-align: top;\n",
       "    }\n",
       "\n",
       "    .dataframe thead th {\n",
       "        text-align: right;\n",
       "    }\n",
       "</style>\n",
       "<table border=\"1\" class=\"dataframe\">\n",
       "  <thead>\n",
       "    <tr style=\"text-align: right;\">\n",
       "      <th></th>\n",
       "      <th>value</th>\n",
       "      <th>region.left</th>\n",
       "      <th>region.top</th>\n",
       "      <th>region.width</th>\n",
       "      <th>region.height</th>\n",
       "      <th>region.page</th>\n",
       "      <th>id</th>\n",
       "      <th>indices</th>\n",
       "      <th>label</th>\n",
       "    </tr>\n",
       "  </thead>\n",
       "  <tbody>\n",
       "    <tr>\n",
       "      <th>count</th>\n",
       "      <td>288667</td>\n",
       "      <td>288667.000000</td>\n",
       "      <td>288667.000000</td>\n",
       "      <td>288667.000000</td>\n",
       "      <td>288667.000000</td>\n",
       "      <td>288667.000000</td>\n",
       "      <td>2.886670e+05</td>\n",
       "      <td>288667.000000</td>\n",
       "      <td>288667.0</td>\n",
       "    </tr>\n",
       "    <tr>\n",
       "      <th>unique</th>\n",
       "      <td>68353</td>\n",
       "      <td>NaN</td>\n",
       "      <td>NaN</td>\n",
       "      <td>NaN</td>\n",
       "      <td>NaN</td>\n",
       "      <td>NaN</td>\n",
       "      <td>NaN</td>\n",
       "      <td>NaN</td>\n",
       "      <td>NaN</td>\n",
       "    </tr>\n",
       "    <tr>\n",
       "      <th>top</th>\n",
       "      <td>Xg==</td>\n",
       "      <td>NaN</td>\n",
       "      <td>NaN</td>\n",
       "      <td>NaN</td>\n",
       "      <td>NaN</td>\n",
       "      <td>NaN</td>\n",
       "      <td>NaN</td>\n",
       "      <td>NaN</td>\n",
       "      <td>NaN</td>\n",
       "    </tr>\n",
       "    <tr>\n",
       "      <th>freq</th>\n",
       "      <td>6712</td>\n",
       "      <td>NaN</td>\n",
       "      <td>NaN</td>\n",
       "      <td>NaN</td>\n",
       "      <td>NaN</td>\n",
       "      <td>NaN</td>\n",
       "      <td>NaN</td>\n",
       "      <td>NaN</td>\n",
       "      <td>NaN</td>\n",
       "    </tr>\n",
       "    <tr>\n",
       "      <th>mean</th>\n",
       "      <td>NaN</td>\n",
       "      <td>0.297313</td>\n",
       "      <td>0.508321</td>\n",
       "      <td>0.049002</td>\n",
       "      <td>0.008029</td>\n",
       "      <td>1.181140</td>\n",
       "      <td>2.753828e+08</td>\n",
       "      <td>156.595686</td>\n",
       "      <td>1.0</td>\n",
       "    </tr>\n",
       "    <tr>\n",
       "      <th>std</th>\n",
       "      <td>NaN</td>\n",
       "      <td>0.137272</td>\n",
       "      <td>0.132797</td>\n",
       "      <td>0.035979</td>\n",
       "      <td>0.001990</td>\n",
       "      <td>0.520034</td>\n",
       "      <td>1.243393e+08</td>\n",
       "      <td>162.404479</td>\n",
       "      <td>0.0</td>\n",
       "    </tr>\n",
       "    <tr>\n",
       "      <th>min</th>\n",
       "      <td>NaN</td>\n",
       "      <td>0.001681</td>\n",
       "      <td>0.020202</td>\n",
       "      <td>0.000000</td>\n",
       "      <td>0.000000</td>\n",
       "      <td>1.000000</td>\n",
       "      <td>7.143602e+07</td>\n",
       "      <td>0.000000</td>\n",
       "      <td>1.0</td>\n",
       "    </tr>\n",
       "    <tr>\n",
       "      <th>1%</th>\n",
       "      <td>NaN</td>\n",
       "      <td>0.061766</td>\n",
       "      <td>0.164655</td>\n",
       "      <td>0.003361</td>\n",
       "      <td>0.001188</td>\n",
       "      <td>1.000000</td>\n",
       "      <td>7.508456e+07</td>\n",
       "      <td>22.000000</td>\n",
       "      <td>1.0</td>\n",
       "    </tr>\n",
       "    <tr>\n",
       "      <th>5%</th>\n",
       "      <td>NaN</td>\n",
       "      <td>0.100403</td>\n",
       "      <td>0.305162</td>\n",
       "      <td>0.006723</td>\n",
       "      <td>0.004985</td>\n",
       "      <td>1.000000</td>\n",
       "      <td>8.850620e+07</td>\n",
       "      <td>40.000000</td>\n",
       "      <td>1.0</td>\n",
       "    </tr>\n",
       "    <tr>\n",
       "      <th>10%</th>\n",
       "      <td>NaN</td>\n",
       "      <td>0.127731</td>\n",
       "      <td>0.359857</td>\n",
       "      <td>0.010676</td>\n",
       "      <td>0.005945</td>\n",
       "      <td>1.000000</td>\n",
       "      <td>1.136816e+08</td>\n",
       "      <td>50.000000</td>\n",
       "      <td>1.0</td>\n",
       "    </tr>\n",
       "    <tr>\n",
       "      <th>20%</th>\n",
       "      <td>NaN</td>\n",
       "      <td>0.173109</td>\n",
       "      <td>0.411111</td>\n",
       "      <td>0.020168</td>\n",
       "      <td>0.006738</td>\n",
       "      <td>1.000000</td>\n",
       "      <td>1.484333e+08</td>\n",
       "      <td>65.000000</td>\n",
       "      <td>1.0</td>\n",
       "    </tr>\n",
       "    <tr>\n",
       "      <th>50%</th>\n",
       "      <td>NaN</td>\n",
       "      <td>0.280723</td>\n",
       "      <td>0.499008</td>\n",
       "      <td>0.040660</td>\n",
       "      <td>0.007986</td>\n",
       "      <td>1.000000</td>\n",
       "      <td>2.751746e+08</td>\n",
       "      <td>106.000000</td>\n",
       "      <td>1.0</td>\n",
       "    </tr>\n",
       "    <tr>\n",
       "      <th>80%</th>\n",
       "      <td>NaN</td>\n",
       "      <td>0.411765</td>\n",
       "      <td>0.608076</td>\n",
       "      <td>0.073950</td>\n",
       "      <td>0.009501</td>\n",
       "      <td>1.000000</td>\n",
       "      <td>3.998875e+08</td>\n",
       "      <td>194.000000</td>\n",
       "      <td>1.0</td>\n",
       "    </tr>\n",
       "    <tr>\n",
       "      <th>90%</th>\n",
       "      <td>NaN</td>\n",
       "      <td>0.486694</td>\n",
       "      <td>0.685273</td>\n",
       "      <td>0.095565</td>\n",
       "      <td>0.010651</td>\n",
       "      <td>2.000000</td>\n",
       "      <td>4.519910e+08</td>\n",
       "      <td>322.000000</td>\n",
       "      <td>1.0</td>\n",
       "    </tr>\n",
       "    <tr>\n",
       "      <th>95%</th>\n",
       "      <td>NaN</td>\n",
       "      <td>0.547997</td>\n",
       "      <td>0.751486</td>\n",
       "      <td>0.117647</td>\n",
       "      <td>0.011364</td>\n",
       "      <td>2.000000</td>\n",
       "      <td>4.758206e+08</td>\n",
       "      <td>475.000000</td>\n",
       "      <td>1.0</td>\n",
       "    </tr>\n",
       "    <tr>\n",
       "      <th>99%</th>\n",
       "      <td>NaN</td>\n",
       "      <td>0.660791</td>\n",
       "      <td>0.844233</td>\n",
       "      <td>0.169748</td>\n",
       "      <td>0.013064</td>\n",
       "      <td>3.000000</td>\n",
       "      <td>5.093803e+08</td>\n",
       "      <td>875.000000</td>\n",
       "      <td>1.0</td>\n",
       "    </tr>\n",
       "    <tr>\n",
       "      <th>max</th>\n",
       "      <td>NaN</td>\n",
       "      <td>0.937815</td>\n",
       "      <td>0.970273</td>\n",
       "      <td>0.751261</td>\n",
       "      <td>0.052257</td>\n",
       "      <td>8.000000</td>\n",
       "      <td>5.150723e+08</td>\n",
       "      <td>1712.000000</td>\n",
       "      <td>1.0</td>\n",
       "    </tr>\n",
       "  </tbody>\n",
       "</table>\n",
       "</div>"
      ],
      "text/plain": [
       "         value    region.left     region.top   region.width  region.height  \\\n",
       "count   288667  288667.000000  288667.000000  288667.000000  288667.000000   \n",
       "unique   68353            NaN            NaN            NaN            NaN   \n",
       "top       Xg==            NaN            NaN            NaN            NaN   \n",
       "freq      6712            NaN            NaN            NaN            NaN   \n",
       "mean       NaN       0.297313       0.508321       0.049002       0.008029   \n",
       "std        NaN       0.137272       0.132797       0.035979       0.001990   \n",
       "min        NaN       0.001681       0.020202       0.000000       0.000000   \n",
       "1%         NaN       0.061766       0.164655       0.003361       0.001188   \n",
       "5%         NaN       0.100403       0.305162       0.006723       0.004985   \n",
       "10%        NaN       0.127731       0.359857       0.010676       0.005945   \n",
       "20%        NaN       0.173109       0.411111       0.020168       0.006738   \n",
       "50%        NaN       0.280723       0.499008       0.040660       0.007986   \n",
       "80%        NaN       0.411765       0.608076       0.073950       0.009501   \n",
       "90%        NaN       0.486694       0.685273       0.095565       0.010651   \n",
       "95%        NaN       0.547997       0.751486       0.117647       0.011364   \n",
       "99%        NaN       0.660791       0.844233       0.169748       0.013064   \n",
       "max        NaN       0.937815       0.970273       0.751261       0.052257   \n",
       "\n",
       "          region.page            id        indices     label  \n",
       "count   288667.000000  2.886670e+05  288667.000000  288667.0  \n",
       "unique            NaN           NaN            NaN       NaN  \n",
       "top               NaN           NaN            NaN       NaN  \n",
       "freq              NaN           NaN            NaN       NaN  \n",
       "mean         1.181140  2.753828e+08     156.595686       1.0  \n",
       "std          0.520034  1.243393e+08     162.404479       0.0  \n",
       "min          1.000000  7.143602e+07       0.000000       1.0  \n",
       "1%           1.000000  7.508456e+07      22.000000       1.0  \n",
       "5%           1.000000  8.850620e+07      40.000000       1.0  \n",
       "10%          1.000000  1.136816e+08      50.000000       1.0  \n",
       "20%          1.000000  1.484333e+08      65.000000       1.0  \n",
       "50%          1.000000  2.751746e+08     106.000000       1.0  \n",
       "80%          1.000000  3.998875e+08     194.000000       1.0  \n",
       "90%          2.000000  4.519910e+08     322.000000       1.0  \n",
       "95%          2.000000  4.758206e+08     475.000000       1.0  \n",
       "99%          3.000000  5.093803e+08     875.000000       1.0  \n",
       "max          8.000000  5.150723e+08    1712.000000       1.0  "
      ]
     },
     "execution_count": 26,
     "metadata": {},
     "output_type": "execute_result"
    }
   ],
   "source": [
    "train[train.label==1].describe(include=\"all\", percentiles=[0.01, 0.05, 0.1, 0.2, 0.8, 0.9, 0.95, 0.99])"
   ]
  },
  {
   "cell_type": "markdown",
   "metadata": {},
   "source": [
    "### Feature engineering"
   ]
  },
  {
   "cell_type": "code",
   "execution_count": 27,
   "metadata": {},
   "outputs": [],
   "source": [
    "def calculate_bbox_volumn(data: pd.DataFrame) -> pd.DataFrame:\n",
    "    \n",
    "    data[\"bbox_volumn\"] = abs(data['region.width'] * data['region.height'])\n",
    "    \n",
    "    return data\n",
    "\n",
    "\n",
    "def calculate_value_length(data: pd.DataFrame) -> pd.DataFrame:\n",
    "    \n",
    "    data[\"value_length\"] = [len(i) for i in data[\"value\"]]\n",
    "    \n",
    "    return data\n",
    "\n",
    "\n",
    "def drop_unrelated_columns(data: pd.DataFrame) -> pd.DataFrame:\n",
    "    return data.drop([\"value\", \"id\", \"indices\"], axis=1)"
   ]
  },
  {
   "cell_type": "code",
   "execution_count": 28,
   "metadata": {},
   "outputs": [],
   "source": [
    "def add_bbox_sequence(data: pd.DataFrame) -> pd.DataFrame:\n",
    "    \n",
    "    colnames = ['region.left', 'region.top', 'region.width', 'region.height', 'region.page']\n",
    "    \n",
    "    base = data.copy()\n",
    "    \n",
    "    for i in range(-2,3):\n",
    "        if i == 0:\n",
    "            continue\n",
    "    \n",
    "        shift_data = base.groupby(['id'])['region.left', 'region.top', 'region.width', 'region.height', 'region.page'].shift(i)\n",
    "        new_col = [col + f\"_shifted_{i}\" for col in colnames]\n",
    "\n",
    "        shift_data.columns = new_col\n",
    "\n",
    "        data = pd.concat([shift_data, data], axis=1)\n",
    "        \n",
    "    \n",
    "    del [base, shift_data]\n",
    "\n",
    "    return data"
   ]
  },
  {
   "cell_type": "code",
   "execution_count": 29,
   "metadata": {},
   "outputs": [],
   "source": [
    "def feature_engineering(data):\n",
    "    \n",
    "    feature_engineering_strategy = [calculate_bbox_volumn,\n",
    "                                    calculate_value_length,\n",
    "                                    add_bbox_sequence,\n",
    "                                    fill_nan,\n",
    "                                    drop_unrelated_columns\n",
    "                                    ]\n",
    "\n",
    "    feature_creator = Transformer(feature_engineering_strategy)\n",
    "    data = feature_creator.fit_transform(data)\n",
    "    \n",
    "    return data"
   ]
  },
  {
   "cell_type": "code",
   "execution_count": 30,
   "metadata": {},
   "outputs": [
    {
     "data": {
      "text/plain": [
       "Index(['value', 'region.left', 'region.top', 'region.width', 'region.height',\n",
       "       'region.page', 'id', 'indices', 'label'],\n",
       "      dtype='object')"
      ]
     },
     "execution_count": 30,
     "metadata": {},
     "output_type": "execute_result"
    }
   ],
   "source": [
    "train.columns"
   ]
  },
  {
   "cell_type": "code",
   "execution_count": 31,
   "metadata": {},
   "outputs": [
    {
     "name": "stderr",
     "output_type": "stream",
     "text": [
      "/usr/local/lib/python3.7/site-packages/ipykernel_launcher.py:11: FutureWarning: Indexing with multiple keys (implicitly converted to a tuple of keys) will be deprecated, use a list instead.\n",
      "  # This is added back by InteractiveShellApp.init_path()\n"
     ]
    }
   ],
   "source": [
    "train = feature_engineering(train)\n",
    "test = feature_engineering(test)"
   ]
  },
  {
   "cell_type": "markdown",
   "metadata": {},
   "source": [
    "Also it is bad practice, but I prefer to undersample, before I create plots. From the desciptive analysis, there is a hugh overlap between non-text items and text items. This will become more clear with plots."
   ]
  },
  {
   "cell_type": "markdown",
   "metadata": {},
   "source": [
    "## Imbalanced Data"
   ]
  },
  {
   "cell_type": "markdown",
   "metadata": {},
   "source": [
    "There are several methods to deal with imbalanced data. As a common practice, there is\n",
    "\n",
    "- oversampling (random, SMOTE)\n",
    "- undersampling (random, clustering)\n",
    "\n",
    "\n",
    "Since training time over night is free, I played around with over- and undersampling. From my experience, undersampling was faster and provided a higher F1-scores. Overall the performance is not great, but with undersampling, I got better results. So I will continue here.\n",
    "\n",
    "A problem with random undersampling is, that probably some important data points for the classification will be missing. Also removing data is most of the time not a good strategy."
   ]
  },
  {
   "cell_type": "code",
   "execution_count": 32,
   "metadata": {},
   "outputs": [],
   "source": [
    "def create_sub_sample(data, factor=1, seed=12345):\n",
    "    \n",
    "    text_items = data[data[\"label\"] == 1]\n",
    "    non_text_items = data[data[\"label\"] == 0]\n",
    "\n",
    "    idx = np.random.choice(non_text_items.index, size=factor*text_items.shape[0], replace=True, p=None)\n",
    "    \n",
    "    sub_sample_non_text_items = non_text_items.loc[idx]\n",
    "    \n",
    "    assert sub_sample_non_text_items.shape[0] == text_items.shape[0] * factor\n",
    "    \n",
    "    sub_sample = pd.concat([text_items, sub_sample_non_text_items], axis=0)\n",
    "    sub_sample.reset_index(inplace=True, drop=True)\n",
    "    \n",
    "    del [text_items, non_text_items, idx, sub_sample_non_text_items]\n",
    "\n",
    "    return sub_sample"
   ]
  },
  {
   "cell_type": "code",
   "execution_count": 33,
   "metadata": {},
   "outputs": [],
   "source": [
    "sub_train = create_sub_sample(train, 2)"
   ]
  },
  {
   "cell_type": "code",
   "execution_count": 34,
   "metadata": {},
   "outputs": [
    {
     "data": {
      "text/plain": [
       "Text(0.5, 1.0, 'Class Distributions \\n (0: no text item || 1: text item)')"
      ]
     },
     "execution_count": 34,
     "metadata": {},
     "output_type": "execute_result"
    },
    {
     "data": {
      "image/png": "[encoded data removed]",
      "text/plain": [
       "<Figure size 720x720 with 1 Axes>"
      ]
     },
     "metadata": {
      "needs_background": "light"
     },
     "output_type": "display_data"
    }
   ],
   "source": [
    "sns.countplot('label', data=sub_train)\n",
    "plt.title('Class Distributions \\n (0: no text item || 1: text item)', fontsize=14)"
   ]
  },
  {
   "cell_type": "markdown",
   "metadata": {},
   "source": [
    "Plotting with undersampled data is not good, but based on calculation time, I will have a look. Some information for the non-text label will be missing."
   ]
  },
  {
   "cell_type": "code",
   "execution_count": 35,
   "metadata": {},
   "outputs": [
    {
     "data": {
      "text/plain": [
       "Index(['region.left_shifted_2', 'region.top_shifted_2',\n",
       "       'region.width_shifted_2', 'region.height_shifted_2',\n",
       "       'region.page_shifted_2', 'region.left_shifted_1',\n",
       "       'region.top_shifted_1', 'region.width_shifted_1',\n",
       "       'region.height_shifted_1', 'region.page_shifted_1',\n",
       "       'region.left_shifted_-1', 'region.top_shifted_-1',\n",
       "       'region.width_shifted_-1', 'region.height_shifted_-1',\n",
       "       'region.page_shifted_-1', 'region.left_shifted_-2',\n",
       "       'region.top_shifted_-2', 'region.width_shifted_-2',\n",
       "       'region.height_shifted_-2', 'region.page_shifted_-2', 'region.left',\n",
       "       'region.top', 'region.width', 'region.height', 'region.page', 'label',\n",
       "       'bbox_volumn', 'value_length'],\n",
       "      dtype='object')"
      ]
     },
     "execution_count": 35,
     "metadata": {},
     "output_type": "execute_result"
    }
   ],
   "source": [
    "train.columns"
   ]
  },
  {
   "cell_type": "code",
   "execution_count": 36,
   "metadata": {},
   "outputs": [],
   "source": [
    "dist_data = pd.melt(sub_train[['region.left', 'region.top', 'region.width', 'region.height', 'label', 'bbox_volumn']], \n",
    "                              id_vars=[\"label\"])"
   ]
  },
  {
   "cell_type": "markdown",
   "metadata": {},
   "source": [
    "In the pairplot is it very obvious, that the non-text items overlie the text items. Other way, the text items are found only on a specific part of the page. Mostly in the relative top-left of a page. The width and the height of the bbox doesn't show a big difference, as in the box plots below."
   ]
  },
  {
   "cell_type": "code",
   "execution_count": 37,
   "metadata": {},
   "outputs": [
    {
     "data": {
      "image/png": "[encoded data removed]",
      "text/plain": [
       "<Figure size 1122.38x1080 with 42 Axes>"
      ]
     },
     "metadata": {
      "needs_background": "light"
     },
     "output_type": "display_data"
    }
   ],
   "source": [
    "sns.pairplot(sub_train[['region.left', 'region.top', 'region.width', 'region.height', 'label', 'bbox_volumn']], height = 2.5, diag_kind='hist', hue=\"label\")\n",
    "plt.show()"
   ]
  },
  {
   "cell_type": "markdown",
   "metadata": {},
   "source": [
    "plot doesn't work; needs refactoring"
   ]
  },
  {
   "cell_type": "code",
   "execution_count": 38,
   "metadata": {},
   "outputs": [
    {
     "data": {
      "image/png": "[encoded data removed]",
      "text/plain": [
       "<Figure size 330.375x432 with 5 Axes>"
      ]
     },
     "metadata": {
      "needs_background": "light"
     },
     "output_type": "display_data"
    }
   ],
   "source": [
    "g = sns.FacetGrid(dist_data, col='variable', hue=\"label\", palette=\"viridis\", height=2, col_wrap=2)\n",
    "g = (g.map(sns.distplot, \"value\", hist=False, rug=True, bins=50, hist_kws={'alpha': 0.5}).add_legend())"
   ]
  },
  {
   "cell_type": "code",
   "execution_count": 39,
   "metadata": {
    "scrolled": false
   },
   "outputs": [
    {
     "data": {
      "text/plain": [
       "<matplotlib.legend.Legend at 0x147af9590>"
      ]
     },
     "execution_count": 39,
     "metadata": {},
     "output_type": "execute_result"
    },
    {
     "data": {
      "image/png": "[encoded data removed]",
      "text/plain": [
       "<Figure size 720x720 with 1 Axes>"
      ]
     },
     "metadata": {
      "needs_background": "light"
     },
     "output_type": "display_data"
    }
   ],
   "source": [
    "sns.boxplot(x=\"variable\", y=\"value\", hue='label', palette=\"viridis\",\n",
    "            data=dist_data)\n",
    "\n",
    "plt.legend(title=\"labels\", loc='center right', bbox_to_anchor=(1.15, 0.5), ncol=1)"
   ]
  },
  {
   "cell_type": "code",
   "execution_count": 40,
   "metadata": {},
   "outputs": [
    {
     "data": {
      "text/plain": [
       "<matplotlib.axes._subplots.AxesSubplot at 0x1d3c144d0>"
      ]
     },
     "execution_count": 40,
     "metadata": {},
     "output_type": "execute_result"
    },
    {
     "data": {
      "image/png": "[encoded data removed]",
      "text/plain": [
       "<Figure size 720x720 with 1 Axes>"
      ]
     },
     "metadata": {
      "needs_background": "light"
     },
     "output_type": "display_data"
    }
   ],
   "source": [
    "sns.boxplot(x=\"variable\", y=\"value\", hue='label', palette=\"viridis\",\n",
    "                data=pd.melt(sub_train[[\"region.width\", \"label\"]], id_vars=[\"label\"]))"
   ]
  },
  {
   "cell_type": "code",
   "execution_count": 41,
   "metadata": {},
   "outputs": [
    {
     "data": {
      "text/plain": [
       "<matplotlib.axes._subplots.AxesSubplot at 0x1d3c7f090>"
      ]
     },
     "execution_count": 41,
     "metadata": {},
     "output_type": "execute_result"
    },
    {
     "data": {
      "image/png": "[encoded data removed]",
      "text/plain": [
       "<Figure size 720x720 with 1 Axes>"
      ]
     },
     "metadata": {
      "needs_background": "light"
     },
     "output_type": "display_data"
    }
   ],
   "source": [
    "sns.boxplot(x=\"variable\", y=\"value\", hue='label', palette=\"viridis\",\n",
    "                data=pd.melt(sub_train[[\"region.height\", \"label\"]], id_vars=[\"label\"]))"
   ]
  },
  {
   "cell_type": "code",
   "execution_count": 42,
   "metadata": {},
   "outputs": [
    {
     "data": {
      "image/png": "[encoded data removed]",
      "text/plain": [
       "<Figure size 720x720 with 1 Axes>"
      ]
     },
     "metadata": {
      "needs_background": "light"
     },
     "output_type": "display_data"
    }
   ],
   "source": [
    "g = sns.boxplot(x=\"variable\", y=\"value\", hue='label', palette=\"viridis\",\n",
    "                data=pd.melt(sub_train[[\"bbox_volumn\", \"label\"]], id_vars=[\"label\"]))\n",
    "g.set_yscale(\"log\")"
   ]
  },
  {
   "cell_type": "markdown",
   "metadata": {},
   "source": [
    "The boxplots don't look very promising. The non items overlap the classified items in all relevant features. But let's have a look how trees will perform."
   ]
  },
  {
   "cell_type": "markdown",
   "metadata": {},
   "source": [
    "### Baseline"
   ]
  },
  {
   "cell_type": "markdown",
   "metadata": {},
   "source": [
    "Basically, I want to train a tree with depth one, just to see, how good it will perform."
   ]
  },
  {
   "cell_type": "code",
   "execution_count": 55,
   "metadata": {},
   "outputs": [],
   "source": [
    "model_columns = [col for col in train.columns if col != \"label\"]"
   ]
  },
  {
   "cell_type": "code",
   "execution_count": 44,
   "metadata": {},
   "outputs": [],
   "source": [
    "X_train = train[model_columns]\n",
    "y_train = train[\"label\"] \n",
    "\n",
    "X_test = test[model_columns]\n",
    "y_test = test[\"label\"] "
   ]
  },
  {
   "cell_type": "code",
   "execution_count": 45,
   "metadata": {},
   "outputs": [],
   "source": [
    "X_train, X_val, y_train, y_val = train_test_split(X_train, y_train, stratify=y_train, test_size=0.25)"
   ]
  },
  {
   "cell_type": "code",
   "execution_count": 46,
   "metadata": {},
   "outputs": [],
   "source": [
    "X_train_sub = sub_train[model_columns]\n",
    "y_train_sub = sub_train[\"label\"] "
   ]
  },
  {
   "cell_type": "code",
   "execution_count": 47,
   "metadata": {},
   "outputs": [
    {
     "data": {
      "text/plain": [
       "DecisionTreeClassifier(max_depth=1)"
      ]
     },
     "execution_count": 47,
     "metadata": {},
     "output_type": "execute_result"
    }
   ],
   "source": [
    "tree = DecisionTreeClassifier(max_depth=1)\n",
    "tree.fit(X_train_sub, y_train_sub)"
   ]
  },
  {
   "cell_type": "code",
   "execution_count": 48,
   "metadata": {},
   "outputs": [],
   "source": [
    "feature_names = [i for i in X_train_sub.columns]\n",
    "\n",
    "y_train_str = y_train_sub.astype('str')\n",
    "y_train_str[y_train_str == '0'] = 'no_text_item'\n",
    "y_train_str[y_train_str == '1'] = 'text_item'"
   ]
  },
  {
   "cell_type": "code",
   "execution_count": 49,
   "metadata": {},
   "outputs": [],
   "source": [
    "export_graphviz(tree, out_file='min_tree.dot', \n",
    "                feature_names = feature_names,\n",
    "                class_names = y_train_str,\n",
    "                rounded = True, proportion = True, \n",
    "                label='root',\n",
    "                precision = 2, filled = True)"
   ]
  },
  {
   "cell_type": "code",
   "execution_count": 50,
   "metadata": {},
   "outputs": [
    {
     "data": {
      "image/png": "[encoded data removed]",
      "text/plain": [
       "<IPython.core.display.Image object>"
      ]
     },
     "execution_count": 50,
     "metadata": {},
     "output_type": "execute_result"
    }
   ],
   "source": [
    "from subprocess import call\n",
    "call(['dot', '-Tpng', 'min_tree.dot', '-o', 'min_tree.png', '-Gdpi=100'])\n",
    "\n",
    "from IPython.display import Image\n",
    "Image(filename = 'min_tree.png')"
   ]
  },
  {
   "cell_type": "code",
   "execution_count": 51,
   "metadata": {},
   "outputs": [],
   "source": [
    "y_hat = [1 if i <= 0.53 else 0 for i in X_train['region.left']]"
   ]
  },
  {
   "cell_type": "code",
   "execution_count": 53,
   "metadata": {},
   "outputs": [
    {
     "data": {
      "text/html": [
       "<div>\n",
       "<style scoped>\n",
       "    .dataframe tbody tr th:only-of-type {\n",
       "        vertical-align: middle;\n",
       "    }\n",
       "\n",
       "    .dataframe tbody tr th {\n",
       "        vertical-align: top;\n",
       "    }\n",
       "\n",
       "    .dataframe thead th {\n",
       "        text-align: right;\n",
       "    }\n",
       "</style>\n",
       "<table border=\"1\" class=\"dataframe\">\n",
       "  <thead>\n",
       "    <tr style=\"text-align: right;\">\n",
       "      <th></th>\n",
       "      <th>act_no_text_item</th>\n",
       "      <th>act_text_item</th>\n",
       "    </tr>\n",
       "  </thead>\n",
       "  <tbody>\n",
       "    <tr>\n",
       "      <th>pred_no_text_item</th>\n",
       "      <td>1334554</td>\n",
       "      <td>13424</td>\n",
       "    </tr>\n",
       "    <tr>\n",
       "      <th>pred_text_item</th>\n",
       "      <td>1987298</td>\n",
       "      <td>203076</td>\n",
       "    </tr>\n",
       "  </tbody>\n",
       "</table>\n",
       "</div>"
      ],
      "text/plain": [
       "                   act_no_text_item  act_text_item\n",
       "pred_no_text_item           1334554          13424\n",
       "pred_text_item              1987298         203076"
      ]
     },
     "execution_count": 53,
     "metadata": {},
     "output_type": "execute_result"
    }
   ],
   "source": [
    "pd.DataFrame(confusion_matrix(y_train, y_hat).T, columns=[\"act_no_text_item\",\"act_text_item\"], \n",
    "             index=[\"pred_no_text_item\",\"pred_text_item\"])"
   ]
  },
  {
   "cell_type": "code",
   "execution_count": 52,
   "metadata": {},
   "outputs": [
    {
     "data": {
      "text/plain": [
       "0.1688351156951918"
      ]
     },
     "execution_count": 52,
     "metadata": {},
     "output_type": "execute_result"
    }
   ],
   "source": [
    "f1_score(y_train, y_hat)"
   ]
  },
  {
   "cell_type": "code",
   "execution_count": 53,
   "metadata": {},
   "outputs": [
    {
     "data": {
      "text/plain": [
       "0.09276741125049055"
      ]
     },
     "execution_count": 53,
     "metadata": {},
     "output_type": "execute_result"
    }
   ],
   "source": [
    "precision_score(y_train, y_hat)"
   ]
  },
  {
   "cell_type": "code",
   "execution_count": 54,
   "metadata": {},
   "outputs": [
    {
     "data": {
      "text/plain": [
       "0.9378845265588914"
      ]
     },
     "execution_count": 54,
     "metadata": {},
     "output_type": "execute_result"
    }
   ],
   "source": [
    "recall_score(y_train, y_hat)"
   ]
  },
  {
   "cell_type": "markdown",
   "metadata": {},
   "source": [
    "With one feature, we get to a F1-Score of 0.17, which is really bad. The precision is too low. Too many non-text items are classified as text-items. Let's see, if a more sophisticated approach will help or if the data is too noisy."
   ]
  },
  {
   "cell_type": "code",
   "execution_count": 71,
   "metadata": {},
   "outputs": [],
   "source": [
    "def plot_precision_recall_vs_threshold(precisions, recalls, thresholds):\n",
    "    plt.plot(thresholds, precisions[:-1], \"b--\", label=\"Precision\", linewidth=2)\n",
    "    plt.plot(thresholds, recalls[:-1], \"g-\", label=\"Recall\", linewidth=2)\n",
    "    plt.xlabel(\"Threshold\", fontsize=16)\n",
    "    plt.legend(loc=\"upper left\", fontsize=16)\n",
    "    plt.ylim([0, 1])\n",
    "\n",
    "\n",
    "def plot_precision_vs_recall(precisions, recalls):\n",
    "    plt.plot(recalls, precisions, \"b-\", linewidth=2)\n",
    "    plt.xlabel(\"Recall\", fontsize=16)\n",
    "    plt.ylabel(\"Precision\", fontsize=16)\n",
    "    plt.axis([0, 1, 0, 1])"
   ]
  },
  {
   "cell_type": "code",
   "execution_count": 95,
   "metadata": {},
   "outputs": [],
   "source": [
    "def plot_xgboost_loss(results):\n",
    "    \n",
    "    epochs = len(results['validation_0']['logloss'])\n",
    "\n",
    "    x_axis = range(0, epochs)\n",
    "\n",
    "    fig, ax = plt.subplots()\n",
    "    ax.plot(x_axis, results['validation_0']['logloss'], label='train')\n",
    "    ax.plot(x_axis, results['validation_1']['logloss'], label='val')\n",
    "    ax.legend()\n",
    "    plt.ylabel('Log Loss')\n",
    "    plt.title('XGBoost Log Loss')\n",
    "    \n",
    "    \n",
    "def plot_xgboost_pr_auc(results):\n",
    "    \n",
    "    epochs = len(results['validation_0']['logloss'])\n",
    "\n",
    "    x_axis = range(0, epochs)\n",
    "\n",
    "    fig, ax = plt.subplots()\n",
    "    ax.plot(x_axis, results['validation_0']['aucpr'], label='train')\n",
    "    ax.plot(x_axis, results['validation_1']['aucpr'], label='val')\n",
    "    ax.legend()\n",
    "    plt.ylabel('Precision-Recall AUC')\n",
    "    plt.title('XGBoost PR-AUC')\n"
   ]
  },
  {
   "cell_type": "markdown",
   "metadata": {},
   "source": [
    "## DecisionTree"
   ]
  },
  {
   "cell_type": "markdown",
   "metadata": {},
   "source": [
    "Training of a slighty bigger decision tree. The F1-score on the undersampled train data looks okayish. Still not great, but it is an improvement."
   ]
  },
  {
   "cell_type": "code",
   "execution_count": 63,
   "metadata": {},
   "outputs": [
    {
     "name": "stdout",
     "output_type": "stream",
     "text": [
      "Decision Tree has a cross_validationg F1 score of 0.7\n"
     ]
    }
   ],
   "source": [
    "tree = DecisionTreeClassifier(random_state=0, max_depth=8, criterion='gini')\n",
    "\n",
    "training_score = cross_val_score(tree, X_train_sub, y_train_sub, cv=5, scoring='f1')\n",
    "print(f\"Decision Tree has a cross_validationg F1 score of {training_score.mean():.2}\")"
   ]
  },
  {
   "cell_type": "code",
   "execution_count": 64,
   "metadata": {},
   "outputs": [
    {
     "data": {
      "text/plain": [
       "array([0.69703672, 0.69054706, 0.69615621, 0.70557652, 0.70808683])"
      ]
     },
     "execution_count": 64,
     "metadata": {},
     "output_type": "execute_result"
    }
   ],
   "source": [
    "training_score"
   ]
  },
  {
   "cell_type": "code",
   "execution_count": 65,
   "metadata": {},
   "outputs": [
    {
     "data": {
      "text/plain": [
       "DecisionTreeClassifier(max_depth=8, random_state=0)"
      ]
     },
     "execution_count": 65,
     "metadata": {},
     "output_type": "execute_result"
    }
   ],
   "source": [
    "tree = DecisionTreeClassifier(random_state=0, max_depth=8, criterion='gini')\n",
    "tree.fit(X_train_sub, y_train_sub)"
   ]
  },
  {
   "cell_type": "code",
   "execution_count": 66,
   "metadata": {},
   "outputs": [
    {
     "data": {
      "text/plain": [
       "0"
      ]
     },
     "execution_count": 66,
     "metadata": {},
     "output_type": "execute_result"
    }
   ],
   "source": [
    "export_graphviz(tree, out_file='tree_depth_8.dot', \n",
    "                feature_names = feature_names,\n",
    "                class_names = y_train_str,\n",
    "                rounded = True, proportion = True, \n",
    "                label='root',\n",
    "                precision = 2, filled = True)\n",
    "\n",
    "from subprocess import call\n",
    "call(['dot', '-Tpng', 'tree_depth_8.dot', '-o', 'tree_depth_8.png', '-Gdpi=100'])"
   ]
  },
  {
   "cell_type": "markdown",
   "metadata": {},
   "source": [
    "Let's see, how well the tree generalizes on the whole dataset. The F1-scores drops as expected, since we add only non-text items here. So a decision tree is not the best option, but at least a start."
   ]
  },
  {
   "cell_type": "code",
   "execution_count": 67,
   "metadata": {},
   "outputs": [],
   "source": [
    "y_hat = tree.predict(X_val)"
   ]
  },
  {
   "cell_type": "code",
   "execution_count": 68,
   "metadata": {},
   "outputs": [
    {
     "data": {
      "text/html": [
       "<div>\n",
       "<style scoped>\n",
       "    .dataframe tbody tr th:only-of-type {\n",
       "        vertical-align: middle;\n",
       "    }\n",
       "\n",
       "    .dataframe tbody tr th {\n",
       "        vertical-align: top;\n",
       "    }\n",
       "\n",
       "    .dataframe thead th {\n",
       "        text-align: right;\n",
       "    }\n",
       "</style>\n",
       "<table border=\"1\" class=\"dataframe\">\n",
       "  <thead>\n",
       "    <tr style=\"text-align: right;\">\n",
       "      <th></th>\n",
       "      <th>no_text_item</th>\n",
       "      <th>text_item</th>\n",
       "    </tr>\n",
       "  </thead>\n",
       "  <tbody>\n",
       "    <tr>\n",
       "      <th>no_text_item</th>\n",
       "      <td>933729</td>\n",
       "      <td>21684</td>\n",
       "    </tr>\n",
       "    <tr>\n",
       "      <th>text_item</th>\n",
       "      <td>173555</td>\n",
       "      <td>50483</td>\n",
       "    </tr>\n",
       "  </tbody>\n",
       "</table>\n",
       "</div>"
      ],
      "text/plain": [
       "              no_text_item  text_item\n",
       "no_text_item        933729      21684\n",
       "text_item           173555      50483"
      ]
     },
     "execution_count": 68,
     "metadata": {},
     "output_type": "execute_result"
    }
   ],
   "source": [
    "pd.DataFrame(confusion_matrix(y_val, y_hat).T, columns=[\"no_text_item\",\"text_item\"], index=[\"no_text_item\",\"text_item\"])"
   ]
  },
  {
   "cell_type": "code",
   "execution_count": 69,
   "metadata": {},
   "outputs": [
    {
     "data": {
      "text/plain": [
       "0.34086527911412706"
      ]
     },
     "execution_count": 69,
     "metadata": {},
     "output_type": "execute_result"
    }
   ],
   "source": [
    "f1_score(y_val, y_hat)"
   ]
  },
  {
   "cell_type": "code",
   "execution_count": 70,
   "metadata": {},
   "outputs": [
    {
     "data": {
      "text/plain": [
       "0.22533230969746204"
      ]
     },
     "execution_count": 70,
     "metadata": {},
     "output_type": "execute_result"
    }
   ],
   "source": [
    "precision_score(y_val, y_hat)"
   ]
  },
  {
   "cell_type": "code",
   "execution_count": 71,
   "metadata": {},
   "outputs": [
    {
     "data": {
      "text/plain": [
       "0.6995302562112877"
      ]
     },
     "execution_count": 71,
     "metadata": {},
     "output_type": "execute_result"
    }
   ],
   "source": [
    "recall_score(y_val, y_hat)"
   ]
  },
  {
   "cell_type": "code",
   "execution_count": null,
   "metadata": {},
   "outputs": [],
   "source": []
  },
  {
   "cell_type": "code",
   "execution_count": 72,
   "metadata": {},
   "outputs": [],
   "source": [
    "y_hat = tree.predict(X_train)"
   ]
  },
  {
   "cell_type": "code",
   "execution_count": 73,
   "metadata": {},
   "outputs": [
    {
     "data": {
      "text/html": [
       "<div>\n",
       "<style scoped>\n",
       "    .dataframe tbody tr th:only-of-type {\n",
       "        vertical-align: middle;\n",
       "    }\n",
       "\n",
       "    .dataframe tbody tr th {\n",
       "        vertical-align: top;\n",
       "    }\n",
       "\n",
       "    .dataframe thead th {\n",
       "        text-align: right;\n",
       "    }\n",
       "</style>\n",
       "<table border=\"1\" class=\"dataframe\">\n",
       "  <thead>\n",
       "    <tr style=\"text-align: right;\">\n",
       "      <th></th>\n",
       "      <th>no_text_item</th>\n",
       "      <th>text_item</th>\n",
       "    </tr>\n",
       "  </thead>\n",
       "  <tbody>\n",
       "    <tr>\n",
       "      <th>no_text_item</th>\n",
       "      <td>2800590</td>\n",
       "      <td>64848</td>\n",
       "    </tr>\n",
       "    <tr>\n",
       "      <th>text_item</th>\n",
       "      <td>521262</td>\n",
       "      <td>151652</td>\n",
       "    </tr>\n",
       "  </tbody>\n",
       "</table>\n",
       "</div>"
      ],
      "text/plain": [
       "              no_text_item  text_item\n",
       "no_text_item       2800590      64848\n",
       "text_item           521262     151652"
      ]
     },
     "execution_count": 73,
     "metadata": {},
     "output_type": "execute_result"
    }
   ],
   "source": [
    "pd.DataFrame(confusion_matrix(y_train, y_hat).T, columns=[\"no_text_item\",\"text_item\"], index=[\"no_text_item\",\"text_item\"])"
   ]
  },
  {
   "cell_type": "code",
   "execution_count": 74,
   "metadata": {},
   "outputs": [
    {
     "data": {
      "text/plain": [
       "0.34101554506675186"
      ]
     },
     "execution_count": 74,
     "metadata": {},
     "output_type": "execute_result"
    }
   ],
   "source": [
    "f1_score(y_train, y_hat)"
   ]
  },
  {
   "cell_type": "code",
   "execution_count": 75,
   "metadata": {},
   "outputs": [
    {
     "data": {
      "text/plain": [
       "0.22536609433003327"
      ]
     },
     "execution_count": 75,
     "metadata": {},
     "output_type": "execute_result"
    }
   ],
   "source": [
    "precision_score(y_train, y_hat)"
   ]
  },
  {
   "cell_type": "code",
   "execution_count": 76,
   "metadata": {},
   "outputs": [
    {
     "data": {
      "text/plain": [
       "0.7004711316397229"
      ]
     },
     "execution_count": 76,
     "metadata": {},
     "output_type": "execute_result"
    }
   ],
   "source": [
    "recall_score(y_train, y_hat)"
   ]
  },
  {
   "cell_type": "markdown",
   "metadata": {},
   "source": [
    "### XGBoost"
   ]
  },
  {
   "cell_type": "markdown",
   "metadata": {},
   "source": [
    "The imrpovement with the decision tree looks interesting. I would try to train an XGBoost model and see how weel he generalizes. Out of time reasons, I choose more a stomp like approach with a max depth of 2. Since boosing is basicallt gradually learning, this is okay. Probably the number of trees could be better. Also there is much more space for improvement, but any hyperparameter tuning doesn't make sense, as long as the metrics are really bad."
   ]
  },
  {
   "cell_type": "code",
   "execution_count": 77,
   "metadata": {},
   "outputs": [],
   "source": [
    "xgb_clf = xgb.XGBClassifier(max_depth=2, n_estimators=200, objective='binary:logistic', gamma=0.1, random_state=1234, early_stopping_rounds=10)\\"
   ]
  },
  {
   "cell_type": "code",
   "execution_count": 78,
   "metadata": {},
   "outputs": [],
   "source": [
    "folds = StratifiedKFold(n_splits = 3, shuffle = True)\n",
    "\n",
    "estimators = []\n",
    "# results = np.zeros(len(X))\n",
    "score = []\n",
    "\n",
    "for train_index, val_index in folds.split(X_train_sub, y_train_sub):\n",
    "    sub_X_train, sub_X_val = X_train_sub.iloc[train_index,:], X_train_sub.iloc[val_index,:]\n",
    "\n",
    "    sub_y_train, sub_y_val = y_train_sub.iloc[train_index].values.ravel(), y_train_sub.iloc[val_index].values.ravel()\n",
    "    xgb_clf.fit(sub_X_train, sub_y_train)\n",
    "\n",
    "    estimators.append(xgb_clf)\n",
    "    results = xgb_clf.predict(sub_X_val)\n",
    "    score.append(f1_score(sub_y_val, results))"
   ]
  },
  {
   "cell_type": "code",
   "execution_count": 79,
   "metadata": {},
   "outputs": [
    {
     "data": {
      "text/plain": [
       "[0.7303704362344828, 0.7292467968499272, 0.726728272544138]"
      ]
     },
     "execution_count": 79,
     "metadata": {},
     "output_type": "execute_result"
    }
   ],
   "source": [
    "score"
   ]
  },
  {
   "cell_type": "code",
   "execution_count": 80,
   "metadata": {},
   "outputs": [],
   "source": [
    "X_train_sub, X_val_sub, y_train_sub, y_val_sub = train_test_split(X_train_sub, y_train_sub, stratify=y_train_sub, test_size=0.25)"
   ]
  },
  {
   "cell_type": "code",
   "execution_count": 81,
   "metadata": {},
   "outputs": [],
   "source": [
    "eval_set = [(X_train_sub, y_train_sub), (X_val_sub, y_val_sub)]"
   ]
  },
  {
   "cell_type": "code",
   "execution_count": 82,
   "metadata": {},
   "outputs": [],
   "source": [
    "xgb_clf = xgb.XGBClassifier(eta=0.3,\n",
    "                            max_depth=2, n_estimators=200, \n",
    "                            objective='binary:logistic', \n",
    "                            random_state=1234, \n",
    "                            early_stopping_rounds=10)"
   ]
  },
  {
   "cell_type": "code",
   "execution_count": 84,
   "metadata": {},
   "outputs": [
    {
     "name": "stdout",
     "output_type": "stream",
     "text": [
      "[0]\tvalidation_0-logloss:0.662412\tvalidation_0-aucpr:0.501565\tvalidation_1-logloss:0.665035\tvalidation_1-aucpr:0.500276\n",
      "[1]\tvalidation_0-logloss:0.6405\tvalidation_0-aucpr:0.50553\tvalidation_1-logloss:0.641443\tvalidation_1-aucpr:0.504488\n",
      "[2]\tvalidation_0-logloss:0.621087\tvalidation_0-aucpr:0.507261\tvalidation_1-logloss:0.622032\tvalidation_1-aucpr:0.506276\n",
      "[3]\tvalidation_0-logloss:0.603063\tvalidation_0-aucpr:0.576708\tvalidation_1-logloss:0.604738\tvalidation_1-aucpr:0.57566\n",
      "[4]\tvalidation_0-logloss:0.589723\tvalidation_0-aucpr:0.585596\tvalidation_1-logloss:0.590666\tvalidation_1-aucpr:0.584853\n",
      "[5]\tvalidation_0-logloss:0.577154\tvalidation_0-aucpr:0.592642\tvalidation_1-logloss:0.576845\tvalidation_1-aucpr:0.591656\n",
      "[6]\tvalidation_0-logloss:0.565043\tvalidation_0-aucpr:0.593919\tvalidation_1-logloss:0.565545\tvalidation_1-aucpr:0.592898\n",
      "[7]\tvalidation_0-logloss:0.550096\tvalidation_0-aucpr:0.621265\tvalidation_1-logloss:0.550784\tvalidation_1-aucpr:0.619101\n",
      "[8]\tvalidation_0-logloss:0.540979\tvalidation_0-aucpr:0.621369\tvalidation_1-logloss:0.541905\tvalidation_1-aucpr:0.619214\n",
      "[9]\tvalidation_0-logloss:0.530231\tvalidation_0-aucpr:0.6262\tvalidation_1-logloss:0.531309\tvalidation_1-aucpr:0.623484\n",
      "[10]\tvalidation_0-logloss:0.523752\tvalidation_0-aucpr:0.626925\tvalidation_1-logloss:0.523311\tvalidation_1-aucpr:0.624264\n",
      "[11]\tvalidation_0-logloss:0.516392\tvalidation_0-aucpr:0.627208\tvalidation_1-logloss:0.515895\tvalidation_1-aucpr:0.624472\n",
      "[12]\tvalidation_0-logloss:0.5079\tvalidation_0-aucpr:0.63651\tvalidation_1-logloss:0.50885\tvalidation_1-aucpr:0.634954\n",
      "[13]\tvalidation_0-logloss:0.502861\tvalidation_0-aucpr:0.636577\tvalidation_1-logloss:0.503515\tvalidation_1-aucpr:0.635024\n",
      "[14]\tvalidation_0-logloss:0.49648\tvalidation_0-aucpr:0.637625\tvalidation_1-logloss:0.497494\tvalidation_1-aucpr:0.636234\n",
      "[15]\tvalidation_0-logloss:0.492786\tvalidation_0-aucpr:0.637672\tvalidation_1-logloss:0.492795\tvalidation_1-aucpr:0.636325\n",
      "[16]\tvalidation_0-logloss:0.488558\tvalidation_0-aucpr:0.637674\tvalidation_1-logloss:0.488852\tvalidation_1-aucpr:0.636705\n",
      "[17]\tvalidation_0-logloss:0.48201\tvalidation_0-aucpr:0.638384\tvalidation_1-logloss:0.483988\tvalidation_1-aucpr:0.63748\n",
      "[18]\tvalidation_0-logloss:0.477927\tvalidation_0-aucpr:0.648004\tvalidation_1-logloss:0.478883\tvalidation_1-aucpr:0.646827\n",
      "[19]\tvalidation_0-logloss:0.475506\tvalidation_0-aucpr:0.647747\tvalidation_1-logloss:0.475132\tvalidation_1-aucpr:0.646539\n",
      "[20]\tvalidation_0-logloss:0.471364\tvalidation_0-aucpr:0.650368\tvalidation_1-logloss:0.472111\tvalidation_1-aucpr:0.649335\n",
      "[21]\tvalidation_0-logloss:0.467051\tvalidation_0-aucpr:0.655579\tvalidation_1-logloss:0.467476\tvalidation_1-aucpr:0.654593\n",
      "[22]\tvalidation_0-logloss:0.464064\tvalidation_0-aucpr:0.655372\tvalidation_1-logloss:0.465112\tvalidation_1-aucpr:0.654397\n",
      "[23]\tvalidation_0-logloss:0.461273\tvalidation_0-aucpr:0.657745\tvalidation_1-logloss:0.461973\tvalidation_1-aucpr:0.656906\n",
      "[24]\tvalidation_0-logloss:0.459811\tvalidation_0-aucpr:0.657779\tvalidation_1-logloss:0.459452\tvalidation_1-aucpr:0.656954\n",
      "[25]\tvalidation_0-logloss:0.456147\tvalidation_0-aucpr:0.674164\tvalidation_1-logloss:0.456939\tvalidation_1-aucpr:0.674455\n",
      "[26]\tvalidation_0-logloss:0.453885\tvalidation_0-aucpr:0.67424\tvalidation_1-logloss:0.454631\tvalidation_1-aucpr:0.674541\n",
      "[27]\tvalidation_0-logloss:0.451634\tvalidation_0-aucpr:0.674572\tvalidation_1-logloss:0.452977\tvalidation_1-aucpr:0.674853\n",
      "[28]\tvalidation_0-logloss:0.448785\tvalidation_0-aucpr:0.674096\tvalidation_1-logloss:0.450215\tvalidation_1-aucpr:0.671337\n",
      "[29]\tvalidation_0-logloss:0.447355\tvalidation_0-aucpr:0.67888\tvalidation_1-logloss:0.448375\tvalidation_1-aucpr:0.676846\n",
      "[30]\tvalidation_0-logloss:0.446129\tvalidation_0-aucpr:0.680503\tvalidation_1-logloss:0.446628\tvalidation_1-aucpr:0.678534\n",
      "[31]\tvalidation_0-logloss:0.444161\tvalidation_0-aucpr:0.681181\tvalidation_1-logloss:0.444916\tvalidation_1-aucpr:0.679169\n",
      "[32]\tvalidation_0-logloss:0.441713\tvalidation_0-aucpr:0.681269\tvalidation_1-logloss:0.442642\tvalidation_1-aucpr:0.679129\n",
      "[33]\tvalidation_0-logloss:0.440221\tvalidation_0-aucpr:0.685605\tvalidation_1-logloss:0.441245\tvalidation_1-aucpr:0.683705\n",
      "[34]\tvalidation_0-logloss:0.43843\tvalidation_0-aucpr:0.686742\tvalidation_1-logloss:0.439508\tvalidation_1-aucpr:0.684873\n",
      "[35]\tvalidation_0-logloss:0.436897\tvalidation_0-aucpr:0.686793\tvalidation_1-logloss:0.438047\tvalidation_1-aucpr:0.684987\n",
      "[36]\tvalidation_0-logloss:0.435114\tvalidation_0-aucpr:0.689252\tvalidation_1-logloss:0.436049\tvalidation_1-aucpr:0.687296\n",
      "[37]\tvalidation_0-logloss:0.433104\tvalidation_0-aucpr:0.689435\tvalidation_1-logloss:0.434129\tvalidation_1-aucpr:0.686925\n",
      "[38]\tvalidation_0-logloss:0.431962\tvalidation_0-aucpr:0.69102\tvalidation_1-logloss:0.433047\tvalidation_1-aucpr:0.688957\n",
      "[39]\tvalidation_0-logloss:0.430131\tvalidation_0-aucpr:0.691047\tvalidation_1-logloss:0.431508\tvalidation_1-aucpr:0.689022\n",
      "[40]\tvalidation_0-logloss:0.428894\tvalidation_0-aucpr:0.690183\tvalidation_1-logloss:0.430403\tvalidation_1-aucpr:0.687474\n",
      "[41]\tvalidation_0-logloss:0.42824\tvalidation_0-aucpr:0.691235\tvalidation_1-logloss:0.429424\tvalidation_1-aucpr:0.688707\n",
      "[42]\tvalidation_0-logloss:0.426828\tvalidation_0-aucpr:0.693087\tvalidation_1-logloss:0.428028\tvalidation_1-aucpr:0.690402\n",
      "[43]\tvalidation_0-logloss:0.425888\tvalidation_0-aucpr:0.693491\tvalidation_1-logloss:0.42699\tvalidation_1-aucpr:0.690831\n",
      "[44]\tvalidation_0-logloss:0.425254\tvalidation_0-aucpr:0.692997\tvalidation_1-logloss:0.426293\tvalidation_1-aucpr:0.690096\n",
      "[45]\tvalidation_0-logloss:0.42445\tvalidation_0-aucpr:0.693855\tvalidation_1-logloss:0.425377\tvalidation_1-aucpr:0.690948\n",
      "[46]\tvalidation_0-logloss:0.423202\tvalidation_0-aucpr:0.694171\tvalidation_1-logloss:0.424302\tvalidation_1-aucpr:0.691336\n",
      "[47]\tvalidation_0-logloss:0.422325\tvalidation_0-aucpr:0.694162\tvalidation_1-logloss:0.423581\tvalidation_1-aucpr:0.691404\n",
      "[48]\tvalidation_0-logloss:0.421041\tvalidation_0-aucpr:0.694708\tvalidation_1-logloss:0.422135\tvalidation_1-aucpr:0.691793\n",
      "[49]\tvalidation_0-logloss:0.420199\tvalidation_0-aucpr:0.695199\tvalidation_1-logloss:0.421414\tvalidation_1-aucpr:0.692608\n",
      "[50]\tvalidation_0-logloss:0.419811\tvalidation_0-aucpr:0.695762\tvalidation_1-logloss:0.420678\tvalidation_1-aucpr:0.693183\n",
      "[51]\tvalidation_0-logloss:0.419287\tvalidation_0-aucpr:0.70132\tvalidation_1-logloss:0.420088\tvalidation_1-aucpr:0.698655\n",
      "[52]\tvalidation_0-logloss:0.418581\tvalidation_0-aucpr:0.701325\tvalidation_1-logloss:0.419407\tvalidation_1-aucpr:0.698656\n",
      "[53]\tvalidation_0-logloss:0.417425\tvalidation_0-aucpr:0.701513\tvalidation_1-logloss:0.418215\tvalidation_1-aucpr:0.698794\n",
      "[54]\tvalidation_0-logloss:0.416234\tvalidation_0-aucpr:0.702174\tvalidation_1-logloss:0.41767\tvalidation_1-aucpr:0.699342\n",
      "[55]\tvalidation_0-logloss:0.41601\tvalidation_0-aucpr:0.707285\tvalidation_1-logloss:0.416853\tvalidation_1-aucpr:0.704726\n",
      "[56]\tvalidation_0-logloss:0.41552\tvalidation_0-aucpr:0.707759\tvalidation_1-logloss:0.416307\tvalidation_1-aucpr:0.705134\n",
      "[57]\tvalidation_0-logloss:0.414451\tvalidation_0-aucpr:0.707762\tvalidation_1-logloss:0.415682\tvalidation_1-aucpr:0.705172\n",
      "[58]\tvalidation_0-logloss:0.413896\tvalidation_0-aucpr:0.711146\tvalidation_1-logloss:0.415133\tvalidation_1-aucpr:0.708558\n",
      "[59]\tvalidation_0-logloss:0.412935\tvalidation_0-aucpr:0.714149\tvalidation_1-logloss:0.414268\tvalidation_1-aucpr:0.711321\n",
      "[60]\tvalidation_0-logloss:0.41249\tvalidation_0-aucpr:0.714315\tvalidation_1-logloss:0.413768\tvalidation_1-aucpr:0.711527\n",
      "[61]\tvalidation_0-logloss:0.411433\tvalidation_0-aucpr:0.714522\tvalidation_1-logloss:0.412753\tvalidation_1-aucpr:0.711666\n",
      "[62]\tvalidation_0-logloss:0.410958\tvalidation_0-aucpr:0.715781\tvalidation_1-logloss:0.411944\tvalidation_1-aucpr:0.713014\n",
      "[63]\tvalidation_0-logloss:0.410228\tvalidation_0-aucpr:0.718227\tvalidation_1-logloss:0.411349\tvalidation_1-aucpr:0.715526\n",
      "[64]\tvalidation_0-logloss:0.409963\tvalidation_0-aucpr:0.718233\tvalidation_1-logloss:0.410895\tvalidation_1-aucpr:0.715532\n",
      "[65]\tvalidation_0-logloss:0.409012\tvalidation_0-aucpr:0.719864\tvalidation_1-logloss:0.410234\tvalidation_1-aucpr:0.71701\n",
      "[66]\tvalidation_0-logloss:0.408106\tvalidation_0-aucpr:0.720259\tvalidation_1-logloss:0.409377\tvalidation_1-aucpr:0.717352\n",
      "[67]\tvalidation_0-logloss:0.407454\tvalidation_0-aucpr:0.722416\tvalidation_1-logloss:0.408711\tvalidation_1-aucpr:0.719545\n",
      "[68]\tvalidation_0-logloss:0.406942\tvalidation_0-aucpr:0.722855\tvalidation_1-logloss:0.408385\tvalidation_1-aucpr:0.719998\n"
     ]
    },
    {
     "name": "stdout",
     "output_type": "stream",
     "text": [
      "[69]\tvalidation_0-logloss:0.406615\tvalidation_0-aucpr:0.722813\tvalidation_1-logloss:0.408019\tvalidation_1-aucpr:0.719989\n",
      "[70]\tvalidation_0-logloss:0.406329\tvalidation_0-aucpr:0.723369\tvalidation_1-logloss:0.407621\tvalidation_1-aucpr:0.720669\n",
      "[71]\tvalidation_0-logloss:0.405709\tvalidation_0-aucpr:0.724936\tvalidation_1-logloss:0.407141\tvalidation_1-aucpr:0.722339\n",
      "[72]\tvalidation_0-logloss:0.405388\tvalidation_0-aucpr:0.727372\tvalidation_1-logloss:0.406549\tvalidation_1-aucpr:0.724943\n",
      "[73]\tvalidation_0-logloss:0.40472\tvalidation_0-aucpr:0.728979\tvalidation_1-logloss:0.405949\tvalidation_1-aucpr:0.726464\n",
      "[74]\tvalidation_0-logloss:0.40402\tvalidation_0-aucpr:0.729025\tvalidation_1-logloss:0.405208\tvalidation_1-aucpr:0.726457\n",
      "[75]\tvalidation_0-logloss:0.403325\tvalidation_0-aucpr:0.729013\tvalidation_1-logloss:0.404617\tvalidation_1-aucpr:0.726412\n",
      "[76]\tvalidation_0-logloss:0.403016\tvalidation_0-aucpr:0.729216\tvalidation_1-logloss:0.404307\tvalidation_1-aucpr:0.726589\n",
      "[77]\tvalidation_0-logloss:0.402746\tvalidation_0-aucpr:0.729642\tvalidation_1-logloss:0.40405\tvalidation_1-aucpr:0.727021\n",
      "[78]\tvalidation_0-logloss:0.402452\tvalidation_0-aucpr:0.730355\tvalidation_1-logloss:0.40372\tvalidation_1-aucpr:0.727811\n",
      "[79]\tvalidation_0-logloss:0.40186\tvalidation_0-aucpr:0.731667\tvalidation_1-logloss:0.403228\tvalidation_1-aucpr:0.729067\n",
      "[80]\tvalidation_0-logloss:0.40157\tvalidation_0-aucpr:0.732068\tvalidation_1-logloss:0.402949\tvalidation_1-aucpr:0.729547\n",
      "[81]\tvalidation_0-logloss:0.400955\tvalidation_0-aucpr:0.732341\tvalidation_1-logloss:0.402321\tvalidation_1-aucpr:0.729719\n",
      "[82]\tvalidation_0-logloss:0.400716\tvalidation_0-aucpr:0.732575\tvalidation_1-logloss:0.402049\tvalidation_1-aucpr:0.729978\n",
      "[83]\tvalidation_0-logloss:0.400317\tvalidation_0-aucpr:0.732646\tvalidation_1-logloss:0.401616\tvalidation_1-aucpr:0.730024\n",
      "[84]\tvalidation_0-logloss:0.399878\tvalidation_0-aucpr:0.733977\tvalidation_1-logloss:0.401178\tvalidation_1-aucpr:0.731501\n",
      "[85]\tvalidation_0-logloss:0.399443\tvalidation_0-aucpr:0.734547\tvalidation_1-logloss:0.400713\tvalidation_1-aucpr:0.732035\n",
      "[86]\tvalidation_0-logloss:0.399021\tvalidation_0-aucpr:0.734805\tvalidation_1-logloss:0.400499\tvalidation_1-aucpr:0.732244\n",
      "[87]\tvalidation_0-logloss:0.398974\tvalidation_0-aucpr:0.734996\tvalidation_1-logloss:0.400284\tvalidation_1-aucpr:0.732524\n",
      "[88]\tvalidation_0-logloss:0.398454\tvalidation_0-aucpr:0.735038\tvalidation_1-logloss:0.399724\tvalidation_1-aucpr:0.732526\n",
      "[89]\tvalidation_0-logloss:0.398081\tvalidation_0-aucpr:0.736351\tvalidation_1-logloss:0.399337\tvalidation_1-aucpr:0.733976\n",
      "[90]\tvalidation_0-logloss:0.397779\tvalidation_0-aucpr:0.736844\tvalidation_1-logloss:0.399029\tvalidation_1-aucpr:0.734527\n",
      "[91]\tvalidation_0-logloss:0.397239\tvalidation_0-aucpr:0.737737\tvalidation_1-logloss:0.398631\tvalidation_1-aucpr:0.735459\n",
      "[92]\tvalidation_0-logloss:0.397066\tvalidation_0-aucpr:0.738099\tvalidation_1-logloss:0.398397\tvalidation_1-aucpr:0.735836\n",
      "[93]\tvalidation_0-logloss:0.396921\tvalidation_0-aucpr:0.738344\tvalidation_1-logloss:0.398184\tvalidation_1-aucpr:0.736135\n",
      "[94]\tvalidation_0-logloss:0.396694\tvalidation_0-aucpr:0.738506\tvalidation_1-logloss:0.398012\tvalidation_1-aucpr:0.736283\n",
      "[95]\tvalidation_0-logloss:0.396457\tvalidation_0-aucpr:0.738729\tvalidation_1-logloss:0.397806\tvalidation_1-aucpr:0.73653\n",
      "[96]\tvalidation_0-logloss:0.3962\tvalidation_0-aucpr:0.739336\tvalidation_1-logloss:0.397532\tvalidation_1-aucpr:0.737233\n",
      "[97]\tvalidation_0-logloss:0.395822\tvalidation_0-aucpr:0.739961\tvalidation_1-logloss:0.397152\tvalidation_1-aucpr:0.737808\n",
      "[98]\tvalidation_0-logloss:0.395443\tvalidation_0-aucpr:0.740078\tvalidation_1-logloss:0.396704\tvalidation_1-aucpr:0.737886\n",
      "[99]\tvalidation_0-logloss:0.395042\tvalidation_0-aucpr:0.740936\tvalidation_1-logloss:0.396384\tvalidation_1-aucpr:0.738895\n",
      "[100]\tvalidation_0-logloss:0.394926\tvalidation_0-aucpr:0.741025\tvalidation_1-logloss:0.396213\tvalidation_1-aucpr:0.738971\n",
      "[101]\tvalidation_0-logloss:0.394367\tvalidation_0-aucpr:0.741215\tvalidation_1-logloss:0.395683\tvalidation_1-aucpr:0.739147\n",
      "[102]\tvalidation_0-logloss:0.394248\tvalidation_0-aucpr:0.741371\tvalidation_1-logloss:0.395525\tvalidation_1-aucpr:0.7393\n",
      "[103]\tvalidation_0-logloss:0.393892\tvalidation_0-aucpr:0.74203\tvalidation_1-logloss:0.39521\tvalidation_1-aucpr:0.739911\n",
      "[104]\tvalidation_0-logloss:0.393537\tvalidation_0-aucpr:0.742282\tvalidation_1-logloss:0.394854\tvalidation_1-aucpr:0.740173\n",
      "[105]\tvalidation_0-logloss:0.393403\tvalidation_0-aucpr:0.74241\tvalidation_1-logloss:0.394723\tvalidation_1-aucpr:0.740383\n",
      "[106]\tvalidation_0-logloss:0.393216\tvalidation_0-aucpr:0.742713\tvalidation_1-logloss:0.394502\tvalidation_1-aucpr:0.740688\n",
      "[107]\tvalidation_0-logloss:0.393072\tvalidation_0-aucpr:0.742815\tvalidation_1-logloss:0.394345\tvalidation_1-aucpr:0.740767\n",
      "[108]\tvalidation_0-logloss:0.392783\tvalidation_0-aucpr:0.743409\tvalidation_1-logloss:0.394057\tvalidation_1-aucpr:0.741375\n",
      "[109]\tvalidation_0-logloss:0.392396\tvalidation_0-aucpr:0.743768\tvalidation_1-logloss:0.393808\tvalidation_1-aucpr:0.741755\n",
      "[110]\tvalidation_0-logloss:0.39231\tvalidation_0-aucpr:0.743906\tvalidation_1-logloss:0.393654\tvalidation_1-aucpr:0.741929\n",
      "[111]\tvalidation_0-logloss:0.392156\tvalidation_0-aucpr:0.744091\tvalidation_1-logloss:0.393485\tvalidation_1-aucpr:0.742105\n",
      "[112]\tvalidation_0-logloss:0.392054\tvalidation_0-aucpr:0.7442\tvalidation_1-logloss:0.393375\tvalidation_1-aucpr:0.742242\n",
      "[113]\tvalidation_0-logloss:0.391812\tvalidation_0-aucpr:0.744395\tvalidation_1-logloss:0.393104\tvalidation_1-aucpr:0.742444\n",
      "[114]\tvalidation_0-logloss:0.391655\tvalidation_0-aucpr:0.744321\tvalidation_1-logloss:0.392959\tvalidation_1-aucpr:0.742378\n",
      "[115]\tvalidation_0-logloss:0.391505\tvalidation_0-aucpr:0.744445\tvalidation_1-logloss:0.392855\tvalidation_1-aucpr:0.742482\n",
      "[116]\tvalidation_0-logloss:0.391311\tvalidation_0-aucpr:0.744902\tvalidation_1-logloss:0.392612\tvalidation_1-aucpr:0.742915\n",
      "[117]\tvalidation_0-logloss:0.390991\tvalidation_0-aucpr:0.744709\tvalidation_1-logloss:0.392301\tvalidation_1-aucpr:0.742578\n",
      "[118]\tvalidation_0-logloss:0.390669\tvalidation_0-aucpr:0.745527\tvalidation_1-logloss:0.391987\tvalidation_1-aucpr:0.743525\n",
      "[119]\tvalidation_0-logloss:0.390503\tvalidation_0-aucpr:0.745607\tvalidation_1-logloss:0.391866\tvalidation_1-aucpr:0.743641\n",
      "[120]\tvalidation_0-logloss:0.390343\tvalidation_0-aucpr:0.745862\tvalidation_1-logloss:0.39173\tvalidation_1-aucpr:0.743961\n",
      "[121]\tvalidation_0-logloss:0.390257\tvalidation_0-aucpr:0.746004\tvalidation_1-logloss:0.391622\tvalidation_1-aucpr:0.744086\n",
      "[122]\tvalidation_0-logloss:0.390182\tvalidation_0-aucpr:0.745945\tvalidation_1-logloss:0.391524\tvalidation_1-aucpr:0.744025\n",
      "[123]\tvalidation_0-logloss:0.389955\tvalidation_0-aucpr:0.746303\tvalidation_1-logloss:0.39128\tvalidation_1-aucpr:0.74442\n",
      "[124]\tvalidation_0-logloss:0.389718\tvalidation_0-aucpr:0.74681\tvalidation_1-logloss:0.391006\tvalidation_1-aucpr:0.744869\n",
      "[125]\tvalidation_0-logloss:0.389542\tvalidation_0-aucpr:0.74705\tvalidation_1-logloss:0.390846\tvalidation_1-aucpr:0.745176\n",
      "[126]\tvalidation_0-logloss:0.389421\tvalidation_0-aucpr:0.747284\tvalidation_1-logloss:0.390737\tvalidation_1-aucpr:0.745421\n",
      "[127]\tvalidation_0-logloss:0.389323\tvalidation_0-aucpr:0.747434\tvalidation_1-logloss:0.390637\tvalidation_1-aucpr:0.74553\n",
      "[128]\tvalidation_0-logloss:0.389196\tvalidation_0-aucpr:0.747623\tvalidation_1-logloss:0.39051\tvalidation_1-aucpr:0.745724\n",
      "[129]\tvalidation_0-logloss:0.389047\tvalidation_0-aucpr:0.747782\tvalidation_1-logloss:0.390354\tvalidation_1-aucpr:0.745859\n",
      "[130]\tvalidation_0-logloss:0.388919\tvalidation_0-aucpr:0.747909\tvalidation_1-logloss:0.390246\tvalidation_1-aucpr:0.745971\n",
      "[131]\tvalidation_0-logloss:0.388623\tvalidation_0-aucpr:0.748074\tvalidation_1-logloss:0.389963\tvalidation_1-aucpr:0.746117\n",
      "[132]\tvalidation_0-logloss:0.388541\tvalidation_0-aucpr:0.748048\tvalidation_1-logloss:0.389885\tvalidation_1-aucpr:0.746105\n",
      "[133]\tvalidation_0-logloss:0.388444\tvalidation_0-aucpr:0.748159\tvalidation_1-logloss:0.389778\tvalidation_1-aucpr:0.746193\n",
      "[134]\tvalidation_0-logloss:0.388333\tvalidation_0-aucpr:0.7484\tvalidation_1-logloss:0.389653\tvalidation_1-aucpr:0.746421\n",
      "[135]\tvalidation_0-logloss:0.388125\tvalidation_0-aucpr:0.74884\tvalidation_1-logloss:0.389454\tvalidation_1-aucpr:0.74693\n",
      "[136]\tvalidation_0-logloss:0.388025\tvalidation_0-aucpr:0.748967\tvalidation_1-logloss:0.389355\tvalidation_1-aucpr:0.747092\n"
     ]
    },
    {
     "name": "stdout",
     "output_type": "stream",
     "text": [
      "[137]\tvalidation_0-logloss:0.387745\tvalidation_0-aucpr:0.749036\tvalidation_1-logloss:0.389105\tvalidation_1-aucpr:0.747147\n",
      "[138]\tvalidation_0-logloss:0.387667\tvalidation_0-aucpr:0.74915\tvalidation_1-logloss:0.389028\tvalidation_1-aucpr:0.747247\n",
      "[139]\tvalidation_0-logloss:0.387506\tvalidation_0-aucpr:0.749453\tvalidation_1-logloss:0.388854\tvalidation_1-aucpr:0.747544\n",
      "[140]\tvalidation_0-logloss:0.387306\tvalidation_0-aucpr:0.749878\tvalidation_1-logloss:0.38865\tvalidation_1-aucpr:0.747989\n",
      "[141]\tvalidation_0-logloss:0.387203\tvalidation_0-aucpr:0.750015\tvalidation_1-logloss:0.388547\tvalidation_1-aucpr:0.748162\n",
      "[142]\tvalidation_0-logloss:0.387116\tvalidation_0-aucpr:0.750077\tvalidation_1-logloss:0.388474\tvalidation_1-aucpr:0.748216\n",
      "[143]\tvalidation_0-logloss:0.386928\tvalidation_0-aucpr:0.750101\tvalidation_1-logloss:0.388298\tvalidation_1-aucpr:0.748237\n",
      "[144]\tvalidation_0-logloss:0.386813\tvalidation_0-aucpr:0.750259\tvalidation_1-logloss:0.388179\tvalidation_1-aucpr:0.748368\n",
      "[145]\tvalidation_0-logloss:0.386744\tvalidation_0-aucpr:0.750355\tvalidation_1-logloss:0.388113\tvalidation_1-aucpr:0.748456\n",
      "[146]\tvalidation_0-logloss:0.386663\tvalidation_0-aucpr:0.750481\tvalidation_1-logloss:0.388029\tvalidation_1-aucpr:0.748578\n",
      "[147]\tvalidation_0-logloss:0.386593\tvalidation_0-aucpr:0.750564\tvalidation_1-logloss:0.387956\tvalidation_1-aucpr:0.748688\n",
      "[148]\tvalidation_0-logloss:0.386445\tvalidation_0-aucpr:0.75079\tvalidation_1-logloss:0.387813\tvalidation_1-aucpr:0.748895\n",
      "[149]\tvalidation_0-logloss:0.386382\tvalidation_0-aucpr:0.750762\tvalidation_1-logloss:0.387747\tvalidation_1-aucpr:0.74888\n",
      "[150]\tvalidation_0-logloss:0.386076\tvalidation_0-aucpr:0.751308\tvalidation_1-logloss:0.387434\tvalidation_1-aucpr:0.749427\n",
      "[151]\tvalidation_0-logloss:0.386007\tvalidation_0-aucpr:0.751382\tvalidation_1-logloss:0.387365\tvalidation_1-aucpr:0.7495\n",
      "[152]\tvalidation_0-logloss:0.385877\tvalidation_0-aucpr:0.751494\tvalidation_1-logloss:0.387254\tvalidation_1-aucpr:0.7496\n",
      "[153]\tvalidation_0-logloss:0.385779\tvalidation_0-aucpr:0.751615\tvalidation_1-logloss:0.387147\tvalidation_1-aucpr:0.749713\n",
      "[154]\tvalidation_0-logloss:0.385712\tvalidation_0-aucpr:0.751699\tvalidation_1-logloss:0.387056\tvalidation_1-aucpr:0.749825\n",
      "[155]\tvalidation_0-logloss:0.385629\tvalidation_0-aucpr:0.75178\tvalidation_1-logloss:0.386984\tvalidation_1-aucpr:0.749914\n",
      "[156]\tvalidation_0-logloss:0.385473\tvalidation_0-aucpr:0.751831\tvalidation_1-logloss:0.386822\tvalidation_1-aucpr:0.749961\n",
      "[157]\tvalidation_0-logloss:0.385401\tvalidation_0-aucpr:0.751901\tvalidation_1-logloss:0.386746\tvalidation_1-aucpr:0.750064\n",
      "[158]\tvalidation_0-logloss:0.385342\tvalidation_0-aucpr:0.751943\tvalidation_1-logloss:0.386694\tvalidation_1-aucpr:0.750104\n",
      "[159]\tvalidation_0-logloss:0.38527\tvalidation_0-aucpr:0.751975\tvalidation_1-logloss:0.386641\tvalidation_1-aucpr:0.750129\n",
      "[160]\tvalidation_0-logloss:0.385168\tvalidation_0-aucpr:0.75211\tvalidation_1-logloss:0.386544\tvalidation_1-aucpr:0.750277\n",
      "[161]\tvalidation_0-logloss:0.384984\tvalidation_0-aucpr:0.752543\tvalidation_1-logloss:0.386363\tvalidation_1-aucpr:0.750742\n",
      "[162]\tvalidation_0-logloss:0.384925\tvalidation_0-aucpr:0.752606\tvalidation_1-logloss:0.38629\tvalidation_1-aucpr:0.750823\n",
      "[163]\tvalidation_0-logloss:0.384774\tvalidation_0-aucpr:0.752596\tvalidation_1-logloss:0.386143\tvalidation_1-aucpr:0.750832\n",
      "[164]\tvalidation_0-logloss:0.384612\tvalidation_0-aucpr:0.752857\tvalidation_1-logloss:0.385963\tvalidation_1-aucpr:0.751113\n",
      "[165]\tvalidation_0-logloss:0.384534\tvalidation_0-aucpr:0.752939\tvalidation_1-logloss:0.385894\tvalidation_1-aucpr:0.751174\n",
      "[166]\tvalidation_0-logloss:0.38439\tvalidation_0-aucpr:0.753049\tvalidation_1-logloss:0.385735\tvalidation_1-aucpr:0.751303\n",
      "[167]\tvalidation_0-logloss:0.38434\tvalidation_0-aucpr:0.753066\tvalidation_1-logloss:0.385695\tvalidation_1-aucpr:0.751312\n",
      "[168]\tvalidation_0-logloss:0.384196\tvalidation_0-aucpr:0.753205\tvalidation_1-logloss:0.385543\tvalidation_1-aucpr:0.751475\n",
      "[169]\tvalidation_0-logloss:0.384041\tvalidation_0-aucpr:0.753397\tvalidation_1-logloss:0.385405\tvalidation_1-aucpr:0.751645\n",
      "[170]\tvalidation_0-logloss:0.383844\tvalidation_0-aucpr:0.753437\tvalidation_1-logloss:0.385197\tvalidation_1-aucpr:0.751661\n",
      "[171]\tvalidation_0-logloss:0.383727\tvalidation_0-aucpr:0.753655\tvalidation_1-logloss:0.385093\tvalidation_1-aucpr:0.751852\n",
      "[172]\tvalidation_0-logloss:0.383664\tvalidation_0-aucpr:0.753704\tvalidation_1-logloss:0.38504\tvalidation_1-aucpr:0.751907\n",
      "[173]\tvalidation_0-logloss:0.383625\tvalidation_0-aucpr:0.753769\tvalidation_1-logloss:0.38501\tvalidation_1-aucpr:0.75192\n",
      "[174]\tvalidation_0-logloss:0.38357\tvalidation_0-aucpr:0.753815\tvalidation_1-logloss:0.384949\tvalidation_1-aucpr:0.751974\n",
      "[175]\tvalidation_0-logloss:0.383463\tvalidation_0-aucpr:0.753892\tvalidation_1-logloss:0.384832\tvalidation_1-aucpr:0.752036\n",
      "[176]\tvalidation_0-logloss:0.383381\tvalidation_0-aucpr:0.753996\tvalidation_1-logloss:0.384751\tvalidation_1-aucpr:0.752198\n",
      "[177]\tvalidation_0-logloss:0.383302\tvalidation_0-aucpr:0.75405\tvalidation_1-logloss:0.384688\tvalidation_1-aucpr:0.752245\n",
      "[178]\tvalidation_0-logloss:0.38324\tvalidation_0-aucpr:0.754054\tvalidation_1-logloss:0.384633\tvalidation_1-aucpr:0.752249\n",
      "[179]\tvalidation_0-logloss:0.383187\tvalidation_0-aucpr:0.754173\tvalidation_1-logloss:0.384576\tvalidation_1-aucpr:0.752342\n",
      "[180]\tvalidation_0-logloss:0.383026\tvalidation_0-aucpr:0.754502\tvalidation_1-logloss:0.384427\tvalidation_1-aucpr:0.752691\n",
      "[181]\tvalidation_0-logloss:0.382916\tvalidation_0-aucpr:0.754664\tvalidation_1-logloss:0.384329\tvalidation_1-aucpr:0.752846\n",
      "[182]\tvalidation_0-logloss:0.382858\tvalidation_0-aucpr:0.754698\tvalidation_1-logloss:0.384275\tvalidation_1-aucpr:0.752906\n",
      "[183]\tvalidation_0-logloss:0.382737\tvalidation_0-aucpr:0.755003\tvalidation_1-logloss:0.384134\tvalidation_1-aucpr:0.75322\n",
      "[184]\tvalidation_0-logloss:0.382692\tvalidation_0-aucpr:0.755012\tvalidation_1-logloss:0.384089\tvalidation_1-aucpr:0.753235\n",
      "[185]\tvalidation_0-logloss:0.382628\tvalidation_0-aucpr:0.755072\tvalidation_1-logloss:0.384031\tvalidation_1-aucpr:0.753275\n",
      "[186]\tvalidation_0-logloss:0.382564\tvalidation_0-aucpr:0.755193\tvalidation_1-logloss:0.383973\tvalidation_1-aucpr:0.753371\n",
      "[187]\tvalidation_0-logloss:0.382463\tvalidation_0-aucpr:0.755362\tvalidation_1-logloss:0.383878\tvalidation_1-aucpr:0.753552\n",
      "[188]\tvalidation_0-logloss:0.382406\tvalidation_0-aucpr:0.755428\tvalidation_1-logloss:0.383826\tvalidation_1-aucpr:0.753602\n",
      "[189]\tvalidation_0-logloss:0.382333\tvalidation_0-aucpr:0.755444\tvalidation_1-logloss:0.383766\tvalidation_1-aucpr:0.753606\n",
      "[190]\tvalidation_0-logloss:0.382277\tvalidation_0-aucpr:0.755465\tvalidation_1-logloss:0.383709\tvalidation_1-aucpr:0.753661\n",
      "[191]\tvalidation_0-logloss:0.38223\tvalidation_0-aucpr:0.755541\tvalidation_1-logloss:0.383664\tvalidation_1-aucpr:0.753733\n",
      "[192]\tvalidation_0-logloss:0.382191\tvalidation_0-aucpr:0.75557\tvalidation_1-logloss:0.383629\tvalidation_1-aucpr:0.753735\n",
      "[193]\tvalidation_0-logloss:0.382061\tvalidation_0-aucpr:0.755767\tvalidation_1-logloss:0.383503\tvalidation_1-aucpr:0.753906\n",
      "[194]\tvalidation_0-logloss:0.381909\tvalidation_0-aucpr:0.755948\tvalidation_1-logloss:0.38336\tvalidation_1-aucpr:0.754086\n",
      "[195]\tvalidation_0-logloss:0.381797\tvalidation_0-aucpr:0.756203\tvalidation_1-logloss:0.383245\tvalidation_1-aucpr:0.754373\n",
      "[196]\tvalidation_0-logloss:0.381744\tvalidation_0-aucpr:0.756231\tvalidation_1-logloss:0.383188\tvalidation_1-aucpr:0.754415\n",
      "[197]\tvalidation_0-logloss:0.381627\tvalidation_0-aucpr:0.756285\tvalidation_1-logloss:0.38306\tvalidation_1-aucpr:0.754479\n",
      "[198]\tvalidation_0-logloss:0.381454\tvalidation_0-aucpr:0.756436\tvalidation_1-logloss:0.382893\tvalidation_1-aucpr:0.754605\n",
      "[199]\tvalidation_0-logloss:0.381415\tvalidation_0-aucpr:0.756439\tvalidation_1-logloss:0.382854\tvalidation_1-aucpr:0.754616\n"
     ]
    },
    {
     "data": {
      "text/plain": [
       "XGBClassifier(early_stopping_rounds=10, eta=0.3, max_depth=2, n_estimators=200,\n",
       "              random_state=1234)"
      ]
     },
     "execution_count": 84,
     "metadata": {},
     "output_type": "execute_result"
    }
   ],
   "source": [
    "xgb_clf.fit(X_train_sub, y_train_sub, \n",
    "            eval_metric=[\"logloss\", \"aucpr\"],\n",
    "            eval_set=eval_set,\n",
    "            verbose=True)"
   ]
  },
  {
   "cell_type": "code",
   "execution_count": 93,
   "metadata": {},
   "outputs": [],
   "source": [
    "results = xgb_clf.evals_result()"
   ]
  },
  {
   "cell_type": "code",
   "execution_count": 96,
   "metadata": {},
   "outputs": [
    {
     "data": {
      "image/png": "[encoded data removed]",
      "text/plain": [
       "<Figure size 720x720 with 1 Axes>"
      ]
     },
     "metadata": {
      "needs_background": "light"
     },
     "output_type": "display_data"
    }
   ],
   "source": [
    "plot_xgboost_loss(results)"
   ]
  },
  {
   "cell_type": "code",
   "execution_count": 97,
   "metadata": {},
   "outputs": [
    {
     "data": {
      "image/png": "[encoded data removed]",
      "text/plain": [
       "<Figure size 720x720 with 1 Axes>"
      ]
     },
     "metadata": {
      "needs_background": "light"
     },
     "output_type": "display_data"
    }
   ],
   "source": [
    "plot_xgboost_pr_auc(results)"
   ]
  },
  {
   "cell_type": "code",
   "execution_count": 98,
   "metadata": {},
   "outputs": [],
   "source": [
    "y_scores = xgb_clf.predict_proba(X_train_sub)"
   ]
  },
  {
   "cell_type": "code",
   "execution_count": 99,
   "metadata": {},
   "outputs": [],
   "source": [
    "precisions, recalls, thresholds = precision_recall_curve(y_train_sub, y_scores[:,1])"
   ]
  },
  {
   "cell_type": "markdown",
   "metadata": {},
   "source": [
    "Here I calculated on the cv training the decision threshold vs precision and recall. The precision curve is a bit bumpy and slowly changes, while the recall reacts stronger to the threshold. Since I'm interested in a better precision (the model lacks here), I go for a decision threshold of 0.6."
   ]
  },
  {
   "cell_type": "code",
   "execution_count": 100,
   "metadata": {},
   "outputs": [
    {
     "data": {
      "image/png": "[encoded data removed]",
      "text/plain": [
       "<Figure size 576x288 with 1 Axes>"
      ]
     },
     "metadata": {
      "needs_background": "light"
     },
     "output_type": "display_data"
    }
   ],
   "source": [
    "plt.figure(figsize=(8, 4))\n",
    "plot_precision_recall_vs_threshold(precisions, recalls, thresholds)\n",
    "plt.show()"
   ]
  },
  {
   "cell_type": "code",
   "execution_count": 104,
   "metadata": {},
   "outputs": [
    {
     "name": "stdout",
     "output_type": "stream",
     "text": [
      "XGBoost PR AUC: 0.756\n"
     ]
    }
   ],
   "source": [
    "auc_score = auc(recalls, precisions)\n",
    "print('XGBoost PR AUC: %.3f' % auc_score)"
   ]
  },
  {
   "cell_type": "markdown",
   "metadata": {},
   "source": [
    "Precision vs recall is really low. On the sub-samled data it reaches not more than 0.8. But also, it doesnt fall very much with an increased recall."
   ]
  },
  {
   "cell_type": "code",
   "execution_count": 102,
   "metadata": {},
   "outputs": [
    {
     "data": {
      "image/png": "[encoded data removed]",
      "text/plain": [
       "<Figure size 576x432 with 1 Axes>"
      ]
     },
     "metadata": {
      "needs_background": "light"
     },
     "output_type": "display_data"
    }
   ],
   "source": [
    "plt.figure(figsize=(8, 6))\n",
    "plot_precision_vs_recall(precisions, recalls)\n",
    "plt.show()"
   ]
  },
  {
   "cell_type": "markdown",
   "metadata": {},
   "source": [
    "The model is not really good on the under-sampled data. I will apply it to the full training dataset (show more non-texxt items to it) and have a look at the test set."
   ]
  },
  {
   "cell_type": "code",
   "execution_count": 105,
   "metadata": {},
   "outputs": [],
   "source": [
    "y_hat_prob = xgb_clf.predict_proba(X_val)\n",
    "\n",
    "y_hat = [0 if i <= 0.6 else 1 for i in y_hat_prob[:,1]]"
   ]
  },
  {
   "cell_type": "code",
   "execution_count": 106,
   "metadata": {},
   "outputs": [
    {
     "data": {
      "text/html": [
       "<div>\n",
       "<style scoped>\n",
       "    .dataframe tbody tr th:only-of-type {\n",
       "        vertical-align: middle;\n",
       "    }\n",
       "\n",
       "    .dataframe tbody tr th {\n",
       "        vertical-align: top;\n",
       "    }\n",
       "\n",
       "    .dataframe thead th {\n",
       "        text-align: right;\n",
       "    }\n",
       "</style>\n",
       "<table border=\"1\" class=\"dataframe\">\n",
       "  <thead>\n",
       "    <tr style=\"text-align: right;\">\n",
       "      <th></th>\n",
       "      <th>no_text_item</th>\n",
       "      <th>text_item</th>\n",
       "    </tr>\n",
       "  </thead>\n",
       "  <tbody>\n",
       "    <tr>\n",
       "      <th>no_text_item</th>\n",
       "      <td>993424</td>\n",
       "      <td>28808</td>\n",
       "    </tr>\n",
       "    <tr>\n",
       "      <th>text_item</th>\n",
       "      <td>113860</td>\n",
       "      <td>43359</td>\n",
       "    </tr>\n",
       "  </tbody>\n",
       "</table>\n",
       "</div>"
      ],
      "text/plain": [
       "              no_text_item  text_item\n",
       "no_text_item        993424      28808\n",
       "text_item           113860      43359"
      ]
     },
     "execution_count": 106,
     "metadata": {},
     "output_type": "execute_result"
    }
   ],
   "source": [
    "pd.DataFrame(confusion_matrix(y_val, y_hat).T, columns=[\"no_text_item\",\"text_item\"], index=[\"no_text_item\",\"text_item\"])"
   ]
  },
  {
   "cell_type": "code",
   "execution_count": 107,
   "metadata": {},
   "outputs": [
    {
     "data": {
      "text/plain": [
       "0.3780439957102874"
      ]
     },
     "execution_count": 107,
     "metadata": {},
     "output_type": "execute_result"
    }
   ],
   "source": [
    "f1_score(y_val, y_hat)"
   ]
  },
  {
   "cell_type": "code",
   "execution_count": 108,
   "metadata": {},
   "outputs": [
    {
     "data": {
      "text/plain": [
       "0.27578727761911725"
      ]
     },
     "execution_count": 108,
     "metadata": {},
     "output_type": "execute_result"
    }
   ],
   "source": [
    "precision_score(y_val, y_hat)"
   ]
  },
  {
   "cell_type": "code",
   "execution_count": 109,
   "metadata": {},
   "outputs": [
    {
     "data": {
      "text/plain": [
       "0.6008147768370585"
      ]
     },
     "execution_count": 109,
     "metadata": {},
     "output_type": "execute_result"
    }
   ],
   "source": [
    "recall_score(y_val, y_hat)"
   ]
  },
  {
   "cell_type": "markdown",
   "metadata": {},
   "source": [
    "### whole dataset"
   ]
  },
  {
   "cell_type": "code",
   "execution_count": 125,
   "metadata": {},
   "outputs": [],
   "source": [
    "y_hat_prob = xgb_clf.predict_proba(X_train)\n",
    "\n",
    "y_hat = [0 if i <= 0.6 else 1 for i in y_hat_prob[:,1]]"
   ]
  },
  {
   "cell_type": "code",
   "execution_count": 126,
   "metadata": {},
   "outputs": [
    {
     "data": {
      "text/html": [
       "<div>\n",
       "<style scoped>\n",
       "    .dataframe tbody tr th:only-of-type {\n",
       "        vertical-align: middle;\n",
       "    }\n",
       "\n",
       "    .dataframe tbody tr th {\n",
       "        vertical-align: top;\n",
       "    }\n",
       "\n",
       "    .dataframe thead th {\n",
       "        text-align: right;\n",
       "    }\n",
       "</style>\n",
       "<table border=\"1\" class=\"dataframe\">\n",
       "  <thead>\n",
       "    <tr style=\"text-align: right;\">\n",
       "      <th></th>\n",
       "      <th>no_text_item</th>\n",
       "      <th>text_item</th>\n",
       "    </tr>\n",
       "  </thead>\n",
       "  <tbody>\n",
       "    <tr>\n",
       "      <th>no_text_item</th>\n",
       "      <td>2979791</td>\n",
       "      <td>86665</td>\n",
       "    </tr>\n",
       "    <tr>\n",
       "      <th>text_item</th>\n",
       "      <td>342061</td>\n",
       "      <td>129835</td>\n",
       "    </tr>\n",
       "  </tbody>\n",
       "</table>\n",
       "</div>"
      ],
      "text/plain": [
       "              no_text_item  text_item\n",
       "no_text_item       2979791      86665\n",
       "text_item           342061     129835"
      ]
     },
     "execution_count": 126,
     "metadata": {},
     "output_type": "execute_result"
    }
   ],
   "source": [
    "pd.DataFrame(confusion_matrix(y_train, y_hat).T, columns=[\"no_text_item\",\"text_item\"], index=[\"no_text_item\",\"text_item\"])"
   ]
  },
  {
   "cell_type": "code",
   "execution_count": 127,
   "metadata": {},
   "outputs": [
    {
     "data": {
      "text/plain": [
       "0.37721021040215225"
      ]
     },
     "execution_count": 127,
     "metadata": {},
     "output_type": "execute_result"
    }
   ],
   "source": [
    "f1_score(y_train, y_hat)"
   ]
  },
  {
   "cell_type": "code",
   "execution_count": 128,
   "metadata": {},
   "outputs": [
    {
     "data": {
      "text/plain": [
       "0.27513477545899945"
      ]
     },
     "execution_count": 128,
     "metadata": {},
     "output_type": "execute_result"
    }
   ],
   "source": [
    "precision_score(y_train, y_hat)"
   ]
  },
  {
   "cell_type": "code",
   "execution_count": 129,
   "metadata": {},
   "outputs": [
    {
     "data": {
      "text/plain": [
       "0.5996997690531178"
      ]
     },
     "execution_count": 129,
     "metadata": {},
     "output_type": "execute_result"
    }
   ],
   "source": [
    "recall_score(y_train, y_hat)"
   ]
  },
  {
   "cell_type": "code",
   "execution_count": 133,
   "metadata": {},
   "outputs": [
    {
     "data": {
      "text/plain": [
       "0.3107589638763142"
      ]
     },
     "execution_count": 133,
     "metadata": {},
     "output_type": "execute_result"
    }
   ],
   "source": [
    "precisions, recalls, _ = precision_recall_curve(y_train, y_hat_prob[:,1])\n",
    "auc(recalls, precisions)"
   ]
  },
  {
   "cell_type": "markdown",
   "metadata": {},
   "source": [
    "### Test dataset"
   ]
  },
  {
   "cell_type": "code",
   "execution_count": 134,
   "metadata": {},
   "outputs": [],
   "source": [
    "y_hat_prob = xgb_clf.predict_proba(X_test)\n",
    "\n",
    "y_hat = [0 if i <= 0.6 else 1 for i in y_hat_prob[:,1]]"
   ]
  },
  {
   "cell_type": "code",
   "execution_count": 135,
   "metadata": {},
   "outputs": [
    {
     "data": {
      "text/html": [
       "<div>\n",
       "<style scoped>\n",
       "    .dataframe tbody tr th:only-of-type {\n",
       "        vertical-align: middle;\n",
       "    }\n",
       "\n",
       "    .dataframe tbody tr th {\n",
       "        vertical-align: top;\n",
       "    }\n",
       "\n",
       "    .dataframe thead th {\n",
       "        text-align: right;\n",
       "    }\n",
       "</style>\n",
       "<table border=\"1\" class=\"dataframe\">\n",
       "  <thead>\n",
       "    <tr style=\"text-align: right;\">\n",
       "      <th></th>\n",
       "      <th>no_text_item</th>\n",
       "      <th>text_item</th>\n",
       "    </tr>\n",
       "  </thead>\n",
       "  <tbody>\n",
       "    <tr>\n",
       "      <th>no_text_item</th>\n",
       "      <td>172818</td>\n",
       "      <td>3936</td>\n",
       "    </tr>\n",
       "    <tr>\n",
       "      <th>text_item</th>\n",
       "      <td>24447</td>\n",
       "      <td>6138</td>\n",
       "    </tr>\n",
       "  </tbody>\n",
       "</table>\n",
       "</div>"
      ],
      "text/plain": [
       "              no_text_item  text_item\n",
       "no_text_item        172818       3936\n",
       "text_item            24447       6138"
      ]
     },
     "execution_count": 135,
     "metadata": {},
     "output_type": "execute_result"
    }
   ],
   "source": [
    "pd.DataFrame(confusion_matrix(y_test, y_hat).T, columns=[\"no_text_item\",\"text_item\"], index=[\"no_text_item\",\"text_item\"])"
   ]
  },
  {
   "cell_type": "code",
   "execution_count": 136,
   "metadata": {},
   "outputs": [
    {
     "data": {
      "text/plain": [
       "0.3019257728916107"
      ]
     },
     "execution_count": 136,
     "metadata": {},
     "output_type": "execute_result"
    }
   ],
   "source": [
    "f1_score(y_test, y_hat)"
   ]
  },
  {
   "cell_type": "code",
   "execution_count": 137,
   "metadata": {},
   "outputs": [
    {
     "data": {
      "text/plain": [
       "0.20068661108386465"
      ]
     },
     "execution_count": 137,
     "metadata": {},
     "output_type": "execute_result"
    }
   ],
   "source": [
    "precision_score(y_test, y_hat)"
   ]
  },
  {
   "cell_type": "code",
   "execution_count": 138,
   "metadata": {},
   "outputs": [
    {
     "data": {
      "text/plain": [
       "0.6092912447885647"
      ]
     },
     "execution_count": 138,
     "metadata": {},
     "output_type": "execute_result"
    }
   ],
   "source": [
    "recall_score(y_test, y_hat)"
   ]
  },
  {
   "cell_type": "code",
   "execution_count": 140,
   "metadata": {},
   "outputs": [
    {
     "data": {
      "text/plain": [
       "0.21871245301998704"
      ]
     },
     "execution_count": 140,
     "metadata": {},
     "output_type": "execute_result"
    }
   ],
   "source": [
    "precisions, recalls, _ = precision_recall_curve(y_test, y_hat_prob[:,1])\n",
    "auc(recalls, precisions)"
   ]
  },
  {
   "cell_type": "code",
   "execution_count": 152,
   "metadata": {},
   "outputs": [
    {
     "data": {
      "image/png": "[encoded data removed]",
      "text/plain": [
       "<Figure size 720x720 with 1 Axes>"
      ]
     },
     "metadata": {
      "needs_background": "light"
     },
     "output_type": "display_data"
    }
   ],
   "source": [
    "xgb.plot_importance(xgb_clf)\n",
    "plt.title(\"xgboost.plot_importance(model)\")\n",
    "plt.show()"
   ]
  },
  {
   "cell_type": "markdown",
   "metadata": {},
   "source": [
    "## Sequential classification"
   ]
  },
  {
   "cell_type": "markdown",
   "metadata": {},
   "source": [
    "The idea of an LSTM or RNN seems possible, since the structure follows a sequence. I havn't applied LSTMs/RNNs in a long run, so this is a very first prototype."
   ]
  },
  {
   "cell_type": "code",
   "execution_count": 5,
   "metadata": {},
   "outputs": [],
   "source": [
    "def plot_metrics(history):\n",
    "    metrics =  ['loss', 'auc', 'precision', 'recall']\n",
    "    for n, metric in enumerate(metrics):\n",
    "        name = metric.replace(\"_\",\" \").capitalize()\n",
    "        plt.subplot(2,2,n+1)\n",
    "        plt.plot(history.epoch,  history.history[metric], color=colors[0], label='Train')\n",
    "        plt.plot(history.epoch, history.history['val_'+metric],\n",
    "                 color=colors[0], linestyle=\"--\", label='Val')\n",
    "        plt.xlabel('Epoch')\n",
    "        plt.ylabel(name)\n",
    "        if metric == 'loss':\n",
    "            plt.ylim([0, plt.ylim()[1]])\n",
    "        elif metric == 'auc':\n",
    "            plt.ylim([0.8,1])\n",
    "        else:\n",
    "            plt.ylim([0,1])\n",
    "\n",
    "        plt.legend()"
   ]
  },
  {
   "cell_type": "code",
   "execution_count": 6,
   "metadata": {},
   "outputs": [],
   "source": [
    "def add_lstm_sequence(data: pd.DataFrame) -> pd.DataFrame:\n",
    "    \n",
    "    colnames = ['region.left', 'region.top', 'region.width', 'region.height', 'region.page']\n",
    "    \n",
    "    base = data.copy()\n",
    "    \n",
    "    for i in range(-10,11):\n",
    "        if i == 0:\n",
    "            continue\n",
    "    \n",
    "        shift_data = base.groupby(['id'])['region.left', 'region.top', 'region.width', 'region.height', 'region.page'].shift(i)\n",
    "        new_col = [col + f\"_shifted_{i}\" for col in colnames]\n",
    "\n",
    "        shift_data.columns = new_col\n",
    "\n",
    "        data = pd.concat([shift_data, data], axis=1)\n",
    "        \n",
    "    \n",
    "    del [base, shift_data]\n",
    "\n",
    "    return data"
   ]
  },
  {
   "cell_type": "code",
   "execution_count": 7,
   "metadata": {},
   "outputs": [],
   "source": [
    "def lstm_feature_engineering(data):\n",
    "    \n",
    "    feature_engineering_strategy = [\n",
    "                                    add_lstm_sequence,\n",
    "                                    fill_nan,\n",
    "                                    drop_unrelated_columns\n",
    "                                    ]\n",
    "\n",
    "    feature_creator = Transformer(feature_engineering_strategy)\n",
    "    data = feature_creator.fit_transform(data)\n",
    "    \n",
    "    return data"
   ]
  },
  {
   "cell_type": "code",
   "execution_count": 16,
   "metadata": {},
   "outputs": [],
   "source": [
    "def drop_unrelated_columns(data: pd.DataFrame) -> pd.DataFrame:\n",
    "    return data.drop([\"value\", \"id\", \"indices\"], axis=1)"
   ]
  },
  {
   "cell_type": "code",
   "execution_count": 35,
   "metadata": {},
   "outputs": [],
   "source": [
    "train = pd.read_csv(\"hypatos-ds-train.csv\")\n",
    "test = pd.read_csv(\"hypatos-ds-test.csv\")"
   ]
  },
  {
   "cell_type": "code",
   "execution_count": 36,
   "metadata": {},
   "outputs": [],
   "source": [
    "train = preprocessing(train, True)\n",
    "test = preprocessing(test)"
   ]
  },
  {
   "cell_type": "code",
   "execution_count": 37,
   "metadata": {},
   "outputs": [
    {
     "data": {
      "text/plain": [
       "count    24073.000000\n",
       "mean       195.979022\n",
       "std        113.535822\n",
       "min         15.000000\n",
       "25%        130.000000\n",
       "50%        174.000000\n",
       "75%        231.000000\n",
       "max       1725.000000\n",
       "dtype: float64"
      ]
     },
     "execution_count": 37,
     "metadata": {},
     "output_type": "execute_result"
    }
   ],
   "source": [
    "train.groupby(['id']).size().describe()"
   ]
  },
  {
   "cell_type": "code",
   "execution_count": null,
   "metadata": {},
   "outputs": [],
   "source": []
  },
  {
   "cell_type": "code",
   "execution_count": 38,
   "metadata": {},
   "outputs": [
    {
     "name": "stderr",
     "output_type": "stream",
     "text": [
      "/usr/local/lib/python3.7/site-packages/ipykernel_launcher.py:11: FutureWarning: Indexing with multiple keys (implicitly converted to a tuple of keys) will be deprecated, use a list instead.\n",
      "  # This is added back by InteractiveShellApp.init_path()\n"
     ]
    }
   ],
   "source": [
    "train = lstm_feature_engineering(train)\n",
    "test = lstm_feature_engineering(test)"
   ]
  },
  {
   "cell_type": "code",
   "execution_count": 39,
   "metadata": {},
   "outputs": [],
   "source": [
    "model_columns = [i for i in train.columns if i != 'label']"
   ]
  },
  {
   "cell_type": "code",
   "execution_count": 40,
   "metadata": {},
   "outputs": [],
   "source": [
    "X_train = train[model_columns]\n",
    "y_train = train[\"label\"] \n",
    "\n",
    "X_test = test[model_columns]\n",
    "y_test = test[\"label\"] "
   ]
  },
  {
   "cell_type": "code",
   "execution_count": 41,
   "metadata": {},
   "outputs": [],
   "source": [
    "X_train, X_val, y_train, y_val = train_test_split(X_train, y_train, stratify=y_train, test_size=0.25)"
   ]
  },
  {
   "cell_type": "code",
   "execution_count": null,
   "metadata": {},
   "outputs": [],
   "source": []
  },
  {
   "cell_type": "code",
   "execution_count": 42,
   "metadata": {},
   "outputs": [],
   "source": [
    "neg, pos = sum(y_train==0), sum(y_train==1)\n",
    "total = neg + pos"
   ]
  },
  {
   "cell_type": "markdown",
   "metadata": {},
   "source": [
    "This build a Sequence of the bounding boxes. I look at the bounding box before and behind the specific bounding box. So I create a sequence of 3 bboxes for the LSTM. "
   ]
  },
  {
   "cell_type": "code",
   "execution_count": 43,
   "metadata": {},
   "outputs": [],
   "source": [
    "scaler = MinMaxScaler(feature_range = (0, 1))\n",
    "X_train = scaler.fit_transform(X_train)\n",
    "\n",
    "X_val = scaler.transform(X_val)\n",
    "X_test = scaler.transform(X_test)"
   ]
  },
  {
   "cell_type": "markdown",
   "metadata": {},
   "source": [
    "for simplicity remove value_lengths and bbox volumne, since both are not part of the sequencing"
   ]
  },
  {
   "cell_type": "code",
   "execution_count": 48,
   "metadata": {},
   "outputs": [
    {
     "name": "stdout",
     "output_type": "stream",
     "text": [
      "Training features shape: (3538352, 10, 10)\n",
      "Validation features shape: (1179451, 10, 10)\n",
      "Test features shape: (207339, 10, 10)\n"
     ]
    }
   ],
   "source": [
    "X_train = X_train[:, :-5].reshape((X_train.shape[0], 10, (X_train.shape[1]-2)//10))\n",
    "X_val = X_val[:, :-5].reshape((X_val.shape[0], 10, (X_val.shape[1]-2)//10))\n",
    "X_test = X_test[:, :-5].reshape((X_test.shape[0], 10, (X_test.shape[1]-2)//10))\n",
    "\n",
    "# X_train = X_train.reshape((X_train.shape[0], 1, (X_train.shape[1])))\n",
    "# X_val = X_val.reshape((X_val.shape[0], 1, (X_val.shape[1])))\n",
    "# X_test = X_test.reshape((X_test.shape[0], 1, (X_test.shape[1])))\n",
    "\n",
    "\n",
    "print('Training features shape:', X_train.shape)\n",
    "print('Validation features shape:', X_val.shape)\n",
    "print('Test features shape:', X_test.shape)"
   ]
  },
  {
   "cell_type": "code",
   "execution_count": null,
   "metadata": {},
   "outputs": [],
   "source": [
    "3538352"
   ]
  },
  {
   "cell_type": "code",
   "execution_count": 45,
   "metadata": {},
   "outputs": [
    {
     "data": {
      "text/plain": [
       "(3538352, 105)"
      ]
     },
     "execution_count": 45,
     "metadata": {},
     "output_type": "execute_result"
    }
   ],
   "source": [
    "X_train.shape"
   ]
  },
  {
   "cell_type": "markdown",
   "metadata": {},
   "source": [
    "Adding weights for the model. Positive labels get a heigher weight, which afaik will be multiplied with the gradient in the cost function."
   ]
  },
  {
   "cell_type": "code",
   "execution_count": 49,
   "metadata": {},
   "outputs": [
    {
     "name": "stdout",
     "output_type": "stream",
     "text": [
      "Weight for class 0: 0.53\n",
      "Weight for class 1: 8.17\n"
     ]
    }
   ],
   "source": [
    "# Scaling by total/2 helps keep the loss to a similar magnitude.\n",
    "# The sum of the weights of all examples stays the same.\n",
    "weight_for_0 = (1 / neg)*(total)/2.0 \n",
    "weight_for_1 = (1 / pos)*(total)/2.0\n",
    "\n",
    "class_weight = {0: weight_for_0, 1: weight_for_1}\n",
    "\n",
    "print('Weight for class 0: {:.2f}'.format(weight_for_0))\n",
    "print('Weight for class 1: {:.2f}'.format(weight_for_1))"
   ]
  },
  {
   "cell_type": "code",
   "execution_count": 55,
   "metadata": {},
   "outputs": [],
   "source": [
    "METRICS = [\n",
    "      TruePositives(name='tp'),\n",
    "      FalsePositives(name='fp'),\n",
    "      TrueNegatives(name='tn'),\n",
    "      FalseNegatives(name='fn'), \n",
    "      BinaryAccuracy(name='accuracy'),\n",
    "      Precision(name='precision'),\n",
    "      Recall(name='recall'),\n",
    "      AUC(name='auc'),\n",
    "]"
   ]
  },
  {
   "cell_type": "code",
   "execution_count": 56,
   "metadata": {},
   "outputs": [],
   "source": [
    "def make_model(metrics = METRICS):\n",
    "    \n",
    "    model = Sequential()\n",
    "    model.add(LSTM(64, return_sequences=True, input_shape=(X_train.shape[1], X_train.shape[2])))\n",
    "    model.add(LSTM(64))\n",
    "    model.add(Dense(1, activation='sigmoid'))\n",
    "\n",
    "    model.compile(loss='binary_crossentropy', optimizer= \"adam\", metrics=metrics)  \n",
    "\n",
    "    return model"
   ]
  },
  {
   "cell_type": "code",
   "execution_count": 57,
   "metadata": {},
   "outputs": [],
   "source": [
    "early_stopping = EarlyStopping(\n",
    "    monitor='val_binary_crossentropy', \n",
    "    verbose=1,\n",
    "    patience=10,\n",
    "    mode='max',\n",
    "    restore_best_weights=True)"
   ]
  },
  {
   "cell_type": "markdown",
   "metadata": {},
   "source": [
    "The training takes too long; probably I should have taken only one LSTM layer and less units. Dropout layers are introduced to prevent overfitting. From my prototyping I can conclude, that the class weights improve the learning a lot. Most of my previous approaches failed, because the model was only predicting zeros."
   ]
  },
  {
   "cell_type": "code",
   "execution_count": 58,
   "metadata": {},
   "outputs": [
    {
     "name": "stdout",
     "output_type": "stream",
     "text": [
      "Model: \"sequential_3\"\n",
      "_________________________________________________________________\n",
      "Layer (type)                 Output Shape              Param #   \n",
      "=================================================================\n",
      "lstm_4 (LSTM)                (None, 10, 64)            19200     \n",
      "_________________________________________________________________\n",
      "lstm_5 (LSTM)                (None, 64)                33024     \n",
      "_________________________________________________________________\n",
      "dense_3 (Dense)              (None, 1)                 65        \n",
      "=================================================================\n",
      "Total params: 52,289\n",
      "Trainable params: 52,289\n",
      "Non-trainable params: 0\n",
      "_________________________________________________________________\n"
     ]
    }
   ],
   "source": [
    "weighted_model = make_model()\n",
    "\n",
    "weighted_model.summary()"
   ]
  },
  {
   "cell_type": "code",
   "execution_count": 59,
   "metadata": {},
   "outputs": [
    {
     "name": "stdout",
     "output_type": "stream",
     "text": [
      "Train on 3538352 samples, validate on 1179451 samples\n",
      "Epoch 1/50\n",
      "3538352/3538352 [==============================] - 697s 197us/step - loss: 0.4747 - tp: 179414.0000 - fp: 1003823.0000 - tn: 2318029.0000 - fn: 37086.0000 - accuracy: 0.7058 - precision: 0.1516 - recall: 0.8287 - auc: 0.8464 - val_loss: 0.4501 - val_tp: 63869.0000 - val_fp: 279816.0000 - val_tn: 827468.0000 - val_fn: 8298.0000 - val_accuracy: 0.7557 - val_precision: 0.1858 - val_recall: 0.8850 - val_auc: 0.8951\n",
      "Epoch 2/50\n"
     ]
    },
    {
     "name": "stderr",
     "output_type": "stream",
     "text": [
      "/usr/local/lib/python3.7/site-packages/keras/callbacks/callbacks.py:846: RuntimeWarning: Early stopping conditioned on metric `val_binary_crossentropy` which is not available. Available metrics are: val_loss,val_tp,val_fp,val_tn,val_fn,val_accuracy,val_precision,val_recall,val_auc,loss,tp,fp,tn,fn,accuracy,precision,recall,auc\n",
      "  (self.monitor, ','.join(list(logs.keys()))), RuntimeWarning\n"
     ]
    },
    {
     "name": "stdout",
     "output_type": "stream",
     "text": [
      "3538352/3538352 [==============================] - 689s 195us/step - loss: 0.3753 - tp: 190763.0000 - fp: 727621.0000 - tn: 2594231.0000 - fn: 25737.0000 - accuracy: 0.7871 - precision: 0.2077 - recall: 0.8811 - auc: 0.9078 - val_loss: 0.3546 - val_tp: 63257.0000 - val_fp: 206652.0000 - val_tn: 900632.0000 - val_fn: 8910.0000 - val_accuracy: 0.8172 - val_precision: 0.2344 - val_recall: 0.8765 - val_auc: 0.9190\n",
      "Epoch 3/50\n",
      "3538352/3538352 [==============================] - 690s 195us/step - loss: 0.3485 - tp: 193021.0000 - fp: 659470.0000 - tn: 2662382.0000 - fn: 23479.0000 - accuracy: 0.8070 - precision: 0.2264 - recall: 0.8916 - auc: 0.9208 - val_loss: 0.3966 - val_tp: 65539.0000 - val_fp: 230874.0000 - val_tn: 876410.0000 - val_fn: 6628.0000 - val_accuracy: 0.7986 - val_precision: 0.2211 - val_recall: 0.9082 - val_auc: 0.9250\n",
      "Epoch 4/50\n",
      "3538352/3538352 [==============================] - 686s 194us/step - loss: 0.3327 - tp: 194400.0000 - fp: 622718.0000 - tn: 2699134.0000 - fn: 22100.0000 - accuracy: 0.8178 - precision: 0.2379 - recall: 0.8979 - auc: 0.9280 - val_loss: 0.3446 - val_tp: 65052.0000 - val_fp: 199820.0000 - val_tn: 907464.0000 - val_fn: 7115.0000 - val_accuracy: 0.8245 - val_precision: 0.2456 - val_recall: 0.9014 - val_auc: 0.9320\n",
      "Epoch 5/50\n",
      "3538352/3538352 [==============================] - 684s 193us/step - loss: 0.3208 - tp: 195405.0000 - fp: 596235.0000 - tn: 2725617.0000 - fn: 21095.0000 - accuracy: 0.8255 - precision: 0.2468 - recall: 0.9026 - auc: 0.9329 - val_loss: 0.3656 - val_tp: 66267.0000 - val_fp: 213585.0000 - val_tn: 893699.0000 - val_fn: 5900.0000 - val_accuracy: 0.8139 - val_precision: 0.2368 - val_recall: 0.9182 - val_auc: 0.9349\n",
      "Epoch 6/50\n",
      "3538352/3538352 [==============================] - 686s 194us/step - loss: 0.3124 - tp: 196150.0000 - fp: 579753.0000 - tn: 2742099.0000 - fn: 20350.0000 - accuracy: 0.8304 - precision: 0.2528 - recall: 0.9060 - auc: 0.9363 - val_loss: 0.2969 - val_tp: 63256.0000 - val_fp: 164552.0000 - val_tn: 942732.0000 - val_fn: 8911.0000 - val_accuracy: 0.8529 - val_precision: 0.2777 - val_recall: 0.8765 - val_auc: 0.9364\n",
      "Epoch 7/50\n",
      "3538352/3538352 [==============================] - 690s 195us/step - loss: 0.3052 - tp: 196762.0000 - fp: 564197.0000 - tn: 2757655.0000 - fn: 19738.0000 - accuracy: 0.8350 - precision: 0.2586 - recall: 0.9088 - auc: 0.9392 - val_loss: 0.3114 - val_tp: 64231.0000 - val_fp: 175973.0000 - val_tn: 931311.0000 - val_fn: 7936.0000 - val_accuracy: 0.8441 - val_precision: 0.2674 - val_recall: 0.8900 - val_auc: 0.9373\n",
      "Epoch 8/50\n",
      "3538352/3538352 [==============================] - 689s 195us/step - loss: 0.2993 - tp: 197277.0000 - fp: 553927.0000 - tn: 2767925.0000 - fn: 19223.0000 - accuracy: 0.8380 - precision: 0.2626 - recall: 0.9112 - auc: 0.9413 - val_loss: 0.3596 - val_tp: 66678.0000 - val_fp: 207606.0000 - val_tn: 899678.0000 - val_fn: 5489.0000 - val_accuracy: 0.8193 - val_precision: 0.2431 - val_recall: 0.9239 - val_auc: 0.9392\n",
      "Epoch 9/50\n",
      "3538352/3538352 [==============================] - 682s 193us/step - loss: 0.2943 - tp: 197794.0000 - fp: 543003.0000 - tn: 2778849.0000 - fn: 18706.0000 - accuracy: 0.8413 - precision: 0.2670 - recall: 0.9136 - auc: 0.9432 - val_loss: 0.2996 - val_tp: 64381.0000 - val_fp: 167960.0000 - val_tn: 939324.0000 - val_fn: 7786.0000 - val_accuracy: 0.8510 - val_precision: 0.2771 - val_recall: 0.8921 - val_auc: 0.9406\n",
      "Epoch 10/50\n",
      "3538352/3538352 [==============================] - 685s 194us/step - loss: 0.2896 - tp: 198223.0000 - fp: 535733.0000 - tn: 2786119.0000 - fn: 18277.0000 - accuracy: 0.8434 - precision: 0.2701 - recall: 0.9156 - auc: 0.9449 - val_loss: 0.3193 - val_tp: 65564.0000 - val_fp: 181770.0000 - val_tn: 925514.0000 - val_fn: 6603.0000 - val_accuracy: 0.8403 - val_precision: 0.2651 - val_recall: 0.9085 - val_auc: 0.9416\n",
      "Epoch 11/50\n",
      "3538352/3538352 [==============================] - 687s 194us/step - loss: 0.2853 - tp: 198539.0000 - fp: 528374.0000 - tn: 2793478.0000 - fn: 17961.0000 - accuracy: 0.8456 - precision: 0.2731 - recall: 0.9170 - auc: 0.9463 - val_loss: 0.3418 - val_tp: 66399.0000 - val_fp: 192440.0000 - val_tn: 914844.0000 - val_fn: 5768.0000 - val_accuracy: 0.8319 - val_precision: 0.2565 - val_recall: 0.9201 - val_auc: 0.9424\n",
      "Epoch 12/50\n",
      "3538352/3538352 [==============================] - 689s 195us/step - loss: 0.2822 - tp: 198935.0000 - fp: 521102.0000 - tn: 2800750.0000 - fn: 17565.0000 - accuracy: 0.8478 - precision: 0.2763 - recall: 0.9189 - auc: 0.9475 - val_loss: 0.3042 - val_tp: 64686.0000 - val_fp: 169877.0000 - val_tn: 937407.0000 - val_fn: 7481.0000 - val_accuracy: 0.8496 - val_precision: 0.2758 - val_recall: 0.8963 - val_auc: 0.9414\n",
      "Epoch 13/50\n",
      "3538352/3538352 [==============================] - 689s 195us/step - loss: 0.2788 - tp: 199223.0000 - fp: 515562.0000 - tn: 2806290.0000 - fn: 17277.0000 - accuracy: 0.8494 - precision: 0.2787 - recall: 0.9202 - auc: 0.9485 - val_loss: 0.3321 - val_tp: 66357.0000 - val_fp: 186286.0000 - val_tn: 920998.0000 - val_fn: 5810.0000 - val_accuracy: 0.8371 - val_precision: 0.2627 - val_recall: 0.9195 - val_auc: 0.9444\n",
      "Epoch 14/50\n",
      "3538352/3538352 [==============================] - 684s 193us/step - loss: 0.2756 - tp: 199564.0000 - fp: 510262.0000 - tn: 2811590.0000 - fn: 16936.0000 - accuracy: 0.8510 - precision: 0.2811 - recall: 0.9218 - auc: 0.9495 - val_loss: 0.3295 - val_tp: 66376.0000 - val_fp: 184579.0000 - val_tn: 922705.0000 - val_fn: 5791.0000 - val_accuracy: 0.8386 - val_precision: 0.2645 - val_recall: 0.9198 - val_auc: 0.9447\n",
      "Epoch 15/50\n",
      "3538352/3538352 [==============================] - 685s 193us/step - loss: 0.2729 - tp: 199817.0000 - fp: 506135.0000 - tn: 2815717.0000 - fn: 16683.0000 - accuracy: 0.8522 - precision: 0.2830 - recall: 0.9229 - auc: 0.9505 - val_loss: 0.2925 - val_tp: 64416.0000 - val_fp: 159628.0000 - val_tn: 947656.0000 - val_fn: 7751.0000 - val_accuracy: 0.8581 - val_precision: 0.2875 - val_recall: 0.8926 - val_auc: 0.9437\n",
      "Epoch 16/50\n",
      "3538352/3538352 [==============================] - 687s 194us/step - loss: 0.2702 - tp: 199991.0000 - fp: 500629.0000 - tn: 2821223.0000 - fn: 16509.0000 - accuracy: 0.8538 - precision: 0.2854 - recall: 0.9237 - auc: 0.9513 - val_loss: 0.2984 - val_tp: 65071.0000 - val_fp: 162865.0000 - val_tn: 944419.0000 - val_fn: 7096.0000 - val_accuracy: 0.8559 - val_precision: 0.2855 - val_recall: 0.9017 - val_auc: 0.9452\n",
      "Epoch 17/50\n",
      "3538352/3538352 [==============================] - 687s 194us/step - loss: 0.2679 - tp: 200373.0000 - fp: 497313.0000 - tn: 2824539.0000 - fn: 16127.0000 - accuracy: 0.8549 - precision: 0.2872 - recall: 0.9255 - auc: 0.9520 - val_loss: 0.2948 - val_tp: 65097.0000 - val_fp: 163123.0000 - val_tn: 944161.0000 - val_fn: 7070.0000 - val_accuracy: 0.8557 - val_precision: 0.2852 - val_recall: 0.9020 - val_auc: 0.9455\n",
      "Epoch 18/50\n",
      "3538352/3538352 [==============================] - 688s 194us/step - loss: 0.2658 - tp: 200678.0000 - fp: 493314.0000 - tn: 2828538.0000 - fn: 15822.0000 - accuracy: 0.8561 - precision: 0.2892 - recall: 0.9269 - auc: 0.9527 - val_loss: 0.3080 - val_tp: 65512.0000 - val_fp: 167154.0000 - val_tn: 940130.0000 - val_fn: 6655.0000 - val_accuracy: 0.8526 - val_precision: 0.2816 - val_recall: 0.9078 - val_auc: 0.9457\n",
      "Epoch 19/50\n",
      "3538352/3538352 [==============================] - 689s 195us/step - loss: 0.2636 - tp: 200765.0000 - fp: 488928.0000 - tn: 2832924.0000 - fn: 15735.0000 - accuracy: 0.8574 - precision: 0.2911 - recall: 0.9273 - auc: 0.9534 - val_loss: 0.3392 - val_tp: 66656.0000 - val_fp: 191014.0000 - val_tn: 916270.0000 - val_fn: 5511.0000 - val_accuracy: 0.8334 - val_precision: 0.2587 - val_recall: 0.9236 - val_auc: 0.9437\n",
      "Epoch 20/50\n",
      "3538352/3538352 [==============================] - 682s 193us/step - loss: 0.2616 - tp: 201062.0000 - fp: 486162.0000 - tn: 2835690.0000 - fn: 15438.0000 - accuracy: 0.8582 - precision: 0.2926 - recall: 0.9287 - auc: 0.9540 - val_loss: 0.2803 - val_tp: 64346.0000 - val_fp: 153830.0000 - val_tn: 953454.0000 - val_fn: 7821.0000 - val_accuracy: 0.8629 - val_precision: 0.2949 - val_recall: 0.8916 - val_auc: 0.9458\n",
      "Epoch 21/50\n"
     ]
    },
    {
     "name": "stdout",
     "output_type": "stream",
     "text": [
      "3538352/3538352 [==============================] - 681s 193us/step - loss: 0.2598 - tp: 201060.0000 - fp: 482604.0000 - tn: 2839248.0000 - fn: 15440.0000 - accuracy: 0.8592 - precision: 0.2941 - recall: 0.9287 - auc: 0.9545 - val_loss: 0.2848 - val_tp: 64852.0000 - val_fp: 156980.0000 - val_tn: 950304.0000 - val_fn: 7315.0000 - val_accuracy: 0.8607 - val_precision: 0.2923 - val_recall: 0.8986 - val_auc: 0.9468\n",
      "Epoch 22/50\n",
      "3538352/3538352 [==============================] - 684s 193us/step - loss: 0.2579 - tp: 201344.0000 - fp: 479557.0000 - tn: 2842295.0000 - fn: 15156.0000 - accuracy: 0.8602 - precision: 0.2957 - recall: 0.9300 - auc: 0.9551 - val_loss: 0.3112 - val_tp: 66074.0000 - val_fp: 171975.0000 - val_tn: 935309.0000 - val_fn: 6093.0000 - val_accuracy: 0.8490 - val_precision: 0.2776 - val_recall: 0.9156 - val_auc: 0.9467\n",
      "Epoch 23/50\n",
      "3538352/3538352 [==============================] - 687s 194us/step - loss: 0.2562 - tp: 201378.0000 - fp: 476399.0000 - tn: 2845453.0000 - fn: 15122.0000 - accuracy: 0.8611 - precision: 0.2971 - recall: 0.9302 - auc: 0.9556 - val_loss: 0.2841 - val_tp: 64907.0000 - val_fp: 154469.0000 - val_tn: 952815.0000 - val_fn: 7260.0000 - val_accuracy: 0.8629 - val_precision: 0.2959 - val_recall: 0.8994 - val_auc: 0.9475\n",
      "Epoch 24/50\n",
      "3538352/3538352 [==============================] - 686s 194us/step - loss: 0.2547 - tp: 201646.0000 - fp: 475366.0000 - tn: 2846486.0000 - fn: 14854.0000 - accuracy: 0.8615 - precision: 0.2978 - recall: 0.9314 - auc: 0.9560 - val_loss: 0.2727 - val_tp: 64089.0000 - val_fp: 146829.0000 - val_tn: 960455.0000 - val_fn: 8078.0000 - val_accuracy: 0.8687 - val_precision: 0.3039 - val_recall: 0.8881 - val_auc: 0.9474\n",
      "Epoch 25/50\n",
      "3538352/3538352 [==============================] - 687s 194us/step - loss: 0.2532 - tp: 201720.0000 - fp: 472489.0000 - tn: 2849363.0000 - fn: 14780.0000 - accuracy: 0.8623 - precision: 0.2992 - recall: 0.9317 - auc: 0.9564 - val_loss: 0.2850 - val_tp: 64835.0000 - val_fp: 152820.0000 - val_tn: 954464.0000 - val_fn: 7332.0000 - val_accuracy: 0.8642 - val_precision: 0.2979 - val_recall: 0.8984 - val_auc: 0.9477\n",
      "Epoch 26/50\n",
      "3538352/3538352 [==============================] - 688s 194us/step - loss: 0.2517 - tp: 201964.0000 - fp: 469325.0000 - tn: 2852527.0000 - fn: 14536.0000 - accuracy: 0.8633 - precision: 0.3009 - recall: 0.9329 - auc: 0.9569 - val_loss: 0.2916 - val_tp: 64757.0000 - val_fp: 158733.0000 - val_tn: 948551.0000 - val_fn: 7410.0000 - val_accuracy: 0.8591 - val_precision: 0.2898 - val_recall: 0.8973 - val_auc: 0.9454\n",
      "Epoch 27/50\n",
      "3538352/3538352 [==============================] - 677s 191us/step - loss: 0.2504 - tp: 202095.0000 - fp: 466664.0000 - tn: 2855188.0000 - fn: 14405.0000 - accuracy: 0.8640 - precision: 0.3022 - recall: 0.9335 - auc: 0.9573 - val_loss: 0.2875 - val_tp: 65078.0000 - val_fp: 156689.0000 - val_tn: 950595.0000 - val_fn: 7089.0000 - val_accuracy: 0.8611 - val_precision: 0.2935 - val_recall: 0.9018 - val_auc: 0.9472\n",
      "Epoch 28/50\n",
      "3538352/3538352 [==============================] - 682s 193us/step - loss: 0.2491 - tp: 202289.0000 - fp: 464448.0000 - tn: 2857404.0000 - fn: 14211.0000 - accuracy: 0.8647 - precision: 0.3034 - recall: 0.9344 - auc: 0.9576 - val_loss: 0.2843 - val_tp: 65107.0000 - val_fp: 154239.0000 - val_tn: 953045.0000 - val_fn: 7060.0000 - val_accuracy: 0.8632 - val_precision: 0.2968 - val_recall: 0.9022 - val_auc: 0.9479\n",
      "Epoch 29/50\n",
      "3538352/3538352 [==============================] - 687s 194us/step - loss: 0.2476 - tp: 202296.0000 - fp: 462619.0000 - tn: 2859233.0000 - fn: 14204.0000 - accuracy: 0.8652 - precision: 0.3042 - recall: 0.9344 - auc: 0.9580 - val_loss: 0.2735 - val_tp: 64467.0000 - val_fp: 146467.0000 - val_tn: 960817.0000 - val_fn: 7700.0000 - val_accuracy: 0.8693 - val_precision: 0.3056 - val_recall: 0.8933 - val_auc: 0.9478\n",
      "Epoch 30/50\n",
      "3538352/3538352 [==============================] - 687s 194us/step - loss: 0.2464 - tp: 202495.0000 - fp: 460259.0000 - tn: 2861593.0000 - fn: 14005.0000 - accuracy: 0.8660 - precision: 0.3055 - recall: 0.9353 - auc: 0.9584 - val_loss: 0.2810 - val_tp: 64801.0000 - val_fp: 150236.0000 - val_tn: 957048.0000 - val_fn: 7366.0000 - val_accuracy: 0.8664 - val_precision: 0.3013 - val_recall: 0.8979 - val_auc: 0.9481\n",
      "Epoch 31/50\n",
      "3538352/3538352 [==============================] - 688s 194us/step - loss: 0.2455 - tp: 202500.0000 - fp: 459116.0000 - tn: 2862736.0000 - fn: 14000.0000 - accuracy: 0.8663 - precision: 0.3061 - recall: 0.9353 - auc: 0.9586 - val_loss: 0.3008 - val_tp: 65664.0000 - val_fp: 163143.0000 - val_tn: 944141.0000 - val_fn: 6503.0000 - val_accuracy: 0.8562 - val_precision: 0.2870 - val_recall: 0.9099 - val_auc: 0.9477\n",
      "Epoch 32/50\n",
      "3538352/3538352 [==============================] - 688s 194us/step - loss: 0.2446 - tp: 202685.0000 - fp: 457404.0000 - tn: 2864448.0000 - fn: 13815.0000 - accuracy: 0.8668 - precision: 0.3071 - recall: 0.9362 - auc: 0.9589 - val_loss: 0.3161 - val_tp: 66375.0000 - val_fp: 174043.0000 - val_tn: 933241.0000 - val_fn: 5792.0000 - val_accuracy: 0.8475 - val_precision: 0.2761 - val_recall: 0.9197 - val_auc: 0.9481\n",
      "Epoch 33/50\n",
      "3538352/3538352 [==============================] - 690s 195us/step - loss: 0.2436 - tp: 202805.0000 - fp: 456379.0000 - tn: 2865473.0000 - fn: 13695.0000 - accuracy: 0.8671 - precision: 0.3077 - recall: 0.9367 - auc: 0.9592 - val_loss: 0.2955 - val_tp: 65786.0000 - val_fp: 160362.0000 - val_tn: 946922.0000 - val_fn: 6381.0000 - val_accuracy: 0.8586 - val_precision: 0.2909 - val_recall: 0.9116 - val_auc: 0.9486\n",
      "Epoch 34/50\n",
      "3538352/3538352 [==============================] - 683s 193us/step - loss: 0.2426 - tp: 202893.0000 - fp: 454389.0000 - tn: 2867463.0000 - fn: 13607.0000 - accuracy: 0.8677 - precision: 0.3087 - recall: 0.9372 - auc: 0.9595 - val_loss: 0.3005 - val_tp: 65805.0000 - val_fp: 160953.0000 - val_tn: 946331.0000 - val_fn: 6362.0000 - val_accuracy: 0.8581 - val_precision: 0.2902 - val_recall: 0.9118 - val_auc: 0.9489\n",
      "Epoch 35/50\n",
      "3538352/3538352 [==============================] - 685s 194us/step - loss: 0.2418 - tp: 202906.0000 - fp: 452701.0000 - tn: 2869151.0000 - fn: 13594.0000 - accuracy: 0.8682 - precision: 0.3095 - recall: 0.9372 - auc: 0.9597 - val_loss: 0.3079 - val_tp: 65472.0000 - val_fp: 162694.0000 - val_tn: 944590.0000 - val_fn: 6695.0000 - val_accuracy: 0.8564 - val_precision: 0.2869 - val_recall: 0.9072 - val_auc: 0.9467\n",
      "Epoch 36/50\n",
      "3538352/3538352 [==============================] - 677s 191us/step - loss: 0.2408 - tp: 202988.0000 - fp: 451142.0000 - tn: 2870710.0000 - fn: 13512.0000 - accuracy: 0.8687 - precision: 0.3103 - recall: 0.9376 - auc: 0.9600 - val_loss: 0.2795 - val_tp: 64894.0000 - val_fp: 150320.0000 - val_tn: 956964.0000 - val_fn: 7273.0000 - val_accuracy: 0.8664 - val_precision: 0.3015 - val_recall: 0.8992 - val_auc: 0.9486\n",
      "Epoch 37/50\n",
      "3538352/3538352 [==============================] - 677s 191us/step - loss: 0.2397 - tp: 203124.0000 - fp: 449294.0000 - tn: 2872558.0000 - fn: 13376.0000 - accuracy: 0.8692 - precision: 0.3113 - recall: 0.9382 - auc: 0.9602 - val_loss: 0.2762 - val_tp: 64239.0000 - val_fp: 147645.0000 - val_tn: 959639.0000 - val_fn: 7928.0000 - val_accuracy: 0.8681 - val_precision: 0.3032 - val_recall: 0.8901 - val_auc: 0.9464\n",
      "Epoch 38/50\n",
      "3538352/3538352 [==============================] - 682s 193us/step - loss: 0.2392 - tp: 203210.0000 - fp: 447899.0000 - tn: 2873953.0000 - fn: 13290.0000 - accuracy: 0.8697 - precision: 0.3121 - recall: 0.9386 - auc: 0.9604 - val_loss: 0.2930 - val_tp: 65422.0000 - val_fp: 160591.0000 - val_tn: 946693.0000 - val_fn: 6745.0000 - val_accuracy: 0.8581 - val_precision: 0.2895 - val_recall: 0.9065 - val_auc: 0.9474\n",
      "Epoch 39/50\n",
      "3538352/3538352 [==============================] - 686s 194us/step - loss: 0.2382 - tp: 203276.0000 - fp: 446635.0000 - tn: 2875217.0000 - fn: 13224.0000 - accuracy: 0.8700 - precision: 0.3128 - recall: 0.9389 - auc: 0.9607 - val_loss: 0.2827 - val_tp: 65014.0000 - val_fp: 152160.0000 - val_tn: 955124.0000 - val_fn: 7153.0000 - val_accuracy: 0.8649 - val_precision: 0.2994 - val_recall: 0.9009 - val_auc: 0.9477\n",
      "Epoch 40/50\n"
     ]
    },
    {
     "name": "stdout",
     "output_type": "stream",
     "text": [
      "3538352/3538352 [==============================] - 686s 194us/step - loss: 0.2372 - tp: 203431.0000 - fp: 444952.0000 - tn: 2876900.0000 - fn: 13069.0000 - accuracy: 0.8706 - precision: 0.3138 - recall: 0.9396 - auc: 0.9609 - val_loss: 0.2823 - val_tp: 65166.0000 - val_fp: 152365.0000 - val_tn: 954919.0000 - val_fn: 7001.0000 - val_accuracy: 0.8649 - val_precision: 0.2996 - val_recall: 0.9030 - val_auc: 0.9485\n",
      "Epoch 41/50\n",
      "3538352/3538352 [==============================] - 686s 194us/step - loss: 0.2366 - tp: 203497.0000 - fp: 443680.0000 - tn: 2878172.0000 - fn: 13003.0000 - accuracy: 0.8709 - precision: 0.3144 - recall: 0.9399 - auc: 0.9611 - val_loss: 0.2696 - val_tp: 64342.0000 - val_fp: 142921.0000 - val_tn: 964363.0000 - val_fn: 7825.0000 - val_accuracy: 0.8722 - val_precision: 0.3104 - val_recall: 0.8916 - val_auc: 0.9485\n",
      "Epoch 42/50\n",
      "3538352/3538352 [==============================] - 686s 194us/step - loss: 0.2356 - tp: 203628.0000 - fp: 442581.0000 - tn: 2879271.0000 - fn: 12872.0000 - accuracy: 0.8713 - precision: 0.3151 - recall: 0.9405 - auc: 0.9613 - val_loss: 0.2696 - val_tp: 64369.0000 - val_fp: 143732.0000 - val_tn: 963552.0000 - val_fn: 7798.0000 - val_accuracy: 0.8715 - val_precision: 0.3093 - val_recall: 0.8919 - val_auc: 0.9486\n",
      "Epoch 43/50\n",
      "3538352/3538352 [==============================] - 687s 194us/step - loss: 0.2352 - tp: 203637.0000 - fp: 441859.0000 - tn: 2879993.0000 - fn: 12863.0000 - accuracy: 0.8715 - precision: 0.3155 - recall: 0.9406 - auc: 0.9614 - val_loss: 0.2941 - val_tp: 65578.0000 - val_fp: 158047.0000 - val_tn: 949237.0000 - val_fn: 6589.0000 - val_accuracy: 0.8604 - val_precision: 0.2932 - val_recall: 0.9087 - val_auc: 0.9486\n",
      "Epoch 44/50\n",
      "3538352/3538352 [==============================] - 685s 194us/step - loss: 0.2346 - tp: 203682.0000 - fp: 440910.0000 - tn: 2880942.0000 - fn: 12818.0000 - accuracy: 0.8718 - precision: 0.3160 - recall: 0.9408 - auc: 0.9616 - val_loss: 0.2819 - val_tp: 65019.0000 - val_fp: 150305.0000 - val_tn: 956979.0000 - val_fn: 7148.0000 - val_accuracy: 0.8665 - val_precision: 0.3020 - val_recall: 0.9010 - val_auc: 0.9491\n",
      "Epoch 45/50\n",
      "3538352/3538352 [==============================] - 679s 192us/step - loss: 0.2337 - tp: 203765.0000 - fp: 439830.0000 - tn: 2882022.0000 - fn: 12735.0000 - accuracy: 0.8721 - precision: 0.3166 - recall: 0.9412 - auc: 0.9617 - val_loss: 0.2755 - val_tp: 64719.0000 - val_fp: 148515.0000 - val_tn: 958769.0000 - val_fn: 7448.0000 - val_accuracy: 0.8678 - val_precision: 0.3035 - val_recall: 0.8968 - val_auc: 0.9485\n",
      "Epoch 46/50\n",
      "3538352/3538352 [==============================] - 675s 191us/step - loss: 0.2332 - tp: 203844.0000 - fp: 438914.0000 - tn: 2882938.0000 - fn: 12656.0000 - accuracy: 0.8724 - precision: 0.3171 - recall: 0.9415 - auc: 0.9619 - val_loss: 0.2734 - val_tp: 64977.0000 - val_fp: 148057.0000 - val_tn: 959227.0000 - val_fn: 7190.0000 - val_accuracy: 0.8684 - val_precision: 0.3050 - val_recall: 0.9004 - val_auc: 0.9493\n",
      "Epoch 47/50\n",
      "3538352/3538352 [==============================] - 675s 191us/step - loss: 0.2325 - tp: 203780.0000 - fp: 437171.0000 - tn: 2884681.0000 - fn: 12720.0000 - accuracy: 0.8729 - precision: 0.3179 - recall: 0.9412 - auc: 0.9621 - val_loss: 0.2852 - val_tp: 65408.0000 - val_fp: 152694.0000 - val_tn: 954590.0000 - val_fn: 6759.0000 - val_accuracy: 0.8648 - val_precision: 0.2999 - val_recall: 0.9063 - val_auc: 0.9495\n",
      "Epoch 48/50\n",
      "3538352/3538352 [==============================] - 683s 193us/step - loss: 0.2321 - tp: 203972.0000 - fp: 436750.0000 - tn: 2885102.0000 - fn: 12528.0000 - accuracy: 0.8730 - precision: 0.3183 - recall: 0.9421 - auc: 0.9622 - val_loss: 0.3001 - val_tp: 65109.0000 - val_fp: 159011.0000 - val_tn: 948273.0000 - val_fn: 7058.0000 - val_accuracy: 0.8592 - val_precision: 0.2905 - val_recall: 0.9022 - val_auc: 0.9468\n",
      "Epoch 49/50\n",
      "3538352/3538352 [==============================] - 685s 193us/step - loss: 0.2316 - tp: 204028.0000 - fp: 435797.0000 - tn: 2886055.0000 - fn: 12472.0000 - accuracy: 0.8733 - precision: 0.3189 - recall: 0.9424 - auc: 0.9624 - val_loss: 0.2796 - val_tp: 64910.0000 - val_fp: 148205.0000 - val_tn: 959079.0000 - val_fn: 7257.0000 - val_accuracy: 0.8682 - val_precision: 0.3046 - val_recall: 0.8994 - val_auc: 0.9485\n",
      "Epoch 50/50\n",
      "3538352/3538352 [==============================] - 685s 194us/step - loss: 0.2309 - tp: 204118.0000 - fp: 433886.0000 - tn: 2887966.0000 - fn: 12382.0000 - accuracy: 0.8739 - precision: 0.3199 - recall: 0.9428 - auc: 0.9626 - val_loss: 0.2852 - val_tp: 65463.0000 - val_fp: 154538.0000 - val_tn: 952746.0000 - val_fn: 6704.0000 - val_accuracy: 0.8633 - val_precision: 0.2976 - val_recall: 0.9071 - val_auc: 0.9492\n"
     ]
    }
   ],
   "source": [
    "weighted_history = weighted_model.fit(\n",
    "    X_train,\n",
    "    y_train.values,\n",
    "    batch_size=128,\n",
    "    epochs=50,\n",
    "    callbacks = [early_stopping],\n",
    "    validation_data=(X_val, y_val.values),\n",
    "    class_weight=class_weight,\n",
    "    verbose=1)"
   ]
  },
  {
   "cell_type": "markdown",
   "metadata": {},
   "source": [
    "The model performs worse than the xgboost model; Interestingly in one of my prototypes, I achieved an F1-Score of 0.34 with a mugh higher precision. No idea, what went wrong, when I transformed the model to this notebook. \n",
    "\n",
    "The train-validation curves won't show any overfitting. The precision is still quite bad. The model predicts too many False Positives. Also the model took too long for training. One LSTM layer less and probably a few nodes less would have been better. "
   ]
  },
  {
   "cell_type": "code",
   "execution_count": 60,
   "metadata": {},
   "outputs": [
    {
     "data": {
      "image/png": "[encoded data removed]",
      "text/plain": [
       "<Figure size 720x720 with 4 Axes>"
      ]
     },
     "metadata": {
      "needs_background": "light"
     },
     "output_type": "display_data"
    }
   ],
   "source": [
    "plot_metrics(weighted_history)"
   ]
  },
  {
   "cell_type": "code",
   "execution_count": 68,
   "metadata": {},
   "outputs": [],
   "source": [
    "y_hat_prob = weighted_model.predict(X_train, batch_size=256)"
   ]
  },
  {
   "cell_type": "code",
   "execution_count": 69,
   "metadata": {},
   "outputs": [],
   "source": [
    "precisions, recalls, thresholds = precision_recall_curve(y_train, y_hat_prob)"
   ]
  },
  {
   "cell_type": "code",
   "execution_count": 72,
   "metadata": {},
   "outputs": [
    {
     "data": {
      "image/png": "[encoded data removed]",
      "text/plain": [
       "<Figure size 576x288 with 1 Axes>"
      ]
     },
     "metadata": {
      "needs_background": "light"
     },
     "output_type": "display_data"
    }
   ],
   "source": [
    "plt.figure(figsize=(8, 4))\n",
    "plot_precision_recall_vs_threshold(precisions, recalls, thresholds)\n",
    "plt.show()"
   ]
  },
  {
   "cell_type": "code",
   "execution_count": 73,
   "metadata": {},
   "outputs": [
    {
     "name": "stdout",
     "output_type": "stream",
     "text": [
      "XGBoost PR AUC: 0.645\n"
     ]
    }
   ],
   "source": [
    "auc_score = auc(recalls, precisions)\n",
    "print('XGBoost PR AUC: %.3f' % auc_score)"
   ]
  },
  {
   "cell_type": "code",
   "execution_count": 74,
   "metadata": {},
   "outputs": [
    {
     "data": {
      "image/png": "[encoded data removed]",
      "text/plain": [
       "<Figure size 576x432 with 1 Axes>"
      ]
     },
     "metadata": {
      "needs_background": "light"
     },
     "output_type": "display_data"
    }
   ],
   "source": [
    "plt.figure(figsize=(8, 6))\n",
    "plot_precision_vs_recall(precisions, recalls)\n",
    "plt.show()"
   ]
  },
  {
   "cell_type": "code",
   "execution_count": null,
   "metadata": {},
   "outputs": [],
   "source": []
  },
  {
   "cell_type": "code",
   "execution_count": 75,
   "metadata": {},
   "outputs": [],
   "source": [
    "y_hat = weighted_model.predict_classes(X_test, batch_size=128, verbose=0)"
   ]
  },
  {
   "cell_type": "code",
   "execution_count": 76,
   "metadata": {},
   "outputs": [
    {
     "data": {
      "text/html": [
       "<div>\n",
       "<style scoped>\n",
       "    .dataframe tbody tr th:only-of-type {\n",
       "        vertical-align: middle;\n",
       "    }\n",
       "\n",
       "    .dataframe tbody tr th {\n",
       "        vertical-align: top;\n",
       "    }\n",
       "\n",
       "    .dataframe thead th {\n",
       "        text-align: right;\n",
       "    }\n",
       "</style>\n",
       "<table border=\"1\" class=\"dataframe\">\n",
       "  <thead>\n",
       "    <tr style=\"text-align: right;\">\n",
       "      <th></th>\n",
       "      <th>no_text_item</th>\n",
       "      <th>text_item</th>\n",
       "    </tr>\n",
       "  </thead>\n",
       "  <tbody>\n",
       "    <tr>\n",
       "      <th>no_text_item</th>\n",
       "      <td>167269</td>\n",
       "      <td>1537</td>\n",
       "    </tr>\n",
       "    <tr>\n",
       "      <th>text_item</th>\n",
       "      <td>29996</td>\n",
       "      <td>8537</td>\n",
       "    </tr>\n",
       "  </tbody>\n",
       "</table>\n",
       "</div>"
      ],
      "text/plain": [
       "              no_text_item  text_item\n",
       "no_text_item        167269       1537\n",
       "text_item            29996       8537"
      ]
     },
     "execution_count": 76,
     "metadata": {},
     "output_type": "execute_result"
    }
   ],
   "source": [
    "pd.DataFrame(confusion_matrix(y_test, y_hat).T, columns=[\"no_text_item\",\"text_item\"], index=[\"no_text_item\",\"text_item\"])"
   ]
  },
  {
   "cell_type": "code",
   "execution_count": 77,
   "metadata": {},
   "outputs": [
    {
     "name": "stdout",
     "output_type": "stream",
     "text": [
      "loss :  0.3184615209495217\n",
      "tp :  8537.0\n",
      "fp :  29996.0\n",
      "tn :  167269.0\n",
      "fn :  1537.0\n",
      "accuracy :  0.8479157090187073\n",
      "precision :  0.2215503603219986\n",
      "recall :  0.8474290370941162\n",
      "auc :  0.9218277931213379\n"
     ]
    }
   ],
   "source": [
    "weighted_results = weighted_model.evaluate(X_test, y_test,\n",
    "                                           batch_size=256, verbose=0)\n",
    "for name, value in zip(weighted_model.metrics_names, weighted_results):\n",
    "    print(name, ': ', value)\n"
   ]
  },
  {
   "cell_type": "code",
   "execution_count": 78,
   "metadata": {},
   "outputs": [],
   "source": [
    "y_hat_prob = weighted_model.predict(X_test, batch_size=256)"
   ]
  },
  {
   "cell_type": "markdown",
   "metadata": {},
   "source": [
    "Based on the trashold curve, I would pick 0.8."
   ]
  },
  {
   "cell_type": "code",
   "execution_count": 83,
   "metadata": {},
   "outputs": [],
   "source": [
    "threshold = 0.8"
   ]
  },
  {
   "cell_type": "code",
   "execution_count": 84,
   "metadata": {},
   "outputs": [
    {
     "data": {
      "text/plain": [
       "0.4526008420480782"
      ]
     },
     "execution_count": 84,
     "metadata": {},
     "output_type": "execute_result"
    }
   ],
   "source": [
    "f1_score(y_test, y_hat_prob>threshold)"
   ]
  },
  {
   "cell_type": "code",
   "execution_count": 85,
   "metadata": {},
   "outputs": [
    {
     "data": {
      "text/plain": [
       "0.3439467437300031"
      ]
     },
     "execution_count": 85,
     "metadata": {},
     "output_type": "execute_result"
    }
   ],
   "source": [
    "precision_score(y_test, y_hat_prob>threshold)"
   ]
  },
  {
   "cell_type": "code",
   "execution_count": 86,
   "metadata": {},
   "outputs": [
    {
     "data": {
      "text/plain": [
       "0.6616041294421282"
      ]
     },
     "execution_count": 86,
     "metadata": {},
     "output_type": "execute_result"
    }
   ],
   "source": [
    "recall_score(y_test, y_hat_prob>threshold)"
   ]
  },
  {
   "cell_type": "code",
   "execution_count": 88,
   "metadata": {},
   "outputs": [],
   "source": [
    "y_hat_th = [1 if i > threshold else 0 for i in y_hat_prob]"
   ]
  },
  {
   "cell_type": "code",
   "execution_count": 89,
   "metadata": {},
   "outputs": [
    {
     "data": {
      "text/html": [
       "<div>\n",
       "<style scoped>\n",
       "    .dataframe tbody tr th:only-of-type {\n",
       "        vertical-align: middle;\n",
       "    }\n",
       "\n",
       "    .dataframe tbody tr th {\n",
       "        vertical-align: top;\n",
       "    }\n",
       "\n",
       "    .dataframe thead th {\n",
       "        text-align: right;\n",
       "    }\n",
       "</style>\n",
       "<table border=\"1\" class=\"dataframe\">\n",
       "  <thead>\n",
       "    <tr style=\"text-align: right;\">\n",
       "      <th></th>\n",
       "      <th>no_text_item</th>\n",
       "      <th>text_item</th>\n",
       "    </tr>\n",
       "  </thead>\n",
       "  <tbody>\n",
       "    <tr>\n",
       "      <th>no_text_item</th>\n",
       "      <td>184552</td>\n",
       "      <td>3409</td>\n",
       "    </tr>\n",
       "    <tr>\n",
       "      <th>text_item</th>\n",
       "      <td>12713</td>\n",
       "      <td>6665</td>\n",
       "    </tr>\n",
       "  </tbody>\n",
       "</table>\n",
       "</div>"
      ],
      "text/plain": [
       "              no_text_item  text_item\n",
       "no_text_item        184552       3409\n",
       "text_item            12713       6665"
      ]
     },
     "execution_count": 89,
     "metadata": {},
     "output_type": "execute_result"
    }
   ],
   "source": [
    "pd.DataFrame(confusion_matrix(y_test, y_hat_th).T, columns=[\"no_text_item\",\"text_item\"], index=[\"no_text_item\",\"text_item\"])"
   ]
  }
 ],
 "metadata": {
  "kernelspec": {
   "display_name": "Python 3",
   "language": "python",
   "name": "python3"
  },
  "language_info": {
   "codemirror_mode": {
    "name": "ipython",
    "version": 3
   },
   "file_extension": ".py",
   "mimetype": "text/x-python",
   "name": "python",
   "nbconvert_exporter": "python",
   "pygments_lexer": "ipython3",
   "version": "3.7.7"
  }
 },
 "nbformat": 4,
 "nbformat_minor": 2
}
